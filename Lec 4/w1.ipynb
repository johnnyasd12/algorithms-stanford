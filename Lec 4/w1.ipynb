{
 "cells": [
  {
   "cell_type": "markdown",
   "metadata": {},
   "source": [
    "# [Shortest Paths Revisited, NP-Complete Problems and What To Do About Them - Week1](https://www.coursera.org/learn/algorithms-npcomplete/home/welcome)"
   ]
  },
  {
   "cell_type": "markdown",
   "metadata": {},
   "source": [
    "- Single-Source Shortest Paths Revisited\n",
    "    - The Bellman-Ford Algorithm\n",
    "- All-Pair Shortest Paths\n",
    "    - The Floyd-Warshall Algorithm\n",
    "    - Johnson's Algorithm"
   ]
  },
  {
   "cell_type": "markdown",
   "metadata": {},
   "source": [
    "## XXIX. The Bellman-Ford Algorithm"
   ]
  },
  {
   "cell_type": "markdown",
   "metadata": {},
   "source": [
    "### [Single-Source Shortest Paths, Revisited](https://www.coursera.org/learn/algorithms-npcomplete/lecture/x0YZd/single-source-shortest-paths-revisted)"
   ]
  },
  {
   "attachments": {},
   "cell_type": "markdown",
   "metadata": {},
   "source": [
    "#### The Single-Source Shortest Path Problem\n",
    "\n",
    "![](https://i.imgur.com/7yl5Y04.png)"
   ]
  },
  {
   "cell_type": "markdown",
   "metadata": {},
   "source": [
    "#### On Dijkstra's Algorithm\n",
    "\n",
    "![](https://i.imgur.com/SNBOiXB.png)"
   ]
  },
  {
   "cell_type": "markdown",
   "metadata": {},
   "source": [
    "#### On Negative Cycles\n",
    "\n",
    "![](https://i.imgur.com/im45KqK.png)"
   ]
  },
  {
   "cell_type": "markdown",
   "metadata": {},
   "source": [
    "#### Quiz\n",
    "\n",
    "![](https://i.imgur.com/sPdk1oF.png)"
   ]
  },
  {
   "cell_type": "markdown",
   "metadata": {},
   "source": [
    "### [Optimal Substructure](https://www.coursera.org/learn/algorithms-npcomplete/lecture/g8N36/optimal-substructure)"
   ]
  },
  {
   "cell_type": "markdown",
   "metadata": {},
   "source": [
    "#### Single-Source Shortest Path Problem, Revisited\n",
    "\n",
    "![](https://i.imgur.com/NbEu2N6.png)"
   ]
  },
  {
   "cell_type": "markdown",
   "metadata": {},
   "source": [
    "#### Optimal Substructure (Informal)\n",
    "\n",
    "![](https://i.imgur.com/jcqP6nt.png)"
   ]
  },
  {
   "cell_type": "markdown",
   "metadata": {},
   "source": [
    "#### Optimal Substructure (Formal)\n",
    "\n",
    "![](https://i.imgur.com/RNr4ZMK.png)"
   ]
  },
  {
   "cell_type": "markdown",
   "metadata": {},
   "source": [
    "#### Proof of Optimal Substructure\n",
    "\n",
    "![](https://i.imgur.com/pJyTuWm.png)"
   ]
  },
  {
   "cell_type": "markdown",
   "metadata": {},
   "source": [
    "#### Quiz\n",
    "\n",
    "![](https://i.imgur.com/4yui7I3.png)"
   ]
  },
  {
   "cell_type": "markdown",
   "metadata": {},
   "source": [
    "### [The Basic Algorithm I](https://www.coursera.org/learn/algorithms-npcomplete/lecture/9YeyY/the-basic-algorithm-i)"
   ]
  },
  {
   "cell_type": "markdown",
   "metadata": {},
   "source": [
    "### [The Basic Algorithm II](https://www.coursera.org/learn/algorithms-npcomplete/lecture/WhILJ/the-basic-algorithm-ii)"
   ]
  },
  {
   "cell_type": "markdown",
   "metadata": {},
   "source": [
    "### [Detecting Negative Cycles](https://www.coursera.org/learn/algorithms-npcomplete/lecture/AB5wH/detecting-negative-cycles)"
   ]
  },
  {
   "cell_type": "markdown",
   "metadata": {},
   "source": [
    "### [A Space Optimization](https://www.coursera.org/learn/algorithms-npcomplete/lecture/TrNPq/a-space-optimization)"
   ]
  },
  {
   "cell_type": "markdown",
   "metadata": {},
   "source": [
    "### [Internet Routing I [Optional]](https://www.coursera.org/learn/algorithms-npcomplete/lecture/EKC4D/internet-routing-i-optional)"
   ]
  },
  {
   "cell_type": "markdown",
   "metadata": {},
   "source": [
    "### [Internet Routing II [Optional]](https://www.coursera.org/learn/algorithms-npcomplete/lecture/GrLZs/internet-routing-ii-optional)"
   ]
  },
  {
   "cell_type": "markdown",
   "metadata": {},
   "source": [
    "## XXX. All-Pairs Shortest Paths"
   ]
  },
  {
   "cell_type": "markdown",
   "metadata": {},
   "source": [
    "### [Problem Definition](https://www.coursera.org/learn/algorithms-npcomplete/lecture/VQStd/problem-definition)"
   ]
  },
  {
   "cell_type": "markdown",
   "metadata": {},
   "source": [
    "### [Optimal Substructure](https://www.coursera.org/learn/algorithms-npcomplete/lecture/3BBkw/optimal-substructure)"
   ]
  },
  {
   "cell_type": "markdown",
   "metadata": {},
   "source": [
    "### [The Floyd-Warshall Algorithm](https://www.coursera.org/learn/algorithms-npcomplete/lecture/WKb60/the-floyd-warshall-algorithm)"
   ]
  },
  {
   "cell_type": "markdown",
   "metadata": {},
   "source": [
    "### [A Reweighting Technique](https://www.coursera.org/learn/algorithms-npcomplete/lecture/gRT6t/a-reweighting-technique)"
   ]
  },
  {
   "cell_type": "markdown",
   "metadata": {},
   "source": [
    "### [Johnson's Algorithm I](https://www.coursera.org/learn/algorithms-npcomplete/lecture/eT0Xt/johnsons-algorithm-i)"
   ]
  },
  {
   "cell_type": "markdown",
   "metadata": {},
   "source": [
    "### [Johnson's Algorithm II](https://www.coursera.org/learn/algorithms-npcomplete/lecture/9Mzaa/johnsons-algorithm-ii)"
   ]
  }
 ],
 "metadata": {
  "kernelspec": {
   "display_name": "Python 3",
   "language": "python",
   "name": "python3"
  },
  "language_info": {
   "codemirror_mode": {
    "name": "ipython",
    "version": 3
   },
   "file_extension": ".py",
   "mimetype": "text/x-python",
   "name": "python",
   "nbconvert_exporter": "python",
   "pygments_lexer": "ipython3",
   "version": "3.8.3"
  }
 },
 "nbformat": 4,
 "nbformat_minor": 4
}
