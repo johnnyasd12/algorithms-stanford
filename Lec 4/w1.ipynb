{
 "cells": [
  {
   "cell_type": "markdown",
   "metadata": {},
   "source": [
    "# [Shortest Paths Revisited, NP-Complete Problems and What To Do About Them - Week1](https://www.coursera.org/learn/algorithms-npcomplete/home/welcome)"
   ]
  },
  {
   "cell_type": "markdown",
   "metadata": {},
   "source": [
    "- Single-Source Shortest Paths Revisited\n",
    "    - The Bellman-Ford Algorithm\n",
    "- All-Pair Shortest Paths\n",
    "    - The Floyd-Warshall Algorithm\n",
    "    - Johnson's Algorithm"
   ]
  },
  {
   "cell_type": "markdown",
   "metadata": {},
   "source": [
    "## XXIX. The Bellman-Ford Algorithm"
   ]
  },
  {
   "cell_type": "markdown",
   "metadata": {},
   "source": [
    "### [Single-Source Shortest Paths, Revisited](https://www.coursera.org/learn/algorithms-npcomplete/lecture/x0YZd/single-source-shortest-paths-revisted)"
   ]
  },
  {
   "cell_type": "markdown",
   "metadata": {},
   "source": [
    "#### The Single-Source Shortest Path Problem\n",
    "\n",
    "![](https://i.imgur.com/7yl5Y04.png)\n",
    "- (video unwatched)\n",
    "- 複習一下 single-source shortest path problem"
   ]
  },
  {
   "cell_type": "markdown",
   "metadata": {},
   "source": [
    "#### On Dijkstra's Algorithm\n",
    "\n",
    "![](https://i.imgur.com/SNBOiXB.png)\n",
    "- (video unwatched)\n",
    "- 缺點\n",
    "    - 有 negative edge lengths 的話 Dijkstra's algorithm 就不總是對的\n",
    "        - 例如 financial transactions，可能買進(支出=負) 或者賣出(收入=正)\n",
    "    - Not very distributed：必須在 main memory 中存取整個 graph，因此必須 centralized compute\n",
    "- Bellman-Ford algorithm 能夠解決以上缺點！"
   ]
  },
  {
   "cell_type": "markdown",
   "metadata": {},
   "source": [
    "#### On Negative Cycles\n",
    "- 但是在我們進入 Bellman-Ford algorithm 之前，我們要先處理一些微妙的問題，要先定義好 shortest path on negative edge lengths\n",
    "\n",
    "![](https://i.imgur.com/im45KqK.png)\n",
    "- P & NP 這類的東西之後會細講"
   ]
  },
  {
   "cell_type": "markdown",
   "metadata": {},
   "source": [
    "#### Quiz\n",
    "\n",
    "![](https://i.imgur.com/sPdk1oF.png)\n",
    "- [ ] For every $v$, there is a shortest s-v path with $\\le n-1$ edges.\n",
    "- [ ] For every $v$, there is a shortest s-v path with $\\le n$ edges.\n",
    "- [ ] For every $v$, there is a shortest s-v path with $\\le m$ edges.\n",
    "- [ ] A shortest path can have an arbitrarily large number of edges in it.\n",
    "\n",
    "Ans: <font style=\"opacity:.1\">1，可用反證法</font>"
   ]
  },
  {
   "cell_type": "markdown",
   "metadata": {},
   "source": [
    "### [Optimal Substructure](https://www.coursera.org/learn/algorithms-npcomplete/lecture/g8N36/optimal-substructure)"
   ]
  },
  {
   "cell_type": "markdown",
   "metadata": {},
   "source": [
    "#### Single-Source Shortest Path Problem, Revisited\n",
    "\n",
    "![](https://i.imgur.com/NbEu2N6.png)\n",
    "- 之前已經說過，在有 negative cycle 的 graph 時，像 (A) 這樣的 goal 是 problematic(問題很多的)\n",
    "- 但若不允許 cycle 的話，then it's computationally intractable and would be a hard problem\n",
    "- 所以如果沒辦法 output shortest path，至少給個理由：Goal (B) output a negative cycle\n",
    "- 接下來要講的 Bellman-Ford algorithm 就是在「沒有 negative cycle」的 graph 中運行的"
   ]
  },
  {
   "cell_type": "markdown",
   "metadata": {},
   "source": [
    "#### Optimal Substructure (Informal)\n",
    "\n",
    "<!-- ![](https://i.imgur.com/jcqP6nt.png) -->\n",
    "- 「figure out 如何在 graph problems 上應用 dynamic programming paradigm」這件事是很 tricky 的\n",
    "    - 原因之一：graph 並不是一個 sequence, they are not ordered in any obvious way. We're just given unordered set of vertices and edges.\n",
    "        - 其中一個例外：之前講過的 path graphs (DP的第一個例子)\n",
    "- 但是，在某些問題 (例如 single-source shortest path problem) 我們的 output 是一個 ordered sequence！\n",
    "\n",
    "![](https://i.imgur.com/DGKNeuF.png)\n",
    "- Intuition: subpath of a shortest path 也必須是 shortest\n",
    "    - 滿好證明的，<font style=\"opacity:.1\">用反證法。</font>\n",
    "- Issue: 不好定義 smaller & larger subproblems ??\n",
    "- > Unfortunately, it's still far from obvious how to really define smaller and larger sub-problems. So, for example, you'd love to have some intelligent ordering on which you process the possible destinations v. But it's not at all clear how to do that without knowing the shortest path distances in the first place. So this is a subtle issue that I encourage you to think hard about in the privacy of your own home, so you can better appreciate what's non-trivial about the Bellman-Ford solution.\n",
    "    - **Q: 這段看不懂@@**\n",
    "\n",
    "![](https://i.imgur.com/hCUV1H9.png)\n",
    "- Key Idea: 因此，Bellman-Ford algorithm 的一個 good idea 是：**引入一個額外的 parameter 來更精確地定義 subproblem！**\n",
    "- 而這個 parameter 就是 edges 的最大數量\n",
    "- Example 看圖，假設我們要解 $s$ 到 $t$ 的 shortest path：\n",
    "    - 那麼當我們限制最多只能有 2 條 edges 時，shortest path 就是上面那條，長度為 4。\n",
    "    - 但是如果 edge budget 上升到 3 條，那麼 shortest path 就是下面那條，長度下降到 3 ！\n",
    "- 這樣我們就有了 unambiguous 的 subproblem size！"
   ]
  },
  {
   "cell_type": "markdown",
   "metadata": {},
   "source": [
    "#### Optimal Substructure (Formal)\n",
    "\n",
    "![](https://i.imgur.com/RNr4ZMK.png)\n",
    "- (video unwatched)\n",
    "- 假設剛剛額外引入的 parameter 為 $i$，我們就將 subproblem 設定成 $[i,v]$ pair，代表「最多」選 $i$ 個 edges 時的 shortest $s$-$v$ path\n",
    "- 這時候就會分成 2 個 case\n",
    "    - Case 1: 若 $P$ 的 edge 數 $\\le (i-1)$，則 $P$ 同時也是 subproblem $[i-1,v]$ 的 optimal (即「最多」選 $(i-1)$ 個 edges 時的 shortest $s$-$v$ path)\n",
    "    - Case 2: 若 $P$ 的 edge 數 $=i$ 且最後的 edge 為 $(w,v)$，則 $P-v$ 是 subproblem $[i-1,v]$ 的 optimal"
   ]
  },
  {
   "cell_type": "markdown",
   "metadata": {},
   "source": [
    "#### Proof of Optimal Substructure\n",
    "\n",
    "![](https://i.imgur.com/pJyTuWm.png)\n",
    "- (video unwatched)\n",
    "- 兩個 case 證明思路都不難"
   ]
  },
  {
   "cell_type": "markdown",
   "metadata": {},
   "source": [
    "#### Quiz\n",
    "- 等等要在 recurrence 中做的事，就是直接 brute-force search amongst the possible candidates for the optimal solution. \n",
    "\n",
    "![](https://i.imgur.com/4yui7I3.png)\n",
    "Given destination $v$，那麼對某個 subproblem $[i,v]$ 來說，我們需要 brute-force search on 多少個 candidates ?\n",
    "- [ ] $2$\n",
    "- [ ] $1 + \\textrm{in-degree}(v)$\n",
    "- [ ] $n - 1$\n",
    "- [ ] $n$\n",
    "\n",
    "Hint: <font style=\"opacity:.2\">回到 Optimal Substructure(Formal) 的 slide，思考 Case 1 有幾種，Case 2 有幾種?</font>\n",
    "- Ans: <font style=\"opacity:.05\">$1 + \\textrm{in-degree}(v)$</font>"
   ]
  },
  {
   "cell_type": "markdown",
   "metadata": {},
   "source": [
    "### [The Basic Algorithm I](https://www.coursera.org/learn/algorithms-npcomplete/lecture/9YeyY/the-basic-algorithm-i)"
   ]
  },
  {
   "cell_type": "markdown",
   "metadata": {},
   "source": [
    "#### The Recurrence\n",
    "\n",
    "![](https://i.imgur.com/hlO5u17.png)\n",
    "- (video unwatched)\n",
    "- Notation: 令 $L_{i,v}=$ minimum length of s-v path with $\\le i$ edges\n",
    "    - With cycles allowed. **Q: WHY??**\n",
    "    - $+\\infty$ 若 s-v 之間沒有 $\\le i$ edges 的 path"
   ]
  },
  {
   "cell_type": "markdown",
   "metadata": {},
   "source": [
    "#### If No Negative Cycles\n",
    "\n",
    "![](https://i.imgur.com/ALleBBS.png)\n",
    "- (video unwatched)\n",
    "- 假設 $G$ 沒有 negative cycles\n",
    "- $\\implies$ shortest paths 不會有 cycle\n",
    "- $\\implies$ shortest paths 最多只有 $(n-1)$ 條 edges\n",
    "- $\\implies$ 所有的 subproblems 就只有 $L_{i,v}$ for all $i\\in\\{0,1,...,n-1\\}$ and all $v\\in V$"
   ]
  },
  {
   "cell_type": "markdown",
   "metadata": {},
   "source": [
    "#### The Bellman-Ford Algorithm\n",
    "\n",
    "![](https://i.imgur.com/qyqhNPg.png)\n",
    "- (video unwatched)\n",
    "- 看起來只有 base case 的寫法比較難自己想出來"
   ]
  },
  {
   "cell_type": "markdown",
   "metadata": {},
   "source": [
    "### [The Basic Algorithm II](https://www.coursera.org/learn/algorithms-npcomplete/lecture/WhILJ/the-basic-algorithm-ii)"
   ]
  },
  {
   "cell_type": "markdown",
   "metadata": {},
   "source": [
    "#### Example\n",
    "<!-- ![](https://i.imgur.com/tlADaHC.png)\n",
    "$A[i,v]=\\min \\pmatrix{A[i-1,v]\\\\\\min_{(w,v)\\in E}(A[i-1,w]+c_{wv})}$\n",
    "- A[1,s] = ? ; A[1,v] = ? ; A[1,w] = ? ; A[1,x] = ? ; A[1,t] = ? ; \n",
    "    - Ans: <font color=\"white\">$0, 2, +\\infty, 4, +\\infty$</font>\n",
    "- A[2,s] = ? ; A[2,v] = ? ; A[2,w] = ? ; A[2,x] = ? ; A[2,t] = ? ; \n",
    "    - Ans:  -->\n",
    "\n",
    "\n",
    "<!-- ![](https://i.imgur.com/rotAACc.png) -->\n",
    "![](https://i.imgur.com/SlwEulU.png)\n",
    "- (video unwatched)\n",
    "- *Slide & Course Erratum:* A[3,t] 是 6 而不是 7\n",
    "- 如果有看懂前面的 algorithm 應該可以照順序算出 subproblem 的解 (i = 0 到 4 對應至圖中由內到外的數字)\n",
    "- 可以注意到這邊的最後一個 iteration 實際上沒做什麼事，所有 vertex v 就只是繼承之前的 A[i-1,v] 而已"
   ]
  },
  {
   "cell_type": "markdown",
   "metadata": {},
   "source": [
    "#### Quiz\n",
    "\n",
    "![](https://i.imgur.com/dMPJjEL.png)\n",
    "- (video unwatched)\n",
    "- [ ] $O(n^2)$\n",
    "- [ ] $O(mn)$\n",
    "- [ ] $O(n^3)$\n",
    "- [ ] $O(m^2)$\n",
    "\n",
    "---\n",
    "Reason: <font style=\"opacity:.1\">for $i$ 的 loop 總共有 $n$ 個，而 for $v$ 的 loop 工作量為 $m$。**Q: 感覺應該是 $m+n$??**</font>\n",
    "\n",
    "![](https://i.imgur.com/nAIaOUB.png)"
   ]
  },
  {
   "cell_type": "markdown",
   "metadata": {},
   "source": [
    "#### Stopping Early\n",
    "\n",
    "![](https://i.imgur.com/I9Ya5lk.png)\n",
    "- 回想一下 $A[i,v]=\\min \\pmatrix{A[i-1,v]\\\\\\min_{(w,v)\\in E}(A[i-1,w]+c_{wv})}$\n",
    "- 假設在第 j 次 iteration 時，A[j,v] 的 optimal 就已經都是 A[j-1,v] 了(對於所有的 v)，那麼之後每次計算出的 A[i,v] 也都會是 A[i-1,v]\n",
    "    - 為什麼? 因為第 j 次的 subproblem input 跟第 j + 1 次(以及之後)的 subproblem input 都一模一樣，那當然會 output 出相同的 optimal！"
   ]
  },
  {
   "cell_type": "markdown",
   "metadata": {},
   "source": [
    "### [Detecting Negative Cycles](https://www.coursera.org/learn/algorithms-npcomplete/lecture/AB5wH/detecting-negative-cycles)"
   ]
  },
  {
   "cell_type": "markdown",
   "metadata": {},
   "source": [
    "### [A Space Optimization](https://www.coursera.org/learn/algorithms-npcomplete/lecture/TrNPq/a-space-optimization)"
   ]
  },
  {
   "cell_type": "markdown",
   "metadata": {},
   "source": [
    "### [Internet Routing I [Optional]](https://www.coursera.org/learn/algorithms-npcomplete/lecture/EKC4D/internet-routing-i-optional)"
   ]
  },
  {
   "cell_type": "markdown",
   "metadata": {},
   "source": [
    "### [Internet Routing II [Optional]](https://www.coursera.org/learn/algorithms-npcomplete/lecture/GrLZs/internet-routing-ii-optional)"
   ]
  },
  {
   "cell_type": "markdown",
   "metadata": {},
   "source": [
    "## XXX. All-Pairs Shortest Paths"
   ]
  },
  {
   "cell_type": "markdown",
   "metadata": {},
   "source": [
    "### [Problem Definition](https://www.coursera.org/learn/algorithms-npcomplete/lecture/VQStd/problem-definition)"
   ]
  },
  {
   "cell_type": "markdown",
   "metadata": {},
   "source": [
    "### [Optimal Substructure](https://www.coursera.org/learn/algorithms-npcomplete/lecture/3BBkw/optimal-substructure)"
   ]
  },
  {
   "cell_type": "markdown",
   "metadata": {},
   "source": [
    "### [The Floyd-Warshall Algorithm](https://www.coursera.org/learn/algorithms-npcomplete/lecture/WKb60/the-floyd-warshall-algorithm)"
   ]
  },
  {
   "cell_type": "markdown",
   "metadata": {},
   "source": [
    "### [A Reweighting Technique](https://www.coursera.org/learn/algorithms-npcomplete/lecture/gRT6t/a-reweighting-technique)"
   ]
  },
  {
   "cell_type": "markdown",
   "metadata": {},
   "source": [
    "### [Johnson's Algorithm I](https://www.coursera.org/learn/algorithms-npcomplete/lecture/eT0Xt/johnsons-algorithm-i)"
   ]
  },
  {
   "cell_type": "markdown",
   "metadata": {},
   "source": [
    "### [Johnson's Algorithm II](https://www.coursera.org/learn/algorithms-npcomplete/lecture/9Mzaa/johnsons-algorithm-ii)"
   ]
  }
 ],
 "metadata": {
  "kernelspec": {
   "display_name": "Python 3",
   "language": "python",
   "name": "python3"
  },
  "language_info": {
   "codemirror_mode": {
    "name": "ipython",
    "version": 3
   },
   "file_extension": ".py",
   "mimetype": "text/x-python",
   "name": "python",
   "nbconvert_exporter": "python",
   "pygments_lexer": "ipython3",
   "version": "3.8.3"
  }
 },
 "nbformat": 4,
 "nbformat_minor": 4
}
