{
 "cells": [
  {
   "cell_type": "markdown",
   "metadata": {},
   "source": [
    "### Problem Set #1"
   ]
  },
  {
   "cell_type": "markdown",
   "metadata": {},
   "source": [
    "#### Problem 1\n",
    "3-way-Merge Sort: Suppose that instead of dividing in half at each step of Merge Sort, you divide into thirds, sort each third, and finally combine all of them using a three-way merge subroutine. What is the overall asymptotic running time of this algorithm? (Hint: Note that the merge step can still be implemented in $O(n)$ time.)\n",
    "- [ ] $n^2\\log (n)$\n",
    "- [ ] $n\\log (n)$\n",
    "- [ ] $n$\n",
    "- [ ] $n(\\log (n))^2$"
   ]
  },
  {
   "cell_type": "markdown",
   "metadata": {},
   "source": [
    "My Sol 1\n",
    "\n",
    "- what's # of sub-problems in level $j$?\n",
    "    - $3^j$\n",
    "- what's the input size of each sub-problems in level $j$\n",
    "    - $\\dfrac{n}{3^j}$\n",
    "- number of levels\n",
    "    - $\\log_3(n)$\n",
    "- total # of operations (Big-Oh notation)\n",
    "    - $\\sum_j 3^j\\cdot\\dfrac{O(n)}{3^j} = \\sum_j O(n) = O(n\\log_3(n))$\n",
    "\n",
    "My Ans: $n\\log_3(n)$ ??"
   ]
  },
  {
   "cell_type": "markdown",
   "metadata": {},
   "source": [
    "#### Problem 2\n",
    "You are given functions $f$ and $g$ such that $f(n)=O(g(n))$. Is $f(n)*log_2(f(n)^c) = O(g(n)*log_2(g(n)))$? (Here $c$ is some positive constant.) You should assume that $f$ and $g$ are nondecreasing and always bigger than 1.\n",
    "\n",
    "- [ ] True\n",
    "- [ ] False\n",
    "- [ ] Sometimes yes, sometimes no, depending on the constant $c$\n",
    "- [ ] Sometimes yes, sometimes no, depending on the functions $f$ and $g$"
   ]
  },
  {
   "cell_type": "markdown",
   "metadata": {},
   "source": [
    "My Sol 2\n",
    "\n",
    "- $f(n)=O(g(n))$，即存在 $k,n_0$ 使得 $f(n)\\le k\\cdot g(n),\\,\\forall n\\ge n_0$\n",
    "- $f(n)*log_2(f(n)^c) \\\\= c\\cdot f(n)\\log_2(f(n))$\n",
    "    1. $f(n)\\le k\\cdot g(n),\\\\\\forall n\\ge n_0$\n",
    "    2. $\\log_2(f(n))\\le \\log_2(k\\cdot g(n)) = \\log_2(g(n))+\\log_2(k),\\\\\\forall n\\ge n_0$\n",
    "    3. $c\\cdot f(n)\\log_2(f(n))\\le(k\\cdot g(n))(\\log_2(g(n))+\\log_2(k))$\n",
    "    \n",
    "    $f(n)\\log_2(f(n))\\le(\\frac kc\\cdot g(n))(\\log_2(g(n))+\\log_2(k))$\n",
    "    4. 所以 $f(n)\\log_2(f(n))=O(g(n)\\log_2(g(n))$\n",
    "\n",
    "My Ans: True"
   ]
  },
  {
   "cell_type": "markdown",
   "metadata": {},
   "source": [
    "#### Problem 3\n",
    "Assume again two (positive) nondecreasing functions $f$ and $g$ such that $f(n)=O(g(n))$. Is $2^{f(n)}=O(2^{g(n)})$? (Multiple answers may be correct, you should check all of those that apply.)\n",
    "\n",
    "- [ ] Never\n",
    "- [ ] Always\n",
    "- [ ] Yes if $f(n) \\le g(n)$ for all sufficiently large $n$\n",
    "- [ ] Sometimes yes, sometimes no (depending on $f$ and $g$)"
   ]
  },
  {
   "cell_type": "markdown",
   "metadata": {},
   "source": [
    "My Sol 3\n",
    "\n",
    "- $f(n)=O(g(n))\\\\\\implies \\exists c,n_0\\\\\\texttt{ s.t. }f(n)\\le c\\cdot g(n),\\,\\forall n\\ge n_0$\n",
    "- 用反證法? \n",
    "    - $\\text{suppose }2^{f(n)}=O(2^{g(n)})\\\\\\implies\\exists c_1,n_1\\texttt{ s.t. }2^{f(n)}\\le c_1\\cdot 2^{g(n)},\\,\\forall n\\ge n_1$\n",
    "    - 兩邊同取 log，$f(n)\\le\\log(c_1)+g(n),\\,\\forall n\\ge n_1$\n",
    "    - 所以只要滿足 $f(n)\\le g(n)+\\text{constant},\\,\\forall n\\ge n_1$ 的條件，即可成立 $2^{f(n)}=O(2^{g(n)})$\n",
    "    \n",
    "My Ans: \n",
    "- Yes if ...\n",
    "- Sometimes yes, ..."
   ]
  },
  {
   "cell_type": "markdown",
   "metadata": {},
   "source": [
    "#### Problem 4\n",
    "k-way-Merge Sort. Suppose you are given $k$ sorted arrays, each with $n$ elements, and you want to combine them into a single array of $kn$ elements. Consider the following approach. Using the merge subroutine taught in lecture, you merge the first 2 arrays, then merge the $3^{rd}$ given array with this merged version of the first two arrays, then merge the $4^{th}$ given array with the merged version of the first three arrays, and so on until you merge in the final ($k^{th}$) input array. What is the running time taken by this successive merging algorithm, as a function of $k$ and $n$? (Optional: can you think of a faster way to do the k-way merge procedure ?)\n",
    "- [ ] $\\theta(nk)$\n",
    "- [ ] $\\theta(n\\log k)$\n",
    "- [ ] $\\theta(n^2k)$\n",
    "- [ ] $\\theta(nk^2)$"
   ]
  },
  {
   "cell_type": "markdown",
   "metadata": {},
   "source": [
    "My Sol 4\n",
    "\n",
    "- merge subroutine 的 complexity 是 $\\theta(m)$，$m$ 是 output size，同時也是兩個 input array 的 size 總和\n",
    "- 共有 $k-1$ 個 step，每個 step 都執行一次 merge subroutine\n",
    "    - 而第 $i$ 個 step，output size 會是 $(i+1)n$\n",
    "    - 計算所有 step 的 complexity：$\\sum_\\limits{i=1}^{k-1}\\theta((i+1)n)$\n",
    "        - 這個 $i+1$ 應該可以拿到 $\\theta$ 外面@@? 感覺 $\\theta$ 是 linear operation 哪 (待證明 $\\theta(cn)$)\n",
    "            - 如果可以拿到外面，就是 $\\sum_\\limits{i=1}^{k-1}(i+1)\\theta(n)=\\theta(k^2n)$\n",
    "        - 還是這樣證? $\\sum_\\limits{i=1}^{k-1}\\theta((i+1)n)\\\\=\\sum_\\limits{i=1}^{k-1}\\theta(n)\\\\=(k-1)\\theta(n)\\\\=\\theta(kn)$\n",
    "            - 乾好像怪怪的\n",
    "\n",
    "My Ans: i dunno :("
   ]
  },
  {
   "cell_type": "markdown",
   "metadata": {},
   "source": [
    "#### Problem 5\n",
    "Arrange the following functions in increasing order of growth rate (with $g(n)$ following $f(n)$ in your list if and only if $f(n)=O(g(n))$.\n",
    "\n",
    "- a) $2^{2^n}$\n",
    "- b) $2^{n^2}$\n",
    "- c) $n^2\\log n$\n",
    "- d) $n$\n",
    "- e) $n^{2^n}$"
   ]
  },
  {
   "cell_type": "markdown",
   "metadata": {},
   "source": [
    "My Sol 5\n",
    "\n",
    "My Ans: dcbae"
   ]
  },
  {
   "cell_type": "markdown",
   "metadata": {},
   "source": [
    "### Programming Assignment #1\n",
    "\n",
    "In this programming assignment you will implement one or more of the integer multiplication algorithms described in lecture.\n",
    "\n",
    "To get the most out of this assignment, your program should restrict itself to multiplying only pairs of single-digit numbers. You can implement the grade-school algorithm if you want, but to get the most out of the assignment you'll want to implement recursive integer multiplication and/or Karatsuba's algorithm.\n",
    "\n",
    "So: what's the product of the following two 64-digit numbers?\n",
    "\n",
    "3141592653589793238462643383279502884197169399375105820974944592\n",
    "\n",
    "2718281828459045235360287471352662497757247093699959574966967627\n",
    "\n",
    "[TIP: before submitting, first test the correctness of your program on some small test cases of your own devising. Then post your best test cases to the discussion forums to help your fellow students!]\n",
    "\n",
    "[Food for thought: the number of digits in each input number is a power of 2. Does this make your life easier? Does it depend on which algorithm you're implementing?]\n",
    "\n",
    "The numeric answer should be typed in the space below. So if your answer is 1198233847, then just type 1198233847 in the space provided without any space / commas / any other punctuation marks.\n",
    "\n",
    "(We do not require you to submit your code, so feel free to use any programming language you want --- just type the final numeric answer in the following space.)"
   ]
  },
  {
   "cell_type": "code",
   "execution_count": 1,
   "metadata": {
    "ExecuteTime": {
     "end_time": "2020-03-01T16:23:09.743724Z",
     "start_time": "2020-03-01T16:23:09.706736Z"
    }
   },
   "outputs": [],
   "source": [
    "def my_mult(x, y, method='recursive'):\n",
    "    ''' # multiply on string to avoid doing divide operation\n",
    "    Args:\n",
    "        x (str): integer with length n\n",
    "        y (str): integer with length n2\n",
    "        note: n should equal n2\n",
    "        \n",
    "    Return:\n",
    "        result (str): multiplication result\n",
    "    '''\n",
    "    def zero_pad(string, n_digits):\n",
    "        if len(string) < n_digits:\n",
    "            n_pad = n-len(string)\n",
    "            string = '0'*n_pad + string\n",
    "        return string\n",
    "    \n",
    "#     print('inputs:\\n%s\\n%s'%(x,y))\n",
    "    n1 = len(x)\n",
    "    n2 = len(y)\n",
    "    assert n1==n2, \"only consider equal length of inputs, but inputs are:\\n%s\\n%s\" %(x, y)\n",
    "    n = n1\n",
    "    assert (n & (n-1) == 0) and n != 0, \"input length should be power of 2\"\n",
    "    \n",
    "    if n == 1:\n",
    "        result = str(int(x)*int(y))\n",
    "        return result\n",
    "    else:\n",
    "    \n",
    "        a = x[:n//2]\n",
    "        b = x[n//2:]\n",
    "        c = y[:n//2]\n",
    "        d = y[n//2:]\n",
    "\n",
    "        ac = my_mult(a, c)\n",
    "        bd = my_mult(b, d)\n",
    "        if method == 'karatsuba':\n",
    "            # TODO: karatsuba 會有問題 Q_Q\n",
    "            a_add_b = str(int(a) + int(b))\n",
    "            c_add_d = str(int(c) + int(d))\n",
    "            a_add_b = zero_pad(a_add_b, n)#//2)\n",
    "            c_add_d = zero_pad(c_add_d, n)#//2)\n",
    "            print('inputs: %s, %s/call my_mult() to calculate (a+b)(c+d) = %s * %s'%(x, y, a_add_b, c_add_d))\n",
    "            ad_add_bc = int(my_mult(a_add_b, c_add_d)) - int(ac) - int(bd)\n",
    "        else:\n",
    "            ad = my_mult(a, d)\n",
    "            bc = my_mult(b, c)\n",
    "            ad_add_bc = int(ad) + int(bc)\n",
    "        ad_add_bc = str(ad_add_bc)\n",
    "\n",
    "        A = int(ac+'0'*n)             # 10^n ac \n",
    "        B = int(ad_add_bc+'0'*(n//2)) # 10^{n/2} (ad+bc) \n",
    "        C = int(bd)                    # bd\n",
    "        result = A + B + C\n",
    "        result = str(result)\n",
    "    \n",
    "    # pad with zero\n",
    "    result = zero_pad(result, n*2)\n",
    "#     print('result:', result)\n",
    "    return result\n",
    "    \n"
   ]
  },
  {
   "cell_type": "code",
   "execution_count": 2,
   "metadata": {
    "ExecuteTime": {
     "end_time": "2020-03-01T16:23:09.847513Z",
     "start_time": "2020-03-01T16:23:09.762402Z"
    }
   },
   "outputs": [
    {
     "name": "stdout",
     "output_type": "stream",
     "text": [
      "my_res: 8537238\n",
      "answer: 8537238\n",
      "Is result correct? True\n",
      "my_res: 853973398759468\n",
      "answer: 853973398759468\n",
      "Is result correct? True\n",
      "my_res: 8539734222673567065463550869546574495034888535765114961879601127067743044893204848617875072216249073013374895871952806582723184\n",
      "answer: 8539734222673567065463550869546574495034888535765114961879601127067743044893204848617875072216249073013374895871952806582723184\n",
      "Is result correct? True\n"
     ]
    }
   ],
   "source": [
    "# TODO: unit test\n",
    "x = 3141\n",
    "y = 2718\n",
    "my_res = int(my_mult(str(x), str(y)))\n",
    "print('my_res:', my_res)\n",
    "print('answer:', x*y)\n",
    "print('Is result correct?', my_res == x*y)\n",
    "\n",
    "x = 31415926\n",
    "y = 27182818\n",
    "my_res = int(my_mult(str(x), str(y)))\n",
    "print('my_res:', my_res)\n",
    "print('answer:', x*y)\n",
    "print('Is result correct?', my_res == x*y)\n",
    "\n",
    "x = 3141592653589793238462643383279502884197169399375105820974944592\n",
    "y = 2718281828459045235360287471352662497757247093699959574966967627\n",
    "my_res = int(my_mult(str(x), str(y)))\n",
    "print('my_res:', my_res)\n",
    "print('answer:', x*y)\n",
    "print('Is result correct?', my_res == x*y)"
   ]
  },
  {
   "cell_type": "code",
   "execution_count": null,
   "metadata": {},
   "outputs": [],
   "source": []
  }
 ],
 "metadata": {
  "kernelspec": {
   "display_name": "Python 3",
   "language": "python",
   "name": "python3"
  },
  "language_info": {
   "codemirror_mode": {
    "name": "ipython",
    "version": 3
   },
   "file_extension": ".py",
   "mimetype": "text/x-python",
   "name": "python",
   "nbconvert_exporter": "python",
   "pygments_lexer": "ipython3",
   "version": "3.7.3"
  },
  "toc": {
   "base_numbering": 1,
   "nav_menu": {},
   "number_sections": true,
   "sideBar": true,
   "skip_h1_title": false,
   "title_cell": "Table of Contents",
   "title_sidebar": "Contents",
   "toc_cell": false,
   "toc_position": {},
   "toc_section_display": true,
   "toc_window_display": true
  }
 },
 "nbformat": 4,
 "nbformat_minor": 2
}
