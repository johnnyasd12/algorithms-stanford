{
 "cells": [
  {
   "cell_type": "markdown",
   "metadata": {},
   "source": [
    "# [Divide and Conquer, Sorting and Searching, and Randomized Algorithms - Week 3](https://www.coursera.org/learn/algorithms-divide-conquer/home/week/3)"
   ]
  },
  {
   "cell_type": "markdown",
   "metadata": {},
   "source": [
    "## 其他版本\n",
    "- 以 nbviewer 檢視"
   ]
  },
  {
   "cell_type": "markdown",
   "metadata": {},
   "source": [
    "## V. Quick Sort - Algorithm"
   ]
  },
  {
   "cell_type": "markdown",
   "metadata": {},
   "source": [
    "### [Week 3 Overview](https://www.coursera.org/learn/algorithms-divide-conquer/supplement/hK4jW/week-3-overview)\n",
    "- Quick sort 將是我們介紹的第一個 randomized algorithm\n",
    "- $O(n\\log n)$ on **average**\n",
    "- 可以用 \"decomposition principle\" 來分析 quick sort\n",
    "    - \"decomposition principle\" 可以分析各種 randomized algorithms"
   ]
  },
  {
   "cell_type": "markdown",
   "metadata": {},
   "source": [
    "### [Quicksort - Overview](https://www.coursera.org/learn/algorithms-divide-conquer/lecture/Zt0Ti/quicksort-overview)"
   ]
  },
  {
   "cell_type": "markdown",
   "metadata": {},
   "source": [
    "#### The Sorting Problem\n",
    "- Input: unsorted array of $n$ numbers\n",
    "- Output: Same numbers sorted in increasing order\n",
    "- Assume: all array entries **distinct**\n",
    "    - 可以自行思考若要讓 Quicksort 可以處理重複的 input 該怎麼做"
   ]
  },
  {
   "cell_type": "markdown",
   "metadata": {},
   "source": [
    "#### Partitioning Around a Pivot\n",
    "- 選定 pivot 然後劃分 array\n",
    "- 重新排列 array 使得：\n",
    "    - 小於 pivot 放它左邊\n",
    "    - 大於 pivot 放它右邊"
   ]
  },
  {
   "cell_type": "markdown",
   "metadata": {},
   "source": [
    "#### Two Cool Facts About Partition\n",
    "1. Linear $O(n)$ time, **no extra memory (in-place)**\n",
    "2. Reduces problem size -> 可用 divide and conquer 解"
   ]
  },
  {
   "cell_type": "markdown",
   "metadata": {},
   "source": [
    "#### QuickSort: High-Level Description\n",
    "\n",
    "```py\n",
    "def QuickSort(A, n):\n",
    "    '''\n",
    "    Args:\n",
    "        A: array\n",
    "        n: length\n",
    "    '''\n",
    "    if n==1:\n",
    "        return\n",
    "    p = ChoosePivot(A, n) # currently unimplemented\n",
    "    Partition A around p\n",
    "    Recursively sort 1st part\n",
    "    Recursively sort 2nd part\n",
    "\n",
    "```\n",
    "\n",
    "\n",
    "\n"
   ]
  },
  {
   "cell_type": "markdown",
   "metadata": {},
   "source": [
    "### [Partitioning Around a Pivot](https://www.coursera.org/learn/algorithms-divide-conquer/lecture/xUd8B/partitioning-around-a-pivot)"
   ]
  },
  {
   "cell_type": "markdown",
   "metadata": {},
   "source": [
    "#### The Easy Way Out\n",
    "- 假設我們先不在乎 in-place 的 requirement\n",
    "- 那可以創一個新的長度為 $n$ 的 array，然後 scan 舊的 array\n",
    "    - 看到小於 pivot 就從新 array 的最左邊開始放\n",
    "    - 看到大於 pivot 就從新 array 的最右邊開始放\n",
    "- space: $O(n)$\n",
    "- time: $O(n)$"
   ]
  },
  {
   "cell_type": "markdown",
   "metadata": {},
   "source": [
    "#### In-Place Implementation\n",
    "![Imgur](https://i.imgur.com/iWNyJaT.png)\n",
    "- Assume: pivot = 1st element of the array\n",
    "    - if not, just swap it with 1st element\n",
    "- High level idea: \n",
    "    - scan 一次 array 完成 in-place partition\n",
    "    - hint: 除了第一個，(看過的)左邊部分都 partition 過；(未看過的)右邊部分都還沒 partition\n",
    "    - 感覺 scan 到的 element 如果小於 $p$ 就直接跟 大於 $p$ 的最左邊那個 swap，否則不 swap 就好了欸\n"
   ]
  },
  {
   "cell_type": "markdown",
   "metadata": {},
   "source": [
    "#### Partition Example\n",
    "\n",
    "- 看來跟我想的差不多\n",
    "- 最後記得把 pivot 換到中間 (小於 $p$ 的最右邊 element)\n",
    "\n",
    "![](https://i.imgur.com/RvmuH7y.png)\n",
    "\n",
    "![](https://i.imgur.com/TqZAKHy.png)\n",
    "\n"
   ]
  },
  {
   "cell_type": "markdown",
   "metadata": {},
   "source": [
    "#### Pseudocode for Partition\n",
    "\n",
    "![](https://i.imgur.com/NzMYEIK.png)\n",
    "- 把 $A$ 的 $l$ 到 $r$ 這段做 partition\n",
    "- 有個特別的情況是：訪問到的所有值都小於 $p$，這樣其實還是可以做，只要先記錄是否「曾經」訪問過大於 $p$ 的元素，若有再做交換即可。\n"
   ]
  },
  {
   "cell_type": "markdown",
   "metadata": {},
   "source": [
    "#### Running Time\n",
    "- Running time = $O(n)$, where $n=r-l+1$ is the length of input (sub) array. \n",
    "- $O(1)$ work per array entry\n",
    "- clearly works in place (repeated swaps)\n"
   ]
  },
  {
   "cell_type": "markdown",
   "metadata": {},
   "source": [
    "#### Correctness\n",
    "\n",
    "![](https://i.imgur.com/RWBQ16W.png)\n",
    "- 以上可以用歸納法證明。\n",
    "\n"
   ]
  },
  {
   "cell_type": "markdown",
   "metadata": {},
   "source": [
    "### [Correctness of Quicksort [Review - Optional]](https://www.coursera.org/learn/algorithms-divide-conquer/lecture/KMyzr/correctness-of-quicksort-review-optional)"
   ]
  },
  {
   "cell_type": "markdown",
   "metadata": {},
   "source": [
    "#### Induction Review\n",
    "\n"
   ]
  },
  {
   "cell_type": "markdown",
   "metadata": {},
   "source": [
    "### [Choosing a Good Pivot](https://www.coursera.org/learn/algorithms-divide-conquer/lecture/QCLVL/choosing-a-good-pivot)"
   ]
  },
  {
   "cell_type": "markdown",
   "metadata": {},
   "source": []
  },
  {
   "cell_type": "markdown",
   "metadata": {},
   "source": [
    "## VI. Quick Sort - Analysis"
   ]
  },
  {
   "cell_type": "markdown",
   "metadata": {},
   "source": [
    "### [Analysis I: A Decomposition Principle](https://www.coursera.org/learn/algorithms-divide-conquer/lecture/5Tuvu/analysis-i-a-decomposition-principle)"
   ]
  },
  {
   "cell_type": "markdown",
   "metadata": {},
   "source": []
  },
  {
   "cell_type": "markdown",
   "metadata": {},
   "source": [
    "### [Analysis II: The Key Insight](https://www.coursera.org/learn/algorithms-divide-conquer/lecture/sIY1s/analysis-ii-the-key-insight)"
   ]
  },
  {
   "cell_type": "markdown",
   "metadata": {},
   "source": []
  },
  {
   "cell_type": "markdown",
   "metadata": {},
   "source": [
    "### [Analysis III. Final Calculations](https://www.coursera.org/learn/algorithms-divide-conquer/lecture/aqD1O/analysis-iii-final-calculations)"
   ]
  },
  {
   "cell_type": "markdown",
   "metadata": {},
   "source": []
  },
  {
   "cell_type": "markdown",
   "metadata": {},
   "source": [
    "## VII. Probability Review"
   ]
  },
  {
   "cell_type": "markdown",
   "metadata": {},
   "source": [
    "### [Probability Review I](https://www.coursera.org/learn/algorithms-divide-conquer/lecture/UXerT/probability-review-i)"
   ]
  },
  {
   "cell_type": "markdown",
   "metadata": {},
   "source": []
  },
  {
   "cell_type": "markdown",
   "metadata": {},
   "source": [
    "### [Probability Review II](https://www.coursera.org/learn/algorithms-divide-conquer/lecture/cPGDy/probability-review-ii)"
   ]
  },
  {
   "cell_type": "markdown",
   "metadata": {},
   "source": []
  },
  {
   "cell_type": "markdown",
   "metadata": {},
   "source": []
  },
  {
   "cell_type": "markdown",
   "metadata": {},
   "source": []
  },
  {
   "cell_type": "markdown",
   "metadata": {},
   "source": []
  },
  {
   "cell_type": "markdown",
   "metadata": {},
   "source": []
  },
  {
   "cell_type": "markdown",
   "metadata": {},
   "source": []
  },
  {
   "cell_type": "markdown",
   "metadata": {},
   "source": []
  }
 ],
 "metadata": {
  "kernelspec": {
   "display_name": "Python 3",
   "language": "python",
   "name": "python3"
  },
  "language_info": {
   "codemirror_mode": {
    "name": "ipython",
    "version": 3
   },
   "file_extension": ".py",
   "mimetype": "text/x-python",
   "name": "python",
   "nbconvert_exporter": "python",
   "pygments_lexer": "ipython3",
   "version": "3.8.3"
  },
  "toc": {
   "base_numbering": 1,
   "nav_menu": {},
   "number_sections": false,
   "sideBar": true,
   "skip_h1_title": false,
   "title_cell": "Table of Contents",
   "title_sidebar": "Contents",
   "toc_cell": false,
   "toc_position": {},
   "toc_section_display": true,
   "toc_window_display": false
  }
 },
 "nbformat": 4,
 "nbformat_minor": 2
}
