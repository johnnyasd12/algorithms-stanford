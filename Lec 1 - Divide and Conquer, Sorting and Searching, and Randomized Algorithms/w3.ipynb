{
 "cells": [
  {
   "cell_type": "markdown",
   "metadata": {},
   "source": [
    "# [Divide and Conquer, Sorting and Searching, and Randomized Algorithms - Week 3](https://www.coursera.org/learn/algorithms-divide-conquer/home/week/3)"
   ]
  },
  {
   "cell_type": "markdown",
   "metadata": {},
   "source": [
    "## 其他版本\n",
    "- [以 nbviewer 檢視](https://nbviewer.jupyter.org/github/johnnyasd12/algorithms-stanford/blob/master/Lec%201%20-%20Divide%20and%20Conquer%2C%20Sorting%20and%20Searching%2C%20and%20Randomized%20Algorithms/w4.ipynb)"
   ]
  },
  {
   "cell_type": "markdown",
   "metadata": {},
   "source": [
    "## V. Quick Sort - Algorithm"
   ]
  },
  {
   "cell_type": "markdown",
   "metadata": {},
   "source": [
    "### [Week 3 Overview](https://www.coursera.org/learn/algorithms-divide-conquer/supplement/hK4jW/week-3-overview)\n",
    "- Quick sort 將是我們介紹的第一個 randomized algorithm\n",
    "- $O(n\\log n)$ on **average**\n",
    "- 可以用 \"decomposition principle\" 來分析 quick sort\n",
    "    - \"decomposition principle\" 可以分析各種 randomized algorithms"
   ]
  },
  {
   "cell_type": "markdown",
   "metadata": {},
   "source": [
    "### [Quicksort - Overview](https://www.coursera.org/learn/algorithms-divide-conquer/lecture/Zt0Ti/quicksort-overview)"
   ]
  },
  {
   "cell_type": "markdown",
   "metadata": {},
   "source": [
    "#### The Sorting Problem\n",
    "- Input: unsorted array of $n$ numbers\n",
    "- Output: Same numbers sorted in increasing order\n",
    "- Assume: all array entries **distinct**\n",
    "    - 可以自行思考若要讓 Quicksort 可以處理重複的 input 該怎麼做"
   ]
  },
  {
   "cell_type": "markdown",
   "metadata": {},
   "source": [
    "#### Partitioning Around a Pivot\n",
    "- 選定 pivot 然後劃分 array\n",
    "- 重新排列 array 使得：\n",
    "    - 小於 pivot 放它左邊\n",
    "    - 大於 pivot 放它右邊"
   ]
  },
  {
   "cell_type": "markdown",
   "metadata": {},
   "source": [
    "#### Two Cool Facts About Partition\n",
    "1. Linear $O(n)$ time, **no extra memory (in-place)**\n",
    "2. Reduces problem size -> 可用 divide and conquer 解"
   ]
  },
  {
   "cell_type": "markdown",
   "metadata": {},
   "source": [
    "#### QuickSort: High-Level Description\n",
    "\n",
    "```py\n",
    "def QuickSort(A, n):\n",
    "    '''\n",
    "    Args:\n",
    "        A: array\n",
    "        n: length\n",
    "    '''\n",
    "    if n==1:\n",
    "        return\n",
    "    p = ChoosePivot(A, n) # currently unimplemented\n",
    "    Partition A around p\n",
    "    Recursively sort 1st part\n",
    "    Recursively sort 2nd part\n",
    "\n",
    "```\n",
    "\n",
    "\n",
    "\n"
   ]
  },
  {
   "cell_type": "markdown",
   "metadata": {},
   "source": [
    "### [Partitioning Around a Pivot](https://www.coursera.org/learn/algorithms-divide-conquer/lecture/xUd8B/partitioning-around-a-pivot)"
   ]
  },
  {
   "cell_type": "markdown",
   "metadata": {},
   "source": [
    "#### The Easy Way Out\n",
    "- 假設我們先不在乎 in-place 的 requirement\n",
    "- 那可以創一個新的長度為 $n$ 的 array，然後 scan 舊的 array\n",
    "    - 看到小於 pivot 就從新 array 的最左邊開始放\n",
    "    - 看到大於 pivot 就從新 array 的最右邊開始放\n",
    "- space: $O(n)$\n",
    "- time: $O(n)$"
   ]
  },
  {
   "cell_type": "markdown",
   "metadata": {},
   "source": [
    "#### In-Place Implementation\n",
    "![Imgur](https://i.imgur.com/iWNyJaT.png)\n",
    "- Assume: pivot = 1st element of the array\n",
    "    - if not, just swap it with 1st element\n",
    "- High level idea: \n",
    "    - scan 一次 array 完成 in-place partition\n",
    "    - hint: 除了第一個(是 pivot)，左邊部分(即訪問過的)都 partition 過；右邊部分(即未訪問過的)都還沒 partition\n",
    "    - 自己猜測：感覺 scan 到的 element 如果小於 $p$ 就直接跟 大於 $p$ 的最左邊那個 swap，否則不 swap 就好了欸\n"
   ]
  },
  {
   "cell_type": "markdown",
   "metadata": {},
   "source": [
    "#### Partition Example\n",
    "\n",
    "- 看來跟我想的差不多\n",
    "- 最後記得把 pivot 換到中間 (小於 $p$ 的最右邊 element)\n",
    "\n",
    "![](https://i.imgur.com/RvmuH7y.png)\n",
    "\n",
    "![](https://i.imgur.com/TqZAKHy.png)\n",
    "\n"
   ]
  },
  {
   "cell_type": "markdown",
   "metadata": {},
   "source": [
    "#### Pseudocode for Partition\n",
    "\n",
    "![](https://i.imgur.com/NzMYEIK.png)\n",
    "- 把 $A$ 的 $l$ 到 $r$ 這段做 partition\n",
    "- 有個特別的情況是：訪問到的所有值都小於 $p$，這樣其實還是可以做，只要先記錄是否「曾經」訪問過大於 $p$ 的元素，若有再做交換即可。\n"
   ]
  },
  {
   "cell_type": "markdown",
   "metadata": {},
   "source": [
    "#### Running Time\n",
    "- Running time = $O(n)$, where $n=r-l+1$ is the length of input (sub) array. \n",
    "- $O(1)$ work per array entry\n",
    "- clearly works in place (repeated swaps)\n"
   ]
  },
  {
   "cell_type": "markdown",
   "metadata": {},
   "source": [
    "#### Correctness\n",
    "\n",
    "![](https://i.imgur.com/RWBQ16W.png)\n",
    "- 以上可以用歸納法證明。\n",
    "\n"
   ]
  },
  {
   "cell_type": "markdown",
   "metadata": {},
   "source": [
    "### [Correctness of Quicksort [Review - Optional]](https://www.coursera.org/learn/algorithms-divide-conquer/lecture/KMyzr/correctness-of-quicksort-review-optional)"
   ]
  },
  {
   "cell_type": "markdown",
   "metadata": {},
   "source": [
    "#### Induction Review\n",
    "- Let $P(n)$ = assertion parametrized by positive integers $n$.\n",
    "    - For us: $P(n)$ is \"Quick Sort correctly sorts every input array of length $n$\". \n",
    "- How to prove $P(n)$ for all $n\\ge 1$ by induction:\n",
    "    1. [base case] directly prove that $P(1)$ holds. \n",
    "    2. [inductive step] for every $n\\ge 2$, prove that: If $P(k)$ holds for all $k<n$, then $P(n)$ holds as well. \n",
    "        - > Q: 似乎也可以只證明 if $P(k)$ holds for $k=n-1$ then $P(n)$ holds as well?? 不過在 QuickSort 中我們用到的是 all $k<n$。\n"
   ]
  },
  {
   "cell_type": "markdown",
   "metadata": {},
   "source": [
    "#### Correctness of QuickSort\n",
    "- [base case] 任何長度為 1 的 array 都已經 sorted，因此 $P(1)$ 成立\n",
    "- [inductive step] Fix $n\\ge 2$. Fix some input array of length $n$\n",
    "- **Need to show**: if $P(k)$ holds for all $k<n$, then $P(n)$ holds as well."
   ]
  },
  {
   "cell_type": "markdown",
   "metadata": {},
   "source": [
    "#### Correctness of QuickSort (con'd)\n",
    "\n",
    "![](https://i.imgur.com/TBIkqJu.png)\n",
    "- Recall: QuickSort 先把 $A$ 依據 $p$ 分成兩邊(長度分別為 $k_1,k_2$)，再把兩邊分別 recursive call QuickSort\n",
    "- Note: pivot 最後會在對的位置\n",
    "- $k_1<n$ 且 $k_2<n$ 因此我們可以 apply **inductive hypothesis**：QuickSort 可以把它們 sort 好\n",
    "- 兩個 array 都 sort 好，而且 pivot 在對的位置，也就是說整個 array 都 sort 好了。"
   ]
  },
  {
   "cell_type": "markdown",
   "metadata": {},
   "source": [
    "### [Choosing a Good Pivot](https://www.coursera.org/learn/algorithms-divide-conquer/lecture/QCLVL/choosing-a-good-pivot)"
   ]
  },
  {
   "cell_type": "markdown",
   "metadata": {},
   "source": [
    "#### QuickSort: High-Level Description\n",
    "- review 前面的 pseudocode\n",
    "- No need combine/merge step\n",
    "\n",
    "#### The Importance of the Pivot\n",
    "- Q: running time of QuickSort?\n",
    "- A: depends on the quality of the pivot"
   ]
  },
  {
   "cell_type": "markdown",
   "metadata": {},
   "source": [
    "#### Quiz: ChoosePivot on a Sorted Array\n",
    "\n",
    "![](https://i.imgur.com/Db1yfvS.png)\n",
    "- this is the worst case. "
   ]
  },
  {
   "cell_type": "markdown",
   "metadata": {},
   "source": [
    "#### Quiz: Choose Median as Pivot\n",
    "\n",
    "![](https://i.imgur.com/NQJHejd.png)\n",
    "- 這是 best case\n",
    "    - > Q: 怎麼證明是 best case 呢?\n",
    "- 回想 Master Method，此時 $a=2,b=2,d=1$，因此複雜度是 $O(n^d\\log n)=O(n\\log n)$\n",
    "    - base case 是 $\\theta(n)$ 的話似乎就可以直接代 $\\theta(n\\log n)$"
   ]
  },
  {
   "cell_type": "markdown",
   "metadata": {},
   "source": [
    "#### Random Pivots\n",
    "\n",
    "![](https://i.imgur.com/ZHGZ5nh.png)\n",
    "- 那要如何選擇 pivot 呢? Random!!!\n",
    "- Intuition：即使每次挑到的 pivot 都只能把 array 25-75方式切分，也可以達成 $O(n\\log n)$ 的複雜度！\n",
    "    - > Q: 待證明，可利用 recursion tree 分析\n",
    "- 但是其實只要挑到的 pivot 在25~75之間，就可以得到「至少和 25-75方式一樣，甚至是更好」的切分。也就是說有一半的機率可以達成。"
   ]
  },
  {
   "cell_type": "markdown",
   "metadata": {},
   "source": [
    "#### Average Running Time of QuickSort\n",
    "\n",
    "![](https://i.imgur.com/DTFY8wr.png)\n",
    "- QuickSort Theorem: **average** running time: $O(n\\log n)$\n",
    "- **為何說「average」呢？這其實來自於我們演算法當中的 randomness。**\n",
    "- 綜上所述，running time 的 upper bound 是 $O(n^2)$；lower bound 是 $O(n\\log n)$，而 average 是被 lower bound 給 dominated 的。\n"
   ]
  },
  {
   "cell_type": "markdown",
   "metadata": {},
   "source": [
    "## VI. Quick Sort - Analysis"
   ]
  },
  {
   "cell_type": "markdown",
   "metadata": {},
   "source": [
    "### [Analysis I: A Decomposition Principle](https://www.coursera.org/learn/algorithms-divide-conquer/lecture/5Tuvu/analysis-i-a-decomposition-principle)"
   ]
  },
  {
   "cell_type": "markdown",
   "metadata": {},
   "source": [
    "#### Preliminaries\n",
    "\n",
    "![](https://i.imgur.com/fQgc7Pu.png)\n",
    "- Sample Space $\\Omega$：所有可能的 pivot sequences\n",
    "- Random Variable $\\sigma\\in\\Omega$：應該就是 pivot sequence?\n",
    "- $C(\\sigma)$：應該就是 兩元素相比較的總次數? 這也是一個 random variable。\n",
    "    - 其實如果給定了 pivot sequence，那麼 Quick Sort 會是一個 deterministic algorithm\n",
    "- QuickSort 本質上在做的事就是兩兩元素的比較，因此 **running time is dominated by # comparisons**。更正式來說，存在 constant $c$ 使得 $RT(\\sigma)\\le c\\cdot C(\\sigma)$\n",
    "    - $RT$：# primitive operations\n",
    "- 最終我們要證明 $E[C] = O(n\\log n)$\n",
    "    - $E[C]$ 其實意思是 $E[C(\\sigma)]$ 吧，而 $C(\\sigma)$ 可以看成是 random variable 所以簡寫成 $C$"
   ]
  },
  {
   "cell_type": "markdown",
   "metadata": {},
   "source": [
    "#### Building Blocks\n",
    "\n",
    "![](https://i.imgur.com/nX1f5EH.png)\n",
    "- $z_i$：$A$ 裡面第 $i$ 小的 element\n",
    "- 我們要來引入 ($C$ 以外的) 另一個 random variable $X_{ij}$，即給定一個 pair $z_i,z_j$，它們在 QuickSort 中做了多少次比較。\n",
    "    - 注意 $i<j$ 必須成立。"
   ]
  },
  {
   "cell_type": "markdown",
   "metadata": {},
   "source": [
    "#### Quiz: Possible Value of $X_{ij}$\n",
    "![](https://i.imgur.com/QqIIRDI.png)\n",
    "- $X_{ij}$ 只可能是 0/1 兩種值，因為只有當其中一個是 pivot 的時候，才會比較。\n",
    "    - 假設 A 當過 pivot 且跟 B 比較過，那之後 A 跟 B 都不會再比較 (因為 partition 之後的 sub-array 不會有 A) -> 1次。\n",
    "    - 假設 A 跟 B 在當上 pivot 之前就被切到兩個不同的 sub-array，那 A 跟 B 就永遠不會被比較 -> 0次。\n",
    "    - $X_{ij}$ is an \"**indicator**\" (i.e., 0-1) random variable"
   ]
  },
  {
   "cell_type": "markdown",
   "metadata": {},
   "source": [
    "#### A Decomposition Approach\n",
    "\n",
    "![](https://i.imgur.com/qfLMuLO.png)\n",
    "- 我們現在要來試著簡化 $E[C]$ 這個不知道該怎麼算的東西\n",
    "- 總 comparison 次數等於每個 pair 的 comparison 次數加總，$C(\\sigma)=\\sum_\\limits{i=1}^{n-1}\\sum_\\limits{j=i+1}^n X_{ij}(\\sigma)$\n",
    "- 利用期望值的 linear 性質，可以把 expectation 放到 summation 裡面\n",
    "- 再利用 indicator (0-1) random variable 的性質，可以把期望值簡化成 $\\sum_\\limits{i=1}^{n-1}\\sum_\\limits{j=i+1}^n Pr(z_i,z_j\\textrm{ get compared})\\tag{*}$\n",
    "- 之後會 focus 在分析 probability $Pr(z_i,z_j\\textrm{ get compared})$"
   ]
  },
  {
   "cell_type": "markdown",
   "metadata": {},
   "source": [
    "#### A General Decomposition Principle\n",
    "![](https://i.imgur.com/Ep2n7dN.png)\n",
    "像這樣的流程可以用來分析很多演算法，不只是 QuickSort。\n",
    "1. 確定你在乎的 random variable $Y$\n",
    "2. 把 $Y$ 用 indicator (0-1) random variables 的加總來表示。$Y=\\sum_\\limits{l=1}^m X_l$\n",
    "3. 利用期望值的線性性質以及 indicator 特性，得到 $E[Y]=\\sum_\\limits{l=1}^m Pr[X_l=1]$\n",
    "    - > Q: 第2、3點應該是 $X_l$ 吧，slide 應該騰錯了\n",
    "\n",
    "之後我們就只需要分析 probability $Pr[X_l=1]$ 即可。"
   ]
  },
  {
   "cell_type": "markdown",
   "metadata": {},
   "source": [
    "### [Analysis II: The Key Insight](https://www.coursera.org/learn/algorithms-divide-conquer/lecture/sIY1s/analysis-ii-the-key-insight)"
   ]
  },
  {
   "cell_type": "markdown",
   "metadata": {},
   "source": [
    "#### The Story So Far\n",
    "\n",
    "![](https://i.imgur.com/zjkL7lQ.png)\n",
    "- Key Claim: 對於所有 $i<j$，$Pr(z_i,z_j\\textrm{ get compared})=2/(j-i+1)$\n",
    "- 接下來就要證明這個 claim。"
   ]
  },
  {
   "cell_type": "markdown",
   "metadata": {},
   "source": [
    "#### Proof of Key Claim\n",
    "\n",
    "![](https://i.imgur.com/hky43VP.png)\n",
    "- 給定 $z_i,z_j$ 想算 probability，我們就只考慮 $z_i,z_{i+1},...,z_{j-1},z_j$ 被挑出來當 pivot 的可能性。\n",
    "    - Inductively: 如果是這範圍以外的 element 被挑出來當 pivot，其實並不影響 $z_i,z_j$ 被比較的機率(嗎)。因為此時 $z_i,z_j$ 就會一起跑到下一層 recursive call 的 sub-array。\n",
    "- 可以回憶一下 *Quiz: Possible Value of $X_{ij}$* 有提到\n",
    "    1. 如果 $z_i,z_j$ 其中一個被選作 pivot，那 $z_i,z_j$ 必定被 compare，$X_{ij}=1$\n",
    "    2. 如果 $z_{i+1},...,z_{j-1}$ 之中的其中一個被選作 pivot，那麼 $z_i$ 和 $z_j$ 會被分到兩個不同的 sub-array 因此永遠不會被 compare，$X_{ij}=0$\n"
   ]
  },
  {
   "cell_type": "markdown",
   "metadata": {},
   "source": [
    "#### Proof of Key Claim (Con'd)\n",
    "\n",
    "![](https://i.imgur.com/scefDJ3.png)\n",
    "- 於是我們便知道 $Pr(X_{ij}=1)=\\frac{2}{j-i+1}$\n",
    "- 那麼 $E[C]=\\sum_\\limits{i=1}^{n-1}\\sum_\\limits{j=i+1}^n \\frac{2}{j-i+1}$\n",
    "- 接下來就要證明 $\\sum_\\limits{i=1}^{n-1}\\sum_\\limits{j=i+1}^n \\frac{2}{j-i+1}=O(n\\log n)$\n",
    "    - > Q: slide 寫 $\\sum_\\limits{j=1}^n$ 應該寫錯吧"
   ]
  },
  {
   "cell_type": "markdown",
   "metadata": {},
   "source": [
    "### [Analysis III. Final Calculations](https://www.coursera.org/learn/algorithms-divide-conquer/lecture/aqD1O/analysis-iii-final-calculations)"
   ]
  },
  {
   "cell_type": "markdown",
   "metadata": {},
   "source": [
    "#### The Story So Far\n",
    "\n",
    "![](https://i.imgur.com/v8gHENn.png)\n",
    "- slide 又 typo 啦，$E[C]=2\\sum_\\limits{i=1}^{n-1}\\sum_\\limits{j=i+1}^n \\frac{1}{j-i+1}$ 才對。\n",
    "- 那麼不論 $i$ 是多少，$\\sum_\\limits{j=i+1}^n \\frac{1}{j-i+1}=1/2+1/3+...$ 首項都會從 1/2 開始加\n",
    "    > 只是項數不一樣，最多就加到 $1/n$ (when $i=1$)，也就是說不論 $i$ 是多少，都成立 $\\sum_\\limits{j=i+1}^n \\frac{1}{j-i+1}\\le\\sum_\\limits{k=2}^n 1/k$。\n",
    "- 故 $E[C]\\le 2\\cdot n\\cdot\\sum_\\limits{k=2}^n 1/k$\n",
    "- 而我們可以 claim $\\sum_\\limits{k=2}^n 1/k\\le \\ln n$，這個等等證明。\n",
    "    - 證明出來之後我們就可以說 $E[C]=O(n\\log n)$ 了。"
   ]
  },
  {
   "cell_type": "markdown",
   "metadata": {},
   "source": [
    "#### Completing the Proof\n",
    "\n",
    "![](https://i.imgur.com/si9B55S.png)\n",
    "- > 回想一下微積分，$\\ln x$ 的微分是 $1/x$；$1/x$ 的積分是 $\\ln x+C$\n",
    "- 利用這點我們作圖 $f(x)=1/x$，然後柱狀圖總和 (不算 1 的) 就是 $\\sum_\\limits{k=2}^n 1/k$\n",
    "- 而曲線從 $1$ 到 $n$ 的下方面積可以定積分計算，$\\ln n-\\ln 1=\\ln n$，得證 $\\sum_\\limits{k=2}^n 1/k\\le \\ln n$\n",
    "- 這時我們就可以說 $E[C]=O(n\\log n)$ 了。"
   ]
  },
  {
   "cell_type": "markdown",
   "metadata": {},
   "source": [
    "## VII. Probability Review"
   ]
  },
  {
   "cell_type": "markdown",
   "metadata": {},
   "source": [
    "### [Probability Review I](https://www.coursera.org/learn/algorithms-divide-conquer/lecture/UXerT/probability-review-i)"
   ]
  },
  {
   "cell_type": "markdown",
   "metadata": {},
   "source": [
    "- 應該不用看ㄅ"
   ]
  },
  {
   "cell_type": "markdown",
   "metadata": {},
   "source": [
    "### [Probability Review II](https://www.coursera.org/learn/algorithms-divide-conquer/lecture/cPGDy/probability-review-ii)"
   ]
  },
  {
   "cell_type": "markdown",
   "metadata": {},
   "source": [
    "- 應該不用看ㄅ"
   ]
  }
 ],
 "metadata": {
  "kernelspec": {
   "display_name": "Python 3",
   "language": "python",
   "name": "python3"
  },
  "language_info": {
   "codemirror_mode": {
    "name": "ipython",
    "version": 3
   },
   "file_extension": ".py",
   "mimetype": "text/x-python",
   "name": "python",
   "nbconvert_exporter": "python",
   "pygments_lexer": "ipython3",
   "version": "3.8.3"
  },
  "toc": {
   "base_numbering": 1,
   "nav_menu": {},
   "number_sections": false,
   "sideBar": true,
   "skip_h1_title": false,
   "title_cell": "Table of Contents",
   "title_sidebar": "Contents",
   "toc_cell": false,
   "toc_position": {},
   "toc_section_display": true,
   "toc_window_display": false
  }
 },
 "nbformat": 4,
 "nbformat_minor": 2
}
