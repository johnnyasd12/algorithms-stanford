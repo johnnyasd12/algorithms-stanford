{
 "cells": [
  {
   "cell_type": "markdown",
   "metadata": {},
   "source": [
    "# [Divide and Conquer, Sorting and Searching, and Randomized Algorithms - Week 2](https://www.coursera.org/learn/algorithms-divide-conquer/home/week/2)"
   ]
  },
  {
   "cell_type": "markdown",
   "metadata": {},
   "source": [
    "## [Week 2 Overview](https://www.coursera.org/learn/algorithms-divide-conquer/supplement/4JmFc/week-2-overview)\n",
    "- **Divide and Conquer Algorithms**: The next set of lectures discusses three non-trivial examples of the divide and conquer algorithm design paradigm.\n",
    "    1. **counting the number of inversions in an array**\n",
    "        - This problem is related to measuring similarity between two ranked lists, which in turn is relevant for making good recommendations to someone based on your knowledge of their and others' preferences (\"collaborative filtering\").\n",
    "    2. **Strassen's mind-blowing** recursive algorithm for **matrix multiplication**\n",
    "        - improves over the obvious iterative method.\n",
    "    3. computing **the closest pair of points in the plane**\n",
    "        - this one is more advanced and is optional material.\n",
    "- **The Master Method**: cover a \"black-box\" method for solving recurrences.\n",
    "    - You can then **immediately determine the running time** of most of the **divide-and-conquer** algorithms that you'll ever see!"
   ]
  },
  {
   "cell_type": "markdown",
   "metadata": {},
   "source": [
    "### Suggested Reading for Week 2\n",
    "- *Algorithms Illuminated (Part 1)*, Chapters 3 and 4."
   ]
  },
  {
   "cell_type": "markdown",
   "metadata": {},
   "source": [
    "## III. Divide and Conquer Algorithms"
   ]
  },
  {
   "cell_type": "markdown",
   "metadata": {},
   "source": [
    "### [O(n log n) Algorithm for Counting Inversions I](https://www.coursera.org/learn/algorithms-divide-conquer/lecture/GFmmJ/o-n-log-n-algorithm-for-counting-inversions-i)\n",
    "\n"
   ]
  },
  {
   "cell_type": "markdown",
   "metadata": {},
   "source": [
    "#### The Divide and Conquer Paradigm\n",
    "1. Divide into smaller sub-problems\n",
    "2. Conquer via recursive calls\n",
    "3. Combine solutions\n",
    "    - 通常演算法獨創的地方大部分會發生在 combine solutions 這個 step。\n",
    "        - 例如 merge sort 的 merge step。"
   ]
  },
  {
   "cell_type": "markdown",
   "metadata": {},
   "source": [
    "#### The Problem\n",
    "- Input: array $A$ containing $1,2,3,...,n$ in some arbitrary order\n",
    "    - 其實 array 內容可以是任意不同的數字，不過為求方便我們就假設是 1 到 n\n",
    "- Output: number of inversions = number of pairs $(i,j)$ of array indices with $i<j$ and $A[i]>A[j]$"
   ]
  },
  {
   "cell_type": "markdown",
   "metadata": {},
   "source": [
    "#### Examples and Motivation\n",
    "![](https://i.imgur.com/EaWo2s7.png)\n",
    "- 連線的交點數量就是 inversion 的數量\n",
    "- 那為何要計算 inversion 數量呢？\n",
    "    - 某種意義上可以當成是**兩個 ranked list 的 dissimilarity**，例如：\n",
    "        - 我把 6 部電影做喜好排序，123456，然後看我排第一的電影在我朋友眼中是排第幾(若以圖為例就是1)、我排第二的電影在我朋友眼中是排第4、我排第三的電影朋友排第2。依此類推得到朋友的排序是 135246，越多 inversion 就代表我和我朋友喜好越不一樣 (如果排序完全一樣，則 inversion 數量會是 0)，其實這個就是在做 **colaborative filtering**。"
   ]
  },
  {
   "cell_type": "markdown",
   "metadata": {},
   "source": [
    "#### Quiz: Number of Inversions in an Array\n",
    "What is the largest-possible number of inversions that element array can have?\n",
    "- [x] 15\n",
    "- [ ] 21\n",
    "- [ ] 36\n",
    "- [ ] 64\n",
    "\n",
    "In general, $\\binom n2 = n(n-1)/2$\n",
    "- 因為所有 pairs 都是 inverted。\n"
   ]
  },
  {
   "cell_type": "markdown",
   "metadata": {},
   "source": [
    "#### High-Level Approach\n",
    "![](https://i.imgur.com/mTUt1uo.png)\n",
    "- 我們把 inversion 分成三類\n",
    "    1. Left inversion (只計算 array 左半邊的 inversion 數量)\n",
    "    2. Right inversion (只計算 array 右半邊的 inversion 數量)\n",
    "    3. Split inversion (只計算 $i,j$ 橫跨 array 左右的 inversion 數量)\n",
    "- Left inversion 和 Right inversion 是可以用 recursive 方式計算的。\n",
    "- 而 split inversion 就相當於之前說的 combine step 吧?"
   ]
  },
  {
   "cell_type": "markdown",
   "metadata": {
    "ExecuteTime": {
     "end_time": "2020-03-05T06:34:17.765123Z",
     "start_time": "2020-03-05T06:34:17.759141Z"
    }
   },
   "source": [
    "#### High-Level Algorithm\n",
    "![](https://i.imgur.com/nwl8vjI.png)\n",
    "- 我們希望在 recursion 之外的部分，只用 linear time 來完成\n",
    "    - 回想當初 merge sort 可以在 $O(n\\log n)$ 完成，就是因為 merge step 只花了 $O(n)$ 的複雜度。\n",
    "    - 所以我們希望 `CountSplitInv(A,n)` 的複雜度是 $O(n)$。\n",
    "    - 但是這是一個很 ambitious 的願望，**因為 split inversion 的數量 worst case 會是 quadratic times of $n$**，也就是說我們想在 $O(n)$ 的複雜度去計算可能有 $O(n^2)$ 的數量，辦的到嗎？可以。\n",
    "        - 註：worst case 為何是 quadratic times? 若右方的 array 包含了數字 $1,2,...,\\frac n2$；而左方的 array 包含了數字 $\\frac n2 +1,...,n-1,n$，那麼所有的 split pair 都是 inversion，因此就有 quadratic times of $n$ 這麼多的 inversion。"
   ]
  },
  {
   "cell_type": "markdown",
   "metadata": {},
   "source": [
    "### [O(n log n) Algorithm for Counting Inversions II](https://www.coursera.org/learn/algorithms-divide-conquer/lecture/IUiUk/o-n-log-n-algorithm-for-counting-inversions-ii)"
   ]
  },
  {
   "cell_type": "markdown",
   "metadata": {},
   "source": [
    "#### Piggybacking on Merge Sort (Key Idea #2)\n",
    "![](https://i.imgur.com/WAp54QC.png)\n",
    "- piggyback [俚語]：當動詞時，常用這個片語，piggyback on sb/sth，指的是藉由其他已存在的靠山、情勢與環境等，謀取自己的好處等等。\n",
    "- Key Idea #2：我們的 recursive calls 不只用來計算 inversions，也多一些 recursive calls 用來做 merge sort。\n",
    "    - 何不呢？ merge sort 這麼快對不對 :)，$O(n\\log n)$ 是我們要的啊，把 merge sort 加進來也不會變更複雜。"
   ]
  },
  {
   "cell_type": "markdown",
   "metadata": {},
   "source": [
    "#### High-Level Algorithm (revised)\n",
    "![](https://i.imgur.com/adkuAnX.png)\n",
    "- 之前提過的 high-level algorithm，不過是修正版\n",
    "    - 之前的 **`Count()` 變成 `SortAndCount()`**\n",
    "    - 之前的 **`CountSplitInv()` 變成 `MergeAndCountSplitInv()`**\n",
    "        - 既然我們已經知道 `Merge` 只需要花 $O(n)$，那麼要問的問題就是，在 merge 完得到 sorted array 之後是否也能在 $O(n)$ 得到 `CountSplitInv()`\n",
    "- 修正後 pseudocode 應該長這樣 (不同於 slide)\n",
    "    ```py\n",
    "def SortAndCount(A, n):\n",
    "    '''\n",
    "    Args:\n",
    "        A: array that we want to sort\n",
    "        n: length of the array\n",
    "    Return:\n",
    "        sortedA: sorted version of array A\n",
    "        Ans: the total count of inversion\n",
    "    '''\n",
    "    if n==1: \n",
    "        return 0\n",
    "    else:\n",
    "        (B, X) = SortAndCount(A1, n/2) # A1 is 1st half of A; B is sorted A1\n",
    "        (C, Y) = SortAndCount(A2, n/2) # A2 is 2nd half of A; C is sorted A2\n",
    "        (D, Z) = MergeAndCountSplitInv(B, C, n) # this part is different from the slide\n",
    "    ```\n",
    "    - 寫成這樣的原因是，我們希望 recursive call merge sort 之後，能夠幫助我們更容易做到 `CountSplitInv`。\n",
    "        - 可是為什麼可以呢 A__A"
   ]
  },
  {
   "cell_type": "markdown",
   "metadata": {},
   "source": [
    "#### Pseudocode for Merge\n",
    "![](https://i.imgur.com/ip3dYPm.png)\n",
    "- 左側的 array 是 $B$(slide 有誤)；右側 array 是 $C$\n",
    "- 假設 input array $A$ 有這樣的特性：沒有 split inversions，會發生什麼事呢？"
   ]
  },
  {
   "cell_type": "markdown",
   "metadata": {},
   "source": [
    "#### Quiz: Split Inversions\n",
    "Suppose the input array $A$ has no split inversions. What is the relationship between the sorted subarrays $B$ and $C$\n",
    "- [ ] $B$ has the smallest element of $A$, $C$ the second-smaller, $B$, the third-smallest, and so on. \n",
    "- [x] All elements of $B$ are less than all elements of $C$. \n",
    "- [ ] All elements of $B$ are greater than all elements of $C$. \n",
    "- [ ] There is not enough information to answwer this question. \n",
    "\n",
    "\n",
    "答案就是 $B$ 中的所有 element 都小於 $C$ 的所有 element\n",
    "- 那麼對這樣的 $B$ 和 $C$ 做 merge，就只需要執行超簡單的操作即可完成：合併 $B$ 和 $C$，結束。\n",
    "- ***這句不懂 \"So, this suggests that, perhaps, copying elements over from the second sub-array C has something to do with the number of split inversions in the original array, and that is in fact the case.\"***\n"
   ]
  },
  {
   "cell_type": "markdown",
   "metadata": {},
   "source": [
    "#### Example: Split Inversion & Merge Subroutine\n",
    "![](https://i.imgur.com/hdzQdCJ.png)\n",
    "- 假設 `B=[1,3,5]`，`C=[2,4,6]`，也就代表 no left/right inversions (all the inversions are split inversions)\n",
    "    - 因為這裡有個前提是 `B` 和 `C` 是 sorted array\n",
    "- 這時候的 merge subroutine會長怎樣？\n",
    "    1. 當 2 被 copy 到 `D` 的時候，就可以發現 `(3,2)`、`(5,2)` 是 inversion\n",
    "    2. 當 4 被 copy 到 `D` 的時候，就可以發現 `(5,4)` 是 inversion\n",
    "- 結論：當我從 `C` 當中拿某個數字 `y` 到 `D` 裡面，這時 `B` 裡面的所有剩餘數字都會和 `y` 組成 inversion。"
   ]
  },
  {
   "cell_type": "markdown",
   "metadata": {},
   "source": [
    "#### General Claim\n",
    "- Claim\n",
    "    - the split inversions involving an element $y$ of the 2nd array $C$ are precisely the numbers left in the 1st array $B$ when $y$ is copied to the output $D$. \n",
    "- Proof: \n",
    "    - Let $x$ be an element of the 1st array $B$. \n",
    "        1. if $x$ copied to output $D$ before $y$, then $x<y$. So no inversions involving $x$ and $y$. \n",
    "        2. if $y$ copied to output $D$ before $x$, then $y<x$. So $x$ and $y$ are a (split) inversion. Q.E.D. "
   ]
  },
  {
   "cell_type": "markdown",
   "metadata": {},
   "source": [
    "#### Merge_and_CountSplitInv\n",
    "![](https://i.imgur.com/tTl3AaH.png)\n"
   ]
  },
  {
   "cell_type": "markdown",
   "metadata": {},
   "source": []
  },
  {
   "cell_type": "markdown",
   "metadata": {},
   "source": []
  },
  {
   "cell_type": "markdown",
   "metadata": {},
   "source": []
  },
  {
   "cell_type": "markdown",
   "metadata": {},
   "source": []
  },
  {
   "cell_type": "markdown",
   "metadata": {},
   "source": []
  },
  {
   "cell_type": "markdown",
   "metadata": {},
   "source": []
  },
  {
   "cell_type": "code",
   "execution_count": null,
   "metadata": {},
   "outputs": [],
   "source": []
  }
 ],
 "metadata": {
  "kernelspec": {
   "display_name": "Python 3",
   "language": "python",
   "name": "python3"
  },
  "language_info": {
   "codemirror_mode": {
    "name": "ipython",
    "version": 3
   },
   "file_extension": ".py",
   "mimetype": "text/x-python",
   "name": "python",
   "nbconvert_exporter": "python",
   "pygments_lexer": "ipython3",
   "version": "3.7.3"
  },
  "toc": {
   "base_numbering": 1,
   "nav_menu": {
    "height": "180px",
    "width": "405px"
   },
   "number_sections": true,
   "sideBar": true,
   "skip_h1_title": false,
   "title_cell": "Table of Contents",
   "title_sidebar": "Contents",
   "toc_cell": false,
   "toc_position": {},
   "toc_section_display": true,
   "toc_window_display": false
  }
 },
 "nbformat": 4,
 "nbformat_minor": 2
}
