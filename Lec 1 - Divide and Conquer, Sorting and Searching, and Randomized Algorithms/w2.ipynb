{
 "cells": [
  {
   "cell_type": "markdown",
   "metadata": {},
   "source": [
    "# [Divide and Conquer, Sorting and Searching, and Randomized Algorithms - Week 2](https://www.coursera.org/learn/algorithms-divide-conquer/home/week/2)"
   ]
  },
  {
   "cell_type": "markdown",
   "metadata": {},
   "source": [
    "## [Week 2 Overview](https://www.coursera.org/learn/algorithms-divide-conquer/supplement/4JmFc/week-2-overview)\n",
    "- **Divide and Conquer Algorithms**: The next set of lectures discusses three non-trivial examples of the divide and conquer algorithm design paradigm.\n",
    "    1. counting the number of inversions in an array\n",
    "        - This problem is related to measuring similarity between two ranked lists, which in turn is relevant for making good recommendations to someone based on your knowledge of their and others' preferences (\"collaborative filtering\").\n",
    "    2. Strassen's mind-blowing recursive algorithm for matrix multiplication\n",
    "        - improves over the obvious iterative method.\n",
    "    3. computing the closest pair of points in the plane\n",
    "        - this one is more advanced and is optional material.\n",
    "- **The Master Method**: cover a \"black-box\" method for solving recurrences.\n",
    "    - You can then **immediately determine the running time** of most of the **divide-and-conquer** algorithms that you'll ever see!"
   ]
  },
  {
   "cell_type": "markdown",
   "metadata": {},
   "source": [
    "### Suggested Reading for Week 2\n",
    "- *Algorithms Illuminated (Part 1)*, Chapters 3 and 4."
   ]
  },
  {
   "cell_type": "markdown",
   "metadata": {},
   "source": [
    "## III. Divide and Conquer Algorithms"
   ]
  },
  {
   "cell_type": "markdown",
   "metadata": {},
   "source": [
    "### [O(n log n) Algorithm for Counting Inversions I](https://www.coursera.org/learn/algorithms-divide-conquer/lecture/GFmmJ/o-n-log-n-algorithm-for-counting-inversions-i)\n",
    "\n"
   ]
  },
  {
   "cell_type": "markdown",
   "metadata": {},
   "source": [
    "#### The Divide and Conquer Paradigm\n",
    "1. Divide into smaller sub-problems\n",
    "2. Conquer via recursive calls\n",
    "3. Combine solutions"
   ]
  },
  {
   "cell_type": "markdown",
   "metadata": {},
   "source": [
    "#### The Problem\n",
    "- Input: array $A$ containing $1,2,3,...,n$ in some arbitrary order\n",
    "- Output: number of inversions = number of pairs $(i,j)$ of array indices with $i<j$ and $A[i]>A[j]$"
   ]
  },
  {
   "cell_type": "markdown",
   "metadata": {},
   "source": [
    "#### Examples and Motivation\n",
    "![](https://i.imgur.com/EaWo2s7.png)"
   ]
  },
  {
   "cell_type": "markdown",
   "metadata": {},
   "source": [
    "#### Quiz: Number of Inversions in an Array\n",
    "What is the largest-possible number of inversions that element array can have?\n",
    "- [x] 15\n",
    "- [ ] 21\n",
    "- [ ] 36\n",
    "- [ ] 64\n",
    "\n",
    "In general, $\\binom n2 = n(n-1)/2$\n"
   ]
  },
  {
   "cell_type": "markdown",
   "metadata": {},
   "source": [
    "#### High-Level Approach\n",
    "![](https://i.imgur.com/mTUt1uo.png)"
   ]
  },
  {
   "cell_type": "markdown",
   "metadata": {
    "ExecuteTime": {
     "end_time": "2020-03-05T06:34:17.765123Z",
     "start_time": "2020-03-05T06:34:17.759141Z"
    }
   },
   "source": [
    "#### High-Level Algorithm\n",
    "![](https://i.imgur.com/nwl8vjI.png)"
   ]
  },
  {
   "cell_type": "markdown",
   "metadata": {},
   "source": []
  },
  {
   "cell_type": "markdown",
   "metadata": {},
   "source": []
  },
  {
   "cell_type": "markdown",
   "metadata": {},
   "source": []
  },
  {
   "cell_type": "markdown",
   "metadata": {},
   "source": []
  },
  {
   "cell_type": "markdown",
   "metadata": {},
   "source": []
  },
  {
   "cell_type": "markdown",
   "metadata": {},
   "source": []
  },
  {
   "cell_type": "markdown",
   "metadata": {},
   "source": []
  },
  {
   "cell_type": "markdown",
   "metadata": {},
   "source": []
  },
  {
   "cell_type": "markdown",
   "metadata": {},
   "source": []
  },
  {
   "cell_type": "markdown",
   "metadata": {},
   "source": []
  },
  {
   "cell_type": "markdown",
   "metadata": {},
   "source": []
  },
  {
   "cell_type": "markdown",
   "metadata": {},
   "source": []
  },
  {
   "cell_type": "markdown",
   "metadata": {},
   "source": []
  },
  {
   "cell_type": "markdown",
   "metadata": {},
   "source": []
  },
  {
   "cell_type": "code",
   "execution_count": null,
   "metadata": {},
   "outputs": [],
   "source": []
  }
 ],
 "metadata": {
  "kernelspec": {
   "display_name": "Python 3",
   "language": "python",
   "name": "python3"
  },
  "language_info": {
   "codemirror_mode": {
    "name": "ipython",
    "version": 3
   },
   "file_extension": ".py",
   "mimetype": "text/x-python",
   "name": "python",
   "nbconvert_exporter": "python",
   "pygments_lexer": "ipython3",
   "version": "3.7.3"
  },
  "toc": {
   "base_numbering": 1,
   "nav_menu": {
    "height": "180px",
    "width": "405px"
   },
   "number_sections": true,
   "sideBar": true,
   "skip_h1_title": false,
   "title_cell": "Table of Contents",
   "title_sidebar": "Contents",
   "toc_cell": false,
   "toc_position": {},
   "toc_section_display": true,
   "toc_window_display": false
  }
 },
 "nbformat": 4,
 "nbformat_minor": 2
}
