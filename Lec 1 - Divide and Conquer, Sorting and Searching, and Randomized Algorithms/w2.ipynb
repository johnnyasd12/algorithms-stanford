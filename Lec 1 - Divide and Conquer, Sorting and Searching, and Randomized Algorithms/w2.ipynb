{
 "cells": [
  {
   "cell_type": "markdown",
   "metadata": {},
   "source": [
    "# [Divide and Conquer, Sorting and Searching, and Randomized Algorithms - Week 2](https://www.coursera.org/learn/algorithms-divide-conquer/home/week/2)"
   ]
  },
  {
   "cell_type": "markdown",
   "metadata": {},
   "source": [
    "## 其他版本\n",
    "- [以 nbviewer 檢視](https://nbviewer.jupyter.org/github/johnnyasd12/algorithms-stanford/blob/master/Lec%201%20-%20Divide%20and%20Conquer%2C%20Sorting%20and%20Searching%2C%20and%20Randomized%20Algorithms/w2.ipynb) (LaTeX 的 render 較正確)"
   ]
  },
  {
   "cell_type": "markdown",
   "metadata": {},
   "source": [
    "## [Week 2 Overview](https://www.coursera.org/learn/algorithms-divide-conquer/supplement/4JmFc/week-2-overview)\n",
    "- **Divide and Conquer Algorithms**: The next set of lectures discusses three non-trivial examples of the divide and conquer algorithm design paradigm.\n",
    "    1. **counting the number of inversions in an array**\n",
    "        - This problem is related to measuring similarity between two ranked lists, which in turn is relevant for making good recommendations to someone based on your knowledge of their and others' preferences (\"collaborative filtering\").\n",
    "    2. **Strassen's mind-blowing** recursive algorithm for **matrix multiplication**\n",
    "        - improves over the obvious iterative method.\n",
    "    3. computing **the closest pair of points in the plane**\n",
    "        - this one is more advanced and is optional material.\n",
    "- **The Master Method**: cover a \"black-box\" method for solving recurrences.\n",
    "    - You can then **immediately determine the running time** of most of the **divide-and-conquer** algorithms that you'll ever see!"
   ]
  },
  {
   "cell_type": "markdown",
   "metadata": {},
   "source": [
    "### Suggested Reading for Week 2\n",
    "- *Algorithms Illuminated (Part 1)*, Chapters 3 and 4."
   ]
  },
  {
   "cell_type": "markdown",
   "metadata": {},
   "source": [
    "## III. Divide and Conquer Algorithms"
   ]
  },
  {
   "cell_type": "markdown",
   "metadata": {},
   "source": [
    "### [O(n log n) Algorithm for Counting Inversions I](https://www.coursera.org/learn/algorithms-divide-conquer/lecture/GFmmJ/o-n-log-n-algorithm-for-counting-inversions-i)\n",
    "\n"
   ]
  },
  {
   "cell_type": "markdown",
   "metadata": {},
   "source": [
    "#### The Divide and Conquer Paradigm\n",
    "1. Divide into smaller sub-problems\n",
    "2. Conquer via recursive calls\n",
    "3. Combine solutions\n",
    "    - 通常演算法獨創的地方大部分會發生在 combine solutions 這個 step。\n",
    "        - 例如 merge sort 的 merge step。"
   ]
  },
  {
   "cell_type": "markdown",
   "metadata": {},
   "source": [
    "#### The Problem\n",
    "- Input: array $A$ containing $1,2,3,...,n$ in some arbitrary order\n",
    "    - 其實 array 內容可以是任意不同的數字，不過為求方便我們就假設是 1 到 n\n",
    "- Output: number of inversions = number of pairs $(i,j)$ of array indices with $i<j$ and $A[i]>A[j]$"
   ]
  },
  {
   "cell_type": "markdown",
   "metadata": {},
   "source": [
    "#### Examples and Motivation\n",
    "![](https://i.imgur.com/EaWo2s7.png)\n",
    "- 連線的交點數量就是 inversion 的數量\n",
    "- 那為何要計算 inversion 數量呢？\n",
    "    - 某種意義上可以當成是**兩個 ranked list 的 dissimilarity**，例如：\n",
    "        - 我把 6 部電影做喜好排序，123456，然後看我排第一的電影在我朋友眼中是排第幾(若以圖為例就是1)、我排第二的電影在我朋友眼中是排第4、我排第三的電影朋友排第2。依此類推得到朋友的排序是 135246，越多 inversion 就代表我和我朋友喜好越不一樣 (如果排序完全一樣，則 inversion 數量會是 0)，其實這個就是在做 **colaborative filtering**。"
   ]
  },
  {
   "cell_type": "markdown",
   "metadata": {},
   "source": [
    "#### Quiz: Number of Inversions in an Array\n",
    "What is the largest-possible number of inversions that element array can have?\n",
    "- [x] 15\n",
    "- [ ] 21\n",
    "- [ ] 36\n",
    "- [ ] 64\n",
    "\n",
    "In general, $\\binom n2 = n(n-1)/2$\n",
    "- 因為所有 pairs 都是 inverted。\n"
   ]
  },
  {
   "cell_type": "markdown",
   "metadata": {},
   "source": [
    "#### High-Level Approach\n",
    "![](https://i.imgur.com/mTUt1uo.png)\n",
    "- 我們把 inversion 分成三類\n",
    "    1. Left inversion (只計算 array 左半邊的 inversion 數量)\n",
    "    2. Right inversion (只計算 array 右半邊的 inversion 數量)\n",
    "    3. Split inversion (只計算 $i,j$ 橫跨 array 左右的 inversion 數量)\n",
    "- Left inversion 和 Right inversion 是可以用 recursive 方式計算的。\n",
    "- 而 split inversion 就相當於之前說的 combine step 吧?"
   ]
  },
  {
   "cell_type": "markdown",
   "metadata": {
    "ExecuteTime": {
     "end_time": "2020-03-05T06:34:17.765123Z",
     "start_time": "2020-03-05T06:34:17.759141Z"
    }
   },
   "source": [
    "#### High-Level Algorithm\n",
    "![](https://i.imgur.com/nwl8vjI.png)\n",
    "- 我們希望在 recursion 之外的部分，只用 linear time 來完成\n",
    "    - 回想當初 merge sort 可以在 $O(n\\log n)$ 完成，就是因為 merge step 只花了 $O(n)$ 的複雜度。\n",
    "    - 所以我們希望 `CountSplitInv(A,n)` 的複雜度是 $O(n)$。\n",
    "    - 但是這是一個很 ambitious 的願望，**因為 split inversion 的數量 worst case 會是 quadratic times of $n$**，也就是說我們想在 $O(n)$ 的複雜度去計算可能有 $O(n^2)$ 的數量，辦的到嗎？可以。\n",
    "        - 註：worst case 為何是 quadratic times? 若右方的 array 包含了數字 $1,2,...,\\frac n2$；而左方的 array 包含了數字 $\\frac n2 +1,...,n-1,n$，那麼所有的 split pair 都是 inversion，因此就有 quadratic times of $n$ 這麼多的 inversion。"
   ]
  },
  {
   "cell_type": "markdown",
   "metadata": {},
   "source": [
    "### [O(n log n) Algorithm for Counting Inversions II](https://www.coursera.org/learn/algorithms-divide-conquer/lecture/IUiUk/o-n-log-n-algorithm-for-counting-inversions-ii)"
   ]
  },
  {
   "cell_type": "markdown",
   "metadata": {},
   "source": [
    "#### Piggybacking on Merge Sort (Key Idea #2)\n",
    "![](https://i.imgur.com/WAp54QC.png)\n",
    "- piggyback [俚語]：當動詞時，常用這個片語，piggyback on sb/sth，指的是藉由其他已存在的靠山、情勢與環境等，謀取自己的好處等等。\n",
    "- Key Idea #2：我們的 recursive calls 不只用來計算 inversions，也多一些 recursive calls 用來做 merge sort。\n",
    "    - 何不呢？ merge sort 這麼快對不對 :)，$O(n\\log n)$ 是我們要的啊，把 merge sort 加進來也不會變更複雜。"
   ]
  },
  {
   "cell_type": "markdown",
   "metadata": {},
   "source": [
    "#### High-Level Algorithm (revised)\n",
    "![](https://i.imgur.com/adkuAnX.png)\n",
    "- 之前提過的 high-level algorithm，不過是修正版\n",
    "    - 之前的 **`Count()` 變成 `SortAndCount()`**\n",
    "    - 之前的 **`CountSplitInv()` 變成 `MergeAndCountSplitInv()`**\n",
    "        - 既然我們已經知道 `Merge` 只需要花 $O(n)$，那麼要問的問題就是，在 merge 完得到 sorted array 之後是否也能在 $O(n)$ 得到 `CountSplitInv()`\n",
    "- 修正後 pseudocode 應該長這樣 (不同於 slide)\n",
    "    ```py\n",
    "def SortAndCount(A, n):\n",
    "    '''\n",
    "    Args:\n",
    "        A: array that we want to sort\n",
    "        n: length of the array\n",
    "    Return:\n",
    "        D: sorted version of array A\n",
    "        Ans: the total count of inversion\n",
    "    '''\n",
    "    if n==1: \n",
    "        return 0\n",
    "    else:\n",
    "        (B, X) = SortAndCount(A1, n/2) # A1 is 1st half of A; B is sorted A1\n",
    "        (C, Y) = SortAndCount(A2, n/2) # A2 is 2nd half of A; C is sorted A2\n",
    "        (D, Z) = MergeAndCountSplitInv(B, C, n) # this part is different from the slide\n",
    "    Ans = X+Y+Z\n",
    "    return D, Ans\n",
    "    ```\n",
    "    - 寫成這樣的原因是，我們希望 recursive call merge sort 之後，能夠幫助我們更容易做到 `CountSplitInv`。\n",
    "        - 等等說明為何有幫助"
   ]
  },
  {
   "cell_type": "markdown",
   "metadata": {},
   "source": [
    "#### Pseudocode for Merge\n",
    "![](https://i.imgur.com/ip3dYPm.png)\n",
    "- 左側的 array 是 $B$(slide 有誤)；右側 array 是 $C$\n",
    "- 假設 input array $A$ 沒有 split inversions，會發生什麼事呢？"
   ]
  },
  {
   "cell_type": "markdown",
   "metadata": {},
   "source": [
    "#### Quiz: Split Inversions\n",
    "Suppose the input array $A$ has no split inversions. What is the relationship between the sorted subarrays $B$ and $C$\n",
    "- [ ] $B$ has the smallest element of $A$, $C$ the second-smaller, $B$, the third-smallest, and so on. \n",
    "- [x] All elements of $B$ are less than all elements of $C$. \n",
    "- [ ] All elements of $B$ are greater than all elements of $C$. \n",
    "- [ ] There is not enough information to answwer this question. \n",
    "\n",
    "\n",
    "答案就是 $B$ 中的所有 element 都小於 $C$ 的所有 element\n",
    "- 那麼對這樣的 $B$ 和 $C$ 做 merge，就只需要執行超簡單的操作即可完成：合併 $B$ 和 $C$，結束。\n",
    "- ***這句不懂 \"So, this suggests that, perhaps, copying elements over from the second sub-array C has something to do with the number of split inversions in the original array, and that is in fact the case.\"***\n"
   ]
  },
  {
   "cell_type": "markdown",
   "metadata": {},
   "source": [
    "#### Example: Split Inversion & Merge Subroutine\n",
    "![](https://i.imgur.com/hdzQdCJ.png)\n",
    "- 假設 `B=[1,3,5]`，`C=[2,4,6]`，也就代表 no left/right inversions (all the inversions are split inversions)\n",
    "    - 因為這裡有個前提是 `B` 和 `C` 是 sorted array\n",
    "- 這時候的 merge subroutine會長怎樣？\n",
    "    1. 當 2 被 copy 到 `D` 的時候，就可以發現 `(3,2)`、`(5,2)` 是 inversion\n",
    "    2. 當 4 被 copy 到 `D` 的時候，就可以發現 `(5,4)` 是 inversion\n",
    "- 結論：當我從 `C` 當中拿某個數字 `y` 到 `D` 裡面，這時 `B` 裡面的所有剩餘數字都會和 `y` 組成 inversion。"
   ]
  },
  {
   "cell_type": "markdown",
   "metadata": {},
   "source": [
    "#### General Claim\n",
    "- Claim\n",
    "    - the split inversions involving an element $y$ of the 2nd array $C$ are precisely the numbers left in the 1st array $B$ when $y$ is copied to the output $D$. \n",
    "- Proof: \n",
    "    - Let $x$ be an element of the 1st array $B$. \n",
    "        1. if $x$ copied to output $D$ before $y$, then $x<y$. So no inversions involving $x$ and $y$. \n",
    "        2. if $y$ copied to output $D$ before $x$, then $y<x$. So $x$ and $y$ are a (split) inversion. Q.E.D. \n",
    "- 這個 part 是核心觀念，我們知道了為何 `CountSplitInv` 可以很容易地做到"
   ]
  },
  {
   "cell_type": "markdown",
   "metadata": {},
   "source": [
    "#### Merge_and_CountSplitInv\n",
    "![](https://i.imgur.com/tTl3AaH.png)\n",
    "- 結論\n",
    "    - 一邊做 merge 就可以一邊計算 split inversions 了。\n",
    "    - subroutine 是 linear 的複雜度 ($O(n)$)\n",
    "        - 這邊要注意，寫 $O(n)+O(n)=O(n)$ 有點太 sloppy(草率)了，事實上是因為這兩個 $O(n)$ 都是小於等於 「$n$ 的常數倍」，且只有 2 項相加所以才成立 $O(n)+O(n)=O(n)$。否則若有 $n$ 項 $O(n)$ 相加，就會變成 $O(n^2)$。"
   ]
  },
  {
   "cell_type": "markdown",
   "metadata": {},
   "source": [
    "#### note 小結\n",
    "總結來說，利用 merge sort 來做 count inversion，就可以把 left inversion 和 right inversion 都用 recursion 來解(順便 sort)，而 split inversion 是 linear time complexity，這樣就得到了和 merge sort 一樣的時間複雜度 $O(n\\log n)$。"
   ]
  },
  {
   "cell_type": "markdown",
   "metadata": {},
   "source": [
    "### [Strassen's Subcubic Matrix Multiplication Algorithm](https://www.coursera.org/learn/algorithms-divide-conquer/lecture/YXmYz/strassens-subcubic-matrix-multiplication-algorithm)"
   ]
  },
  {
   "cell_type": "markdown",
   "metadata": {},
   "source": [
    "#### Matrix Multiplication\n",
    "![](https://i.imgur.com/IBmTMze.png)\n",
    "- 我們這邊姑且只討論方陣 ($n\\times n$) 的相乘，因此 input size 是 $O(n^2)$\n",
    "- 跟之前一樣希望 time complexity 越接近 linear 越好 (因此希望接近 $O(n^2)$)"
   ]
  },
  {
   "cell_type": "markdown",
   "metadata": {},
   "source": [
    "#### Example (n=2)\n",
    "$\\begin{bmatrix}a&b\\\\c&d\\end{bmatrix}\\begin{bmatrix}e&f\\\\g&h\\end{bmatrix} = \\begin{bmatrix}ae+bg&af+bh\\\\ce+dg&cf+dh\\end{bmatrix}$\n",
    "- ***GitHub 在那邊亂 render ㄟ?***"
   ]
  },
  {
   "cell_type": "markdown",
   "metadata": {},
   "source": [
    "#### Quiz:\n",
    "![](https://i.imgur.com/UL6clPe.png)\n",
    "- output size 是 $n^2$，而計算每個 element 所需運算量應該是 $2n$?\n",
    "    - 細節：這邊我們假設我們表示 matrix 的方式可以用 $O(1)$ 的時間來存取 element，才成立上述情況。"
   ]
  },
  {
   "cell_type": "markdown",
   "metadata": {},
   "source": [
    "#### The Divide and Conquer Paradigm\n",
    "1. DIVIDE into smaller subproblems\n",
    "2. CONQUER subproblems recursively\n",
    "3. COMBINE solutions of the subproblems into one for the original problem"
   ]
  },
  {
   "cell_type": "markdown",
   "metadata": {},
   "source": [
    "#### Applying Divide and Conquer\n",
    "![](https://i.imgur.com/9xKhzZg.png)\n",
    "- 怎麼用 divide and conquer 來做呢？若照之前教的，直覺上可能會把 matrix 拆成左右兩部分來 conquer，然而這樣就不是方陣了，沒辦法用 recursive call 來解，因此拆成四部分，這樣就都是方陣了。\n",
    "- 然後就可以利用 [矩陣可先分割再相乘的特性](https://hackmd.io/Cza8BdpyTPeS9ppwdeg8HA#Augmentation-and-Partition) 來 conquer & combine 出答案。\n",
    "    - conquer 的部分直接 recursive call 矩陣相乘\n",
    "    - combine 的部分只需要矩陣相加，複雜度是 linear 的 ($O(n^2)$)"
   ]
  },
  {
   "cell_type": "markdown",
   "metadata": {},
   "source": [
    "#### Recursive Algorithm #1\n",
    "- Step 1: recursively compute the 8 necessary products\n",
    "- Step 2: do the necessary additions $\\theta(n^2)$ time\n",
    "- Fact: run time is $\\theta(n^3)$\n",
    "    - 之後會利用 master method 來說明這個時間複雜度\n",
    "    - 所以其實 recursive algorithm 跟直接用 iterative 硬幹的複雜度一樣 Orz\n",
    "    - 那我們能不能像之前 integer multiplication 一樣用一些 clever 的 trick 來減少 recursive calls 的數量呢？"
   ]
  },
  {
   "cell_type": "markdown",
   "metadata": {},
   "source": [
    "#### Strassen's Algorithm (1969)\n",
    "- Step 1: recursively compute **only 7** (cleverly chosen) products\n",
    "- Step 2: do the necessary (clever) additions + substractions (still $\\theta(n^2)$ time) (使用聰明的方式做加減乘除)\n",
    "- Fact: **better than cubic time!!**\n",
    "    - 直覺上這樣好像只是比原本少了 1/8 的 time complexity？錯！\n",
    "    - 因為每一層的所有 recursive calls 都可以少掉 1/8 的 time complexity，所以其實最後時間複雜度可以小於 $O(n^3)$\n",
    "    - see Master Method lecture"
   ]
  },
  {
   "cell_type": "markdown",
   "metadata": {},
   "source": [
    "#### The Details\n",
    "![](https://i.imgur.com/qPBYQ25.png)\n",
    "- 乾好扯喔所以 Strassen 到底是怎麼想到這 7 個 term 可以組出那 8 個東西的"
   ]
  },
  {
   "cell_type": "markdown",
   "metadata": {},
   "source": []
  },
  {
   "cell_type": "markdown",
   "metadata": {},
   "source": []
  },
  {
   "cell_type": "markdown",
   "metadata": {},
   "source": []
  },
  {
   "cell_type": "markdown",
   "metadata": {},
   "source": []
  },
  {
   "cell_type": "markdown",
   "metadata": {},
   "source": []
  },
  {
   "cell_type": "markdown",
   "metadata": {},
   "source": []
  },
  {
   "cell_type": "markdown",
   "metadata": {},
   "source": []
  },
  {
   "cell_type": "code",
   "execution_count": null,
   "metadata": {},
   "outputs": [],
   "source": []
  }
 ],
 "metadata": {
  "kernelspec": {
   "display_name": "Python 3",
   "language": "python",
   "name": "python3"
  },
  "language_info": {
   "codemirror_mode": {
    "name": "ipython",
    "version": 3
   },
   "file_extension": ".py",
   "mimetype": "text/x-python",
   "name": "python",
   "nbconvert_exporter": "python",
   "pygments_lexer": "ipython3",
   "version": "3.7.3"
  },
  "toc": {
   "base_numbering": 1,
   "nav_menu": {
    "height": "180px",
    "width": "405px"
   },
   "number_sections": false,
   "sideBar": true,
   "skip_h1_title": false,
   "title_cell": "Table of Contents",
   "title_sidebar": "Contents",
   "toc_cell": false,
   "toc_position": {},
   "toc_section_display": true,
   "toc_window_display": true
  }
 },
 "nbformat": 4,
 "nbformat_minor": 2
}
