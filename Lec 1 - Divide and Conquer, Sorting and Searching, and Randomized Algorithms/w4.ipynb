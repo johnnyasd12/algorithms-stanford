{
 "cells": [
  {
   "cell_type": "markdown",
   "metadata": {},
   "source": [
    "# [Divide and Conquer, Sorting and Searching, and Randomized Algorithms - Week4](https://www.coursera.org/learn/algorithms-divide-conquer/home/week/4)"
   ]
  },
  {
   "cell_type": "markdown",
   "metadata": {},
   "source": [
    "## 其他版本\n",
    "- [以 nbviewer 檢視](https://nbviewer.jupyter.org/github/johnnyasd12/algorithms-stanford/blob/master/Lec%201%20-%20Divide%20and%20Conquer%2C%20Sorting%20and%20Searching%2C%20and%20Randomized%20Algorithms/w4.ipynb)\n"
   ]
  },
  {
   "cell_type": "markdown",
   "metadata": {},
   "source": [
    "## VIII. Linear-Time Selection"
   ]
  },
  {
   "cell_type": "markdown",
   "metadata": {},
   "source": [
    "### [Randomized Selection - Algorithm](https://www.coursera.org/learn/algorithms-divide-conquer/lecture/aqUNa/randomized-selection-algorithm)"
   ]
  },
  {
   "cell_type": "markdown",
   "metadata": {},
   "source": [
    "#### About Optional Video\n",
    "- 第一個 optional video 在講怎麼在 deterministic linear time 做到 median selection 這類的事\n",
    "- 第二個 optional video 在講為何 comparison-based sort 總無法贏過 merge sort"
   ]
  },
  {
   "cell_type": "markdown",
   "metadata": {},
   "source": [
    "#### The Problem\n",
    "- input: 給定一個 array $A$，size $n$ 和一個數字 $i$\n",
    "- output: 求 $i$-th order statistic (即第 $i$ 小的數字)\n",
    "- 為求簡潔，我們一樣假設 array 的每個數字都不一樣\n"
   ]
  },
  {
   "cell_type": "markdown",
   "metadata": {},
   "source": [
    "#### Reduction to Sorting\n",
    "- **Reduction**\n",
    "    - 把一個問題轉化成另一個我「已經會解」的問題\n",
    "    - 我們當然可以先 sort (例如 merge sort) 再直接挑第 $i$ 個，這樣時間複雜度是 $O(n\\log n)$\n",
    "    - 但是這樣就不可能超越 $O(n\\log n)$\n",
    "- 我們想證明 \"Selection\" 這個問題比 \"Sorting\" 簡單\n",
    "- 接下來要對 Quick Sort 做點修改，來達成 Selection 的目的\n"
   ]
  },
  {
   "cell_type": "markdown",
   "metadata": {},
   "source": [
    "#### Partitioning Around a Pivot\n",
    "- 可以回顧 week 3 的內容，回想一下 parition subroutine of quick sort\n",
    "    - 選定 pivot 然後劃分 array\n",
    "    - 重新排列 array 使得：\n",
    "        - 小於 pivot 放它左邊\n",
    "        - 大於 pivot 放它右邊"
   ]
  },
  {
   "cell_type": "markdown",
   "metadata": {},
   "source": [
    "#### Quiz: How to Recursively Call Partition to Solve Selection?\n",
    "Suppose we are looking for the 5th order statistic in an input array of length 10. We partition the array, and the pivot winds up in the third position of the partitioned array. On which side of the pivot do we recurse, and what order statistic should we look for?\n",
    "- [ ] The 3rd order statistic on the left side of the pivot.\n",
    "- [x] The 2nd order statistic on the right side of the pivot.\n",
    "- [ ] The 5th order statistic on the right side of the pivot.\n",
    "- [ ] \"Not enough information to answer question\" – we might need to recurse on the left or the right side of the pivot."
   ]
  },
  {
   "cell_type": "markdown",
   "metadata": {},
   "source": [
    "#### Randomized Selection\n",
    "<a id='RSelect'></a>\n",
    "- 根據前面的 quiz 得到的 insight，我們可以寫出這樣的 algorithm\n",
    "![](https://i.imgur.com/oj7IVEX.png)\n",
    "- 圖像思考一下就知道怎麼寫囉\n"
   ]
  },
  {
   "cell_type": "markdown",
   "metadata": {},
   "source": [
    "#### Properties of RSelect\n",
    "- Claim: RSelect is correct. \n",
    "- Proof: Induction (參考 QuickSort)\n",
    "- Running Time? depends on quality of (randomly) chosen pivots (類似 QuickSort)"
   ]
  },
  {
   "cell_type": "markdown",
   "metadata": {},
   "source": [
    "#### Quiz: Worst Case Running Time of RSelect\n",
    "\n",
    "![](https://i.imgur.com/mAO47ZL.png)"
   ]
  },
  {
   "cell_type": "markdown",
   "metadata": {},
   "source": [
    "#### Running Time of RSelect?\n",
    "- Running Time 會根據 chosen pivot (sequence) 而不同 (最糟糕需要 $\\theta(n^2)$)\n",
    "- 最好可以每次都選到 median ($n/2$) 的 pivot，但這是雞生蛋蛋生雞的問題...\n",
    "    - 這樣就可以有 $T(n)\\le T(n/2)+O(n)$\n",
    "    - 根據 Master Method，$a=1,b=2,d=1$，$a<b^d$，工作量集中在 root，也就是 $T(n)=O(n^d)=O(n)$\n",
    "- Hope: **random pivot is \"pretty good\" and \"often enough\"**\n",
    "    - (跟 quick sort 很類似：random 某種程度可以取代 median)\n",
    "    - 下個 video 就要來證明啦"
   ]
  },
  {
   "cell_type": "markdown",
   "metadata": {},
   "source": [
    "#### Running Time of RSelect\n",
    "RSelect Theorem: for every input array of length $n$, the **average** running time of RSelect is $O(n)$\n",
    "- holds for every input (no assumptions on data)\n",
    "- \"average\" is random pivot choices made by the **algorithm** (not data)."
   ]
  },
  {
   "cell_type": "markdown",
   "metadata": {},
   "source": [
    "### [Randomized Selection - Analysis](https://www.coursera.org/learn/algorithms-divide-conquer/lecture/obhKq/randomized-selection-analysis)"
   ]
  },
  {
   "cell_type": "markdown",
   "metadata": {},
   "source": [
    "#### Tracking Progress via Phases\n",
    "\n",
    "![](https://i.imgur.com/kc1xQD5.png)\n",
    "- 跟 quick sort 一樣，workhorse(主力)放在 partition subroutine\n",
    "- 因此(不把 recursive call 算進去的話) 計算量 $\\le cn$\n",
    "- 我們用當前 array size 來決定我們現在在哪個階段。\n",
    "    - 如果當前 array size 落在 $(\\frac 3 4)^{j+1}\\cdot n$ 和 $(\\frac 3 4)^j \\cdot n$ 之間，我們就視為他在第 $j$ 個階段\n",
    "    - 例如第 0 階段就是 array size 介於 $\\frac 3 4 n$ 到 $n$ 之間\n",
    "    - 如果挑到好的 pivot 就可以跳出這個階段到下一階段。\n",
    "- 接下來我們設計 random variable $X_j$ 代表第 $j$ 個階段我們用了多少個 recursive call。\n",
    "- 利用上面這些，我們可以知道 Randomized Selection 的 running time $\\le \\sum_\\limits{\\textrm{all phases }j}X_j\\cdot c\\cdot (\\frac 3 4)^j \\cdot n$，於是我們就得到了 **running time 的 upper bound**。\n",
    "    - 是 upper bound 是因為第 $j$ 階段的 array size $\\le (\\frac 3 4)^j n$\n",
    "- 而等式左邊 (running time) 是一個 random variable；右邊也是一個 random variable。而我們在乎的是它的期望值。"
   ]
  },
  {
   "cell_type": "markdown",
   "metadata": {},
   "source": [
    "#### Proof II: Reduction to Coin Flipping\n",
    "- 先來算看看 $X_j$ 的 expectation 好了\n",
    "\n",
    "![](https://i.imgur.com/pWUCfnp.png)\n",
    "- 只要選出的 pivot 在 25%~75% 之間，就可以保證從第 $j$ 階段跳到第 $j+1$ 階段\n",
    "    - (因為這樣的話切出來的任何 sub-array 都會小於當前 size 的 3/4倍)\n",
    "- 而選出這樣的 pivot 的機率有 50%\n",
    "- **現在 $X_j$ 可以看成是「擲多少次硬幣可以擲出 good pivot?」，我們想計算 $E[X_j]$。**\n",
    "    - > Q: 總覺得這比喻不太恰當@@，前一次的 pivot 也會決定這次 pivot 可以跳出第 $j$ phase 的機率吧? 感覺就算都在第 $j$ 階段，每次擲硬幣擲到 good pivot 的機率應該不會一樣? **跳出階段 $j$ 需要的次數實際上應該會比「擲硬幣的次數」少?**"
   ]
  },
  {
   "cell_type": "markdown",
   "metadata": {},
   "source": [
    "#### Proof III: Coin Flipping Analysis\n",
    "\n",
    "![](https://i.imgur.com/arEnM74.png)\n",
    "- 其實就是要求 geometric random variable 的 expectation\n",
    "- 令 random variable $N$ 表示「要擲多少次硬幣才能擲出人頭」\n",
    "    - 假設擲一次出人頭的機率 $p=1/2$\n",
    "- 因為這個次數 $N$ 絕對至少需要一次，所以我們可以表示成 $E[N]=1+...$\n",
    "- 而 $E[N]=1+...$ 第一次擲失敗才會擲第二次第三次嘛，所以「還需要擲更多次硬幣」的機率為 $1-p=1/2$\n",
    "- 這是一個 memoryless process(失憶性過程?)，也就是說「還需要擲幾次」跟「已經擲了幾次」沒關係，因此「還需要擲的次數」期望值仍然是 $E[N]$\n",
    "- 所以可以寫成 $E[N]=1+(1-p)E[N]$，移項得 $E[N]=\\frac 1 p$\n",
    "- $p=1/2$，也就是說此時 $E[N]=2$\n",
    "- 回想 $X_j$ 其實跟這裡的 $N$ 扮演類似角色。\n"
   ]
  },
  {
   "cell_type": "markdown",
   "metadata": {},
   "source": [
    "#### Putting It All Together\n",
    "\n",
    "![](https://i.imgur.com/FyHFC32.png)\n",
    "- > Q: 第 3 行的「$\\le$」似乎就呼應了我在 *Proof II: Reduction to Coin Flipping* 部分提出的問題?\n",
    "- 第 4 行：$\\sum_j (\\frac 3 4)^j\\le 4$ 可以回想 $\\sum_{k=1}^K r^k=\\dfrac{1}{1-r^k}<\\dfrac 1 {1-r}$。($r<1$)\n",
    "- 最終得證我們的 upper bound $\\le 8cn$，因此 running time $=O(n)$。"
   ]
  },
  {
   "cell_type": "markdown",
   "metadata": {},
   "source": [
    "### [Deterministic Selection - Algorithm [Advanced - Optional]](https://www.coursera.org/learn/algorithms-divide-conquer/lecture/vtehr/deterministic-selection-algorithm-advanced-optional)"
   ]
  },
  {
   "cell_type": "markdown",
   "metadata": {},
   "source": [
    "- > Q: 一開始的意思是說，這個 deterministic algorithm 複雜度可以在 $O(n)$，但是 practically 比 Randomized Selection 慢，因為 constant 比較大，而且它的 operation 沒辦法 in-place?\n",
    "- > Q: 但是 worst case 比 Randomized Selection 好嗎?"
   ]
  },
  {
   "cell_type": "markdown",
   "metadata": {},
   "source": [
    "#### The Problem\n",
    "- 要解的問題一樣是找第 $i$ 小的 element。"
   ]
  },
  {
   "cell_type": "markdown",
   "metadata": {},
   "source": [
    "#### The Randomized Selection\n",
    "\n",
    "![](https://i.imgur.com/jhKPyzK.png)\n",
    "<!-- - 接下來要講的方法可以看成是修改過的 [Randomized Selection](#Randomized-Selection)，因此可以先複習一下。 -->\n",
    "- 接下來要講的方法可以看成是修改過的 [Randomized Selection](#RSelect)，因此可以先複習一下。"
   ]
  },
  {
   "cell_type": "markdown",
   "metadata": {},
   "source": [
    "#### Guaranteeing a Good Pivot\n",
    "- 回想：最好的 pivot 就是 median\n",
    "- 目標：找到一個足夠好的 pivot (大概跟 median 差不多就好了)\n",
    "- Key Idea: using **\"median of medians\"**!!\n"
   ]
  },
  {
   "cell_type": "markdown",
   "metadata": {},
   "source": [
    "#### A Deterministic ChoosePivot\n",
    "\n",
    "![](https://i.imgur.com/pgXCQLD.png)\n",
    "- 把 $A$ 切成 $\\frac n 5$ 個 groups (每組 $5$ 個 elements)\n",
    "- 每個 group 都做 sorting (例如 merge sort)\n",
    "- 把所有 $\\frac n 5$ 個 group 的 medians 都存到 new array $C$\n",
    "- recursively compute median of $C$\n",
    "- 最後算出來的 median 把它當 pivot"
   ]
  },
  {
   "cell_type": "markdown",
   "metadata": {},
   "source": [
    "#### The DSelect Algorithm\n",
    "\n",
    "![](https://i.imgur.com/X3GhLgz.png)\n",
    "- 前面就是改造過的 ChoosePivot\n",
    "- 後面就是之前的 RSelect，只是 pivot 用前面得到的\n",
    "- 從這裡可以看出我們會在這個 algorithm 中，(不計 base case) 每次 call 都做 2 次 recursive call。\n",
    "    - 相較於 Randomized Selection (只需要一次 recursive call)，我們在第 3 行多做了一次 recursive call"
   ]
  },
  {
   "cell_type": "markdown",
   "metadata": {},
   "source": [
    "#### Running Time of DSelect\n",
    "- 雖然 DSelect (Deterministic Selection) 不會落到 $O(n^2)$，總是 $O(n)$，但實務上會比 RSelect (Randomized Selection) 差。因為\n",
    "    - worse constant\n",
    "    - not in-place\n"
   ]
  },
  {
   "cell_type": "markdown",
   "metadata": {},
   "source": [
    "### [Deterministic Selection - Analysis I [Advanced - Optional]](https://www.coursera.org/learn/algorithms-divide-conquer/lecture/2wmHr/deterministic-selection-analysis-i-advanced-optional)"
   ]
  },
  {
   "cell_type": "markdown",
   "metadata": {},
   "source": [
    "\n",
    "\n",
    "![](https://i.imgur.com/X3GhLgz.png)\n",
    "- 回顧一下 DSelect\n",
    "- > Q: 不知道 $5$ 這個數字換成別的是不是也可以 linear ? 改天導導看"
   ]
  },
  {
   "cell_type": "markdown",
   "metadata": {},
   "source": [
    "#### Quiz: Asymptotic Running Time of Sorting All Sub-Arrays?\n",
    "\n",
    "![](https://i.imgur.com/Qr27bMN.png)\n",
    "- sort 長度為 5 的 array 需要的 time 為 constant\n",
    "- 共有 $\\frac n 5$ 個這樣的 array 因此 $\\textrm{constant}\\cdot \\frac n 5 = \\theta(n)$"
   ]
  },
  {
   "cell_type": "markdown",
   "metadata": {},
   "source": [
    "#### The DSelect Algorithm (Decomposed Complexities)\n",
    "\n",
    "![](https://i.imgur.com/9lf2e3C.png)\n",
    "- 之前 (QuickSort, RSelect) 不用 recurrence 的方式去分析是因為 randomized algorithm 沒辦法知道第 6、7 行的 recursive call 的 input 大小，它是被 pivot $p$ 決定的。\n",
    "- > Q: 現在就可以知道嗎@@?\n"
   ]
  },
  {
   "cell_type": "markdown",
   "metadata": {},
   "source": [
    "#### Rough Recurrence\n",
    "\n",
    "![](https://i.imgur.com/97e6S0g.png)\n",
    "- 長度為 1 就直接 return 就好因此 $T(1)=1$\n",
    "- $T(n)=c\\cdot n + T(\\frac n 5) + T(?)$\n",
    "    - 問號很難處理呀，我們要把它換成別的東西。"
   ]
  },
  {
   "cell_type": "markdown",
   "metadata": {},
   "source": [
    "#### The Key Lemma\n",
    "\n",
    "![](https://i.imgur.com/1CfAMRh.png)\n",
    "- 實際上應該是 $\\frac{7}{10}n - 5$，不過不影響大觀念。\n",
    "- 方便起見，接下來我們用：\n",
    "    - $k$ 代表 \"# of groups\"，以我們的 case 而言 $k=\\frac n 5$\n",
    "    - $x_i$ 代表挑出來的 medians 裡面第 $i$ 小的，因此我們要找的 pivot 就是 $x_{k/2}$\n",
    "- 那麼我們要來證明：「以 median of medians 的方式選出來的 pivot」，會在所有 elements 大小的 30% ~ 70% 之間。"
   ]
  },
  {
   "cell_type": "markdown",
   "metadata": {},
   "source": [
    "#### Rough Proof of Key Lemma\n",
    "\n",
    "![](https://i.imgur.com/nHDUG6V.png)\n",
    "- 剛剛不是把原本的 array $A$ 分成 $k$ 組 sub-arrays 嗎，把這 $k$ 組畫出來\n",
    "- 一個 column 就是一組 sub-array，排序下小上大\n",
    "- 照 medians $x_i$ 的大小順序排列，左小右大\n",
    "- 可以看出左下黃色部分一定小於等於 $x_{k/2}$；右上黃色部分一定大於等於 $x_{k/2}$\n",
    "    - 左下黃色部分占了左「半」邊的 3/5；因此至少有 $\\frac 3 5\\times \\frac 1 2=30\\%$ 的 elements 比 $x_{k/2}$ 小\n",
    "    - 同理，至少有 30% 的 elements 比 $x_{k/2}$ 還要大。\n",
    "- 得證啦，選出的 pivot 會介在 30% ~ 70% 之間。"
   ]
  },
  {
   "cell_type": "markdown",
   "metadata": {},
   "source": [
    "#### Example (of Key Lemma)\n",
    "\n",
    "![](https://i.imgur.com/0xj8lE7.png)\n",
    "- 有點懶得看 example 啊"
   ]
  },
  {
   "cell_type": "markdown",
   "metadata": {},
   "source": [
    "### [Deterministic Selection - Analysis II [Advanced - Optional]](https://www.coursera.org/learn/algorithms-divide-conquer/lecture/vOjvG/deterministic-selection-analysis-ii-advanced-optional)"
   ]
  },
  {
   "cell_type": "markdown",
   "metadata": {},
   "source": [
    "#### Rough Recurrence (Revisited)\n",
    "\n",
    "![](https://i.imgur.com/97e6S0g.png)\n",
    "- 現在我們可以確定問號裡面的東西 $\\le \\frac {7}{10} n$ 啦\n"
   ]
  },
  {
   "cell_type": "markdown",
   "metadata": {},
   "source": [
    "#### Rough Recurrence (Revisited)\n",
    "\n",
    "![](https://i.imgur.com/xdFxxLI.png)\n",
    "- 不能直接套 Master Method 因為 subproblem 的 size 不一樣\n",
    "- 這邊要用比較奇妙(?)的證明，先假設某件事是對的，然後用歸納法 (induction) 證明它。\n",
    "- 那我們就假設存在 constant $a$ 使得 DSelect 的 running time $T(n)\\le a n,\\forall n\\ge 1$ "
   ]
  },
  {
   "cell_type": "markdown",
   "metadata": {},
   "source": [
    "#### Analysis of Rough Recurrence\n",
    "\n",
    "![](https://i.imgur.com/Z57fcn2.png)\n",
    "- 怎麼知道 $a$ 要代 $10c$ 呢? 其實就先把 $a$ 帶進去推導之後看代多少可以達成條件就好了。reverse engineering!!\n",
    "- 歸納法的假設就是對於所有 $k<n$ 都成立，只要可以用這個假設推導出 $n$ 的 case 也成立，即可得證所有數字都成立。\n",
    "- 推完之後就可以知道，只要代 $a=10c$，就可以證明出來。\n",
    "    - > Q: 可以這樣證明的原因應該也是因為我們目的只是要證明「存在 $a$」使得不等式成立即可吧。\n",
    "- 終於得證 $T(n)=O(n)$ 啦！ DSelect is in linear time !!!"
   ]
  },
  {
   "cell_type": "markdown",
   "metadata": {},
   "source": [
    "### [Omega(n log n) Lower Bound for Comparison-Based Sorting [Advanced - Optional]](https://www.coursera.org/learn/algorithms-divide-conquer/lecture/P2uwC/omega-n-log-n-lower-bound-for-comparison-based-sorting-advanced-optional)"
   ]
  },
  {
   "cell_type": "markdown",
   "metadata": {},
   "source": [
    "## IX. Graphs and the Contraction Algorithm"
   ]
  },
  {
   "cell_type": "markdown",
   "metadata": {},
   "source": [
    "### [Graphs and Minimum Cuts](https://www.coursera.org/learn/algorithms-divide-conquer/lecture/Md9GY/graphs-and-minimum-cuts)"
   ]
  },
  {
   "cell_type": "markdown",
   "metadata": {},
   "source": [
    "### [Graph Representations](https://www.coursera.org/learn/algorithms-divide-conquer/lecture/b3CWT/graph-representations)"
   ]
  },
  {
   "cell_type": "markdown",
   "metadata": {},
   "source": [
    "### [Random Contraction Algorithm](https://www.coursera.org/learn/algorithms-divide-conquer/lecture/FKAnq/random-contraction-algorithm)"
   ]
  },
  {
   "cell_type": "markdown",
   "metadata": {},
   "source": [
    "### [Analysis of Contraction Algorithm](https://www.coursera.org/learn/algorithms-divide-conquer/lecture/4TLKM/analysis-of-contraction-algorithm)"
   ]
  },
  {
   "cell_type": "markdown",
   "metadata": {},
   "source": [
    "### [Counting Minimum Cuts](https://www.coursera.org/learn/algorithms-divide-conquer/lecture/96RUg/counting-minimum-cuts)"
   ]
  },
  {
   "cell_type": "markdown",
   "metadata": {},
   "source": []
  }
 ],
 "metadata": {
  "kernelspec": {
   "display_name": "Python 3",
   "language": "python",
   "name": "python3"
  },
  "language_info": {
   "codemirror_mode": {
    "name": "ipython",
    "version": 3
   },
   "file_extension": ".py",
   "mimetype": "text/x-python",
   "name": "python",
   "nbconvert_exporter": "python",
   "pygments_lexer": "ipython3",
   "version": "3.8.3"
  }
 },
 "nbformat": 4,
 "nbformat_minor": 4
}
