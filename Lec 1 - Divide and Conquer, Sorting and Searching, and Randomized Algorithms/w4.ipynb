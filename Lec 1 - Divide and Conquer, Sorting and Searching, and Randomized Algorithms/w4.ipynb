{
 "cells": [
  {
   "cell_type": "markdown",
   "metadata": {},
   "source": [
    "# [Divide and Conquer, Sorting and Searching, and Randomized Algorithms - Week4](https://www.coursera.org/learn/algorithms-divide-conquer/home/week/4)"
   ]
  },
  {
   "cell_type": "markdown",
   "metadata": {},
   "source": [
    "## 其他版本\n",
    "- [以 nbviewer 檢視](https://nbviewer.jupyter.org/github/johnnyasd12/algorithms-stanford/blob/master/Lec%201%20-%20Divide%20and%20Conquer%2C%20Sorting%20and%20Searching%2C%20and%20Randomized%20Algorithms/w4.ipynb)\n"
   ]
  },
  {
   "cell_type": "markdown",
   "metadata": {},
   "source": [
    "## VIII. Linear-Time Selection"
   ]
  },
  {
   "cell_type": "markdown",
   "metadata": {},
   "source": [
    "### [Randomized Selection - Algorithm](https://www.coursera.org/learn/algorithms-divide-conquer/lecture/aqUNa/randomized-selection-algorithm)"
   ]
  },
  {
   "cell_type": "markdown",
   "metadata": {},
   "source": [
    "#### About Optional Video\n",
    "- 第一個 optional video 在講怎麼在 deterministic linear time 做到 median selection 這類的事\n",
    "- 第二個 optional video 在講為何 comparison-based sort 總無法贏過 merge sort"
   ]
  },
  {
   "cell_type": "markdown",
   "metadata": {},
   "source": [
    "#### The Problem\n",
    "- input: 給定一個 array $A$，size $n$ 和一個數字 $i$\n",
    "- output: 求 $i$-th order statistic (即第 $i$ 小的數字)\n",
    "- 為求簡潔，我們一樣假設 array 的每個數字都不一樣\n"
   ]
  },
  {
   "cell_type": "markdown",
   "metadata": {},
   "source": [
    "#### Reduction to Sorting\n",
    "- **Reduction**\n",
    "    - 把一個問題轉化成另一個我「已經會解」的問題\n",
    "    - 我們當然可以先 sort (例如 merge sort) 再直接挑第 $i$ 個，這樣時間複雜度是 $O(n\\log n)$\n",
    "    - 但是這樣就不可能超越 $O(n\\log n)$\n",
    "- 我們想證明 \"Selection\" 這個問題比 \"Sorting\" 簡單\n",
    "- 接下來要對 Quick Sort 做點修改，來達成 Selection 的目的\n"
   ]
  },
  {
   "cell_type": "markdown",
   "metadata": {},
   "source": [
    "#### Partitioning Around a Pivot\n",
    "- 可以回顧 week 3 的內容，回想一下 parition subroutine of quick sort\n",
    "    - 選定 pivot 然後劃分 array\n",
    "    - 重新排列 array 使得：\n",
    "        - 小於 pivot 放它左邊\n",
    "        - 大於 pivot 放它右邊"
   ]
  },
  {
   "cell_type": "markdown",
   "metadata": {},
   "source": [
    "#### Quiz: How to Recursively Call Partition to Solve Selection?\n",
    "Suppose we are looking for the 5th order statistic in an input array of length 10. We partition the array, and the pivot winds up in the third position of the partitioned array. On which side of the pivot do we recurse, and what order statistic should we look for?\n",
    "- [ ] The 3rd order statistic on the left side of the pivot.\n",
    "- [x] The 2nd order statistic on the right side of the pivot.\n",
    "- [ ] The 5th order statistic on the right side of the pivot.\n",
    "- [ ] \"Not enough information to answer question\" – we might need to recurse on the left or the right side of the pivot."
   ]
  },
  {
   "cell_type": "markdown",
   "metadata": {},
   "source": [
    "#### Randomized Selection\n",
    "- 根據前面的 quiz 得到的 insight，我們可以寫出這樣的 algorithm\n",
    "![](https://i.imgur.com/oj7IVEX.png)\n",
    "- 圖像思考一下就知道怎麼寫囉\n"
   ]
  },
  {
   "cell_type": "markdown",
   "metadata": {},
   "source": [
    "#### Properties of RSelect\n",
    "- Claim: RSelect is correct. \n",
    "- Proof: Induction (參考 QuickSort)\n",
    "- Running Time? depends on quality of (randomly) chosen pivots (類似 QuickSort)"
   ]
  },
  {
   "cell_type": "markdown",
   "metadata": {},
   "source": [
    "#### Quiz: Worst Case Running Time of RSelect\n",
    "\n",
    "![](https://i.imgur.com/mAO47ZL.png)"
   ]
  },
  {
   "cell_type": "markdown",
   "metadata": {},
   "source": [
    "#### Running Time of RSelect?\n",
    "- Running Time 會根據 chosen pivot (sequence) 而不同 (最糟糕需要 $\\theta(n^2)$)\n",
    "- 最好可以每次都選到 median ($n/2$) 的 pivot，但這是雞生蛋蛋生雞的問題...\n",
    "    - 這樣就可以有 $T(n)\\le T(n/2)+O(n)$\n",
    "    - 根據 Master Method，$a=1,b=2,d=1$，$a<b^d$，工作量集中在 root，也就是 $T(n)=O(n^d)=O(n)$\n",
    "- Hope: **random pivot is \"pretty good\" and \"often enough\"**\n",
    "    - (跟 quick sort 很類似：random 某種程度可以取代 median)\n",
    "    - 下個 video 就要來證明啦"
   ]
  },
  {
   "cell_type": "markdown",
   "metadata": {},
   "source": [
    "#### Running Time of RSelect\n",
    "RSelect Theorem: for every input array of length $n$, the **average** running time of RSelect is $O(n)$\n",
    "- holds for every input (no assumptions on data)\n",
    "- \"average\" is random pivot choices made by the **algorithm** (not data)."
   ]
  },
  {
   "cell_type": "markdown",
   "metadata": {},
   "source": [
    "## [Randomized Selection - Analysis](https://www.coursera.org/learn/algorithms-divide-conquer/lecture/obhKq/randomized-selection-analysis)"
   ]
  },
  {
   "cell_type": "markdown",
   "metadata": {},
   "source": []
  },
  {
   "cell_type": "markdown",
   "metadata": {},
   "source": []
  },
  {
   "cell_type": "markdown",
   "metadata": {},
   "source": []
  },
  {
   "cell_type": "markdown",
   "metadata": {},
   "source": []
  },
  {
   "cell_type": "markdown",
   "metadata": {},
   "source": []
  },
  {
   "cell_type": "markdown",
   "metadata": {},
   "source": []
  },
  {
   "cell_type": "markdown",
   "metadata": {},
   "source": []
  },
  {
   "cell_type": "markdown",
   "metadata": {},
   "source": []
  }
 ],
 "metadata": {
  "kernelspec": {
   "display_name": "Python 3",
   "language": "python",
   "name": "python3"
  },
  "language_info": {
   "codemirror_mode": {
    "name": "ipython",
    "version": 3
   },
   "file_extension": ".py",
   "mimetype": "text/x-python",
   "name": "python",
   "nbconvert_exporter": "python",
   "pygments_lexer": "ipython3",
   "version": "3.8.3"
  }
 },
 "nbformat": 4,
 "nbformat_minor": 4
}
