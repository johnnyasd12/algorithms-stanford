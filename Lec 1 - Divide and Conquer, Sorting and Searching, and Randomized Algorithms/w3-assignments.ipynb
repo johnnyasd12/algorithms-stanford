{
 "cells": [
  {
   "cell_type": "markdown",
   "metadata": {},
   "source": [
    "## [Problem Set #3](https://www.coursera.org/learn/algorithms-divide-conquer/exam/h06aN/problem-set-3/attempt)"
   ]
  },
  {
   "cell_type": "markdown",
   "metadata": {},
   "source": [
    "### Problem 1.\n",
    "\n",
    "Let $0\\lt \\alpha \\lt .5$ be some constant (independent of the input array length $n$). Recall the Partition subroutine employed by the QuickSort algorithm, as explained in lecture. What is the probability that, with a randomly chosen pivot element, the Partition subroutine produces a split in which the size of the smaller of the two subarrays is $\\ge \\alpha$ times the size of the original array?\n",
    "- [ ] $1-2*\\alpha$\n",
    "- [ ] $\\alpha$\n",
    "- [ ] $1-\\alpha$\n",
    "- [ ] $2-2*\\alpha$"
   ]
  },
  {
   "cell_type": "markdown",
   "metadata": {},
   "source": [
    "MyAns 1.\n",
    "\n",
    "- 比較小的 sub-array 長度大於 $\\alpha n$ 的機率\n",
    "- $1-2\\alpha$ 吧，畫圖好解"
   ]
  },
  {
   "cell_type": "markdown",
   "metadata": {},
   "source": [
    "### Problem 2. \n",
    "Now assume that you achieve the approximately balanced splits above in every recursive call --- that is, assume that whenever a recursive call is given an array of length $k$, then each of its two recursive calls is passed a subarray with length between $\\alpha k$ and $(1-\\alpha)k$ (where $\\alpha$ is a fixed constant strictly between $0$ and $.5$). How many recursive calls can occur before you hit the base case? Equivalently, which levels of the recursion tree can contain leaves? Express your answer as a range of possible numbers $d$, from the minimum to the maximum number of recursive calls that might be needed.\n",
    "- [ ] $-\\frac{\\log(n)}{\\log(\\alpha)} \\le d \\le -\\frac{\\log(n)}{\\log(1-\\alpha)}$\n",
    "- [ ] $0\\le d\\le\\frac{\\log(n)}{\\log(\\alpha)}$\n",
    "- [ ] $-\\frac{\\log(n)}{\\log(1-\\alpha)}\\le d\\le -\\frac{\\log(n)}{\\log(\\alpha)}$\n",
    "- [ ] $-\\frac{\\log(n)}{\\log(1-2*\\alpha)}\\le d\\le -\\frac{\\log(n)}{\\log(1-\\alpha)}$"
   ]
  },
  {
   "cell_type": "markdown",
   "metadata": {},
   "source": [
    "MyAns 2. \n",
    "- 似乎是承上題，假設每次分出的 sub-array 長度都在 $\\alpha k$ 和 $(1-\\alpha k)$ 之間 (大概還算平衡)\n",
    "    - $\\alpha\\le 0.5$\n",
    "- 題目是在問 recursive call 次數的上下限。\n",
    "- 先算下限好了\n",
    "    - 咦，下限不是 $\\log n$ 嗎? 就都剛好切一半啊? 不懂QQQQQQ\n",
    "- 算上限\n",
    "    - 上限應該就是全都分成 $\\alpha k$ 跟 $(1-\\alpha)k$ 的情況，所以應該是 $\\log_{\\frac{1}{1-\\alpha}}n$???\n",
    "    - 即 $(\\frac{1}{1-\\alpha})^x=n,(1-\\alpha)^x=\\frac 1 n,x\\log(1-\\alpha)=-\\log n,x=-\\frac{\\log n}{\\log(1-\\alpha)}$ 應該就這樣?"
   ]
  },
  {
   "cell_type": "markdown",
   "metadata": {},
   "source": [
    "### Problem 3. \n",
    "Define the recursion depth of QuickSort to be the maximum number of successive recursive calls before it hits the base case --- equivalently, the number of the last level of the corresponding recursion tree. Note that the recursion depth is a random variable, which depends on which pivots get chosen. What is the minimum-possible and maximum-possible recursion depth of QuickSort, respectively?\n",
    "- [ ] Minimum: $\\Theta(\\log(n))$ ; Maximum: $\\Theta(n)$\n",
    "- [ ] Minimum: $\\Theta(\\log(n))$ ; Maximum: $\\Theta(n\\log(n))$\n",
    "- [ ] Minimum: $\\Theta(1)$ ; Maximum: $\\Theta(n)$\n",
    "- [ ] Minimum: $\\Theta(\\sqrt n)$ ; Maximum: $\\Theta(n)$"
   ]
  },
  {
   "cell_type": "markdown",
   "metadata": {},
   "source": [
    "MyAns 3. \n",
    "- 最少 $\\log n$；最多 $n-1$ 吧\n"
   ]
  },
  {
   "cell_type": "markdown",
   "metadata": {},
   "source": [
    "### Problem 4. \n",
    "Consider a group of $k$ people. Assume that each person's birthday is drawn uniformly at random from the 365 possibilities. (And ignore leap years.) What is the smallest value of $k$ such that the expected number of pairs of distinct people with the same birthday is at least one?\n",
    "\n",
    "[Hint: define an indicator random variable for each ordered pair of people. Use linearity of expectation.]\n",
    "- [ ] 23\n",
    "- [ ] 20\n",
    "- [ ] 366\n",
    "- [ ] 27\n",
    "- [ ] 28"
   ]
  },
  {
   "cell_type": "markdown",
   "metadata": {},
   "source": [
    "MyAns 4. \n",
    "\n",
    "- define $C$ as total number of pairs with the same birthday\n",
    "- define $X_{ij}$ as the indicator R.V. that $i$-th person has the same birthday with the $j$-th person (people indices are sorted by birthday)\n",
    "    - if the same then $X_{ij}=1$; if different then $X_{ij}=0$\n",
    "- $C=\\sum_{i=1}^{k-1}\\sum_{j=i+1}^k X_{ij}$\n",
    "- $E[C]=\\sum\\sum Pr(X_{ij}=1)$\n",
    "- 乾怎麼感覺 $X_{ij}$ 好像不該這樣設計 = =\n",
    "    - $Pr(X_{ij}=1)$ 跟「第 $i$ 個人的生日是哪一天」有關吧... (是第 $d$ 天的話，同一天的機率就是 $1/(365-d+1)$\n",
    "    - 而且如果 people indices 要照生日順序排，那 $d$ 又會被 $i$ 前面的人限制住 = =\n",
    "---\n",
    "- 重新設計一下好了\n",
    "- define $C$ as total number of pairs with the same birthday\n",
    "- define $X_{ij}$ as the indicator R.V. that $i$-th person has the same birthday with the $j$-th person (people indices are **UNSORTED**)\n",
    "- $C=\\sum_{i=1}^{k-1}\\sum_{j=i+1}^k X_{ij}$\n",
    "- $E[C]=\\sum_{i=1}^{k-1}\\sum_{j=i+1}^k Pr(X_{ij}=1)=\\frac{k(k-1)}{2}\\cdot\\frac{1}{365}$\n",
    "- want $E[C]\\ge 1$, $k(k-1)\\ge 730$\n",
    "- $28\\times 27=756$, minimal $k=28$ \n",
    "- 原來我一開始把問題複雜化了 = ="
   ]
  },
  {
   "cell_type": "markdown",
   "metadata": {},
   "source": [
    "### Problem 5. \n",
    "Let $X_1,X_2,X_3$ denote the outcomes of three rolls of a six-sided die. (I.e., each $X_i$ is uniformly distributed among ${1,2,3,4,5,6}$, and by assumption they are independent.) Let $Y$ denote the product of $X_1$ and $X_2$ and $Z$ the product of $X_2$ and $X_3$. Which of the following statements is correct?\n",
    "- [ ] $Y$ and $Z$ are independent, but $E[Y*Z] \\ne E[Y]*E[Z]$\n",
    "- [ ] $Y$ and $Z$ are not independent, and $E[Y*Z] \\ne E[Y]*E[Z]$\n",
    "- [ ] $Y$ and $Z$ are not independent, but $E[Y*Z] = E[Y]*E[Z]$\n",
    "- [ ] $Y$ and $Z$ are independent, and $E[Y*Z] = E[Y]*E[Z]$"
   ]
  },
  {
   "cell_type": "markdown",
   "metadata": {},
   "source": [
    "MyAns 5. \n",
    "- $E[Y*Z]=E[X_1*X_2*X_2*X_3]$\n",
    "    - $=E[X_1]*E[X_2*X_2]*E[X_3]$ since $X_1,X_2,X_3$ independent\n",
    "- $E[Y]=E[X_1*X_2]$\n",
    "    - $=E[X_1]*E[X_2]$ since $X_1,X_2$ independent\n",
    "- $E[Z]=E[X_2*X_3]$\n",
    "    - $=E[X_2]*E[X_3]$ since $X_2,X_3$ independent\n",
    "- Then $E[Y]*E[Z]=E[X_1]*E[X_2]*E[X_2]*E[X_3]$\n",
    "- 然而 $E[X_2*X_2]\\ne E[X_2]*E[X_2]$\n",
    "- 因此 $E[Y]*E[Z]\\ne E[Y*Z]$，not independent"
   ]
  },
  {
   "cell_type": "markdown",
   "metadata": {},
   "source": [
    "## [Programming Assignment #3](https://www.coursera.org/learn/algorithms-divide-conquer/exam/37cop/programming-assignment-3/attempt)"
   ]
  },
  {
   "cell_type": "markdown",
   "metadata": {},
   "source": [
    "GENERAL DIRECTIONS:\n",
    "\n",
    "Download the following text file:\n",
    "\n",
    "`QuickSort.txt`\n",
    "\n",
    "The file contains all of the integers between 1 and 10,000 (inclusive, with no repeats) in unsorted order. The integer in the $i^{th}$ row of the file gives you the $i^{th}$ entry of an input array.\n",
    "\n",
    "Your task is to compute the total number of comparisons used to sort the given input file by QuickSort. As you know, the number of comparisons depends on which elements are chosen as pivots, so we'll ask you to explore three different pivoting rules.\n",
    "\n",
    "You should not count comparisons one-by-one. Rather, when there is a recursive call on a subarray of length $m$, you should simply add $m-1$ to your running total of comparisons. (This is because the pivot element is compared to each of the other $m-1$ elements in the subarray in this recursive call.)\n",
    "\n",
    "WARNING: The Partition subroutine can be implemented in several different ways, and different implementations can give you differing numbers of comparisons. For this problem, you should implement the Partition subroutine exactly as it is described in the video lectures (otherwise you might get the wrong answer).\n",
    "\n",
    "DIRECTIONS FOR THIS PROBLEM:\n",
    "\n",
    "For the first part of the programming assignment, you should always use the first element of the array as the pivot element.\n",
    "\n",
    "HOW TO GIVE US YOUR ANSWER:\n",
    "\n",
    "Type the numeric answer in the space provided.\n",
    "\n",
    "So if your answer is 1198233847, then just type 1198233847 in the space provided without any space / commas / other punctuation marks. You have 5 attempts to get the correct answer.\n",
    "\n",
    "(We do not require you to submit your code, so feel free to use the programming language of your choice, just type the numeric answer in the following space.)"
   ]
  },
  {
   "cell_type": "markdown",
   "metadata": {},
   "source": []
  },
  {
   "cell_type": "markdown",
   "metadata": {},
   "source": []
  },
  {
   "cell_type": "markdown",
   "metadata": {},
   "source": []
  },
  {
   "cell_type": "code",
   "execution_count": null,
   "metadata": {},
   "outputs": [],
   "source": []
  }
 ],
 "metadata": {
  "kernelspec": {
   "display_name": "Python 3",
   "language": "python",
   "name": "python3"
  },
  "language_info": {
   "codemirror_mode": {
    "name": "ipython",
    "version": 3
   },
   "file_extension": ".py",
   "mimetype": "text/x-python",
   "name": "python",
   "nbconvert_exporter": "python",
   "pygments_lexer": "ipython3",
   "version": "3.8.3"
  }
 },
 "nbformat": 4,
 "nbformat_minor": 4
}
