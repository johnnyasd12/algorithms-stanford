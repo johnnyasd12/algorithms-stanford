{
 "cells": [
  {
   "cell_type": "markdown",
   "metadata": {},
   "source": [
    "# [Divide and Conquer, Sorting and Searching, and Randomized Algorithms - Week 1](https://www.coursera.org/learn/algorithms-divide-conquer/home/week/1)"
   ]
  },
  {
   "cell_type": "markdown",
   "metadata": {},
   "source": [
    "## 其他版本\n",
    "- [以 nbviewer 檢視](https://nbviewer.jupyter.org/github/johnnyasd12/algorithms-stanford/blob/master/Lec%201%20-%20Divide%20and%20Conquer%2C%20Sorting%20and%20Searching%2C%20and%20Randomized%20Algorithms/w1.ipynb) (LaTeX 的 render 較正確)\n",
    "- HackMD 待補"
   ]
  },
  {
   "cell_type": "markdown",
   "metadata": {},
   "source": [
    "## Resources\n",
    "- Textbook\n",
    "    - *Algorithms Illuminated (Part 1)* (by Tim Roughgarden): https://www.amazon.com/dp/0999282905\n",
    "- Resources\n",
    "    - Mathematics for Computer Science (by Eric Lehman and Tom Leighton): https://www.cs.princeton.edu/courses/archive/fall06/cos341/handouts/mathcs.pdf"
   ]
  },
  {
   "cell_type": "markdown",
   "metadata": {},
   "source": [
    "## [Lecture Slides](https://www.coursera.org/learn/algorithms-divide-conquer/supplement/s0KO3/lecture-slides)\n",
    "- 感覺上他的課之前先看過他該堂課的 slide 比較好，~~一方面因為他的字跡很藝術~~，一方面課程常常只有英文字幕，預習 slide 方便理解。"
   ]
  },
  {
   "cell_type": "markdown",
   "metadata": {},
   "source": [
    "## I. Introduction"
   ]
  },
  {
   "cell_type": "markdown",
   "metadata": {},
   "source": [
    "### [Why Study Algorithms?](https://www.coursera.org/learn/algorithms-divide-conquer/lecture/jSwWo/why-study-algorithms)\n",
    "\n",
    "- important for **all** branches for **computer science**\n",
    "    - computer graphics, routing & communication network, cryptography, database indices, computational biologies, and so on\n",
    "- key role in modern techniques\n",
    "    - PageRank by Google\n",
    "- **novel** lens(viewpoints?) **outside** of computer science\n",
    "    - quantum mechanics\n",
    "    - economic markets\n",
    "- challenging (i.e. good for the brain)\n",
    "- fun\n",
    "\n"
   ]
  },
  {
   "cell_type": "markdown",
   "metadata": {},
   "source": [
    "### [Integer Multiplication](https://www.coursera.org/learn/algorithms-divide-conquer/lecture/rP869/integer-multiplication)\n",
    "\n",
    "- input\n",
    "    - two $n$-digit numbers $x$ and $y$\n",
    "- output\n",
    "    - the product $x\\times y$\n",
    "- 我們想計算該 algorithm 需要做幾次 **primitive operations(基本運算)**\n",
    "- What is primitive operation?\n",
    "    - **add or multiply 2 single-digit numbers**"
   ]
  },
  {
   "cell_type": "markdown",
   "metadata": {},
   "source": [
    "#### The Grade-School Algorithm\n",
    "![](https://i.imgur.com/YFrS3JL.png)\n",
    "- 計算 **#(primitive operations)**，為求方便，我們之後縮寫成 $\\text{#op}$\n",
    "    - **計算一個 row：**$\\text{#op}\\leq 2n$\n",
    "    - **計算所有 row：**$\\text{#op}\\leq 2n^2$\n",
    "        - 因為 $\\text{#row}\\leq n$\n",
    "    - ***所有 row 相加：***$\\text{#op}=2n^2$\n",
    "- so $\\text{#op}\\leq 4n^2$ **to run this algorithm, i.e. $\\text{#op}\\leq cn^2$,** $c$ is a constant\n",
    "    - means that if we have double-times digit, then the (upper bound of?) $\\text{#op}$ is 4-times than before.\n",
    "    - also means that **if we half #digits, then we reduce $\\text{#op}$ down to 1/4**"
   ]
  },
  {
   "cell_type": "markdown",
   "metadata": {},
   "source": [
    "#### The Algorithm Designer's Mantra\n",
    "- \"Perhaps the most important principle for the good algorithm designer is to refuse to be content.\" -Aho, Hopcroft, and Ullman, *The Design and Analysis of Computer Algorithms*, 1974\n",
    "- As an algorithm designer, you should always ask yourself, **\"Can we do better?\"**"
   ]
  },
  {
   "cell_type": "markdown",
   "metadata": {
    "ExecuteTime": {
     "end_time": "2020-02-05T16:13:48.261309Z",
     "start_time": "2020-02-05T16:13:48.253313Z"
    }
   },
   "source": [
    "### [Karatsuba Multiplication](https://www.coursera.org/learn/algorithms-divide-conquer/lecture/wKEYL/karatsuba-multiplication)"
   ]
  },
  {
   "cell_type": "markdown",
   "metadata": {
    "ExecuteTime": {
     "end_time": "2020-02-05T16:13:48.261309Z",
     "start_time": "2020-02-05T16:13:48.253313Z"
    }
   },
   "source": [
    "#### Example\n",
    "![](https://i.imgur.com/XdlNAbu.png)\n",
    "- 這裡我們把 **input 的長度減半了!!!**\n"
   ]
  },
  {
   "cell_type": "markdown",
   "metadata": {},
   "source": [
    "#### A Recursive Algorithm\n",
    "![](https://i.imgur.com/xxHvrMD.png)\n",
    "- we can focus on the **star formula: $10^nac+10^{n/2}(ad+bc)+bd$**\n",
    "    - 這樣我們就只需要計算 **更小位數的乘積 ($ac,ad,bc,bd$)，他們 input 的長度只有原本的一半！**\n",
    "    - 接著繼續做相同的事情(把這些更小的位數再拆成兩半)，我們就可以用 **遞迴來解這些更小的乘積**\n",
    "    - 只要是遞迴，就需要設定**終止條件 (base case)**.\n",
    "        - i.e. single-digit multiplication\n",
    "- 其實，這個演算法還可以再做一點改進...\n"
   ]
  },
  {
   "cell_type": "markdown",
   "metadata": {},
   "source": [
    "#### Karatsuba Multiplication\n",
    "![](https://i.imgur.com/87rq3yY.png)\n",
    "- 上個 slide 我們需要做 **4 次的 recursion ($ac,ad,bc,bd$)** 才能計算結果\n",
    "- 但是來看看這個項 $(ad+bc)$，其實我們並不想分別計算 $ad$ 和 $bc$，因為這樣要做兩次遞迴\n",
    "- ~~我本來不想用這招的~~：**Gauss' Trick**，只需要做一次遞迴便可計算 $ad+bc$。\n",
    "    - 計算 $(a+b)(c+d)$，再減去之前算過的 $ac,bd$，即可得到 $ad+bc$\n",
    "- therefore **only 3 recursive multiplications($ac,bd,(a+b)(c+d)$) needed**\n",
    "- but we still cannot **judge if this is better** than the grade-school algorithm"
   ]
  },
  {
   "cell_type": "markdown",
   "metadata": {},
   "source": [
    "### [About the Course](https://www.coursera.org/learn/algorithms-divide-conquer/lecture/8vama/about-the-course)\n",
    "\n",
    "#### Course Topics\n",
    "- Vocabulary for design and analysis of algorithms\n",
    "    - E.g., *\"Big-oh\"* notation\n",
    "    - *\"sweet spot\"(?)* for high-level reasoning about algorithms\n",
    "- **Divide and conquer** algorithm design paradigm\n",
    "    - Will apply to: *Integer multiplication, sorting, matrix multiplication, closest pair*\n",
    "    - General analysis methods (*\"Master Method/Theorem\"*)\n",
    "- **Randomization** in algorithm design\n",
    "    - Will apply to: *Quick sort, primality testing, graph partitioing, hashing*\n",
    "- Primitive for reasoning about **graphs** (?)\n",
    "    - *Connectivity information, shortest paths, structure of information and social networks*\n",
    "- Use and implementation of **data structures**\n",
    "    - *Heaps, balanced binary search trees, hashing and some variants (e.g., bloom filters)*\n",
    "\n"
   ]
  },
  {
   "cell_type": "markdown",
   "metadata": {},
   "source": [
    "#### Topics in Sequel Course\n",
    "- **Greedy algorithm** design paradigm\n",
    "- **Dynamic programming** algorithm design paradigm\n",
    "- **NP-complete** problems and what to do about them\n",
    "- Fast heuristics with provable guarantees (??)\n",
    "- Fast exact algorithms for special cases (??)\n",
    "- Exact algorithms that beat brute-force search\n",
    "\n",
    "\n",
    "\n",
    "\n"
   ]
  },
  {
   "cell_type": "markdown",
   "metadata": {},
   "source": [
    "#### Skills You'll Learn\n",
    "- Become a better programmer\n",
    "- Sharpen your math and analytical skills\n",
    "- Start \"thinking algorithmically\"\n",
    "- Literacy with computer science's \"greatest hits\"\n",
    "- Ace your technical interviews"
   ]
  },
  {
   "cell_type": "markdown",
   "metadata": {},
   "source": [
    "#### Excellent free reference\n",
    "- \"Mathematics for Computer Science\", by Eric Lehman and Tom Leighton. (Website)"
   ]
  },
  {
   "cell_type": "markdown",
   "metadata": {},
   "source": [
    "#### Supporting Materials\n",
    "![](https://i.imgur.com/z6olMqJ.png)"
   ]
  },
  {
   "cell_type": "markdown",
   "metadata": {},
   "source": [
    "### [Merge Sort: Motivation and Example](https://www.coursera.org/learn/algorithms-divide-conquer/lecture/4vzQr/merge-sort-motivation-and-example)"
   ]
  },
  {
   "cell_type": "markdown",
   "metadata": {},
   "source": [
    "#### Why Study Merge Sort?\n",
    "- Good intro to **divide & conquer**\n",
    "    - Improves over Selection, Insertion, Bubble sorts, they take $O(n^2)$ time complexity for $n$-element array\n",
    "- Motivate guiding principles for algorithm analysis (?)\n",
    "    - **worst case** and **asymptotic** analysis (?)\n",
    "- Analysis generalizes to **\"Master Method\"**\n"
   ]
  },
  {
   "cell_type": "markdown",
   "metadata": {},
   "source": [
    "#### The Sorting Problem\n",
    "- assume all of numbers are **distinct**\n",
    "    - **actually if numbers are not all distinct the problem would be easier. (HW)**\n",
    "- input\n",
    "    - unsorted array of $n$ numbers\n",
    "- output\n",
    "    - same numbers sorted in increasing order"
   ]
  },
  {
   "cell_type": "markdown",
   "metadata": {},
   "source": [
    "#### Merge Sort: Example\n",
    "![](https://i.imgur.com/UyunTwq.png)\n",
    "- we just ignore some details, would explain in next slide"
   ]
  },
  {
   "cell_type": "markdown",
   "metadata": {},
   "source": [
    "### [Merge Sort: Pseudocode](https://www.coursera.org/learn/algorithms-divide-conquer/lecture/NtFU9/merge-sort-pseudocode)"
   ]
  },
  {
   "cell_type": "markdown",
   "metadata": {},
   "source": [
    "#### Merge Sort: Pseudocode\n",
    "0. **base cases** is that if we only have 1 or 0 element in the input array, then just return them\n",
    "1. **recursively sort** 1st half of the input array\n",
    "2. **recursively sort** 2nd half of the input aray\n",
    "3. **merge** two sorted sublists into one\n",
    "\n",
    "\n",
    "- Details like how to deal with odd number $n$ would not be explained here"
   ]
  },
  {
   "cell_type": "markdown",
   "metadata": {},
   "source": [
    "#### Pseudocode for Merge\n",
    "![](https://i.imgur.com/vr64QLG.png)\n",
    "- $C$ is output\n",
    "- $A$ and $B$ are recursive sorted array\n",
    "- for the **\"merge\"** part we just need to compare the head of two arrays and insert them iteratively.\n",
    "- we should write the **base case** by ourselves, here we don't explain it."
   ]
  },
  {
   "cell_type": "markdown",
   "metadata": {},
   "source": [
    "#### Code for Merge Sort (Unfinished)"
   ]
  },
  {
   "cell_type": "code",
   "execution_count": null,
   "metadata": {
    "ExecuteTime": {
     "end_time": "2020-02-20T08:06:34.093022Z",
     "start_time": "2020-02-20T08:06:34.089024Z"
    }
   },
   "outputs": [],
   "source": [
    "#### Merge Sort Code\n",
    "# TODO: 以後回來解決它"
   ]
  },
  {
   "cell_type": "markdown",
   "metadata": {},
   "source": [
    "#### Merge Sort Running Time?\n",
    "- $\\text{running time}\\approx \\text{#lines of code executed}$\n",
    "- we first compute the running time of simple **\"merge\"** part. Look at the pseudocode\n",
    "    - ![](https://i.imgur.com/r6uLieW.png)"
   ]
  },
  {
   "cell_type": "markdown",
   "metadata": {},
   "source": [
    "#### Running Time of Merge\n",
    "- **Note:** here we assume that **output length** is $m$, but in the pseudocode it is $n$. (a little bit confusing)\n",
    "- as you can see in previous slide, the **\"merge\"** $\\text{#op} \\leq 4m+2$.\n",
    "- for the future convenience, we say $\\text{#op}\\leq 6m$\n",
    "    - it is always true since $m\\geq 1$"
   ]
  },
  {
   "cell_type": "markdown",
   "metadata": {},
   "source": [
    "#### Running Time of Merge Sort\n",
    "- **Claim**: For input array of $n$ numbers, **Merge Sort** $\\text{#op}\\leq 6n\\log_2 n+6n$\n",
    "    - would prove this afterward\n",
    "- check the **logarithm** in the picture, when $n$ grows larger, the logarithm become **much smaller** than identity function $n$.\n",
    "- so we know the **time complexity** of merge sort $O(n\\log n)$ is better than *bubble sort, selection sort, insertion sort $O(n^2)$*. \n",
    "- ![](https://i.imgur.com/Ljis12V.png)"
   ]
  },
  {
   "cell_type": "markdown",
   "metadata": {},
   "source": [
    "### [Merge Sort: Analysis](https://www.coursera.org/learn/algorithms-divide-conquer/lecture/wW9On/merge-sort-analysis)\n"
   ]
  },
  {
   "cell_type": "markdown",
   "metadata": {},
   "source": [
    "#### Proof of claim (assuming n = power of 2)\n",
    "- assume that\n",
    "    - **level 0** is root (**outer call to Merge Sort**)\n",
    "    - **level k** is **k-th recursive calls**\n",
    "    - so the **number of levels** would be $\\log_2 n+1$\n",
    "- ![](https://i.imgur.com/uS2X6ZB.png)\n",
    "- key idea is **count up the #operations level-by-level**.\n",
    "- so for level $j$, let's answer two questions:\n",
    "    1. what's **# of sub-problems in level** $j$?\n",
    "        - Ans: $2^j$\n",
    "    2. what's the **input size of each sub-problems in level $j$**?\n",
    "        - Ans: $\\dfrac{n}{2^j}$\n",
    "- Total # of operations at level $j$\n",
    "    - note that when we say **$\\text{op}$ in level $j$**, it **doesn't count** their respective recursive calls \n",
    "    - $\\text{#op}_j \\leq\\text{#sub_problems}_j\\cdot(6\\cdot\\text{output_length}_j)=2^j\\cdot 6\\dfrac{n}{2^j}=6n$\n",
    "- $\\text{#op}_{all}=\\sum_j\\text{#op}_j\\leq\\sum_j6n =(\\log_2n+1)6n=6n\\log_2n+6n$\n",
    "\n",
    "![](https://i.imgur.com/2fwU4gG.png)"
   ]
  },
  {
   "cell_type": "markdown",
   "metadata": {},
   "source": [
    "### [Guiding Principles for Analysis of Algorithms](https://www.coursera.org/learn/algorithms-divide-conquer/lecture/q5fV4/guiding-principles-for-analysis-of-algorithms)\n",
    "演算法分析的原則\n",
    "1. **worst-case** analysis\n",
    "2. **won't** pay much attention to **constant factors, lower-order terms**\n",
    "3. **asymptotic** analysis: focus on **large** input size $n$"
   ]
  },
  {
   "cell_type": "markdown",
   "metadata": {},
   "source": [
    "#### Guiding Principle #1\n",
    "![](https://i.imgur.com/H5MclqU.png)\n",
    "- benchmarks: some **practical** or **typical** input for the algorithm"
   ]
  },
  {
   "cell_type": "markdown",
   "metadata": {},
   "source": [
    "#### Guiding Principle #2\n",
    "![](https://i.imgur.com/EOs3mBM.png)\n"
   ]
  },
  {
   "cell_type": "markdown",
   "metadata": {},
   "source": [
    "#### Guiding Principle #3\n",
    "![](https://i.imgur.com/VLcdkd3.png)\n",
    "- 當我們的 computational power 逐漸成長，自然會關注 input size 比較大的 problem\n",
    "- 另外一個觀點：若 algorithm 1 的複雜度和 $n$ 成正比，而 algorithm 2 的複雜度和 $n^2$ 成正比，就代表了：當 computational power 成長到現在的 4 倍時，algorithm 1 能解決的 input size 也變成 4 倍；而 algorithm 2 能解決的 input size 只能變 2 倍。(那怎麼引導到 Only big problems are interesting?)\n",
    "- 當 $n$ 越大，常數係數以及低次方項的影響就越來越小\n",
    "    - ![](https://i.imgur.com/P53xOTH.png)\n",
    "    - ![](https://i.imgur.com/JaeL1ty.png)"
   ]
  },
  {
   "cell_type": "markdown",
   "metadata": {},
   "source": [
    "#### What Is a \"Fast\" Algorithm?\n",
    "回顧一下\n",
    "1. 關注 worst case，因為不對 domain (即 input) 做任何假設。\n",
    "    - > 想法：「不對 domain 做任何假設」可以想成是，假設 input 是任何值的機率都相等，不會有什麼值機率比較高或比較低。既然任何值的可能性都一樣，那就代表 $P(\\text{worst case})=P(\\text{average case})=P(\\text{best case})$，所以只關注最嚴重的 worst case input。\n",
    "        - > 回顧：這樣想好像也不對，我上面這樣作出來的假設就是 uniform distribution 的假設，就不符合「不對 domain 作任何假設」了。現在覺得「不對 domain 作任何假設」應該解釋成：不對 input 的 distribution 作任何假設，這樣 $P(\\textrm{worst case})$ 有可能很大，也有可能很小；best case input 的機率也可能大或小。既然不知道各種 case 的機率，那我們就只看最糟情況。\n",
    "2. 不太關注常數係數&低次項\n",
    "3. 關注 growth rate\n",
    "\n",
    "因此總結而言，**fast algorithm $\\approx$ worst-case running time grows slowly with input size**，sweet spot(關鍵點?)有：\n",
    "- 可以用數學方式 tracking\n",
    "- 忽略常數係數&低次項 -> 容易分析&預測\n",
    "\n",
    "![](https://i.imgur.com/hSFQDJX.png)"
   ]
  },
  {
   "cell_type": "markdown",
   "metadata": {},
   "source": [
    "## II. Asymptotic Analysis\n"
   ]
  },
  {
   "cell_type": "markdown",
   "metadata": {},
   "source": [
    "### [The Gist](https://www.coursera.org/learn/algorithms-divide-conquer/lecture/o2NpH/the-gist)"
   ]
  },
  {
   "cell_type": "markdown",
   "metadata": {},
   "source": [
    "#### Motivation\n",
    "![](https://i.imgur.com/Wvkfp7p.png)\n",
    "- 這些前面似乎都講過"
   ]
  },
  {
   "cell_type": "markdown",
   "metadata": {},
   "source": [
    "#### Asymptotic Analysis\n",
    "![](https://i.imgur.com/lkjXf2t.png)\n",
    "- 不在乎 常數係數 <- 因為容易受 compiler、programming language 影響\n",
    "- 不在乎 低次項 <- 因為只在乎 $n$ 很大的情況\n",
    "- 原題為 $6n\\log_2n+6n$ (Slide 的 Example 有筆誤)\n",
    "    - 刪掉低次項，剩 $6n\\log_2n$\n",
    "    - 再刪掉常數係數，剩 $n\\log_2n$\n",
    "- 所以 terminology(術語) 就是 running time = $O(n\\log n)$"
   ]
  },
  {
   "cell_type": "markdown",
   "metadata": {},
   "source": [
    "#### Simple Big-O Examples\n",
    "- 這裡可以直接看 slide ㄅ\n",
    "\n",
    "<!--\n",
    "1. ![](https://i.imgur.com/Ai5NlTf.png)\n",
    "1. ![](https://i.imgur.com/ZnKtfvq.png)\n",
    "1. ![](https://i.imgur.com/HfcoQgX.png)\n",
    "1. ![](https://i.imgur.com/EPcufcs.png)\n",
    "-->"
   ]
  },
  {
   "cell_type": "markdown",
   "metadata": {},
   "source": [
    "### [Big-Oh Notation](https://www.coursera.org/learn/algorithms-divide-conquer/lecture/KGtUp/big-oh-notation)\n"
   ]
  },
  {
   "cell_type": "markdown",
   "metadata": {},
   "source": [
    "#### Big-Oh: English Definition\n",
    "![](https://i.imgur.com/elhqxUo.png)\n",
    "- $T(n)=O(f(n))$ 的定義：對於所有足夠大的 $n$ 而言，$cf(n)$ 是 $T(n)$ 的上界。\n",
    "    - $c$ 是常數"
   ]
  },
  {
   "cell_type": "markdown",
   "metadata": {},
   "source": [
    "#### Big-Oh: Formal Definition\n",
    "![](https://i.imgur.com/CWQX5rP.png)"
   ]
  },
  {
   "cell_type": "markdown",
   "metadata": {},
   "source": [
    "- Formal Definition: \n",
    "    - $T(n)=O(f(n))$ iff\n",
    "    \n",
    "    **存在** $c,n_0>0$ 使得 $T(n)\\le c\\cdot f(n),\\,\\forall n\\ge n_0$\n",
    "- Warning: 注意 $c,n_0$ 對 $n$ 來說必須是常數\n",
    "- 看左圖\n",
    "    - 圖中的 $c=2$\n",
    "    - 圖中的 $n_0=$ 交點的 $n$\n",
    "- 這就像在玩一個遊戲，你要挑一組 $c,n_0$ 來使不等式 ($T(n)\\leq O(f(n))$) 成立；而你的對手要挑一個 $n\\geq n_0$ 來說它不成立。\n",
    "    - 當你有策略能贏這個遊戲，就代表 $T(n)=O(f(n))$\n",
    "        - i.e. 你挑了一組 $c,n_0$，使得對手不論挑多大的 $n$，不等式都會成立\n",
    "    - 你若贏不了，它就不是 $O(f(n))$\n",
    "        - i.e. 不論你挑什麼樣的 $c,n_0$，對手都可以找到一個 $n$ 推翻這個不等式"
   ]
  },
  {
   "cell_type": "markdown",
   "metadata": {},
   "source": [
    "### [Basic Examples](https://www.coursera.org/learn/algorithms-divide-conquer/lecture/mb8bV/basic-examples)"
   ]
  },
  {
   "cell_type": "markdown",
   "metadata": {},
   "source": [
    "#### Example #1\n",
    "- 證明 可忽略低次項\n",
    "- Claim: if $T(n)=a_kn^k+...+a_1n+a_0$, then $T(n)=O(n^k)$\n",
    "- Proof: \n",
    "    - Choose $n_0=1$ and $c=|a_k|+|a_{k-1}|+...+|a_1|+|a_0|$\n",
    "    - Need to show that $\\forall n\\geq 1, T(n)\\leq c\\cdot n^k$\n",
    "    - We have, for every $n\\geq 1,$\n",
    "        - $T(n)\\leq |a_k|n^k+...+|a_1|n+|a_0|\\\\\\leq|a_k|n^k+...+|a_1|n^k+|a_0|n^k\\\\=c\\cdot n^k$\n",
    "        - Q.E.D.\n",
    "- 這裡有個問題：我們怎知道該如何設定 $n_0,c$ 是多少，來像這樣證明 Big-O 呢?\n",
    "    - 通常會做 **reverse engineering(反向推導，反推)** 如果我選了一個 $n_0$，那麼選擇怎樣的 $c$ 能夠幫助我繼續做證明。\n",
    "    - optional video 會有更多的 example 用到 reverse engineering trick"
   ]
  },
  {
   "cell_type": "markdown",
   "metadata": {},
   "source": [
    "#### Example #2\n",
    "- Claim: $\\forall k\\geq 1, n^k\\ne O(n^{k-1})$\n",
    "- Proof: by contradiction. \n",
    "    - Suppose $n^k=O(n^{k-1})$ $\\implies \\exists c,n_0$ such that $n^k\\leq c\\cdot n^{k-1},\\,\\forall n\\geq n_0$\n",
    "        - ***Q: 不過這邊要用反證法的話，應該要寫 $\\exists k\\geq 1,\\exists c,n_0$ 吧?? 因為 for every $k\\geq 1$ False 的反面是 exists $k\\geq 1$ true?*** 雖然不會影響推導結果就是了\n",
    "    - then $n\\leq c\\,\\,\\forall n\\geq n_0$ which is clearly False. contradiction. Q.E.D."
   ]
  },
  {
   "cell_type": "markdown",
   "metadata": {},
   "source": [
    "### [Big Omega and Theta](https://www.coursera.org/learn/algorithms-divide-conquer/lecture/SxSch/big-omega-and-theta)"
   ]
  },
  {
   "cell_type": "markdown",
   "metadata": {},
   "source": [
    "#### Omega Notation\n",
    "![](https://i.imgur.com/sfQDdO4.png)\n",
    "- Definition\n",
    "    - $T(n)=\\Omega(f(n))$ iff \n",
    "\n",
    "        **存在** $c,n_0$ 使得 $T(n)\\geq c\\cdot f(n),\\,\\forall n\\geq n_0$"
   ]
  },
  {
   "cell_type": "markdown",
   "metadata": {},
   "source": [
    "#### Theta Notation\n",
    "- Definition:\n",
    "    - $T(n)=\\theta(f(n))$ iff\n",
    "    \n",
    "    $T(n)=O(f(n))$  且  $T(n)=\\Omega(f(n))$\n",
    "\n",
    "\n",
    "- Equivalent:\n",
    "    - 存在 $c_1, c_2, n_0$ 使得 $c_1f(n)\\leq T(n)\\leq c_2f(n),\\,\\forall n\\geq n_0$\n",
    "\n",
    "\n",
    "- 在這裡工程師常常會以 Big-Oh notation 來敘述一個 Big-Theta Notation，例如：我們會把 $\\Theta(n)$ 說成是 $O(n)$，原因是：**身為一個 algorithm designer，我們真正在乎的是 upper bound**，而不在乎 lower bound，所以即使某 algorithm 的 complexity 是 $\\Theta(n)$，我們也不會去強調 $\\Theta$ 而只說他是 $O(n)$ 就好了。"
   ]
  },
  {
   "cell_type": "markdown",
   "metadata": {},
   "source": [
    "#### Quiz: Big-Oh, Big-Omega, Theta\n",
    "![](https://i.imgur.com/PbXBYEa.png)"
   ]
  },
  {
   "cell_type": "markdown",
   "metadata": {},
   "source": [
    "#### Little-Oh Notation\n",
    "- Definition:\n",
    "    - $T(n)=o(f(n))$ iff\n",
    "    \n",
    "        **對於所有** $c>0$, 存在 $n_0$ 使得 $T(n)\\leq c\\cdot f(n),\\,\\forall n\\geq n_0$\n",
    "- Exercise:\n",
    "    - $\\forall k\\geq 1,n^{k-1}=o(n^k)$"
   ]
  },
  {
   "cell_type": "markdown",
   "metadata": {},
   "source": [
    "#### Where Does Notation Come From?\n",
    "![](https://i.imgur.com/Y3BTWnN.png)"
   ]
  },
  {
   "cell_type": "markdown",
   "metadata": {},
   "source": [
    "### [Additional Examples (Review - Optional)](https://www.coursera.org/learn/algorithms-divide-conquer/lecture/yl6kU/additional-examples-review-optional)"
   ]
  },
  {
   "cell_type": "markdown",
   "metadata": {},
   "source": [
    "#### Additional Example #1\n",
    "- 正式的證明一個函數可以用另一個函數的 Big-Oh 來表示\n",
    "- reverse engineering\n",
    "![](https://i.imgur.com/jTSfLg9.png)"
   ]
  },
  {
   "cell_type": "markdown",
   "metadata": {},
   "source": [
    "#### Additional Example #2\n",
    "- 一般來說會使用 **反證法** 來證明一個函數**不是**另一個函數的 Big-Oh Notation。\n",
    "![](https://i.imgur.com/2FM1QD6.png)\n",
    "- 最後的不等式，左邊是根據 $n$ 而增長的函數($n$若趨於無窮則左邊也會接近無窮)，而右邊只是一個常數，因此 $2^{9n}\\le c,\\,\\forall n\\ge n_0$ 不可能總是成立。"
   ]
  },
  {
   "cell_type": "markdown",
   "metadata": {},
   "source": [
    "#### Additional Example #3\n",
    "- ***Theta Notation 代表的意義是兩個函數會「漸進地相等(??)」 Q: 這啥***\n",
    "![](https://i.imgur.com/KDPNDV0.png)\n",
    "- 注意這裡是說 **\"positive\"** function，也就是不會有負值\n",
    "\n",
    "![](https://i.imgur.com/1YCmXAd.png)\n",
    "- 不等式 $2\\cdot\\max(f(n),g(n))\\geq f(n)+g(n)$ 成立是因為右邊是一大一小相加；而左邊是取較大的乘以 2。"
   ]
  }
 ],
 "metadata": {
  "kernelspec": {
   "display_name": "Python 3",
   "language": "python",
   "name": "python3"
  },
  "language_info": {
   "codemirror_mode": {
    "name": "ipython",
    "version": 3
   },
   "file_extension": ".py",
   "mimetype": "text/x-python",
   "name": "python",
   "nbconvert_exporter": "python",
   "pygments_lexer": "ipython3",
   "version": "3.8.3"
  },
  "toc": {
   "base_numbering": 1,
   "nav_menu": {
    "height": "230px",
    "width": "277px"
   },
   "number_sections": false,
   "sideBar": true,
   "skip_h1_title": false,
   "title_cell": "Table of Contents",
   "title_sidebar": "Contents",
   "toc_cell": false,
   "toc_position": {
    "height": "calc(100% - 180px)",
    "left": "10px",
    "top": "150px",
    "width": "242.188px"
   },
   "toc_section_display": true,
   "toc_window_display": true
  }
 },
 "nbformat": 4,
 "nbformat_minor": 2
}
