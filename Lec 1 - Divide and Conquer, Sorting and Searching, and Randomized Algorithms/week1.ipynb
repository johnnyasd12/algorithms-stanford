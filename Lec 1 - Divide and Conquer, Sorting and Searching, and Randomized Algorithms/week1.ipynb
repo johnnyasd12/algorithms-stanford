{
 "cells": [
  {
   "cell_type": "markdown",
   "metadata": {},
   "source": [
    "# [Divide and Conquer, Sorting and Searching, and Randomized Algorithms - Week 1](https://www.coursera.org/learn/algorithms-divide-conquer/home/week/1)"
   ]
  },
  {
   "cell_type": "markdown",
   "metadata": {},
   "source": [
    "## I. Introduction"
   ]
  },
  {
   "cell_type": "markdown",
   "metadata": {},
   "source": [
    "### [Why Study Algorithms?](https://www.coursera.org/learn/algorithms-divide-conquer/lecture/jSwWo/why-study-algorithms)\n",
    "\n",
    "- important for **all** branches for **computer science**\n",
    "    - computer graphics, routing & communication network, cryptography, database indices, computational biologies, and so on\n",
    "- key role in modern techniques\n",
    "    - PageRank by Google\n",
    "- **novel** lens(viewpoints?) **outside** of computer science\n",
    "    - quantum mechanics\n",
    "    - economic markets\n",
    "- challenging (i.e. good for the brain)\n",
    "- fun\n",
    "\n"
   ]
  },
  {
   "cell_type": "markdown",
   "metadata": {},
   "source": [
    "### [Integer Multiplication](https://www.coursera.org/learn/algorithms-divide-conquer/lecture/rP869/integer-multiplication)\n",
    "\n",
    "- input\n",
    "    - two $n$-digit numbers $x$ and $y$\n",
    "- output\n",
    "    - the product $x\\times y$\n",
    "- we want to calculate how many **primitive operations** in the algorithm\n",
    "- What is **primitive operation**?\n",
    "    - **add or multiply 2 single-digit numbers**"
   ]
  },
  {
   "cell_type": "markdown",
   "metadata": {},
   "source": [
    "#### The Grade-School Algorithm\n",
    "![](https://i.imgur.com/YFrS3JL.png)\n",
    "- calculate **# of primitive operations**\n",
    "    - *at most* $2n$ operations to compute each (lower) row\n",
    "    - there are $n$ rows, so *at most* $2n^2$ operations to get all rows\n",
    "    - ***another $2n^2$ operations to sum up all rows***\n",
    "- so there are ***at most* $4n^2$ operations to run this algorithm, meaning that $\\text{# operations overall}\\leq cn^2$,**\n",
    "    - $c$ is a constant"
   ]
  },
  {
   "cell_type": "markdown",
   "metadata": {},
   "source": [
    "#### The Algorithm Designer's Mantra\n",
    "- \"Perhaps the most important principle for the good algorithm designer is to refuse to be content.\" -Aho, Hopcroft, and Ullman, *The Design and Analysis of Computer Algorithms*, 1974\n",
    "- As an algorithm designer, you should always ask yourself, **\"Can we do better?\"**"
   ]
  },
  {
   "cell_type": "markdown",
   "metadata": {
    "ExecuteTime": {
     "end_time": "2020-02-05T16:13:48.261309Z",
     "start_time": "2020-02-05T16:13:48.253313Z"
    }
   },
   "source": [
    "### [Karatsuba Multiplication](https://www.coursera.org/learn/algorithms-divide-conquer/lecture/wKEYL/karatsuba-multiplication)"
   ]
  },
  {
   "cell_type": "markdown",
   "metadata": {
    "ExecuteTime": {
     "end_time": "2020-02-05T16:13:48.261309Z",
     "start_time": "2020-02-05T16:13:48.253313Z"
    }
   },
   "source": [
    "#### Example\n",
    "![](https://i.imgur.com/XdlNAbu.png)\n"
   ]
  },
  {
   "cell_type": "markdown",
   "metadata": {},
   "source": [
    "#### A Recursive Algorithm\n",
    "![](https://i.imgur.com/xxHvrMD.png)\n",
    "- we can focus on the **star formula $10^nac+10^{n/2}(ad+bc)+bd$**\n",
    "    - so that we only need to deal with some **smaller digit product ($ac,ad,bc,bd$)** which shrinks length to half\n",
    "    - we can then **recursively compute these smaller products** by splitting them again.\n",
    "    - in order to stop the recursion, we need to have **base case**.\n",
    "        - i.e. single-digit multiplication\n",
    "- but we still need to improve this algorithm a little...\n"
   ]
  },
  {
   "cell_type": "markdown",
   "metadata": {},
   "source": [
    "#### Karatsuba Multiplication\n",
    "![](https://i.imgur.com/87rq3yY.png)\n",
    "- last slide we need to call **4 times recursion ($ac,ad,bc,bd$)** to compute the result\n",
    "- but look at the term $(ad+bc)$, actually we don't really want to compute $ad,bc$ respectively\n",
    "- so we use **Gauss' Trick** to get only **3 recursive multiplications($ac,bd,(a+b)(c+d)$)**\n",
    "- but we still cannot **judge if this is better** than the grade-school algorithm"
   ]
  },
  {
   "cell_type": "code",
   "execution_count": null,
   "metadata": {},
   "outputs": [],
   "source": []
  }
 ],
 "metadata": {
  "kernelspec": {
   "display_name": "Python 3",
   "language": "python",
   "name": "python3"
  },
  "language_info": {
   "codemirror_mode": {
    "name": "ipython",
    "version": 3
   },
   "file_extension": ".py",
   "mimetype": "text/x-python",
   "name": "python",
   "nbconvert_exporter": "python",
   "pygments_lexer": "ipython3",
   "version": "3.7.3"
  },
  "toc": {
   "base_numbering": 1,
   "nav_menu": {},
   "number_sections": false,
   "sideBar": true,
   "skip_h1_title": false,
   "title_cell": "Table of Contents",
   "title_sidebar": "Contents",
   "toc_cell": false,
   "toc_position": {},
   "toc_section_display": true,
   "toc_window_display": true
  }
 },
 "nbformat": 4,
 "nbformat_minor": 2
}
