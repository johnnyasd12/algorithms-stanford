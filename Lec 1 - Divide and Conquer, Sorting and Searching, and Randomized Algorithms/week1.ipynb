{
 "cells": [
  {
   "cell_type": "markdown",
   "metadata": {},
   "source": [
    "# [Divide and Conquer, Sorting and Searching, and Randomized Algorithms - Week 1](https://www.coursera.org/learn/algorithms-divide-conquer/home/week/1)"
   ]
  },
  {
   "cell_type": "markdown",
   "metadata": {},
   "source": [
    "## I. Introduction"
   ]
  },
  {
   "cell_type": "markdown",
   "metadata": {},
   "source": [
    "### [Why Study Algorithms?](https://www.coursera.org/learn/algorithms-divide-conquer/lecture/jSwWo/why-study-algorithms)\n",
    "\n",
    "- important for **all** branches for **computer science**\n",
    "    - computer graphics, routing & communication network, cryptography, database indices, computational biologies, and so on\n",
    "- key role in modern techniques\n",
    "    - PageRank by Google\n",
    "- **novel** lens(viewpoints?) **outside** of computer science\n",
    "    - quantum mechanics\n",
    "    - economic markets\n",
    "- challenging (i.e. good for the brain)\n",
    "- fun\n",
    "\n"
   ]
  },
  {
   "cell_type": "markdown",
   "metadata": {},
   "source": [
    "### [Integer Multiplication](https://www.coursera.org/learn/algorithms-divide-conquer/lecture/rP869/integer-multiplication)\n",
    "\n",
    "- input\n",
    "    - two $n$-digit numbers $x$ and $y$\n",
    "- output\n",
    "    - the product $x\\times y$\n",
    "- we want to calculate how many **primitive operations** in the algorithm\n",
    "- What is **primitive operation**?\n",
    "    - **add or multiply 2 single-digit numbers**"
   ]
  },
  {
   "cell_type": "markdown",
   "metadata": {},
   "source": [
    "#### The Grade-School Algorithm\n",
    "![](https://i.imgur.com/YFrS3JL.png)\n",
    "- calculate **#(primitive operations)**, in short $\\text{#op}$\n",
    "    - $\\text{#op}\\leq 2n$ to **compute each row**\n",
    "    - $\\text{#op}\\leq 2n^2$ to **compute all rows**\n",
    "        - because $\\text{#row}\\leq n$\n",
    "    - ***another $2n^2$ operations to sum up all rows***\n",
    "- so $\\text{#op}\\leq 4n^2$ **to run this algorithm, i.e. $\\text{#op}\\leq cn^2$,** $c$ is a constant\n",
    "    - means that if we have double-times digit, then the $\\text{#op}$ is 4-times than before.\n",
    "    - also means that **if we half #digits, then we reduce $\\text{#op}$ down to 1/4**"
   ]
  },
  {
   "cell_type": "markdown",
   "metadata": {},
   "source": [
    "#### The Algorithm Designer's Mantra\n",
    "- \"Perhaps the most important principle for the good algorithm designer is to refuse to be content.\" -Aho, Hopcroft, and Ullman, *The Design and Analysis of Computer Algorithms*, 1974\n",
    "- As an algorithm designer, you should always ask yourself, **\"Can we do better?\"**"
   ]
  },
  {
   "cell_type": "markdown",
   "metadata": {
    "ExecuteTime": {
     "end_time": "2020-02-05T16:13:48.261309Z",
     "start_time": "2020-02-05T16:13:48.253313Z"
    }
   },
   "source": [
    "### [Karatsuba Multiplication](https://www.coursera.org/learn/algorithms-divide-conquer/lecture/wKEYL/karatsuba-multiplication)"
   ]
  },
  {
   "cell_type": "markdown",
   "metadata": {
    "ExecuteTime": {
     "end_time": "2020-02-05T16:13:48.261309Z",
     "start_time": "2020-02-05T16:13:48.253313Z"
    }
   },
   "source": [
    "#### Example\n",
    "![](https://i.imgur.com/XdlNAbu.png)\n",
    "- here we **half the digits!!!**\n"
   ]
  },
  {
   "cell_type": "markdown",
   "metadata": {},
   "source": [
    "#### A Recursive Algorithm\n",
    "![](https://i.imgur.com/xxHvrMD.png)\n",
    "- we can focus on the **star formula $10^nac+10^{n/2}(ad+bc)+bd$**\n",
    "    - so that we only need to deal with some **smaller digit product ($ac,ad,bc,bd$)** which shrinks length to half\n",
    "    - we can then **recursively compute these smaller products** by splitting them again.\n",
    "    - in order to stop the recursion, we need to have **base case**.\n",
    "        - i.e. single-digit multiplication\n",
    "- but we can still improve this algorithm a little...\n"
   ]
  },
  {
   "cell_type": "markdown",
   "metadata": {},
   "source": [
    "#### Karatsuba Multiplication\n",
    "![](https://i.imgur.com/87rq3yY.png)\n",
    "- last slide we need to call **4 times recursion ($ac,ad,bc,bd$)** to compute the result\n",
    "- but look at the term $(ad+bc)$, actually we don't really want to compute $ad,bc$ respectively\n",
    "- so we use **Gauss' Trick**, get only 1 recursion to compute ($ad+bc$).\n",
    "- therefore **only 3 recursive multiplications($ac,bd,(a+b)(c+d)$) needed**\n",
    "- but we still cannot **judge if this is better** than the grade-school algorithm"
   ]
  },
  {
   "cell_type": "markdown",
   "metadata": {},
   "source": [
    "### [About the Course](https://www.coursera.org/learn/algorithms-divide-conquer/lecture/8vama/about-the-course)\n",
    "\n",
    "#### Course Topics\n",
    "- Vocabulary for design and analysis of algorithms\n",
    "    - E.g., *\"Big-oh\"* notation\n",
    "    - *\"sweet spot\"(?)* for high-level reasoning about algorithms\n",
    "- **Divide and conquer** algorithm design paradigm\n",
    "    - Will apply to: *Integer multiplication, sorting, matrix multiplication, closest pair*\n",
    "    - General analysis methods (*\"Master Method/Theorem\"*)\n",
    "- **Randomization** in algorithm design\n",
    "    - Will apply to: *Quick sort, primality testing, graph partitioing, hashing*\n",
    "- Primitive for reasoning about **graphs** (?)\n",
    "    - *Connectivity information, shortest paths, structure of information and social networks*\n",
    "- Use and implementation of **data structures**\n",
    "    - *Heaps, balanced binary search trees, hashing and some variants (e.g., bloom filters)*\n",
    "\n"
   ]
  },
  {
   "cell_type": "markdown",
   "metadata": {},
   "source": [
    "#### Topics in Sequel Course\n",
    "- **Greedy algorithm** design paradigm\n",
    "- **Dynamic programming** algorithm design paradigm\n",
    "- **NP-complete** problems and what to do about them\n",
    "- Fast heuristics with provable guarantees (??)\n",
    "- Fast exact algorithms for special cases (??)\n",
    "- Exact algorithms that beat brute-force search\n",
    "\n",
    "\n",
    "\n",
    "\n"
   ]
  },
  {
   "cell_type": "markdown",
   "metadata": {},
   "source": [
    "#### Skills You'll Learn\n",
    "- Become a better programmer\n",
    "- Sharpen your math and analytical skills\n",
    "- Start \"thinking algorithmically\"\n",
    "- Literacy with computer science's \"greatest hits\"\n",
    "- Ace your technical interviews"
   ]
  },
  {
   "cell_type": "markdown",
   "metadata": {},
   "source": [
    "#### Excellent free reference\n",
    "- \"Mathematics for Computer Science\", by Eric Lehman and Tom Leighton. (Website)"
   ]
  },
  {
   "cell_type": "markdown",
   "metadata": {},
   "source": [
    "#### Supporting Materials\n",
    "![](https://i.imgur.com/z6olMqJ.png)"
   ]
  },
  {
   "cell_type": "markdown",
   "metadata": {},
   "source": [
    "### [Merge Sort: Motivation and Example](https://www.coursera.org/learn/algorithms-divide-conquer/lecture/4vzQr/merge-sort-motivation-and-example)"
   ]
  },
  {
   "cell_type": "markdown",
   "metadata": {},
   "source": [
    "#### Why Study Merge Sort?\n",
    "- Good intro to divide & conquer\n",
    "    - Improves over Selection, Insertion, Bubble sorts, they take $O(n^2)$ time complexity for $n$-element array\n",
    "- Motivate guiding principles for algorithm analysis (?)\n",
    "    - **worst case** and **asymptotic** analysis (?)\n",
    "- Analysis generalizes to **\"Master Method\"**\n"
   ]
  },
  {
   "cell_type": "markdown",
   "metadata": {},
   "source": [
    "#### The Sorting Problem\n",
    "- assume all of numbers are **distinct**\n",
    "    - **actually if numbers are not all distinct the problem would be easier. (HW)**\n",
    "- input\n",
    "    - unsorted array of $n$ numbers\n",
    "- output\n",
    "    - same numbers sorted in increasing order"
   ]
  },
  {
   "cell_type": "markdown",
   "metadata": {},
   "source": [
    "#### Merge Sort: Example\n",
    "![](https://i.imgur.com/UyunTwq.png)\n",
    "- we just ignore some details, would explain in next slide"
   ]
  },
  {
   "cell_type": "markdown",
   "metadata": {},
   "source": [
    "### [Merge Sort: Pseudocode](https://www.coursera.org/learn/algorithms-divide-conquer/lecture/NtFU9/merge-sort-pseudocode)"
   ]
  },
  {
   "cell_type": "markdown",
   "metadata": {},
   "source": [
    "#### Merge Sort: Pseudocode\n",
    "0. **base cases** is that if we only have 1 or 0 element in the input array, then just return them\n",
    "1. **recursively sort** 1st half of the input array\n",
    "2. **recursively sort** 2nd half of the input aray\n",
    "3. **merge** two sorted sublists into one\n",
    "\n",
    "\n",
    "- Details like how to deal with odd number $n$ would not be explained here"
   ]
  },
  {
   "cell_type": "markdown",
   "metadata": {},
   "source": [
    "#### Pseudocode for Merge\n",
    "![](https://i.imgur.com/vr64QLG.png)\n",
    "- $C$ is output\n",
    "- $A$ and $B$ are recursive sorted array\n",
    "- for the **\"merge\"** part we just need to compare the head of two arrays and insert them iteratively.\n",
    "- we should write the **base case** by ourselves, here we don't explain it."
   ]
  },
  {
   "cell_type": "code",
   "execution_count": null,
   "metadata": {
    "ExecuteTime": {
     "end_time": "2020-02-20T08:06:34.093022Z",
     "start_time": "2020-02-20T08:06:34.089024Z"
    }
   },
   "outputs": [],
   "source": [
    "#### Merge Sort Code Here?"
   ]
  },
  {
   "cell_type": "markdown",
   "metadata": {},
   "source": [
    "#### Merge Sort Running Time?\n",
    "- $\\text{running time}\\approx \\text{#lines of code executed}$\n",
    "- we first compute the running time of simple **\"merge\"** part. Look at the pseudocode\n",
    "    - ![](https://i.imgur.com/r6uLieW.png)"
   ]
  },
  {
   "cell_type": "markdown",
   "metadata": {},
   "source": [
    "#### Running Time of Merge\n",
    "- **Note:** here we assume that **output length** is $m$, but in the pseudocode it is $n$. \n",
    "- as you can see in previous slide, the **\"merge\"** $\\text{#op} \\leq 4m+2$.\n",
    "- for the future convenience, we say $\\text{#op}\\leq 6m$\n",
    "    - it is always true since $m\\geq 1$"
   ]
  },
  {
   "cell_type": "markdown",
   "metadata": {},
   "source": [
    "#### Running Time of Merge Sort\n",
    "- **Claim**: For input array of $n$ numbers, **Merge Sort** $\\text{#op}\\leq 6n\\log_2 n+6n$\n",
    "    - would prove this afterward\n",
    "- check the **logarithm** in the picture, when $n$ grows larger, the logarithm become **much smaller** than identity function $n$.\n",
    "- so we know the **time complexity** of merge sort $O(n\\log n)$ is better than *bubble sort, selection sort, insertion sort $O(n^2)$*. \n",
    "- ![](https://i.imgur.com/Ljis12V.png)"
   ]
  },
  {
   "cell_type": "markdown",
   "metadata": {},
   "source": [
    "### [Merge Sort: Analysis](https://www.coursera.org/learn/algorithms-divide-conquer/lecture/wW9On/merge-sort-analysis)\n"
   ]
  },
  {
   "cell_type": "markdown",
   "metadata": {},
   "source": [
    "#### Proof of claim (assuming n = power of 2)\n",
    "- assume that\n",
    "    - **level 0** is root (**outer call to Merge Sort**)\n",
    "    - **level k** is **k-th recursive calls**\n",
    "    - so the **number of levels** would be $\\log_2 n+1$\n",
    "- ![](https://i.imgur.com/uS2X6ZB.png)\n",
    "- key idea is **count up the #operations level-by-level**.\n",
    "- so for level $j$, let's answer two questions:\n",
    "    1. what's **# of sub-problems in level** $j$?\n",
    "        - Ans: $2^j$\n",
    "    2. what's the **input size of each sub-problems in level $j$**?\n",
    "        - Ans: $\\dfrac{n}{2^j}$\n",
    "- Total # of operations at level $j$\n",
    "    - note that when we say **$\\text{op}$ in level $j$**, it **doesn't count** their respective recursive calls \n",
    "    - $\\text{#op}_j \\leq\\text{#sub_problems}_j\\cdot(6\\cdot\\text{output_length}_j)=2^j\\cdot 6\\dfrac{n}{2^j}=6n$\n",
    "- $\\text{#op}_{all}=\\sum_j\\text{#op}_j\\leq\\sum_j6n =(\\log_2n+1)6n=6n\\log_2n+6n$\n",
    "\n",
    "![](https://i.imgur.com/2fwU4gG.png)"
   ]
  },
  {
   "cell_type": "markdown",
   "metadata": {},
   "source": []
  },
  {
   "attachments": {},
   "cell_type": "markdown",
   "metadata": {},
   "source": []
  },
  {
   "cell_type": "code",
   "execution_count": null,
   "metadata": {},
   "outputs": [],
   "source": []
  }
 ],
 "metadata": {
  "kernelspec": {
   "display_name": "Python 3",
   "language": "python",
   "name": "python3"
  },
  "language_info": {
   "codemirror_mode": {
    "name": "ipython",
    "version": 3
   },
   "file_extension": ".py",
   "mimetype": "text/x-python",
   "name": "python",
   "nbconvert_exporter": "python",
   "pygments_lexer": "ipython3",
   "version": "3.7.3"
  },
  "toc": {
   "base_numbering": 1,
   "nav_menu": {
    "height": "230px",
    "width": "277px"
   },
   "number_sections": false,
   "sideBar": true,
   "skip_h1_title": false,
   "title_cell": "Table of Contents",
   "title_sidebar": "Contents",
   "toc_cell": false,
   "toc_position": {
    "height": "calc(100% - 180px)",
    "left": "10px",
    "top": "150px",
    "width": "273.188px"
   },
   "toc_section_display": true,
   "toc_window_display": true
  }
 },
 "nbformat": 4,
 "nbformat_minor": 2
}
