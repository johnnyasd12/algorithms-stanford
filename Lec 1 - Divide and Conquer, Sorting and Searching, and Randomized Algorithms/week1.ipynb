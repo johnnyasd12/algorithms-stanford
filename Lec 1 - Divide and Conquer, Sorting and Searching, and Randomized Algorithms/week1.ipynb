{
 "cells": [
  {
   "cell_type": "markdown",
   "metadata": {},
   "source": [
    "# [Divide and Conquer, Sorting and Searching, and Randomized Algorithms - Week 1](https://www.coursera.org/learn/algorithms-divide-conquer/home/week/1)"
   ]
  },
  {
   "cell_type": "markdown",
   "metadata": {},
   "source": [
    "## I. Introduction"
   ]
  },
  {
   "cell_type": "markdown",
   "metadata": {},
   "source": [
    "### [Why Study Algorithms?](https://www.coursera.org/learn/algorithms-divide-conquer/lecture/jSwWo/why-study-algorithms)\n",
    "\n",
    "- important for **all** branches for **computer science**\n",
    "    - computer graphics\n",
    "    - routing & communication network\n",
    "    - cryptography\n",
    "    - database indices\n",
    "    - computational biologies\n",
    "    - and so on\n",
    "- key role in modern techniques\n",
    "    - PageRank by Google\n",
    "- **novel** viewpoints(?) **outside** of computer science\n",
    "    - quantum mechanics\n",
    "    - economic markets\n",
    "- challenging (i.e. good for the brain)\n",
    "- fun\n",
    "\n"
   ]
  },
  {
   "cell_type": "markdown",
   "metadata": {},
   "source": [
    "### [Integer Multiplication](https://www.coursera.org/learn/algorithms-divide-conquer/lecture/rP869/integer-multiplication)\n",
    "\n",
    "- input\n",
    "    - two n-digit numbers $x$ and $y$\n",
    "- output\n",
    "    - the product $x\\times y$\n",
    "- we want to calculate how many **primitive operations** in the algorithm\n",
    "    - primitive operation is **add or multiply 2 single-digit numbers**\n",
    "\n"
   ]
  },
  {
   "cell_type": "code",
   "execution_count": null,
   "metadata": {},
   "outputs": [],
   "source": []
  },
  {
   "cell_type": "code",
   "execution_count": null,
   "metadata": {},
   "outputs": [],
   "source": []
  },
  {
   "cell_type": "code",
   "execution_count": null,
   "metadata": {},
   "outputs": [],
   "source": []
  },
  {
   "cell_type": "code",
   "execution_count": null,
   "metadata": {},
   "outputs": [],
   "source": []
  },
  {
   "cell_type": "code",
   "execution_count": null,
   "metadata": {},
   "outputs": [],
   "source": []
  },
  {
   "cell_type": "code",
   "execution_count": null,
   "metadata": {},
   "outputs": [],
   "source": []
  }
 ],
 "metadata": {
  "kernelspec": {
   "display_name": "Python 3",
   "language": "python",
   "name": "python3"
  },
  "language_info": {
   "codemirror_mode": {
    "name": "ipython",
    "version": 3
   },
   "file_extension": ".py",
   "mimetype": "text/x-python",
   "name": "python",
   "nbconvert_exporter": "python",
   "pygments_lexer": "ipython3",
   "version": "3.7.3"
  }
 },
 "nbformat": 4,
 "nbformat_minor": 2
}
