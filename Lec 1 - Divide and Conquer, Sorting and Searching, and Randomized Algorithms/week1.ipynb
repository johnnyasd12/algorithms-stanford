{
 "cells": [
  {
   "cell_type": "markdown",
   "metadata": {},
   "source": [
    "# [Divide and Conquer, Sorting and Searching, and Randomized Algorithms - Week 1](https://www.coursera.org/learn/algorithms-divide-conquer/home/week/1)"
   ]
  },
  {
   "cell_type": "markdown",
   "metadata": {},
   "source": [
    "## I. Introduction"
   ]
  },
  {
   "cell_type": "markdown",
   "metadata": {},
   "source": [
    "### [Why Study Algorithms?](https://www.coursera.org/learn/algorithms-divide-conquer/lecture/jSwWo/why-study-algorithms)\n",
    "\n",
    "- important for **all** branches for **computer science**\n",
    "    - computer graphics\n",
    "    - routing & communication network\n",
    "    - cryptography\n",
    "    - database indices\n",
    "    - computational biologies\n",
    "    - and so on\n",
    "- key role in modern techniques\n",
    "    - PageRank by Google\n",
    "- **novel** lens(viewpoints?) **outside** of computer science\n",
    "    - quantum mechanics\n",
    "    - economic markets\n",
    "- challenging (i.e. good for the brain)\n",
    "- fun\n",
    "\n"
   ]
  },
  {
   "cell_type": "markdown",
   "metadata": {},
   "source": [
    "### [Integer Multiplication](https://www.coursera.org/learn/algorithms-divide-conquer/lecture/rP869/integer-multiplication)\n",
    "\n",
    "- input\n",
    "    - two $n$-digit numbers $x$ and $y$\n",
    "- output\n",
    "    - the product $x\\times y$\n",
    "- we want to calculate how many **primitive operations** in the algorithm\n",
    "- What is **primitive operation**?\n",
    "    - **add or multiply 2 single-digit numbers**\n",
    "\n",
    "#### The Grade-School Algorithm\n",
    "![](https://i.imgur.com/YFrS3JL.png)\n",
    "- calculate **# of primitive operations**\n",
    "    - *at most* $2n$ operations to compute each (lower) row\n",
    "    - there are $n$ rows, so *at most* $2n^2$ operations to get all rows\n",
    "    - another $2n^2$ operations to sum up all rows\n",
    "- so there are *at most* $4n^2$ operations to run this algorithm, **meaning that $\\text{# operations overall}\\leq cn^2$,** $c$ is a constant"
   ]
  },
  {
   "cell_type": "code",
   "execution_count": 2,
   "metadata": {
    "ExecuteTime": {
     "end_time": "2020-02-05T16:13:48.261309Z",
     "start_time": "2020-02-05T16:13:48.253313Z"
    }
   },
   "outputs": [
    {
     "name": "stdout",
     "output_type": "stream",
     "text": [
      "1\n"
     ]
    }
   ],
   "source": [
    "print(1)"
   ]
  },
  {
   "cell_type": "code",
   "execution_count": null,
   "metadata": {},
   "outputs": [],
   "source": []
  },
  {
   "cell_type": "code",
   "execution_count": null,
   "metadata": {},
   "outputs": [],
   "source": []
  },
  {
   "cell_type": "code",
   "execution_count": null,
   "metadata": {},
   "outputs": [],
   "source": []
  },
  {
   "cell_type": "code",
   "execution_count": null,
   "metadata": {},
   "outputs": [],
   "source": []
  },
  {
   "cell_type": "code",
   "execution_count": null,
   "metadata": {},
   "outputs": [],
   "source": []
  }
 ],
 "metadata": {
  "kernelspec": {
   "display_name": "Python 3",
   "language": "python",
   "name": "python3"
  },
  "language_info": {
   "codemirror_mode": {
    "name": "ipython",
    "version": 3
   },
   "file_extension": ".py",
   "mimetype": "text/x-python",
   "name": "python",
   "nbconvert_exporter": "python",
   "pygments_lexer": "ipython3",
   "version": "3.7.3"
  },
  "toc": {
   "base_numbering": 1,
   "nav_menu": {},
   "number_sections": false,
   "sideBar": true,
   "skip_h1_title": false,
   "title_cell": "Table of Contents",
   "title_sidebar": "Contents",
   "toc_cell": false,
   "toc_position": {},
   "toc_section_display": true,
   "toc_window_display": false
  }
 },
 "nbformat": 4,
 "nbformat_minor": 2
}
