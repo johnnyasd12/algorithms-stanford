{
 "cells": [
  {
   "cell_type": "markdown",
   "metadata": {},
   "source": [
    "## [Problem Set #2](https://www.coursera.org/learn/algorithms-divide-conquer/exam/BvMTA/problem-set-2)"
   ]
  },
  {
   "cell_type": "markdown",
   "metadata": {},
   "source": [
    "### Problem 1. \n",
    "\n",
    "This question will give you further practice with the Master Method. Suppose the running time of an algorithm is governed by the recurrence $T(n)=7T(n/3)+n^2$. What's the overall asymptotic running time (i.e., the value of T(n))?\n",
    "- [ ] $\\theta(n^2)$\n",
    "- [ ] $\\theta(n\\log n)$\n",
    "- [ ] $\\theta(n^2\\log n)$\n",
    "- [ ] $\\theta(n^{2.81})$"
   ]
  },
  {
   "cell_type": "markdown",
   "metadata": {},
   "source": [
    "MyAns 1. \n",
    "\n",
    "- ***Master Method 有 $\\theta$ 的保證嗎 @@ 不是只有 big-$O$???***\n",
    "    - 先不管ㄅ\n",
    "- $a=7, b=3, d=2$\n",
    "- $a<b^d$ 所以運算量集中在 root\n",
    "- 所以是 $O(n^d)$? \n",
    "- 是 $\\theta(n^2)$?"
   ]
  },
  {
   "cell_type": "markdown",
   "metadata": {},
   "source": [
    "### Problem 2. \n",
    "\n",
    "This question will give you further practice with the Master Method. Suppose the running time of an algorithm is governed by the recurrence $T(n)=9T(n/3)+n^2$. What's the overall asymptotic running time (i.e., the value of T(n))?\n",
    "- [ ] $\\theta(n^2\\log n)$\n",
    "- [ ] $\\theta(n\\log n)$\n",
    "- [ ] $\\theta(n^{3.17})$\n",
    "- [ ] $\\theta(n^2)$"
   ]
  },
  {
   "cell_type": "markdown",
   "metadata": {},
   "source": [
    "MyAns2: \n",
    "- 同問 1.\n",
    "- $a=9, b=3, d=2$\n",
    "- $a=b^d$，每層工作量相同\n",
    "- $O(n^d\\log n)=O(n^2\\log n)$\n",
    "- 這也 $\\theta?$"
   ]
  },
  {
   "cell_type": "markdown",
   "metadata": {},
   "source": [
    "### Problem 3. \n",
    "\n",
    "This question will give you further practice with the Master Method. Suppose the running time of an algorithm is governed by the recurrence $T(n)=5T(n/3)+4n$. What's the overall asymptotic running time (i.e., the value of T(n))?\n",
    "- [ ] $\\theta(n^{5/3})$\n",
    "- [ ] $\\theta(n^2)$\n",
    "- [ ] $\\theta(n^\\frac{\\log 3}{\\log 5})$\n",
    "- [ ] $\\theta(n^{\\log_3(5)})$\n",
    "- [ ] $\\theta(n^{2.59})$\n",
    "- [ ] $\\theta(n\\log (n))$"
   ]
  },
  {
   "cell_type": "markdown",
   "metadata": {},
   "source": [
    "MyAns 3. \n",
    "- 同問 1. \n",
    "- $a=5, b=3, d=1$\n",
    "- $a>b^d$，工作量集中在 leaves\n",
    "- $O(a^{\\log_bn})=O(n^{\\log_ba})=O(n^{log_35})$\n",
    "- so $\\theta$?"
   ]
  },
  {
   "cell_type": "markdown",
   "metadata": {},
   "source": [
    "### Problem 4. \n",
    "\n",
    "Consider the following pseudocode for calculating $a^b$ (where a and b are positive integers)\n",
    "```c\n",
    "FastPower(a,b) :\n",
    "  if b = 1\n",
    "    return a\n",
    "  else\n",
    "    c := a*a\n",
    "    ans := FastPower(c,[b/2])\n",
    "  if b is odd\n",
    "    return a*ans\n",
    "  else return ans\n",
    "end\n",
    "```\n",
    "Here [x] denotes the floor function, that is, the largest integer less than or equal to x.\n",
    "\n",
    "Now assuming that you use a calculator that supports multiplication and division (i.e., you can do multiplications and divisions in constant time), what would be the overall asymptotic running time of the above algorithm (as a function of b)?\n",
    "- [ ] $\\Theta(\\log(b))$\n",
    "- [ ] $\\Theta(b)$\n",
    "- [ ] $\\Theta(\\sqrt b)$\n",
    "- [ ] $\\Theta(b\\log b)$"
   ]
  },
  {
   "cell_type": "markdown",
   "metadata": {},
   "source": [
    "MyAns 4. \n",
    "- $T(n)=aT(n/b)+\\Theta(n^d)$\n",
    "- $a=1,b=2,d=1$\n",
    "- $a<b^d$，運算量集中在 root\n",
    "- $\\Theta(n^d)=\\Theta(n)$\n",
    "- 這裡的 $n$ 就是 pseudo-code 中的 $b$"
   ]
  },
  {
   "cell_type": "markdown",
   "metadata": {},
   "source": [
    "### Problem 5. \n",
    "Choose the smallest correct upper bound on the solution to the following recurrence: $T(1) = 1$ and $T(n)\\le T([\\sqrt n])+1$ for $n>1$. Here [x] denotes the \"floor\" function, which rounds down to the nearest integer. (Note that the Master Method does not apply.)\n",
    "- [ ] $O(\\sqrt n)$\n",
    "- [ ] $O(\\log n)$\n",
    "- [ ] $O(1)$\n",
    "- [ ] $O(\\log\\log n)$"
   ]
  },
  {
   "cell_type": "markdown",
   "metadata": {},
   "source": [
    "MyAns 5. \n",
    "- 第 $j$ 個 level 的 sub-problem 數量?\n",
    "    - 每次遞迴的 sub-problem 數量不變 (都是 1)\n",
    "- 有幾個 level?\n",
    "    - 隨著遞迴深入，會一直將 input size 開根號，但只要 $n\\le 3$，那麼下次開根號就是 1，我們就先把 $n\\le 3$ 的情況作為基準(常數工作量)\n",
    "        - 後來發現好像不管把 $3$ 換成多少，最後複雜度都不會變?\n",
    "    - 假設 recursion tree 的高度為 $h$\n",
    "    - 那麼 $n^{(1/2)^h}=3$\n",
    "    - 等號兩邊取 $\\log_n$，得 $(1/2)^h=\\log_n3$，即 $2^{-h}=\\log_n3$\n",
    "    - 等號兩邊取 $\\log_2$，得 $h=-\\log_2\\log_n3$，所以 level 數量為 $1-\\log_2\\log_n3$\n",
    "- 第 $j$ 個 level 每個 sub-problem 的 input-size?\n",
    "    - $n^{1/2^j}$\n",
    "- 加總囉\n",
    "    - $\\sum_\\limits{j=0}^{-\\log_2\\log_n3}c = c(1-\\log_2\\log_n3)$\n",
    "        - $c$ is a constant\n",
    "    - $=c(1+\\log_2(\\frac 1{\\log_n3}))$\n",
    "    - $=c(1+\\log_2\\log_3 n)$\n",
    "    - $= O(\\log\\log n)$ 乾還真的是這答案? 還以為來亂的"
   ]
  },
  {
   "cell_type": "markdown",
   "metadata": {},
   "source": [
    "## [Optional Theory Problems (Batch #1)](https://www.coursera.org/learn/algorithms-divide-conquer/supplement/Geunn/optional-theory-problems-batch-1)\n",
    "The following problems are for those of you looking to challenge yourself beyond the required problem sets and programming questions. Most of these have been given in Stanford's CS161 course, Design and Analysis of Algorithms, at some point. They are completely optional and will not be graded. While they vary in level, many are pretty challenging, and we strongly encourage you to discuss ideas and approaches with your fellow students on the \"Theory Problems\" discussion form."
   ]
  },
  {
   "cell_type": "markdown",
   "metadata": {},
   "source": [
    "### Advanced Problem 1. \n",
    "\n",
    "You are given as input an unsorted array of n distinct numbers, where n is a power of 2. Give an algorithm that identifies the second-largest number in the array, and that uses at most $n+log_2n-2$ comparisons. "
   ]
  },
  {
   "cell_type": "markdown",
   "metadata": {},
   "source": [
    "### Advanced Problem 2. \n",
    "\n",
    "You are a given a *unimodal* array of n distinct elements, meaning that its entries are in increasing order up until its maximum element, after which its elements are in decreasing order. Give an algorithm to compute the maximum element that runs in O(log n) time."
   ]
  },
  {
   "cell_type": "markdown",
   "metadata": {},
   "source": [
    "### Advanced Problem 3. \n",
    "\n",
    "You are given a sorted (from smallest to largest) array A of n distinct integers which can be positive, negative, or zero. You want to decide whether or not there is an index i such that A[i] = i. Design the fastest algorithm that you can for solving this problem."
   ]
  },
  {
   "cell_type": "markdown",
   "metadata": {},
   "source": [
    "### Advanced Problem 4. \n",
    "\n",
    "You are given an n by n grid of distinct numbers. A number is a *local minimum* if it is smaller than all of its neighbors. (A neighbor of a number is one immediately above, below, to the left, or the right. Most numbers have four neighbors; numbers on the side have three; the four corners have two.) Use the divide-and-conquer algorithm design paradigm to compute a local minimum with only O(n) comparisons between pairs of numbers. (**Note**: since there are $n^2$ numbers in the input, you cannot afford to look at all of them. **Hint**: Think about what types of recurrences would give you the desired upper bound.)"
   ]
  },
  {
   "cell_type": "markdown",
   "metadata": {},
   "source": [
    "## [Programming Assignment #2](https://www.coursera.org/learn/algorithms-divide-conquer/exam/YLbzP/programming-assignment-2)"
   ]
  },
  {
   "cell_type": "markdown",
   "metadata": {},
   "source": [
    "Download the following text file:\n",
    "`w2-assignments-IntegerArray.txt`"
   ]
  },
  {
   "cell_type": "markdown",
   "metadata": {},
   "source": [
    "This file contains all of the 100,000 integers between 1 and 100,000 (inclusive) in some order, with no integer repeated.\n",
    "\n",
    "Your task is to compute the number of inversions in the file given, where the $i^{th}$ row of the file indicates the $i^{th}$ entry of an array.\n",
    "\n",
    "Because of the large size of this array, you should implement the fast divide-and-conquer algorithm covered in the video lectures.\n",
    "\n",
    "The numeric answer for the given input file should be typed in the space below.\n",
    "\n",
    "So if your answer is 1198233847, then just type 1198233847 in the space provided without any space / commas / any other punctuation marks. You can make up to 5 attempts, and we'll use the best one for grading.\n",
    "\n",
    "(We do not require you to submit your code, so feel free to use any programming language you want --- just type the final numeric answer in the following space.)\n",
    "\n",
    "[TIP: before submitting, first test the correctness of your program on some small test files or your own devising. Then post your best test cases to the discussion forums to help your fellow students!]"
   ]
  },
  {
   "cell_type": "markdown",
   "metadata": {},
   "source": []
  },
  {
   "cell_type": "code",
   "execution_count": 1,
   "metadata": {
    "ExecuteTime": {
     "end_time": "2020-03-25T17:36:32.726726Z",
     "start_time": "2020-03-25T17:36:32.709693Z"
    }
   },
   "outputs": [],
   "source": [
    "use_tqdm = True\n",
    "if use_tqdm:\n",
    "    from tqdm import tqdm"
   ]
  },
  {
   "cell_type": "code",
   "execution_count": 2,
   "metadata": {
    "ExecuteTime": {
     "end_time": "2020-03-25T17:36:32.841885Z",
     "start_time": "2020-03-25T17:36:32.814918Z"
    }
   },
   "outputs": [],
   "source": [
    "def read_txt(file_name):\n",
    "    ls = []\n",
    "    with open(file_name) as infile:\n",
    "        if use_tqdm:\n",
    "            infile = tqdm(infile)\n",
    "        for line in infile:\n",
    "            ls.append(int(line))\n",
    "    return ls\n",
    "\n",
    "def sort_and_count(ls):\n",
    "    '''\n",
    "    Returns:\n",
    "        D: sorted version of array A\n",
    "        Ans: the total count of inversion\n",
    "    '''\n",
    "    def merge_and_count_split_inv(ls1, ls2):\n",
    "        i1 = 0\n",
    "        i2 = 0\n",
    "        sorted_ls = []\n",
    "        count = 0\n",
    "        while i1!=len(ls1) and i2!=len(ls2):\n",
    "            if ls1[i1] <= ls2[i2]:\n",
    "                sorted_ls.append(ls1[i1])\n",
    "                i1 += 1\n",
    "            else:\n",
    "                sorted_ls.append(ls2[i2])\n",
    "                i2 += 1\n",
    "                count += len(ls1)-i1\n",
    "        if i2==len(ls2):\n",
    "            sorted_ls = sorted_ls + ls1[i1:]\n",
    "        else:\n",
    "            sorted_ls = sorted_ls + ls2[i2:]\n",
    "#         print('input ls1, ls2:', ls1, ls2)\n",
    "#         print('sorted_ls, count:', sorted_ls, count)\n",
    "        return sorted_ls, count\n",
    "    \n",
    "    n = len(ls)\n",
    "    if n==1:\n",
    "        return ls, 0\n",
    "    A1 = ls[:n//2]\n",
    "    A2 = ls[n//2:]\n",
    "    B, n_left = sort_and_count(A1)\n",
    "    C, n_right = sort_and_count(A2)\n",
    "    D, n_split = merge_and_count_split_inv(B, C)\n",
    "    ans = n_left + n_right + n_split\n",
    "    return D, ans\n",
    "\n"
   ]
  },
  {
   "cell_type": "code",
   "execution_count": 3,
   "metadata": {
    "ExecuteTime": {
     "end_time": "2020-03-25T17:36:32.975939Z",
     "start_time": "2020-03-25T17:36:32.853892Z"
    }
   },
   "outputs": [
    {
     "name": "stderr",
     "output_type": "stream",
     "text": [
      "6it [00:00, 3001.29it/s]\n"
     ]
    },
    {
     "name": "stdout",
     "output_type": "stream",
     "text": [
      "[2, 1, 6, 3, 5, 4]\n",
      "[1, 2, 3, 4, 5, 6] 5\n"
     ]
    }
   ],
   "source": [
    "txt_name = 'w2-try.txt'\n",
    "# txt_name = 'w2-assignments-IntegerArray.txt'\n",
    "\n",
    "ls = read_txt(txt_name)\n",
    "\n",
    "print(ls)\n",
    "sorted_ls, ans = sort_and_count(ls)\n",
    "print(sorted_ls, ans)"
   ]
  },
  {
   "cell_type": "code",
   "execution_count": 4,
   "metadata": {
    "ExecuteTime": {
     "end_time": "2020-03-25T17:36:33.897693Z",
     "start_time": "2020-03-25T17:36:32.979921Z"
    }
   },
   "outputs": [
    {
     "name": "stderr",
     "output_type": "stream",
     "text": [
      "100000it [00:00, 1388994.16it/s]\n"
     ]
    },
    {
     "name": "stdout",
     "output_type": "stream",
     "text": [
      "2407905288\n"
     ]
    }
   ],
   "source": [
    "txt_name = 'w2-assignments-IntegerArray.txt'\n",
    "ls = read_txt(txt_name)\n",
    "sorted_ls, ans = sort_and_count(ls)\n",
    "print(ans)"
   ]
  },
  {
   "cell_type": "code",
   "execution_count": null,
   "metadata": {},
   "outputs": [],
   "source": []
  }
 ],
 "metadata": {
  "kernelspec": {
   "display_name": "Python 3",
   "language": "python",
   "name": "python3"
  },
  "language_info": {
   "codemirror_mode": {
    "name": "ipython",
    "version": 3
   },
   "file_extension": ".py",
   "mimetype": "text/x-python",
   "name": "python",
   "nbconvert_exporter": "python",
   "pygments_lexer": "ipython3",
   "version": "3.7.3"
  },
  "toc": {
   "base_numbering": 1,
   "nav_menu": {},
   "number_sections": false,
   "sideBar": true,
   "skip_h1_title": false,
   "title_cell": "Table of Contents",
   "title_sidebar": "Contents",
   "toc_cell": false,
   "toc_position": {},
   "toc_section_display": true,
   "toc_window_display": false
  }
 },
 "nbformat": 4,
 "nbformat_minor": 2
}
