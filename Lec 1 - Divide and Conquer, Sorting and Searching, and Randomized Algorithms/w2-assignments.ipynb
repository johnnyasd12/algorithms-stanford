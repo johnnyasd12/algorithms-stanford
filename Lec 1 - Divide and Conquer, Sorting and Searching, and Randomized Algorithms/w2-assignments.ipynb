{
 "cells": [
  {
   "cell_type": "markdown",
   "metadata": {},
   "source": []
  },
  {
   "cell_type": "markdown",
   "metadata": {},
   "source": [
    "## [Problem Set #2](https://www.coursera.org/learn/algorithms-divide-conquer/exam/BvMTA/problem-set-2)"
   ]
  },
  {
   "cell_type": "markdown",
   "metadata": {},
   "source": [
    "1. This question will give you further practice with the Master Method. Suppose the running time of an algorithm is governed by the recurrence $T(n)=7T(n/3)+n^2$. What's the overall asymptotic running time (i.e., the value of T(n))?\n",
    "    - [ ] $\\theta(n^2)$\n",
    "    - [ ] $\\theta(n\\log n)$\n",
    "    - [ ] $\\theta(n^2\\log n)$\n",
    "    - [ ] $\\theta(n^{2.81})$"
   ]
  },
  {
   "cell_type": "markdown",
   "metadata": {},
   "source": [
    "2. This question will give you further practice with the Master Method. Suppose the running time of an algorithm is governed by the recurrence $T(n)=9T(n/3)+n^2$. What's the overall asymptotic running time (i.e., the value of T(n))?\n",
    "    - [ ] $\\theta(n^2\\log n)$\n",
    "    - [ ] $\\theta(n\\log n)$\n",
    "    - [ ] $\\theta(n^{3.17})$\n",
    "    - [ ] $\\theta(n^2)$"
   ]
  },
  {
   "cell_type": "markdown",
   "metadata": {},
   "source": [
    "3. This question will give you further practice with the Master Method. Suppose the running time of an algorithm is governed by the recurrence $T(n)=5T(n/3)+4n$. What's the overall asymptotic running time (i.e., the value of T(n))?"
   ]
  },
  {
   "cell_type": "markdown",
   "metadata": {},
   "source": [
    "4. Consider the following pseudocode for calculating $a^b$ (where a and b are positive integers)\n",
    "    ```c\n",
    "    FastPower(a,b) :\n",
    "      if b = 1\n",
    "        return a\n",
    "      else\n",
    "        c := a*a\n",
    "        ans := FastPower(c,[b/2])\n",
    "      if b is odd\n",
    "        return a*ans\n",
    "      else return ans\n",
    "    end\n",
    "    ```\n",
    "    Here [x] denotes the floor function, that is, the largest integer less than or equal to x.\n",
    "\n",
    "    Now assuming that you use a calculator that supports multiplication and division (i.e., you can do multiplications and divisions in constant time), what would be the overall asymptotic running time of the above algorithm (as a function of b)?\n",
    "    - [ ] $\\Theta(\\log(b))$\n",
    "    - [ ] $\\Theta(b)$\n",
    "    - [ ] $\\Theta(\\sqrt b)$\n",
    "    - [ ] $\\Theta(b\\log b)$"
   ]
  },
  {
   "cell_type": "markdown",
   "metadata": {},
   "source": [
    "5. Choose the smallest correct upper bound on the solution to the following recurrence: $T(1) = 1$ and $T(n)\\le T([\\sqrt n])+1$ for $n>1$. Here [x] denotes the \"floor\" function, which rounds down to the nearest integer. (Note that the Master Method does not apply.)\n",
    "    - [ ] $O(\\sqrt n)$\n",
    "    - [ ] $O(\\log n)$\n",
    "    - [ ] $O(1)$\n",
    "    - [ ] $O(\\log\\log n)$"
   ]
  },
  {
   "cell_type": "markdown",
   "metadata": {},
   "source": [
    "## [Optional Theory Problems (Batch #1)](https://www.coursera.org/learn/algorithms-divide-conquer/supplement/Geunn/optional-theory-problems-batch-1)\n",
    "The following problems are for those of you looking to challenge yourself beyond the required problem sets and programming questions. Most of these have been given in Stanford's CS161 course, Design and Analysis of Algorithms, at some point. They are completely optional and will not be graded. While they vary in level, many are pretty challenging, and we strongly encourage you to discuss ideas and approaches with your fellow students on the \"Theory Problems\" discussion form."
   ]
  },
  {
   "cell_type": "markdown",
   "metadata": {},
   "source": [
    "1. You are given as input an unsorted array of n distinct numbers, where n is a power of 2. Give an algorithm that identifies the second-largest number in the array, and that uses at most $n+log_2n-2$ comparisons. "
   ]
  },
  {
   "cell_type": "markdown",
   "metadata": {},
   "source": [
    "2. You are a given a *unimodal* array of n distinct elements, meaning that its entries are in increasing order up until its maximum element, after which its elements are in decreasing order. Give an algorithm to compute the maximum element that runs in O(log n) time."
   ]
  },
  {
   "cell_type": "markdown",
   "metadata": {},
   "source": [
    "3. You are given a sorted (from smallest to largest) array A of n distinct integers which can be positive, negative, or zero. You want to decide whether or not there is an index i such that A[i] = i. Design the fastest algorithm that you can for solving this problem."
   ]
  },
  {
   "cell_type": "markdown",
   "metadata": {},
   "source": [
    "4. You are given an n by n grid of distinct numbers. A number is a *local minimum* if it is smaller than all of its neighbors. (A neighbor of a number is one immediately above, below, to the left, or the right. Most numbers have four neighbors; numbers on the side have three; the four corners have two.) Use the divide-and-conquer algorithm design paradigm to compute a local minimum with only O(n) comparisons between pairs of numbers. (**Note**: since there are $n^2$ numbers in the input, you cannot afford to look at all of them. **Hint**: Think about what types of recurrences would give you the desired upper bound.)"
   ]
  },
  {
   "cell_type": "markdown",
   "metadata": {},
   "source": [
    "## []()"
   ]
  },
  {
   "cell_type": "markdown",
   "metadata": {},
   "source": [
    "Download the following text file:\n",
    "`w2-assignments-IntegerArray.txt`"
   ]
  },
  {
   "cell_type": "markdown",
   "metadata": {},
   "source": [
    "This file contains all of the 100,000 integers between 1 and 100,000 (inclusive) in some order, with no integer repeated.\n",
    "\n",
    "Your task is to compute the number of inversions in the file given, where the $i^{th}$ row of the file indicates the $i^{th}$ entry of an array.\n",
    "\n",
    "Because of the large size of this array, you should implement the fast divide-and-conquer algorithm covered in the video lectures.\n",
    "\n",
    "The numeric answer for the given input file should be typed in the space below.\n",
    "\n",
    "So if your answer is 1198233847, then just type 1198233847 in the space provided without any space / commas / any other punctuation marks. You can make up to 5 attempts, and we'll use the best one for grading.\n",
    "\n",
    "(We do not require you to submit your code, so feel free to use any programming language you want --- just type the final numeric answer in the following space.)\n",
    "\n",
    "[TIP: before submitting, first test the correctness of your program on some small test files or your own devising. Then post your best test cases to the discussion forums to help your fellow students!]"
   ]
  },
  {
   "cell_type": "markdown",
   "metadata": {},
   "source": []
  },
  {
   "cell_type": "code",
   "execution_count": null,
   "metadata": {},
   "outputs": [],
   "source": []
  }
 ],
 "metadata": {
  "kernelspec": {
   "display_name": "Python 3",
   "language": "python",
   "name": "python3"
  },
  "language_info": {
   "codemirror_mode": {
    "name": "ipython",
    "version": 3
   },
   "file_extension": ".py",
   "mimetype": "text/x-python",
   "name": "python",
   "nbconvert_exporter": "python",
   "pygments_lexer": "ipython3",
   "version": "3.7.3"
  },
  "toc": {
   "base_numbering": 1,
   "nav_menu": {},
   "number_sections": false,
   "sideBar": true,
   "skip_h1_title": false,
   "title_cell": "Table of Contents",
   "title_sidebar": "Contents",
   "toc_cell": false,
   "toc_position": {},
   "toc_section_display": true,
   "toc_window_display": false
  }
 },
 "nbformat": 4,
 "nbformat_minor": 2
}
