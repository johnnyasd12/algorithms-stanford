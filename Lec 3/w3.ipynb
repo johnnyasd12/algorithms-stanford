{
 "cells": [
  {
   "cell_type": "markdown",
   "metadata": {},
   "source": [
    "# [Greedy Algorithms, Minimum Spanning Trees, and Dynamic Programming - Week3](https://www.coursera.org/learn/algorithms-greedy/home/week/3)"
   ]
  },
  {
   "cell_type": "markdown",
   "metadata": {},
   "source": [
    "- outline1\n",
    "- outline2"
   ]
  },
  {
   "cell_type": "markdown",
   "metadata": {},
   "source": [
    "## XXIV. Huffman Codes"
   ]
  },
  {
   "cell_type": "markdown",
   "metadata": {},
   "source": [
    "### [Introduction and Motivation](https://www.coursera.org/learn/algorithms-greedy/lecture/plgXS/introduction-and-motivation)"
   ]
  },
  {
   "cell_type": "markdown",
   "metadata": {},
   "source": [
    "#### Binary Codes\n",
    "\n",
    "![](https://i.imgur.com/8A2YuJq.png)"
   ]
  },
  {
   "cell_type": "markdown",
   "metadata": {},
   "source": [
    "#### Ambiguity\n",
    "\n",
    "![](https://i.imgur.com/fAGsQEW.png)"
   ]
  },
  {
   "cell_type": "markdown",
   "metadata": {},
   "source": [
    "#### Prefix-Free Codes\n",
    "\n",
    "![](https://i.imgur.com/Th32JOw.png)"
   ]
  },
  {
   "cell_type": "markdown",
   "metadata": {},
   "source": [
    "#### Example\n",
    "\n",
    "![](https://i.imgur.com/bCcV1bI.png)"
   ]
  },
  {
   "cell_type": "markdown",
   "metadata": {},
   "source": [
    "### [Problem Definition](https://www.coursera.org/learn/algorithms-greedy/lecture/IWxVe/problem-definition)"
   ]
  },
  {
   "cell_type": "markdown",
   "metadata": {},
   "source": [
    "#### Codes as Trees\n",
    "\n",
    "![](https://i.imgur.com/jk8XPwC.png)"
   ]
  },
  {
   "cell_type": "markdown",
   "metadata": {},
   "source": [
    "#### Prefix-Free Codes as Trees\n",
    "\n",
    "![](https://i.imgur.com/2pSNCyW.png)"
   ]
  },
  {
   "cell_type": "markdown",
   "metadata": {},
   "source": [
    "#### Problem Definition\n",
    "\n",
    "![](https://i.imgur.com/4VzPeft.png)"
   ]
  },
  {
   "cell_type": "markdown",
   "metadata": {},
   "source": [
    "### [A Greedy Algorithm](https://www.coursera.org/learn/algorithms-greedy/lecture/ZIJwv/a-greedy-algorithm)"
   ]
  },
  {
   "cell_type": "markdown",
   "metadata": {},
   "source": [
    "#### Codes as Trees\n",
    "\n",
    "![](https://i.imgur.com/0aRNV7S.png)"
   ]
  },
  {
   "cell_type": "markdown",
   "metadata": {},
   "source": [
    "#### Building a Tree\n",
    "\n",
    "![](https://i.imgur.com/PDa8ab6.png)"
   ]
  },
  {
   "cell_type": "markdown",
   "metadata": {},
   "source": [
    "#### A Greedy Approach\n",
    "\n",
    "![](https://i.imgur.com/jbcRhkE.png)"
   ]
  },
  {
   "cell_type": "markdown",
   "metadata": {},
   "source": [
    "#### How to Recurse?\n",
    "\n",
    "![](https://i.imgur.com/P7FVHNj.png)"
   ]
  },
  {
   "cell_type": "markdown",
   "metadata": {},
   "source": [
    "#### Example\n",
    "\n",
    "![](https://i.imgur.com/ptgZTXv.png)"
   ]
  },
  {
   "cell_type": "markdown",
   "metadata": {},
   "source": [
    "#### Huffman's Algorithm\n",
    "\n",
    "![](https://i.imgur.com/QVhuq8o.png)"
   ]
  },
  {
   "cell_type": "markdown",
   "metadata": {},
   "source": [
    "### [A More Complex Example](https://www.coursera.org/learn/algorithms-greedy/lecture/rTB4s/a-more-complex-example)"
   ]
  },
  {
   "cell_type": "markdown",
   "metadata": {},
   "source": [
    "#### Input and Steps 1 and 2\n",
    "\n",
    "![](https://i.imgur.com/k2mW7jS.png)"
   ]
  },
  {
   "cell_type": "markdown",
   "metadata": {},
   "source": [
    "#### Steps 3 and 4\n",
    "\n",
    "![](https://i.imgur.com/vBvI07J.png)"
   ]
  },
  {
   "cell_type": "markdown",
   "metadata": {},
   "source": [
    "#### Final Output\n",
    "\n",
    "![](https://i.imgur.com/6tVb55z.png)"
   ]
  },
  {
   "cell_type": "markdown",
   "metadata": {},
   "source": [
    "### [Correctness Proof I](https://www.coursera.org/learn/algorithms-greedy/lecture/eSz8f/correctness-proof-i)"
   ]
  },
  {
   "cell_type": "markdown",
   "metadata": {},
   "source": [
    "### [Correctness Proof II](https://www.coursera.org/learn/algorithms-greedy/lecture/l3Ss5/correctness-proof-ii)"
   ]
  },
  {
   "cell_type": "markdown",
   "metadata": {},
   "source": [
    "## XXV. Introduction to Dynamic Programming"
   ]
  },
  {
   "cell_type": "markdown",
   "metadata": {},
   "source": [
    "### [Introduction: Weighted Independent Sets in Path Graphs](https://www.coursera.org/learn/algorithms-greedy/lecture/WENc1/introduction-weighted-independent-sets-in-path-graphs)"
   ]
  },
  {
   "cell_type": "markdown",
   "metadata": {},
   "source": [
    "### [WIS in Path Graphs: Optimal Substructure](https://www.coursera.org/learn/algorithms-greedy/lecture/t9XAF/wis-in-path-graphs-optimal-substructure)"
   ]
  },
  {
   "cell_type": "markdown",
   "metadata": {},
   "source": [
    "### [WIS in Path Graphs: A Linear-Time Algorithm](https://www.coursera.org/learn/algorithms-greedy/lecture/w040v/wis-in-path-graphs-a-linear-time-algorithm)"
   ]
  },
  {
   "cell_type": "markdown",
   "metadata": {},
   "source": [
    "### [WIS in Path Graphs: A Reconstruction Algorithm](https://www.coursera.org/learn/algorithms-greedy/lecture/TZgJM/wis-in-path-graphs-a-reconstruction-algorithm)"
   ]
  },
  {
   "cell_type": "markdown",
   "metadata": {},
   "source": [
    "### [Principles of Dynamic Programming](https://www.coursera.org/learn/algorithms-greedy/lecture/VEc7L/principles-of-dynamic-programming)"
   ]
  },
  {
   "cell_type": "markdown",
   "metadata": {},
   "source": [
    "### []()"
   ]
  },
  {
   "cell_type": "markdown",
   "metadata": {},
   "source": [
    "### []()"
   ]
  },
  {
   "cell_type": "markdown",
   "metadata": {},
   "source": [
    "### []()"
   ]
  },
  {
   "cell_type": "markdown",
   "metadata": {},
   "source": [
    "### []()"
   ]
  },
  {
   "cell_type": "markdown",
   "metadata": {},
   "source": [
    "### []()"
   ]
  },
  {
   "cell_type": "markdown",
   "metadata": {},
   "source": [
    "### []()"
   ]
  },
  {
   "cell_type": "markdown",
   "metadata": {},
   "source": []
  },
  {
   "cell_type": "markdown",
   "metadata": {},
   "source": []
  },
  {
   "cell_type": "markdown",
   "metadata": {},
   "source": []
  }
 ],
 "metadata": {
  "kernelspec": {
   "display_name": "Python 3",
   "language": "python",
   "name": "python3"
  },
  "language_info": {
   "codemirror_mode": {
    "name": "ipython",
    "version": 3
   },
   "file_extension": ".py",
   "mimetype": "text/x-python",
   "name": "python",
   "nbconvert_exporter": "python",
   "pygments_lexer": "ipython3",
   "version": "3.8.3"
  }
 },
 "nbformat": 4,
 "nbformat_minor": 4
}
