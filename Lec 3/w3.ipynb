{
 "cells": [
  {
   "cell_type": "markdown",
   "metadata": {},
   "source": [
    "# [Greedy Algorithms, Minimum Spanning Trees, and Dynamic Programming - Week3](https://www.coursera.org/learn/algorithms-greedy/home/week/3)"
   ]
  },
  {
   "cell_type": "markdown",
   "metadata": {},
   "source": [
    "- Huffman Codes\n",
    "- Dynamic Programming\n",
    "- Weighted Independent Sets"
   ]
  },
  {
   "cell_type": "markdown",
   "metadata": {},
   "source": [
    "## XXIV. Huffman Codes"
   ]
  },
  {
   "cell_type": "markdown",
   "metadata": {},
   "source": [
    "### [Introduction and Motivation](https://www.coursera.org/learn/algorithms-greedy/lecture/plgXS/introduction-and-motivation)"
   ]
  },
  {
   "cell_type": "markdown",
   "metadata": {},
   "source": [
    "#### Binary Codes\n",
    "\n",
    "![](https://i.imgur.com/8A2YuJq.png)\n",
    "- (video unwatched)\n",
    "- 註：punctuation=標點符號"
   ]
  },
  {
   "cell_type": "markdown",
   "metadata": {},
   "source": [
    "#### Ambiguity\n",
    "\n",
    "![](https://i.imgur.com/fAGsQEW.png)\n",
    "- (video unwatched)\n",
    "- Ans: <font style=\"opacity:.05\">not enough information !!</font>\n",
    "- 思考：這樣的性質是因為每個 character encoding 的 length 不再相等了"
   ]
  },
  {
   "cell_type": "markdown",
   "metadata": {},
   "source": [
    "#### Prefix-Free Codes\n",
    "\n",
    "![](https://i.imgur.com/Th32JOw.png)\n",
    "- Prefix-free codes 就是希望沒有任何 encoding 是別的 encoding 的 prefix\n",
    "- Example: 假設要 encode 4 個 character A、B、C、D\n",
    "    - 如果把 A encode 成 0\n",
    "    - 那剩下(B、C、D)的 encoding 就該把 1 當成第一個 bit\n",
    "    - B encode 成 10\n",
    "    - C encode 成 110\n",
    "        - Q: C 為何不能 encode 成 11?\n",
    "            - 因為這樣 B 跟 C 就把剩下所有可能的二位都選完了(因為A是0因此00、01已被ban)，這樣就不能 encode D 了！\n",
    "    - D encode 成 111。\n",
    "- 為何我們要用長度不等的 encoding 呢? 因為這樣可以從 non-uniform character frequencies 中獲得好處！\n",
    "- Q: 不過長度相等的 code $\\{00,01,10,11\\}$ 應該也是一種 Prefix-Free Code 吧?"
   ]
  },
  {
   "cell_type": "markdown",
   "metadata": {},
   "source": [
    "#### Example\n",
    "\n",
    "![](https://i.imgur.com/bCcV1bI.png)\n",
    "- (video unwatched)\n",
    "- Ans: <font style=\"opacity:.1\">$0.6\\times1+0.25\\times2+0.1\\times3+0.05\\times3 = 1.55$</font>\n",
    "- 延伸思考：那如果機率都是 25%，結果會如何?\n",
    "    - fixed-length 的 average code length 一樣是 2\n",
    "    - variable-length 的 average code length 變成 2.25"
   ]
  },
  {
   "cell_type": "markdown",
   "metadata": {},
   "source": [
    "### [Problem Definition](https://www.coursera.org/learn/algorithms-greedy/lecture/IWxVe/problem-definition)"
   ]
  },
  {
   "cell_type": "markdown",
   "metadata": {},
   "source": [
    "#### Codes as Trees\n",
    "\n",
    "![](https://i.imgur.com/jk8XPwC.png)\n",
    "- (video unwatched)\n",
    "- 可以把 binary codes 化為 binary trees 的形式，反之同理\n",
    "- 這招酷喔\n",
    "- 思考：看到這種問題要怎麼聯想到可以把它看成 tree 呢?\n",
    "    - 可能這個問題可以想成是在做一連串的 decision (決定下一個 bit 是誰?)，所以可以想成 tree?"
   ]
  },
  {
   "cell_type": "markdown",
   "metadata": {},
   "source": [
    "#### Prefix-Free Codes as Trees\n",
    "\n",
    "![](https://i.imgur.com/2pSNCyW.png)\n",
    "- (video unwatched)\n",
    "- 用 left child **edges** 表示 0、right child edges 表示 1\n",
    "- 對於任意 character $i$ 都有一個對應的 node 被 label 成 $i$\n",
    "- $i$ 的 encoding 就等同 從 root 到 node $i$ 的 path\n",
    "- Prefix-free constraint 就等同 labeled nodes 必須是 leaves\n",
    "- 那麼給定一串 encoding，要怎麼 decode 回原本字串呢?\n",
    "    - 就 repeatedly 從 tree 的 root 開始走，直到走到 leaf 就知道是哪個 character 啦"
   ]
  },
  {
   "cell_type": "markdown",
   "metadata": {},
   "source": [
    "#### Problem Definition\n",
    "\n",
    "![](https://i.imgur.com/4VzPeft.png)\n",
    "- (video unwatched)\n",
    "- **Input**: 每個 character $i$ 出現的機率 $p_i$\n",
    "- tree $T$ 就用來代表 $\\Sigma$ 的 encodings\n",
    "- Average Encoding Length $L(T)=\\sum_{i\\in\\Sigma}p_i\\cdot[\\textrm{depth of }i]$\n",
    "- **Output**: tree $T$ that minimizing $L(\\cdot)$"
   ]
  },
  {
   "cell_type": "markdown",
   "metadata": {},
   "source": [
    "### [A Greedy Algorithm](https://www.coursera.org/learn/algorithms-greedy/lecture/ZIJwv/a-greedy-algorithm)"
   ]
  },
  {
   "cell_type": "markdown",
   "metadata": {},
   "source": [
    "#### Codes as Trees\n",
    "\n",
    "![](https://i.imgur.com/0aRNV7S.png)\n",
    "- 來看一下我們的 problem\n",
    "- 跟之前遇到的問題都不太一樣\n",
    "    - 現在的 input 是 unstructured input (之前都是 given array / graph 之類的)\n",
    "    - 我們要自己建造合適的 tree"
   ]
  },
  {
   "cell_type": "markdown",
   "metadata": {},
   "source": [
    "#### Building a Tree\n",
    "\n",
    "![](https://i.imgur.com/PDa8ab6.png)\n",
    "- Top-down 的這種方法 (Fanno-Shannon coding) 並不是一個好方法\n",
    "    - 它希望 left/right tree 各佔 50% 的 frequency\n",
    "    - Q: 但是為什麼呢?\n",
    "- Huffman 發現了這點，提出 bottom-up 的方法\n",
    "    - 從 leaf 開始 build tree！\n",
    "    - 如 slide 圖\n",
    "- 猜測：\n",
    "    - 先從「希望 path 最長的 character」開始選 (因為越早開始 merge 的 node 就會有越長的 path)\n",
    "    - 所以先從機率最小的 character 開始 merge\n",
    "    - 然後每次 merge 都避免某個 node 是別的 node 的 ancestor 即可?\n",
    "    - 感覺不是這樣做 = = 因為這樣的話 top-down 也可以做吧(嗎?"
   ]
  },
  {
   "cell_type": "markdown",
   "metadata": {},
   "source": [
    "#### A Greedy Approach\n",
    "\n",
    "![](https://i.imgur.com/jbcRhkE.png)\n",
    "- Observation: 任何 node 它的 encoding length 就等於它(所在的 component/subtree) 做了幾次 merge 的次數。\n",
    "    - 每次做 merge，則 merge 的兩顆 subtree 裡的所有 node，depth 都會 +1\n",
    "- 所以一個 greedy 的啟發就是，在第一個 iteration，先 merge probability 最小的 pair。"
   ]
  },
  {
   "cell_type": "markdown",
   "metadata": {},
   "source": [
    "#### How to Recurse?\n",
    "\n",
    "![](https://i.imgur.com/P7FVHNj.png)\n",
    "- 把兩個 symbol merge 成一個 meta-symbol，那麼該 meta-symbol 的機率該如何以 $p_a$ 及 $p_b$ 表示?\n",
    "- Ans: <font style=\"opacity:.05\">$p_a+p_b$</font>"
   ]
  },
  {
   "cell_type": "markdown",
   "metadata": {},
   "source": [
    "#### Example\n",
    "\n",
    "![](https://i.imgur.com/ptgZTXv.png)\n",
    "- (video unwatched)\n",
    "- 先把 symbol set 慢慢合併，再用 tree 表示\n",
    "- 其實我覺得改成這樣畫比較好理解如何 programming (後面的 pseudocode)\n",
    "    - ![](https://i.imgur.com/i2KYY8Q.png)"
   ]
  },
  {
   "cell_type": "markdown",
   "metadata": {},
   "source": [
    "#### Huffman's Algorithm\n",
    "\n",
    "![](https://i.imgur.com/QVhuq8o.png)\n",
    "- (video unwatched)\n",
    "- pseudocode\n",
    "- 先抓出 frequency(or probability) 最小的一對 character $a,b$\n",
    "- merge $a,b$ 形成新的 symbol set $\\Sigma'$\n",
    "- recursively 計算下一顆 tree $T'$ (given 新的 $\\Sigma'$)\n",
    "- 得到 $T'$ 之後再把 leaf $ab$ 還原回 children $a,b$，得到 tree $T$ 並 return。"
   ]
  },
  {
   "cell_type": "markdown",
   "metadata": {},
   "source": [
    "### [A More Complex Example](https://www.coursera.org/learn/algorithms-greedy/lecture/rTB4s/a-more-complex-example)"
   ]
  },
  {
   "cell_type": "markdown",
   "metadata": {},
   "source": [
    "#### Input and Steps 1 and 2\n",
    "\n",
    "![](https://i.imgur.com/k2mW7jS.png)\n",
    "- (video unwatched)"
   ]
  },
  {
   "cell_type": "markdown",
   "metadata": {},
   "source": [
    "#### Steps 3 and 4\n",
    "\n",
    "![](https://i.imgur.com/vBvI07J.png)\n",
    "- (video unwatched)"
   ]
  },
  {
   "cell_type": "markdown",
   "metadata": {},
   "source": [
    "#### Final Output\n",
    "\n",
    "![](https://i.imgur.com/6tVb55z.png)\n",
    "- (video unwatched)\n",
    "- 水啦"
   ]
  },
  {
   "cell_type": "markdown",
   "metadata": {},
   "source": [
    "### [Correctness Proof I](https://www.coursera.org/learn/algorithms-greedy/lecture/eSz8f/correctness-proof-i)"
   ]
  },
  {
   "cell_type": "markdown",
   "metadata": {},
   "source": [
    "#### Correctness of Huffman's Algorithm\n",
    "\n",
    "![](https://i.imgur.com/xUsXSgZ.png)\n",
    "- (video unwatched)\n",
    "- Q: base case 怎不是 $n=1$?\n",
    "- proof correctness 的方式跟之前證明 Dijkstra's algorithm 類似\n",
    "    - Dijkstra proof 利用 induction(數學歸納法) 假設前面的 step 都會做對，證明現在也能做對\n",
    "    - 不過我們這邊的 inductive step 會用到 exchange argument\n",
    "- 接下來要利用到歸納法的 inductive hypothesis：對於 smaller subproblem $\\Sigma'$，Huffman's algo 可以得到最佳解"
   ]
  },
  {
   "cell_type": "markdown",
   "metadata": {},
   "source": [
    "#### Inductive Step\n",
    "\n",
    "![](https://i.imgur.com/jOZQKdL.png)\n",
    "- 假設 $a,b$ 是 $\\Sigma$ 裡面 frequency 最小的兩個 symbol，令 $\\Sigma'$ 為 $\\Sigma$ 把 $a,b$ merge 成 $ab$ 之後的 symbol set\n",
    "- 假設 $X_{ab}$ 代表所有 $a,b$ 是 siblings 的 trees 的集合\n",
    "    - 對於任何 tree $T\\in X_{ab}$，把 $a,b$ 結合之後得到 tree $T'$(對應到 $\\Sigma'$)\n",
    "    - 把 $ab$ 分解回 $a,b$ 的過程，會讓 average code length 多出 $p_a+p_b$\n",
    "        - 值得注意的是 $p_a+p_b$ 是一個 constant，不論是什麼樣的 $(T,T')$ pair"
   ]
  },
  {
   "cell_type": "markdown",
   "metadata": {},
   "source": [
    "### [Correctness Proof II](https://www.coursera.org/learn/algorithms-greedy/lecture/l3Ss5/correctness-proof-ii)"
   ]
  },
  {
   "cell_type": "markdown",
   "metadata": {},
   "source": [
    "#### Proof of Theorem\n",
    "\n",
    "![](https://i.imgur.com/EeGKjz1.png)\n",
    "- (video unwatched)\n",
    "- 回顧 Inductive hypothesis: 對於任何「比 $\\Sigma$ 小的」$\\Sigma'$，Huffman's algorithm 總能解出 optimal solution $\\hat T'$ that minimizes $L(T')$\n",
    "- 前面的 slide 告訴我們：\n",
    "    - So the upshot is, in minimizing average encoding length over all feasible solutions for the smallest subproblem, a recursive call is actually doing more for us. It's actually minimizing the average encoding length for the original problem with the original alphabet sigma over a subset of the feasible solutions, the feasible solutions in which A and B are siblings. \n",
    "    - WTF\n",
    "    - 大概是說 algorithm 會從 $X_{ab}$ 裡面挑出最 optimal 的 tree 吧\n",
    "        - **Q: 但是為啥R???**\n",
    "        - 註：$X_{ab}$：所有 $a,b$ 是 siblings 的 trees 的集合\n",
    "- 所以接下來只要再證明 optimal tree 一定是把 $a,b$ 當成 siblings 的 tree 即可！"
   ]
  },
  {
   "cell_type": "markdown",
   "metadata": {},
   "source": [
    "#### Proof of Key Lemma\n",
    "\n",
    "![](https://i.imgur.com/9nzXWWM.png)\n",
    "- (video unwatched)\n",
    "- 看起來是要用 contradiction 證明\n",
    "    - **Q: exchange argument 是不是都要用 contradiction? 感覺都是先假設有一個 optimal solution 不符合演算法找到的，然後用反證法 + exchange argument 推導出有比 optimal 更佳的 solution，然後就 contradiction 了? (meta-knowledge?)**\n",
    "- 令 $T^*$ 是 optimal (且不屬於 $X_{ab}$)\n",
    "    - 所以 $T^*$ 的 $a,b$ 不是 siblings 吧\n",
    "- 令 $x,y$ 為 $T^*$ 的 deepest siblings\n",
    "- 把 $T^*$ 裡面的 $x,y$ 位置跟 $a,b$ 交換，得到 tree $\\hat T\\in X_{ab}$\n",
    "- 這樣我們只要證明 $L(\\hat T)\\le L(T^*)$，發現 $\\hat T$ 更 optimal，即可得到 contradiction。\n",
    "- Reason 可以對照 slide 圖，得證。"
   ]
  },
  {
   "cell_type": "markdown",
   "metadata": {},
   "source": [
    "#### Notes on Running Time\n",
    "\n",
    "![](https://i.imgur.com/f4fVBrR.png)\n",
    "- naive implementation $O(n^2)$ time\n",
    "- 利用 heap 可以達到 $O(n\\log n)$\n",
    "- **even faster ???**"
   ]
  },
  {
   "cell_type": "markdown",
   "metadata": {},
   "source": [
    "## XXV. Introduction to Dynamic Programming"
   ]
  },
  {
   "cell_type": "markdown",
   "metadata": {},
   "source": [
    "### [Introduction: Weighted Independent Sets in Path Graphs](https://www.coursera.org/learn/algorithms-greedy/lecture/WENc1/introduction-weighted-independent-sets-in-path-graphs)"
   ]
  },
  {
   "cell_type": "markdown",
   "metadata": {},
   "source": [
    "#### Problem Statement\n",
    "\n",
    "![](https://i.imgur.com/RovXUvB.png)\n",
    "- input: $n$ 個 vertices 的單一路徑(?) graph\n",
    "- 咦 什麼 our algorithm design principles??"
   ]
  },
  {
   "cell_type": "markdown",
   "metadata": {},
   "source": [
    "#### A Greedy Approach (Quiz)\n",
    "\n",
    "![](https://i.imgur.com/fh1vS0v.png)\n",
    "- Ans: <font style=\"opacity:.1\">8 and 6</font>"
   ]
  },
  {
   "cell_type": "markdown",
   "metadata": {},
   "source": [
    "#### A Divide and Conquer Approach\n",
    "\n",
    "![](https://i.imgur.com/ty1hl1o.png)\n",
    "- divide and conquer idea 可能導致 sub-solutions 之間 conflict\n",
    "    - **Q: 那就每個 sub-problem 都直接跑兩個版本啊，一個是 boundary 必 select，一個是必不 select??**\n",
    "- 的確有 divide & conquer 的方式可以在 $O(n^2)$ time 解決\n",
    "- 不過我們要教一個更 powerful 的 dynamic programming 方法，可以在 linear time $O(n)$ 解決。"
   ]
  },
  {
   "cell_type": "markdown",
   "metadata": {},
   "source": [
    "### [WIS in Path Graphs: Optimal Substructure](https://www.coursera.org/learn/algorithms-greedy/lecture/t9XAF/wis-in-path-graphs-optimal-substructure)"
   ]
  },
  {
   "cell_type": "markdown",
   "metadata": {},
   "source": [
    "#### Optimal Substructure\n",
    "\n",
    "![](https://i.imgur.com/puNoTB7.png)\n",
    "- (video unwatched)\n",
    "- Critical step 跟 Motivation 沒看懂\n",
    "- 令 $S$ 為最佳解\n",
    "- 令 $v_n$ 為 path 的第 $n$ 個(即最後一個) vertex"
   ]
  },
  {
   "cell_type": "markdown",
   "metadata": {},
   "source": [
    "#### A Case Analysis\n",
    "\n",
    "![](https://i.imgur.com/44sXBDB.png)\n",
    "- (video unwatched)\n",
    "- Case 1: 如果 $v_n$ 不在最佳解 $S$ 內，那麼 $S$ 一定也是 $G-v_n$ 的 max-weight IS\n",
    "- Case 2: 如果 $v_n$ 在最佳解 $S$ 內，那麼 $S-\\{v_n\\}$ 一定也是 $G-v_n-v_{n-1}$ 的 max-weight IS"
   ]
  },
  {
   "cell_type": "markdown",
   "metadata": {},
   "source": [
    "#### Toward an Algorithm\n",
    "\n",
    "![](https://i.imgur.com/maq77vg.png)\n",
    "- (video unwatched)\n",
    "- 根據上一個 slide，$G$ 的 max-weight IS $S$：\n",
    "    - 要嘛是 $G'$ 的 max-weight IS\n",
    "    - 要嘛是 $v_n$ 加上 $G''$ 的 max-weight IS"
   ]
  },
  {
   "cell_type": "markdown",
   "metadata": {},
   "source": [
    "### [WIS in Path Graphs: A Linear-Time Algorithm](https://www.coursera.org/learn/algorithms-greedy/lecture/w040v/wis-in-path-graphs-a-linear-time-algorithm)"
   ]
  },
  {
   "cell_type": "markdown",
   "metadata": {},
   "source": [
    "### [WIS in Path Graphs: A Reconstruction Algorithm](https://www.coursera.org/learn/algorithms-greedy/lecture/TZgJM/wis-in-path-graphs-a-reconstruction-algorithm)"
   ]
  },
  {
   "cell_type": "markdown",
   "metadata": {},
   "source": [
    "### [Principles of Dynamic Programming](https://www.coursera.org/learn/algorithms-greedy/lecture/VEc7L/principles-of-dynamic-programming)"
   ]
  }
 ],
 "metadata": {
  "kernelspec": {
   "display_name": "Python 3",
   "language": "python",
   "name": "python3"
  },
  "language_info": {
   "codemirror_mode": {
    "name": "ipython",
    "version": 3
   },
   "file_extension": ".py",
   "mimetype": "text/x-python",
   "name": "python",
   "nbconvert_exporter": "python",
   "pygments_lexer": "ipython3",
   "version": "3.8.3"
  }
 },
 "nbformat": 4,
 "nbformat_minor": 4
}
