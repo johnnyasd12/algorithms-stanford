{
 "cells": [
  {
   "cell_type": "markdown",
   "metadata": {},
   "source": [
    "# [Greedy Algorithms, Minimum Spanning Trees, and Dynamic Programming - Week4](https://www.coursera.org/learn/algorithms-greedy/home/week/4)"
   ]
  },
  {
   "cell_type": "markdown",
   "metadata": {},
   "source": [
    "- The Knapsack Problem\n",
    "- Sequence Alignment"
   ]
  },
  {
   "cell_type": "markdown",
   "metadata": {},
   "source": [
    "## XXVI. The Knapsack Problem"
   ]
  },
  {
   "cell_type": "markdown",
   "metadata": {},
   "source": [
    "### [The Knapsack Problem](https://www.coursera.org/learn/algorithms-greedy/lecture/LIgLJ/the-knapsack-problem)"
   ]
  },
  {
   "cell_type": "markdown",
   "metadata": {},
   "source": [
    "#### Problem Definition\n",
    "\n",
    "![](https://i.imgur.com/PNIZ1vG.png)\n",
    "- (video unwatched)\n",
    "- **Q: 「size $w_i$ 跟 capacity $W$ 是 integer」是 algorithm 能 work 的必要條件嗎?**\n",
    "- 我們可以用跟前一周 Weighted Independent Set 相同的方式來找到對這個問題的 DP 解法"
   ]
  },
  {
   "cell_type": "markdown",
   "metadata": {},
   "source": [
    "#### Developing a Dynamic Programming Algorithm\n",
    "\n",
    "![](https://i.imgur.com/9OSxgsX.png)\n",
    "- (video unwatched)\n",
    "- (以下感覺算是通用解法? meta-knowledge)\n",
    "- 劇透：\n",
    "    - Step 1: Formulate recurrence [optimal solution as function of solutions to \"smaller subproblems\"] based on a structure of an optimal solution\n",
    "    - Step 2: Identify the subproblems\n",
    "    - Step 3: Use recurrence from step 1. to systematicaly solve all problems.\n",
    "- 我們先來做 step 1。\n",
    "- 令 $S$ = optimal solution (of arbitrary instance?)\n",
    "- 那麼 optimal solution $S$ 就會分成兩個 case\n",
    "- Case 1: item $n\\notin S$\n",
    "    - Then? 對前 $n-1$ 個 item 來說，$S$ 一定也是 optimal (with capacity $W$)\n",
    "        - 因為若前 $n-1$ 個 item 的 optimal $S^*\\ne S$，那麼 $S^*$ 對這 $n$ 個 item 來說也會是 optimal [contradiction]\n",
    "- Case 2: item $n\\in S$\n",
    "    - Then?"
   ]
  },
  {
   "cell_type": "markdown",
   "metadata": {},
   "source": [
    "#### Optimal Substructure\n",
    "\n",
    "![](https://i.imgur.com/g1LEqCr.png)\n",
    "- (video unwatched)\n",
    "- [ ] is an optimal solution with respect to the 1st $n-1$ items and capacity $W$\n",
    "- [ ] is an optimal solution with respect to the 1st $n-1$ items and capacity $W-v_n$\n",
    "- [ ] is an optimal solution with respect to the 1st $n-1$ items and capacity $W-w_n$\n",
    "- [ ] might not be feasible for capacity $W-w_n$\n",
    "\n",
    "Ans: <font style=\"opacity:.05\">$S-\\{n\\}$ is an optimal solution with respect to the 1st $n-1$ items and capacity $W-w_n$</font>\n",
    "\n",
    "Proof: If $S^*$ has higher value than $S-\\{n\\}+\\textrm{total size}\\le W-w_n$, then $S^*\\cup\\{n\\}$ has size $\\le W$ and value more than $S$ [contradiction]"
   ]
  },
  {
   "cell_type": "markdown",
   "metadata": {},
   "source": [
    "### [A Dynamic Programming Problem](https://www.coursera.org/learn/algorithms-greedy/lecture/0n68L/a-dynamic-programming-algorithm)"
   ]
  },
  {
   "cell_type": "markdown",
   "metadata": {},
   "source": [
    "#### Recurrence from Last Time\n",
    "\n",
    "![](https://i.imgur.com/0GJeF7F.png)\n",
    "- (video unwatched)\n",
    "- 相較於之前的 WIS 的 DP，我們的 variable 多了 total size\n",
    "- Edge case: 如果 $w_i$ 就已經大於 size constraint $x$ 了，那 $V_{i,x}$ 必等於 $V_{(i-1),x}$"
   ]
  },
  {
   "cell_type": "markdown",
   "metadata": {},
   "source": [
    "#### The Subproblems\n",
    "\n",
    "![](https://i.imgur.com/4j2wabr.png)\n",
    "- (video unwatched)\n",
    "- 來到了 Step 2: Identify the subproblems.\n",
    "    - 我們來看看所有 distinct subproblems 有哪些\n",
    "    - 所有 possible 的前 $k$ 個 item (prefixeds of items)：$\\{1,2,...,i\\}$\n",
    "        - **Q: 不是應該是 $1,2,...,n$ 哦?**\n",
    "    - 所有 possible 的 residual capacities (剩餘容量) $x\\in\\{0,1,2,...,W\\}$\n",
    "        - **這邊要注意，因為問題裡的 capacity 跟 weight 都是 integer，所以才能有這種性質！**\n",
    "- 最後是 Step 3: Use recurrence from Step 1 to systematically solve all problems.\n",
    "    - 利用 step 1 和 step 2 得到的結論來寫出 pseudocode！\n",
    "    - 註：若有 case 是前面提到的 $w_i>x$，那麼 index 就會是負的，會 error 所以要另外處理吧"
   ]
  },
  {
   "cell_type": "markdown",
   "metadata": {},
   "source": [
    "#### Running Time\n",
    "Question: What is the running time of this algorithm?\n",
    "- (video unwatched)\n",
    "- [ ] $\\Theta(n^2)$\n",
    "- [ ] $\\Theta(nW)$\n",
    "- [ ] $\\Theta(n^2W)$\n",
    "- [ ] $\\Theta(2^n)$\n",
    "\n",
    "Ans: <font style=\"opacity:.05\">$\\Theta(nW)$ ($\\Theta(nW)$ subproblems, solve each in $\\Theta(1)$ time)</font>\n",
    "\n",
    "Proof correctness by induction [use step 1 argument to justify inductive step]\n",
    "<!-- ![](https://i.imgur.com/005I4TB.png) -->"
   ]
  },
  {
   "cell_type": "markdown",
   "metadata": {},
   "source": [
    "### [Example [Review - Optional]](https://www.coursera.org/learn/algorithms-greedy/lecture/LADQc/example-review-optional)"
   ]
  },
  {
   "cell_type": "markdown",
   "metadata": {},
   "source": [
    "## XXVII. Sequence Alignment"
   ]
  },
  {
   "cell_type": "markdown",
   "metadata": {},
   "source": [
    "### [Optimal Substructure](https://www.coursera.org/learn/algorithms-greedy/lecture/QJkyp/optimal-substructure)"
   ]
  },
  {
   "cell_type": "markdown",
   "metadata": {},
   "source": [
    "#### Problem Definition\n",
    "\n",
    "![](https://i.imgur.com/UyzCFwC.png)"
   ]
  },
  {
   "cell_type": "markdown",
   "metadata": {},
   "source": [
    "#### A Dynamic Programming Approach\n",
    "\n",
    "![](https://i.imgur.com/aRDTHlV.png)"
   ]
  },
  {
   "cell_type": "markdown",
   "metadata": {},
   "source": [
    "#### Optimal Substructure\n",
    "\n",
    "![](https://i.imgur.com/0ghCTbC.png)"
   ]
  },
  {
   "cell_type": "markdown",
   "metadata": {},
   "source": [
    "#### Optimal Substructure (Proof)\n",
    "\n",
    "![](https://i.imgur.com/2Si3Tb7.png)"
   ]
  },
  {
   "cell_type": "markdown",
   "metadata": {},
   "source": [
    "### [A Dynamic Programming Problem](https://www.coursera.org/learn/algorithms-greedy/lecture/tNmae/a-dynamic-programming-algorithm)"
   ]
  },
  {
   "cell_type": "markdown",
   "metadata": {},
   "source": [
    "#### The Subproblems\n",
    "\n",
    "![](https://i.imgur.com/y8bzUtu.png)"
   ]
  },
  {
   "cell_type": "markdown",
   "metadata": {},
   "source": [
    "#### The Recurrence\n",
    "\n",
    "![](https://i.imgur.com/IE4KJ0s.png)"
   ]
  },
  {
   "cell_type": "markdown",
   "metadata": {},
   "source": [
    "#### Quiz: Base Cases\n",
    "\n",
    "Questions: What is the value of $P_{i,0}$ and $P_{0,i}$ ?\n",
    "- [ ] $0$\n",
    "- [ ] $i\\cdot a_{gap}$\n",
    "- [ ] $+\\infty$\n",
    "- [ ] undefined"
   ]
  },
  {
   "cell_type": "markdown",
   "metadata": {},
   "source": [
    "#### The Algorithm\n",
    "\n",
    "![](https://i.imgur.com/UcwAC8M.png)"
   ]
  },
  {
   "cell_type": "markdown",
   "metadata": {},
   "source": [
    "#### Reconstructing a Solution\n",
    "\n",
    "![](https://i.imgur.com/1h1PaFB.png)"
   ]
  },
  {
   "cell_type": "markdown",
   "metadata": {},
   "source": [
    "## XVIII. Optimal Search Trees"
   ]
  },
  {
   "cell_type": "markdown",
   "metadata": {},
   "source": [
    "### [Problem Definition](https://www.coursera.org/learn/algorithms-greedy/lecture/GKCeN/problem-definition)"
   ]
  },
  {
   "cell_type": "markdown",
   "metadata": {},
   "source": [
    "### [Optimal Substructure](https://www.coursera.org/learn/algorithms-greedy/lecture/rUDLu/optimal-substructure)"
   ]
  },
  {
   "cell_type": "markdown",
   "metadata": {},
   "source": [
    "### [Proof of Optimal Substructure](https://www.coursera.org/learn/algorithms-greedy/lecture/0qjbs/proof-of-optimal-substructure)"
   ]
  },
  {
   "cell_type": "markdown",
   "metadata": {},
   "source": [
    "### [A Dynamic Programming Algorithm I](https://www.coursera.org/learn/algorithms-greedy/lecture/3wrTN/a-dynamic-programming-algorithm-i)"
   ]
  },
  {
   "cell_type": "markdown",
   "metadata": {},
   "source": [
    "### [A Dynamic Programming Algorithm II](https://www.coursera.org/learn/algorithms-greedy/lecture/5ERYG/a-dynamic-programming-algorithm-ii)"
   ]
  }
 ],
 "metadata": {
  "kernelspec": {
   "display_name": "Python 3",
   "language": "python",
   "name": "python3"
  },
  "language_info": {
   "codemirror_mode": {
    "name": "ipython",
    "version": 3
   },
   "file_extension": ".py",
   "mimetype": "text/x-python",
   "name": "python",
   "nbconvert_exporter": "python",
   "pygments_lexer": "ipython3",
   "version": "3.8.3"
  }
 },
 "nbformat": 4,
 "nbformat_minor": 4
}
