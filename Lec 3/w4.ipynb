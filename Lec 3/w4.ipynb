{
 "cells": [
  {
   "cell_type": "markdown",
   "metadata": {},
   "source": [
    "# [Greedy Algorithms, Minimum Spanning Trees, and Dynamic Programming - Week4](https://www.coursera.org/learn/algorithms-greedy/home/week/4)"
   ]
  },
  {
   "cell_type": "markdown",
   "metadata": {},
   "source": [
    "- The Knapsack Problem\n",
    "- Sequence Alignment"
   ]
  },
  {
   "cell_type": "markdown",
   "metadata": {},
   "source": [
    "## XXVI. The Knapsack Problem"
   ]
  },
  {
   "cell_type": "markdown",
   "metadata": {},
   "source": [
    "### [The Knapsack Problem](https://www.coursera.org/learn/algorithms-greedy/lecture/LIgLJ/the-knapsack-problem)"
   ]
  },
  {
   "cell_type": "markdown",
   "metadata": {},
   "source": [
    "#### Problem Definition\n",
    "\n",
    "![](https://i.imgur.com/PNIZ1vG.png)\n",
    "- (video unwatched)\n",
    "- **Q: 「size $w_i$ 跟 capacity $W$ 是 integer」是 algorithm 能 work 的必要條件嗎?**\n",
    "    - A: yes，後面就知道為什麼啦~\n",
    "- 我們可以用跟前一周 Weighted Independent Set 相同的方式來找到對這個問題的 DP 解法"
   ]
  },
  {
   "cell_type": "markdown",
   "metadata": {},
   "source": [
    "#### Developing a Dynamic Programming Algorithm\n",
    "\n",
    "![](https://i.imgur.com/9OSxgsX.png)\n",
    "- (video unwatched)\n",
    "- (以下感覺算是通用解法? meta-knowledge)\n",
    "- 劇透：\n",
    "    - Step 1: Formulate recurrence [optimal solution as function of solutions to \"smaller subproblems\"] based on a structure of an optimal solution\n",
    "    - Step 2: Identify the subproblems\n",
    "    - Step 3: Use recurrence from step 1. to systematicaly solve all problems.\n",
    "- 我們先來做 step 1。\n",
    "- 令 $S$ = optimal solution (of arbitrary instance?)\n",
    "- 那麼 optimal solution $S$ 就會分成兩個 case\n",
    "- Case 1: item $n\\notin S$\n",
    "    - Then? 對前 $n-1$ 個 item 來說，$S$ 一定也是 optimal (with capacity $W$)\n",
    "        - 因為若前 $n-1$ 個 item 的 optimal $S^*\\ne S$，那麼 $S^*$ 對這 $n$ 個 item 來說也會是 optimal [contradiction]\n",
    "- Case 2: item $n\\in S$\n",
    "    - Then?"
   ]
  },
  {
   "cell_type": "markdown",
   "metadata": {},
   "source": [
    "#### Optimal Substructure\n",
    "\n",
    "![](https://i.imgur.com/g1LEqCr.png)\n",
    "- (video unwatched)\n",
    "- [ ] is an optimal solution with respect to the 1st $n-1$ items and capacity $W$\n",
    "- [ ] is an optimal solution with respect to the 1st $n-1$ items and capacity $W-v_n$\n",
    "- [ ] is an optimal solution with respect to the 1st $n-1$ items and capacity $W-w_n$\n",
    "- [ ] might not be feasible for capacity $W-w_n$\n",
    "\n",
    "Ans: <font style=\"opacity:.05\">$S-\\{n\\}$ is an optimal solution with respect to the 1st $n-1$ items and capacity $W-w_n$</font>\n",
    "\n",
    "Proof: If $S^*$ has higher value than $S-\\{n\\}+\\textrm{total size}\\le W-w_n$, then $S^*\\cup\\{n\\}$ has size $\\le W$ and value more than $S$ [contradiction]"
   ]
  },
  {
   "cell_type": "markdown",
   "metadata": {},
   "source": [
    "### [A Dynamic Programming Problem](https://www.coursera.org/learn/algorithms-greedy/lecture/0n68L/a-dynamic-programming-algorithm)"
   ]
  },
  {
   "cell_type": "markdown",
   "metadata": {},
   "source": [
    "#### Recurrence from Last Time\n",
    "\n",
    "![](https://i.imgur.com/0GJeF7F.png)\n",
    "- (video unwatched)\n",
    "- 相較於之前的 WIS 的 DP，我們的 variable 多了 total size\n",
    "- Edge case: 如果 $w_i$ 就已經大於 size constraint $x$ 了，那 $V_{i,x}$ 必等於 $V_{(i-1),x}$"
   ]
  },
  {
   "cell_type": "markdown",
   "metadata": {},
   "source": [
    "#### The Subproblems\n",
    "\n",
    "![](https://i.imgur.com/4j2wabr.png)\n",
    "- (video unwatched)\n",
    "- 來到了 Step 2: Identify the subproblems.\n",
    "    - 我們來看看所有 distinct subproblems 有哪些\n",
    "    - 所有 possible 的前 $k$ 個 item (prefixeds of items)：$\\{1,2,...,i\\}$\n",
    "        - **Q: 不是應該是 $1,2,...,n$ 哦?**\n",
    "    - 所有 possible 的 residual capacities (剩餘容量) $x\\in\\{0,1,2,...,W\\}$\n",
    "        - **這邊要注意，因為問題裡的 capacity 跟 weight 都是 integer，所以才能有這種性質！**\n",
    "- 最後是 Step 3: Use recurrence from Step 1 to systematically solve all problems.\n",
    "    - 利用 step 1 和 step 2 得到的結論來寫出 pseudocode！\n",
    "    - 註：若有 case 是前面提到的 $w_i>x$，那麼 index 就會是負的，會 error 所以要另外處理吧"
   ]
  },
  {
   "cell_type": "markdown",
   "metadata": {},
   "source": [
    "#### Running Time\n",
    "Question: What is the running time of this algorithm?\n",
    "- (video unwatched)\n",
    "- [ ] $\\Theta(n^2)$\n",
    "- [ ] $\\Theta(nW)$\n",
    "- [ ] $\\Theta(n^2W)$\n",
    "- [ ] $\\Theta(2^n)$\n",
    "\n",
    "Ans: <font style=\"opacity:.05\">$\\Theta(nW)$ ($\\Theta(nW)$ subproblems, solve each in $\\Theta(1)$ time)</font>\n",
    "\n",
    "Proof correctness by induction [use step 1 argument to justify inductive step]\n",
    "<!-- ![](https://i.imgur.com/005I4TB.png) -->"
   ]
  },
  {
   "cell_type": "markdown",
   "metadata": {},
   "source": [
    "### [Example [Review - Optional]](https://www.coursera.org/learn/algorithms-greedy/lecture/LADQc/example-review-optional)"
   ]
  },
  {
   "cell_type": "markdown",
   "metadata": {},
   "source": [
    "- watch later"
   ]
  },
  {
   "cell_type": "markdown",
   "metadata": {},
   "source": [
    "## XXVII. Sequence Alignment"
   ]
  },
  {
   "cell_type": "markdown",
   "metadata": {},
   "source": [
    "### [Optimal Substructure](https://www.coursera.org/learn/algorithms-greedy/lecture/QJkyp/optimal-substructure)"
   ]
  },
  {
   "cell_type": "markdown",
   "metadata": {},
   "source": [
    "#### Problem Definition\n",
    "\n",
    "![](https://i.imgur.com/UyzCFwC.png)\n",
    "- (video unwatched)\n",
    "- review 一下之前的 sequence alignment problem\n",
    "- Input: $X$ of length $m$, $Y$ of length $n$\n",
    "- 我們想要 minimize total penalty\n",
    "    - 注意這邊 mismatch 的 case 若不同，就會有不同的 penalty\n",
    "        - $\\alpha_{ab}$ 就是把 $a,b$ 做 match 的 penalty。若 $a=b$ 則 $\\alpha_{ab}=0$\n"
   ]
  },
  {
   "cell_type": "markdown",
   "metadata": {},
   "source": [
    "#### A Dynamic Programming Approach\n",
    "\n",
    "<!-- ![](https://i.imgur.com/aRDTHlV.png) -->\n",
    "![](https://i.imgur.com/wmZYxvX.png)\n",
    "- (video unwatched)\n",
    "\n",
    "##### Question\n",
    "\n",
    "![](https://i.imgur.com/5WMIueK.png)\n",
    "- 來看看，假設我們已經找到 optimal solution，那麼這兩個 sequences 的 final position 有幾種可能性?\n",
    "- [ ] $2$\n",
    "- [ ] $3$\n",
    "- [ ] $4$\n",
    "- [ ] $mn$\n",
    "\n",
    "Ans: <font style=\"opacity:.1\">3 種 case：$(x_m,y_n)$、$(x_m,gap)$、$(gap,y_n)$</font>"
   ]
  },
  {
   "cell_type": "markdown",
   "metadata": {},
   "source": [
    "#### Optimal Substructure\n",
    "\n",
    "![](https://i.imgur.com/0ghCTbC.png)\n",
    "- (video unwatched)\n",
    "- 假設把 $X$ 拿掉 $x_m$ 的 subproblem 叫 $X'$、把 $Y$ 拿掉 $y_n$ 的 subproblem 叫 $Y'$\n",
    "- 那麼我們可以分解出的 optimal structure 也分 3 種 case"
   ]
  },
  {
   "cell_type": "markdown",
   "metadata": {},
   "source": [
    "#### Optimal Substructure (Proof)\n",
    "\n",
    "![](https://i.imgur.com/2Si3Tb7.png)\n",
    "- (video unwatched)\n",
    "- 這個證明滿直觀的，而且 3 個 case 都可以套用"
   ]
  },
  {
   "cell_type": "markdown",
   "metadata": {},
   "source": [
    "### [A Dynamic Programming Problem](https://www.coursera.org/learn/algorithms-greedy/lecture/tNmae/a-dynamic-programming-algorithm)"
   ]
  },
  {
   "cell_type": "markdown",
   "metadata": {},
   "source": [
    "#### The Subproblems\n",
    "\n",
    "![](https://i.imgur.com/y8bzUtu.png)\n",
    "- (video unwatched)\n",
    "- 這樣所有的 subproblem 就能夠寫成如右形式：$(X_i,Y_j)$，因為我們分解 subproblems 的時候是從右邊一個一個把 letter 砍掉！\n",
    "    - $X_i$ 就是 $X$ 的前 $i$ 個 letters\n",
    "    - $Y_j$ 就是 $Y$ 的前 $j$ 個 letters\n"
   ]
  },
  {
   "cell_type": "markdown",
   "metadata": {},
   "source": [
    "#### The Recurrence\n",
    "\n",
    "![](https://i.imgur.com/IE4KJ0s.png)\n",
    "- (video unwatched)\n",
    "- Notation: $P_{ij}$ 為 $X_i,Y_j$ 的 penalty of optimal alignment"
   ]
  },
  {
   "cell_type": "markdown",
   "metadata": {},
   "source": [
    "#### Quiz: Base Cases\n",
    "\n",
    "Questions: What is the value of $P_{i,0}$ and $P_{0,i}$ ?\n",
    "- (video unwatched)\n",
    "- [ ] $0$\n",
    "- [ ] $i\\cdot \\alpha_{gap}$\n",
    "- [ ] $+\\infty$\n",
    "- [ ] undefined"
   ]
  },
  {
   "cell_type": "markdown",
   "metadata": {},
   "source": [
    "#### The Algorithm\n",
    "\n",
    "![](https://i.imgur.com/UcwAC8M.png)\n",
    "- (video unwatched)\n",
    "- 嗯 直觀"
   ]
  },
  {
   "cell_type": "markdown",
   "metadata": {},
   "source": [
    "#### Reconstructing a Solution\n",
    "\n",
    "![](https://i.imgur.com/1h1PaFB.png)\n",
    "- (video unwatched)\n",
    "- 一樣我們希望從 optimal value 重建出 optimal solution\n",
    "- 從 $A[m,n]$ 開始，直接利用 table 來比對我們是用哪個 case，然後做 match。\n",
    "- running time: $O(m+n)$"
   ]
  },
  {
   "cell_type": "markdown",
   "metadata": {},
   "source": [
    "## XVIII. Optimal Search Trees"
   ]
  },
  {
   "cell_type": "markdown",
   "metadata": {},
   "source": [
    "### [Problem Definition](https://www.coursera.org/learn/algorithms-greedy/lecture/GKCeN/problem-definition)"
   ]
  },
  {
   "cell_type": "markdown",
   "metadata": {},
   "source": [
    "#### Multiplicity of Search Trees\n",
    "\n",
    "![](https://i.imgur.com/GbW0REG.png)\n",
    "- (video unwatched)\n",
    "- 一般來說，好的 search tree 就是 balanced search tree"
   ]
  },
  {
   "cell_type": "markdown",
   "metadata": {},
   "source": [
    "#### Exploiting Non-Uniformity\n",
    "\n",
    "<!-- ![](https://i.imgur.com/Q5nKFoq.png) -->\n",
    "![](https://i.imgur.com/SnJwI2I.png)\n",
    "- (video unwatched)\n",
    "但是當 keys 的出現頻率是 non-uniform 的時候呢?\n",
    "\n",
    "Ans: <font style=\"opacity:.1\">1.9 and 1.3</font>"
   ]
  },
  {
   "cell_type": "markdown",
   "metadata": {},
   "source": [
    "#### Problem Definition\n",
    "\n",
    "![](https://i.imgur.com/sDpGtyX.png)\n",
    "- (video unwatched)\n",
    "- 這邊假設 items 的 keys 是 $1,2,...,n$ (嗎?\n",
    "- objective function: $C(T)=\\sum_{\\textrm{items }i}p_i\\cdot$ [1 + Depth of $i$ in $T$]\n",
    "- Example: 若 $T$ 是一個 red-black tree，則 $C(T)=O(\\log n)$\n",
    "    - 思考：因為 <font style=\"opacity:.2\">$p_i$ 加總就是 1，而 depth 最多就是 $c\\log n$，所以 summation $\\le\\sum_{\\textrm{items }i}p_i\\cdot c\\log n=c\\log n$</font>"
   ]
  },
  {
   "cell_type": "markdown",
   "metadata": {},
   "source": [
    "#### Comparison with Huffman Codes\n",
    "\n",
    "![](https://i.imgur.com/n0ZWAXz.png)\n",
    "- (video unwatched)\n",
    "- Similarities\n",
    "    - 都想 output binary tree\n",
    "    - objective function 都是 minimize average code length (depth of code)\n",
    "- Differences\n",
    "    - constraint 不一樣：\n",
    "        - Huffman codes 的 constraint 是 symbols only at leaves\n",
    "        - Optimal BST 的 constraint 是要滿足 search tree property"
   ]
  },
  {
   "cell_type": "markdown",
   "metadata": {},
   "source": [
    "### [Optimal Substructure](https://www.coursera.org/learn/algorithms-greedy/lecture/rUDLu/optimal-substructure)"
   ]
  },
  {
   "cell_type": "markdown",
   "metadata": {},
   "source": [
    "#### Problem Definition\n",
    "\n",
    "![](https://i.imgur.com/nIUFJ6p.png)\n",
    "- (video unwatched)\n",
    "- just review"
   ]
  },
  {
   "cell_type": "markdown",
   "metadata": {},
   "source": [
    "#### Greedy Doesn't Work\n",
    "\n",
    "<!-- ![](https://i.imgur.com/GfYnYER.png) -->\n",
    "![](https://i.imgur.com/IXPD31v.png)\n",
    "- (video unwatched)\n",
    "- Intuition: 越靠近 root 就越 frequently accessed\n",
    "    - **注意：要同時 maintain search tree property**\n",
    "- 紫色數字是 key；綠色數字是 frequency\n",
    "- 不論是 bottom-up 還是 top-down 都不能保證得出 optimal solution\n",
    "    - slide typo: 上方的 node 4 的 frequency 是 1(%) 不是 2(%)\n",
    "    - bottom-up 流程(左上)：會先把 frequency 最小的放在最下面 => not work\n",
    "        - 所以說我們在 Huffman code 做的事情，不能直接套用到這裡\n",
    "    - top-down 流程(左下)：會先把 frequency 最大的放在最上面 => not work\n",
    "- (目前沒有 greedy algorithm 能夠解 optimal BST 這個問題)"
   ]
  },
  {
   "cell_type": "markdown",
   "metadata": {},
   "source": [
    "#### Choosing the Root\n",
    "\n",
    "![](https://i.imgur.com/SU1O2hw.png)\n",
    "- (video unwatched)\n",
    "- 總之，選擇不同的 root 會造成不同的、難以預期的結果\n",
    "- 這阻礙了 greedy 跟 divide & conquer approaches\n",
    "- 那麼假設我們知道誰是 optimal root，那麼就可以 recursively 計算左右的 subtree 了\n",
    "    - 有沒有覺得很熟悉呀? ~~沒有~~\n",
    "    - 用 DP 試試所有可能?\n",
    "- 註：repercussion (壞的)影響；惡果\n",
    "- 註：stymie 阻止；妨礙；阻撓"
   ]
  },
  {
   "cell_type": "markdown",
   "metadata": {},
   "source": [
    "#### Optimal Substructure\n",
    "\n",
    "![](https://i.imgur.com/IrxTrpK.png)\n",
    "- (video unwatched)\n",
    "- **meta-knowledge: 這邊我們又要來思考「optimal solution 有什麼樣的性質」=> 以 DP 來說就是思考「optimal solution 跟 subproblem 的 optimal solution 有什麼樣的關係」**\n",
    "- [ ] Neither $T_1$ nor $T_2$ need be optimal for the items it contains.\n",
    "- [ ] At least one of $T_1,T_2$ is optimal for the items it contains.\n",
    "- [ ] Each of $T_1, T_2$ is optimal for the items it contains.\n",
    "- [ ] $T_1$ is optimal for the keys $\\{1,2,...,r-1\\}$ and $T_2$ for the keys $\\{r+1,r+2,...,n\\}$\n",
    "\n",
    "Ans: <font style=\"opacity:.05\">4 (3 is also correct but 4 is stronger statement)</font>"
   ]
  },
  {
   "cell_type": "markdown",
   "metadata": {},
   "source": [
    "### [Proof of Optimal Substructure](https://www.coursera.org/learn/algorithms-greedy/lecture/0qjbs/proof-of-optimal-substructure)"
   ]
  },
  {
   "cell_type": "markdown",
   "metadata": {},
   "source": [
    "#### Proof of Optimal Substructure\n",
    "\n",
    "![](https://i.imgur.com/5GPctMW.png)\n",
    "- (video unwatched)\n",
    "- 證明思路感覺還算直觀 (反證法)，先假設 optimal tree 的某個 subtree 不是該 subtree 的 optimal solution，再推導出原本的 optimal tree 不是 optimal tree [contradiction]"
   ]
  },
  {
   "cell_type": "markdown",
   "metadata": {},
   "source": [
    "#### Proof of Optimal Substructure (con'd)\n",
    "\n",
    "![](https://i.imgur.com/RaOlrXX.png)\n",
    "- (video unwatched)\n",
    "- 注意一下變換，因為 $T$ 比 $T_1$ 跟 $T_2$ 的 height 都多 1"
   ]
  },
  {
   "cell_type": "markdown",
   "metadata": {},
   "source": [
    "### [A Dynamic Programming Algorithm I](https://www.coursera.org/learn/algorithms-greedy/lecture/3wrTN/a-dynamic-programming-algorithm-i)"
   ]
  },
  {
   "cell_type": "markdown",
   "metadata": {},
   "source": [
    "#### Optimal Substructure\n",
    "\n",
    "![](https://i.imgur.com/SlPO4xT.png)\n",
    "- (video unwatched)\n",
    "- 根據之前的推導，我們得到了 Optimal Substructure Lemma\n",
    "    - 如果 $T$ 是 optimal BST，則左右子樹也都是 optimal BST"
   ]
  },
  {
   "cell_type": "markdown",
   "metadata": {},
   "source": [
    "#### Relevant Subproblems\n",
    "\n",
    "![](https://i.imgur.com/7xSpNnC.png)\n",
    "- (video unwatched)\n",
    "- [ ] Prefixes ($S=\\{1,2,...,i\\}$ for every $i$)\n",
    "- [ ] Prefixes and suffixes ($S=\\{1,...,i\\}$ and $\\{i,...,n\\}$ for every $i$)\n",
    "- [ ] Contiguous intervals ($S=\\{i,i+1,...,j-1,j\\}$ for every $i\\le j$)\n",
    "- [ ] All subsets $S$\n",
    "\n",
    "Ans: <font style=\"opacity:.05\">Contiguous intervals</font>"
   ]
  },
  {
   "cell_type": "markdown",
   "metadata": {},
   "source": [
    "#### The Recurrence\n",
    "\n",
    "![](https://i.imgur.com/LjdXYmc.png)\n",
    "- (video unwatched)\n",
    "- 回想一下 $C(T)$ 的 formula 應該就可以寫出 $C_{ij}$ 的 recurrence\n",
    "- Q: Correctness 暫時不確定想表達什麼，先略過"
   ]
  },
  {
   "cell_type": "markdown",
   "metadata": {},
   "source": [
    "### [A Dynamic Programming Algorithm II](https://www.coursera.org/learn/algorithms-greedy/lecture/5ERYG/a-dynamic-programming-algorithm-ii)"
   ]
  },
  {
   "cell_type": "markdown",
   "metadata": {},
   "source": [
    "#### The Algorithm\n",
    "\n",
    "<!-- ![](https://i.imgur.com/MSudnKl.png) -->\n",
    "![](https://i.imgur.com/OGLksAI.png)\n",
    "- $A[i,j]$ 代表 從 item $i$ 到 item $j$ 的 optimal BST value\n",
    "- outer loop $s$ 代表 subproblem size\n",
    "- inner loop $i$ 代表 subproblem 看的第一個 item\n",
    "- **pseudocode 若看不懂可以先圖像化思考** (meta-knowledge)\n",
    "- Pictorially (可以圖像化的看這個解法)\n",
    "    - $i$ 是橫軸； $j$ 是縱軸\n",
    "    - 當 $i=j$ 時，可以直接填 $p_i$\n",
    "    - 右下部分可以填 $0$，因為此時 $i>j$ \n",
    "    - 再回頭看 pseudocode，我們的 loop 是斜地跑\n",
    "        - 第一個 outer loop 先解所有的 $A[i,i]$。\n",
    "        - 第二個 outer loop 解所有的 $A[i,i+1]$ ...依此類推\n",
    "        - **Q: 這樣看來，pseudocode 的 inner loop 好像有多跑? 感覺應該只需要 For i = 1 to (n-s) 吧**\n",
    "<font style=\"opacity:.2\"></font>"
   ]
  },
  {
   "cell_type": "markdown",
   "metadata": {},
   "source": [
    "#### Running Time\n",
    "\n",
    "![](https://i.imgur.com/5nGArh9.png)\n",
    "- 目前這樣看來，time complexity 為 $\\Theta(n^3)$\n",
    "- 但其實可以改良到 $\\Theta(n^2)$\n",
    "    - **Q: 我感覺只要先用 $\\Theta(n^2)$ 把 $\\sum_{k=i}^{i+s}p_k$ 的各種 $i,s$ 組合都算出來就可以了R，為何影片一直提到什麼 BFS?**"
   ]
  }
 ],
 "metadata": {
  "kernelspec": {
   "display_name": "Python 3",
   "language": "python",
   "name": "python3"
  },
  "language_info": {
   "codemirror_mode": {
    "name": "ipython",
    "version": 3
   },
   "file_extension": ".py",
   "mimetype": "text/x-python",
   "name": "python",
   "nbconvert_exporter": "python",
   "pygments_lexer": "ipython3",
   "version": "3.8.3"
  }
 },
 "nbformat": 4,
 "nbformat_minor": 4
}
