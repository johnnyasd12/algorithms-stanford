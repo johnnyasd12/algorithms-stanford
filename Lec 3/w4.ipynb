{
 "cells": [
  {
   "cell_type": "markdown",
   "metadata": {},
   "source": [
    "# [Greedy Algorithms, Minimum Spanning Trees, and Dynamic Programming - Week4](https://www.coursera.org/learn/algorithms-greedy/home/week/4)"
   ]
  },
  {
   "cell_type": "markdown",
   "metadata": {},
   "source": [
    "- The Knapsack Problem\n",
    "- Sequence Alignment"
   ]
  },
  {
   "cell_type": "markdown",
   "metadata": {},
   "source": [
    "## XXVI. The Knapsack Problem"
   ]
  },
  {
   "cell_type": "markdown",
   "metadata": {},
   "source": [
    "### [The Knapsack Problem](https://www.coursera.org/learn/algorithms-greedy/lecture/LIgLJ/the-knapsack-problem)"
   ]
  },
  {
   "cell_type": "markdown",
   "metadata": {},
   "source": [
    "#### Problem Definition\n",
    "\n",
    "![](https://i.imgur.com/PNIZ1vG.png)"
   ]
  },
  {
   "cell_type": "markdown",
   "metadata": {},
   "source": [
    "#### Developing a Dynamic Programming Algorithm\n",
    "\n",
    "![](https://i.imgur.com/9OSxgsX.png)"
   ]
  },
  {
   "cell_type": "markdown",
   "metadata": {},
   "source": [
    "#### Optimal Substructure\n",
    "\n",
    "![](https://i.imgur.com/g1LEqCr.png)\n",
    "- [ ] is an optimal solution with respect to the 1st $n-1$ items and capacity $W$\n",
    "- [ ] is an optimal solution with respect to the 1st $n-1$ items and capacity $W-v_n$\n",
    "- [ ] is an optimal solution with respect to the 1st $n-1$ items and capacity $W-w_n$\n",
    "- [ ] might not be feasible for capacity $W-w_n$\n",
    "\n",
    "Proof: If $S^*$ has higher value than $S-\\{n\\}+\\textrm{total size}\\le W-w_n$, then $S^*\\cup\\{n\\}$ has size $\\le W$ and value more than $S$ [contradiction]"
   ]
  },
  {
   "cell_type": "markdown",
   "metadata": {},
   "source": [
    "### [A Dynamic Programming Problem](https://www.coursera.org/learn/algorithms-greedy/lecture/0n68L/a-dynamic-programming-algorithm)"
   ]
  },
  {
   "cell_type": "markdown",
   "metadata": {},
   "source": [
    "#### Recurrence from Last Time\n",
    "\n",
    "![](https://i.imgur.com/0GJeF7F.png)"
   ]
  },
  {
   "cell_type": "markdown",
   "metadata": {},
   "source": [
    "#### The Subproblems\n",
    "\n",
    "![](https://i.imgur.com/4j2wabr.png)"
   ]
  },
  {
   "cell_type": "markdown",
   "metadata": {},
   "source": [
    "#### Running Time\n",
    "\n",
    "![](https://i.imgur.com/005I4TB.png)"
   ]
  },
  {
   "cell_type": "markdown",
   "metadata": {},
   "source": [
    "### [Example [Review - Optional]](https://www.coursera.org/learn/algorithms-greedy/lecture/LADQc/example-review-optional)"
   ]
  },
  {
   "cell_type": "markdown",
   "metadata": {},
   "source": [
    "## XXVII. Sequence Alignment"
   ]
  },
  {
   "cell_type": "markdown",
   "metadata": {},
   "source": [
    "### [Optimal Substructure](https://www.coursera.org/learn/algorithms-greedy/lecture/QJkyp/optimal-substructure)"
   ]
  },
  {
   "cell_type": "markdown",
   "metadata": {},
   "source": [
    "### [A Dynamic Programming Problem](https://www.coursera.org/learn/algorithms-greedy/lecture/tNmae/a-dynamic-programming-algorithm)"
   ]
  },
  {
   "cell_type": "markdown",
   "metadata": {},
   "source": [
    "## XVIII. Optimal Search Trees"
   ]
  },
  {
   "cell_type": "markdown",
   "metadata": {},
   "source": [
    "### [Problem Definition](https://www.coursera.org/learn/algorithms-greedy/lecture/GKCeN/problem-definition)"
   ]
  },
  {
   "cell_type": "markdown",
   "metadata": {},
   "source": [
    "### [Optimal Substructure](https://www.coursera.org/learn/algorithms-greedy/lecture/rUDLu/optimal-substructure)"
   ]
  },
  {
   "cell_type": "markdown",
   "metadata": {},
   "source": [
    "### [Proof of Optimal Substructure](https://www.coursera.org/learn/algorithms-greedy/lecture/0qjbs/proof-of-optimal-substructure)"
   ]
  },
  {
   "cell_type": "markdown",
   "metadata": {},
   "source": [
    "### [A Dynamic Programming Algorithm I](https://www.coursera.org/learn/algorithms-greedy/lecture/3wrTN/a-dynamic-programming-algorithm-i)"
   ]
  },
  {
   "cell_type": "markdown",
   "metadata": {},
   "source": [
    "### [A Dynamic Programming Algorithm II](https://www.coursera.org/learn/algorithms-greedy/lecture/5ERYG/a-dynamic-programming-algorithm-ii)"
   ]
  }
 ],
 "metadata": {
  "kernelspec": {
   "display_name": "Python 3",
   "language": "python",
   "name": "python3"
  },
  "language_info": {
   "codemirror_mode": {
    "name": "ipython",
    "version": 3
   },
   "file_extension": ".py",
   "mimetype": "text/x-python",
   "name": "python",
   "nbconvert_exporter": "python",
   "pygments_lexer": "ipython3",
   "version": "3.8.3"
  }
 },
 "nbformat": 4,
 "nbformat_minor": 4
}
