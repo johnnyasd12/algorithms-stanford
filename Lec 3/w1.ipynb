{
 "cells": [
  {
   "cell_type": "markdown",
   "metadata": {},
   "source": [
    "# [Greedy Algorithms, Minimum Spanning Trees, and Dynamic Programming - Week?](https://www.coursera.org/learn/algorithms-greedy/home/welcome)"
   ]
  },
  {
   "cell_type": "markdown",
   "metadata": {},
   "source": [
    "- Greedy Algorithms and Applications\n",
    "- Prim's Minimum Spanning Tree (MST) Algorithm"
   ]
  },
  {
   "cell_type": "markdown",
   "metadata": {},
   "source": [
    "## XVII. Two Motivating Applications"
   ]
  },
  {
   "cell_type": "markdown",
   "metadata": {},
   "source": [
    "### [Application: Internet Routing](https://www.coursera.org/learn/algorithms-greedy/lecture/0VcrE/application-internet-routing)"
   ]
  },
  {
   "cell_type": "markdown",
   "metadata": {},
   "source": [
    "#### Graphs and the Internet\n",
    "\n",
    "![](https://i.imgur.com/gp9HqmP.png)"
   ]
  },
  {
   "cell_type": "markdown",
   "metadata": {},
   "source": [
    "#### Internet Routing\n",
    "![](https://i.imgur.com/Z1FSr1i.png)\n",
    "- 例如要在兩個 gateway 之間傳送資料，就需要 shortest path 演算法"
   ]
  },
  {
   "cell_type": "markdown",
   "metadata": {},
   "source": [
    "### [Application: Sequence Alignment](https://www.coursera.org/learn/algorithms-greedy/lecture/ekVkk/application-sequence-alignment)"
   ]
  },
  {
   "cell_type": "markdown",
   "metadata": {},
   "source": [
    "#### Motivation\n",
    "\n",
    "![](https://i.imgur.com/eJlV7tp.png)\n",
    "- sequence alignment 是在 computational genomics (計算基因組學) 中的一個基本問題。\n",
    "    - Application ex1 沒懂\n",
    "    - Application ex2: 可以知道一些演化上的關係。"
   ]
  },
  {
   "cell_type": "markdown",
   "metadata": {},
   "source": [
    "#### Measuring Similarity\n",
    "\n",
    "![](https://i.imgur.com/THBoftE.png)\n",
    "- 是三個 gap 但沒有 mismatch 比較好呢? 還是一個 gap + 一個 mismatch 比較好呢? 我們假設這種問題已經解決，也就是假設 gap 跟 mismatch 的 penalty 已經固定，想求解 best alignment。\n",
    "    - meta-knowledge: 對於要解某個問題 B，若發現 B 建立於懸而未決的問題 A 上，我們可以先假設 A 已經解決，利用變數來解問題 B。這樣到時候解決 A 之後就只需要套數字到變數內就可以解 B 了。"
   ]
  },
  {
   "cell_type": "markdown",
   "metadata": {},
   "source": [
    "#### Problem Statement\n",
    "\n",
    "![](https://i.imgur.com/u0IjEQU.png)\n",
    "- Q: 所以是要 output 多長的 string?\n",
    "    - 應該是整串 string 加上 gap 吧"
   ]
  },
  {
   "cell_type": "markdown",
   "metadata": {},
   "source": [
    "#### Algorithms are Fundamental\n",
    "\n",
    "![](https://i.imgur.com/nUpvER1.png)\n",
    "- 想用 brute-force 的話不可能跑完，所有可能性 $>2^{50}$ 種 (因為每個 alphabet 後面都可選擇加入 gap 或不加吧)\n",
    "- 這種數量級的複雜度，你也永遠等不到 Moore's law 來拯救你，所以如果不想出更好的演算法就等於無解 => 演算法是根本!!!"
   ]
  },
  {
   "cell_type": "markdown",
   "metadata": {},
   "source": [
    "## XVIII. Introduction to Greedy Algorithms"
   ]
  },
  {
   "cell_type": "markdown",
   "metadata": {},
   "source": [
    "### [Introduction to Greedy Algorithms](https://www.coursera.org/learn/algorithms-greedy/lecture/WHe2b/introduction-to-greedy-algorithms)"
   ]
  },
  {
   "cell_type": "markdown",
   "metadata": {},
   "source": [
    "#### Algorithm Design Paradigms\n",
    "\n",
    "![](https://i.imgur.com/AnXl4eU.png)\n",
    "- 設計演算法基本上有 4 種 paradigms\n",
    "    - Divide & conquer\n",
    "    - Randomized algorithms\n",
    "    - Greedy algorithms\n",
    "    - Dynamic programming"
   ]
  },
  {
   "cell_type": "markdown",
   "metadata": {},
   "source": [
    "#### Greedy Algorithms\n",
    "\n",
    "![](https://i.imgur.com/o1k8ZAn.png)\n",
    "- greedy algorithm 沒有一個非常精確的定義\n",
    "- **greedy algorithms 通常會做一連串的 decisions，而這些 decisions 通常是 myopic(近視；目光短淺)、irrevocable(不可改變) 的**。\n",
    "- 例如 Dijkstra's algorithm (見 Lecture 2 week 2)\n",
    "    - 對於每個 destination，它只會計算「一次」shortest path，「不再回頭反思」該 decision。"
   ]
  },
  {
   "cell_type": "markdown",
   "metadata": {},
   "source": [
    "#### Contrast with Divide and Conquer\n",
    "\n",
    "![](https://i.imgur.com/IWoqbCR.png)\n",
    "- **這個 slide 建議後面的學完之後再回頭看一次**\n",
    "- Greedy algorithm 相較於 divide & conquer 有什麼特性呢?\n",
    "    1. greedy algorithms 通常較直覺，容易想出來\n",
    "    2. greedy algorithms 通常較容易分析時間複雜度\n",
    "    3. greedy algorithms 通常較難證明其正確性，相較於 divide & conquer 很容易就可以用 induction(歸納法) 證明，例如 quick sort (見 Lecture 1 week 3)\n",
    "        - **思考：可能是因為 divide & conquer algorithms 常常有 recursively solve smaller problem 的特性，所以適合用 induction(歸納法) 證明吧。**\n",
    "- DANGER: 你自己想出來的 greedy algorithm 常常都是錯的 !!"
   ]
  },
  {
   "cell_type": "markdown",
   "metadata": {},
   "source": [
    "#### In(correctness)\n",
    "\n",
    "![](https://i.imgur.com/GZYc9WY.png)\n",
    "- Dijkstra's algorithm 在有 negative edge lengths 的時候會出錯，這在之前討論過了。\n",
    "    - (詳見 lecture1 week3)\n",
    "- 這邊要說明的是：我們很容易想出一個 greedy algorithm (例如 Dijkstra's algorithm) 然後覺得它總會是對的，但其實不然。"
   ]
  },
  {
   "cell_type": "markdown",
   "metadata": {},
   "source": [
    "#### Proofs of Correctness\n",
    "\n",
    "![](https://i.imgur.com/yXwSwBr.png)\n",
    "- **這個 slide 也建議後面的學完之後再回頭看一次**\n",
    "- 通常有幾種方式來證明 greedy algorithms 的 correctness：\n",
    "    1. Induction on decisions made by greedy algorithm (\"greedy stays ahead\")\n",
    "        - 例如 Dijkstra's algorithm 的證明(見 Lecture2 week2)\n",
    "    2. exchange argument\n",
    "        - 其中一種 flavour(想法?) 是利用 contradiction。假設這個 greedy algorithm 是錯的，然後證明你可以求出最佳解然後 exchange argument @@ ~~工三小~~\n",
    "    3. 其實很多 greedy algorithm 要證明都需要創意，不是只有上面兩種，可能需要混合上述方法或者嘗試各種其他的思路。"
   ]
  },
  {
   "cell_type": "markdown",
   "metadata": {},
   "source": [
    "### [Application: Optimal Caching](https://www.coursera.org/learn/algorithms-greedy/lecture/VMnNW/application-optimal-caching)"
   ]
  },
  {
   "cell_type": "markdown",
   "metadata": {},
   "source": [
    "#### The Caching Problem\n",
    "\n",
    "![](https://i.imgur.com/xexMBZm.png)\n",
    "- cache miss = page fault 這時需要改從 memory 找資料並把 cache 的某些資料清掉以寫入。"
   ]
  },
  {
   "cell_type": "markdown",
   "metadata": {},
   "source": [
    "#### Example\n",
    "\n",
    "![](https://i.imgur.com/WSN4Cv5.png)\n",
    "- 一開始 cache 有 abcd\n",
    "- 後來的 request 依序為 cdefab\n",
    "- 如果看到 ef 的時候刪掉的是 a 跟 b，那麼總共會有 4 個 page faults"
   ]
  },
  {
   "cell_type": "markdown",
   "metadata": {},
   "source": [
    "#### The Optimal Caching Algorithm\n",
    "\n",
    "![](https://i.imgur.com/N6Ctdi8.png)\n",
    "- 最佳解就是去淘汰「最久之後才會用到的」cache。\n",
    "    - 但是可以這樣做的前提是我們預知未來了啊，但實務上又不可能，所以也沒辦法 implement。那這 algorithm 不就沒什麼用?\n",
    "- 但是知道這個結論還是有用的，因為：\n",
    "    1. 至少可以用來作為 implementable algorithms 的準則\n",
    "        - 像是 Least Recently Used (LRU) 就以這種思路為前提，做了假設「如果某個 cache 最近用過，那麼不久之後應該也會用到；而如果某個 cache 上次用是很久以前了，那麼應該也很久之後才會用到」。LRU 就以 looking to the past 作為 proxy 代替了 looking forward，但主要思想是一樣的！\n",
    "        - **meta-knowledge: 即使已知某個最佳解法不可能 implement，但還是可以以該解法為主要思路，啟發我們設計別的解法**\n",
    "    2. 可以用來比較你現有的 algorithm 跟完美之間的差距\n",
    "        - 例如你有了 request sequence 之後利用 hindsight(後見之明/事後諸葛) 做 sanity check，如果你的算法(例如 LRU)跟 furthest-in-future 的 page fault 率沒有差很多的話，你就可以說 LRU 的假設(data have locality reference) 差不多是對的。但是如果差很多，你就該更理解你的 data、設計一個更聰明的 algorithm。\n",
    "- 這個 algorithm 的 proof 非常 tricky，因此這邊不會教。除了 exchange argument 之外還需要許多技巧。講者也希望有人可以找到很簡單的證明方法XD\n",
    "    - 大多數 algorithm 的書都不會寫這個 algorithm 的證明，想看的人可以去讀 Algorithm Design by Kleinberg and Tardos 裡面有寫"
   ]
  },
  {
   "cell_type": "markdown",
   "metadata": {},
   "source": [
    "## XIX. A Scheduling Application"
   ]
  },
  {
   "cell_type": "markdown",
   "metadata": {},
   "source": [
    "### [Problem Definition](https://www.coursera.org/learn/algorithms-greedy/lecture/ZvZGZ/problem-definition)"
   ]
  },
  {
   "cell_type": "markdown",
   "metadata": {},
   "source": [
    "#### A Scheduling Problem\n",
    "\n",
    "![](https://i.imgur.com/nKjFDO1.png)\n",
    "- **$w_j$ 越大越重要，越應該先做**"
   ]
  },
  {
   "cell_type": "markdown",
   "metadata": {},
   "source": [
    "#### Completion Times\n",
    "\n",
    "![](https://i.imgur.com/dXaxNDZ.png)\n",
    "- $C_j$ 就是 job $j$ 完成的時間"
   ]
  },
  {
   "cell_type": "markdown",
   "metadata": {},
   "source": [
    "#### The Objective Function\n",
    "\n",
    "![](https://i.imgur.com/ZQCYKZV.png)\n",
    "- 目標是要 minimize weighted sum of completion times"
   ]
  },
  {
   "cell_type": "markdown",
   "metadata": {},
   "source": [
    "### [A Greedy Algorithm](https://www.coursera.org/learn/algorithms-greedy/lecture/Jo6gK/a-greedy-algorithm)"
   ]
  },
  {
   "cell_type": "markdown",
   "metadata": {},
   "source": [
    "#### Intuition for Algorithm\n",
    "\n",
    "![](https://i.imgur.com/2aBU87V.png)\n",
    "- Recall: Want to $\\min \\sum_{j=1}^n w_jC_j$ (slide typo = =)\n",
    "- **思考方式：先針對一些原本 problem 的 special cases 可以幫助我們想出幾個(可能有用的) greedy approaches**\n",
    "- 然後用一些方法可以 narrow down 到剩下一個，之後會證明這樣總是正確(?)\n",
    "- Questions (special cases)\n",
    "    1. 大家 length 都一樣的話，要比較早做的 task 的 weight 應該要較大還是較小呢?\n",
    "        - Ans: <font style=\"opacity:.05\">較大，因為排越前面的 job 對應到的 $C_j$ 越小，那要 minimize 整個的 sum of product 就要挑一個更大的 $w_j$</font>\n",
    "    2. 大家 weight 都一樣的話，要比較早做的 task 的 length 要較長還是較短呢?\n",
    "        - Ans: <font style=\"opacity:.05\">較短，因為越早做的 task length 會加總越多次(根據 $C_j$ 的定義)，所以較早做的 length 要較短</font>"
   ]
  },
  {
   "cell_type": "markdown",
   "metadata": {},
   "source": [
    "#### Resolving Conflicting Advice\n",
    "\n",
    "![](https://i.imgur.com/rTyEy9q.png)\n",
    "- 如果像前個 slide 這麼簡單就好了，但是當 $w_i>w_j$ 而且 $l_i>l_j$ 的時候該怎麼辦呢?\n",
    "- Idea: 設計一個 score，這個 score 會隨著 weight 遞增而遞增；隨著 length 遞增而遞減。然後我們就根據這個 score 的大小順序來排 schedule。\n",
    "- 先從可以想得到的最簡單的 score 開始吧\n",
    "    1. 可能可以設 $w_j-l_j$ 為 score\n",
    "    2. 可能可以設 $\\frac{w_j}{l_j}$ 為 score"
   ]
  },
  {
   "cell_type": "markdown",
   "metadata": {},
   "source": [
    "#### Breaking a Greedy Algorithm\n",
    "\n",
    "![](https://i.imgur.com/gek4CmB.png)\n",
    "- 設計演算法的時候很容易就發生這種事：你腦力激盪之後想出幾個 algorithms 不知道誰對誰錯還是全錯，現在要做的事情就是迅速的決定哪幾個 algorithms 不是 correct 的 (就刪去法唄)。\n",
    "- 其中一個有用的方法就是找到某些 input 使這幾個 algorithms 會給出不同的 output，然後就知道誰是錯的。"
   ]
  },
  {
   "cell_type": "markdown",
   "metadata": {},
   "source": [
    "#### The Story So Far\n",
    "\n",
    "![](https://i.imgur.com/iZD07F8.png)\n",
    "- algorithm #2 \t「可能」是對的，接下來就要來證明啦\n",
    "- 因為這樣的 algorithm 只是計算 score 然後 sort task，因此 time complexity $O(n\\log n)$。"
   ]
  },
  {
   "cell_type": "markdown",
   "metadata": {},
   "source": [
    "### [Correctness Proof - Part I](https://www.coursera.org/learn/algorithms-greedy/lecture/rFQ5P/correctness-proof-part-i)"
   ]
  },
  {
   "cell_type": "markdown",
   "metadata": {},
   "source": [
    "### [Correctness Proof - Part II](https://www.coursera.org/learn/algorithms-greedy/lecture/mrXwO/correctness-proof-part-ii)"
   ]
  },
  {
   "cell_type": "markdown",
   "metadata": {},
   "source": []
  },
  {
   "cell_type": "markdown",
   "metadata": {},
   "source": [
    "### [Handling Ties [Advanced - Optional]](https://www.coursera.org/learn/algorithms-greedy/lecture/YuoAV/handling-ties-advanced-optional)"
   ]
  },
  {
   "cell_type": "markdown",
   "metadata": {},
   "source": [
    "## XX. Prim's Minimum Spanning Tree Algorithm"
   ]
  },
  {
   "cell_type": "markdown",
   "metadata": {},
   "source": [
    "### [MST Problem Definition](https://www.coursera.org/learn/algorithms-greedy/lecture/9D5ML/mst-problem-definition)"
   ]
  },
  {
   "cell_type": "markdown",
   "metadata": {},
   "source": [
    "### [Prim's MST Algoritm](https://www.coursera.org/learn/algorithms-greedy/lecture/tQ6gK/prims-mst-algorithm)"
   ]
  },
  {
   "cell_type": "markdown",
   "metadata": {},
   "source": [
    "### [Correctness Proof I](https://www.coursera.org/learn/algorithms-greedy/lecture/15UXn/correctness-proof-i)"
   ]
  },
  {
   "cell_type": "markdown",
   "metadata": {},
   "source": [
    "### [Correctness Proof II](https://www.coursera.org/learn/algorithms-greedy/lecture/hYzal/correctness-proof-ii)"
   ]
  },
  {
   "cell_type": "markdown",
   "metadata": {},
   "source": [
    "### [Proof of Cut Property [Advanced - Optional]](https://www.coursera.org/learn/algorithms-greedy/lecture/UImix/proof-of-cut-property-advanced-optional)"
   ]
  },
  {
   "cell_type": "markdown",
   "metadata": {},
   "source": [
    "### [Fast Implementation I](https://www.coursera.org/learn/algorithms-greedy/lecture/bYMq1/fast-implementation-i)"
   ]
  },
  {
   "cell_type": "markdown",
   "metadata": {},
   "source": [
    "### [Fast Implementation II](https://www.coursera.org/learn/algorithms-greedy/lecture/qzdR8/fast-implementation-ii)"
   ]
  },
  {
   "cell_type": "markdown",
   "metadata": {},
   "source": []
  }
 ],
 "metadata": {
  "kernelspec": {
   "display_name": "Python 3",
   "language": "python",
   "name": "python3"
  },
  "language_info": {
   "codemirror_mode": {
    "name": "ipython",
    "version": 3
   },
   "file_extension": ".py",
   "mimetype": "text/x-python",
   "name": "python",
   "nbconvert_exporter": "python",
   "pygments_lexer": "ipython3",
   "version": "3.8.3"
  }
 },
 "nbformat": 4,
 "nbformat_minor": 4
}
