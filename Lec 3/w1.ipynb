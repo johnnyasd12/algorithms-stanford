{
 "cells": [
  {
   "cell_type": "markdown",
   "metadata": {},
   "source": [
    "# [Greedy Algorithms, Minimum Spanning Trees, and Dynamic Programming - Week?](https://www.coursera.org/learn/algorithms-greedy/home/welcome)"
   ]
  },
  {
   "cell_type": "markdown",
   "metadata": {},
   "source": [
    "- Greedy Algorithms and Applications\n",
    "- Prim's Minimum Spanning Tree (MST) Algorithm"
   ]
  },
  {
   "cell_type": "markdown",
   "metadata": {},
   "source": [
    "## XVII. Two Motivating Applications"
   ]
  },
  {
   "cell_type": "markdown",
   "metadata": {},
   "source": [
    "### [Application: Internet Routing](https://www.coursera.org/learn/algorithms-greedy/lecture/0VcrE/application-internet-routing)"
   ]
  },
  {
   "cell_type": "markdown",
   "metadata": {},
   "source": [
    "#### Graphs and the Internet\n",
    "\n",
    "![](https://i.imgur.com/gp9HqmP.png)"
   ]
  },
  {
   "cell_type": "markdown",
   "metadata": {},
   "source": [
    "#### Internet Routing\n",
    "![](https://i.imgur.com/Z1FSr1i.png)\n",
    "- 例如要在兩個 gateway 之間傳送資料，就需要 shortest path 演算法"
   ]
  },
  {
   "cell_type": "markdown",
   "metadata": {},
   "source": [
    "### [Application: Sequence Alignment](https://www.coursera.org/learn/algorithms-greedy/lecture/ekVkk/application-sequence-alignment)"
   ]
  },
  {
   "cell_type": "markdown",
   "metadata": {},
   "source": [
    "#### Motivation\n",
    "\n",
    "![](https://i.imgur.com/eJlV7tp.png)\n",
    "- sequence alignment 是在 computational genomics (計算基因組學) 中的一個基本問題。\n",
    "    - Application ex1 沒懂\n",
    "    - Application ex2: 可以知道一些演化上的關係。"
   ]
  },
  {
   "cell_type": "markdown",
   "metadata": {},
   "source": [
    "#### Measuring Similarity\n",
    "\n",
    "![](https://i.imgur.com/THBoftE.png)\n",
    "- 是三個 gap 但沒有 mismatch 比較好呢? 還是一個 gap + 一個 mismatch 比較好呢? 我們假設這種問題已經解決，也就是假設 gap 跟 mismatch 的 penalty 已經固定，想求解 best alignment。\n",
    "    - meta-knowledge: 對於要解某個問題 B，若發現 B 建立於懸而未決的問題 A 上，我們可以先假設 A 已經解決，利用變數來解問題 B。這樣到時候解決 A 之後就只需要套數字到變數內就可以解 B 了。"
   ]
  },
  {
   "cell_type": "markdown",
   "metadata": {},
   "source": [
    "#### Problem Statement\n",
    "\n",
    "![](https://i.imgur.com/u0IjEQU.png)\n",
    "- Q: 所以是要 output 多長的 string?\n",
    "    - 應該是整串 string 加上 gap 吧"
   ]
  },
  {
   "cell_type": "markdown",
   "metadata": {},
   "source": [
    "#### Algorithms are Fundamental\n",
    "\n",
    "![](https://i.imgur.com/nUpvER1.png)\n",
    "- 想用 brute-force 的話不可能跑完，所有可能性 $>2^{50}$ 種 (因為每個 alphabet 後面都可選擇加入 gap 或不加吧)\n",
    "- 這種數量級的複雜度，你也永遠等不到 Moore's law 來拯救你，所以如果不想出更好的演算法就等於無解 => 演算法是根本!!!"
   ]
  },
  {
   "cell_type": "markdown",
   "metadata": {},
   "source": [
    "## XVIII. Introduction to Greedy Algorithms"
   ]
  },
  {
   "cell_type": "markdown",
   "metadata": {},
   "source": [
    "### [Introduction to Greedy Algorithms](https://www.coursera.org/learn/algorithms-greedy/lecture/WHe2b/introduction-to-greedy-algorithms)"
   ]
  },
  {
   "cell_type": "markdown",
   "metadata": {},
   "source": [
    "#### Algorithm Design Paradigms\n",
    "\n",
    "![](https://i.imgur.com/AnXl4eU.png)\n",
    "- 設計演算法基本上有 4 種 paradigms\n",
    "    - Divide & conquer\n",
    "    - Randomized algorithms\n",
    "    - Greedy algorithms\n",
    "    - Dynamic programming"
   ]
  },
  {
   "cell_type": "markdown",
   "metadata": {},
   "source": [
    "#### Greedy Algorithms\n",
    "\n",
    "![](https://i.imgur.com/o1k8ZAn.png)\n",
    "- greedy algorithm 沒有一個非常精確的定義\n",
    "- **greedy algorithms 通常會做一連串的 decisions，而這些 decisions 通常是 myopic(近視；目光短淺)、irrevocable(不可改變) 的**。\n",
    "- 例如 Dijkstra's algorithm (見 Lecture 2 week 2)\n",
    "    - 對於每個 destination，它只會計算「一次」shortest path，「不再回頭反思」該 decision。"
   ]
  },
  {
   "cell_type": "markdown",
   "metadata": {},
   "source": [
    "#### Contrast with Divide and Conquer\n",
    "\n",
    "![](https://i.imgur.com/IWoqbCR.png)\n",
    "- **這個 slide 建議後面的學完之後再回頭看一次**\n",
    "- Greedy algorithm 相較於 divide & conquer 有什麼特性呢?\n",
    "    1. greedy algorithms 通常較直覺，容易想出來\n",
    "    2. greedy algorithms 通常較容易分析時間複雜度\n",
    "    3. greedy algorithms 通常較難證明其正確性，相較於 divide & conquer 很容易就可以用 induction(歸納法) 證明，例如 quick sort (見 Lecture 1 week 3)\n",
    "        - **思考：可能是因為 divide & conquer algorithms 常常有 recursively solve smaller problem 的特性，所以適合用 induction(歸納法) 證明吧。**\n",
    "- DANGER: 你自己想出來的 greedy algorithm 常常都是錯的 !!"
   ]
  },
  {
   "cell_type": "markdown",
   "metadata": {},
   "source": [
    "#### In(correctness)\n",
    "\n",
    "![](https://i.imgur.com/GZYc9WY.png)\n",
    "- Dijkstra's algorithm 在有 negative edge lengths 的時候會出錯，這在之前討論過了。\n",
    "    - (詳見 lecture1 week3)\n",
    "- 這邊要說明的是：我們很容易想出一個 greedy algorithm (例如 Dijkstra's algorithm) 然後覺得它總會是對的，但其實不然。"
   ]
  },
  {
   "cell_type": "markdown",
   "metadata": {},
   "source": [
    "#### Proofs of Correctness\n",
    "\n",
    "![](https://i.imgur.com/yXwSwBr.png)\n",
    "- **這個 slide 也建議後面的學完之後再回頭看一次**\n",
    "- 通常有幾種方式來證明 greedy algorithms 的 correctness：\n",
    "    1. Induction on decisions made by greedy algorithm (\"greedy stays ahead\")\n",
    "        - 例如 Dijkstra's algorithm 的證明(見 Lecture2 week2)\n",
    "    2. exchange argument\n",
    "        - 其中一種 flavour(想法?) 是利用 contradiction。假設這個 greedy algorithm 是錯的，然後證明你可以求出最佳解然後 exchange argument @@ ~~工三小~~\n",
    "    3. 其實很多 greedy algorithm 要證明都需要創意，不是只有上面兩種，可能需要混合上述方法或者嘗試各種其他的思路。"
   ]
  },
  {
   "cell_type": "markdown",
   "metadata": {},
   "source": [
    "### [Application: Optimal Caching](https://www.coursera.org/learn/algorithms-greedy/lecture/VMnNW/application-optimal-caching)"
   ]
  },
  {
   "cell_type": "markdown",
   "metadata": {},
   "source": []
  },
  {
   "cell_type": "markdown",
   "metadata": {},
   "source": [
    "## XIX. A Scheduling Application"
   ]
  },
  {
   "cell_type": "markdown",
   "metadata": {},
   "source": [
    "### [Problem Definition](https://www.coursera.org/learn/algorithms-greedy/lecture/ZvZGZ/problem-definition)"
   ]
  },
  {
   "cell_type": "markdown",
   "metadata": {},
   "source": []
  },
  {
   "cell_type": "markdown",
   "metadata": {},
   "source": [
    "### [A Greedy Algorithm](https://www.coursera.org/learn/algorithms-greedy/lecture/Jo6gK/a-greedy-algorithm)"
   ]
  },
  {
   "cell_type": "markdown",
   "metadata": {},
   "source": []
  },
  {
   "cell_type": "markdown",
   "metadata": {},
   "source": [
    "### [Correctness Proof - Part I](https://www.coursera.org/learn/algorithms-greedy/lecture/rFQ5P/correctness-proof-part-i)"
   ]
  },
  {
   "cell_type": "markdown",
   "metadata": {},
   "source": [
    "### [Correctness Proof - Part II](https://www.coursera.org/learn/algorithms-greedy/lecture/mrXwO/correctness-proof-part-ii)"
   ]
  },
  {
   "cell_type": "markdown",
   "metadata": {},
   "source": []
  },
  {
   "cell_type": "markdown",
   "metadata": {},
   "source": [
    "### [Handling Ties [Advanced - Optional]](https://www.coursera.org/learn/algorithms-greedy/lecture/YuoAV/handling-ties-advanced-optional)"
   ]
  },
  {
   "cell_type": "markdown",
   "metadata": {},
   "source": [
    "## XX. Prim's Minimum Spanning Tree Algorithm"
   ]
  },
  {
   "cell_type": "markdown",
   "metadata": {},
   "source": [
    "### [MST Problem Definition](https://www.coursera.org/learn/algorithms-greedy/lecture/9D5ML/mst-problem-definition)"
   ]
  },
  {
   "cell_type": "markdown",
   "metadata": {},
   "source": [
    "### [Prim's MST Algoritm](https://www.coursera.org/learn/algorithms-greedy/lecture/tQ6gK/prims-mst-algorithm)"
   ]
  },
  {
   "cell_type": "markdown",
   "metadata": {},
   "source": [
    "### [Correctness Proof I](https://www.coursera.org/learn/algorithms-greedy/lecture/15UXn/correctness-proof-i)"
   ]
  },
  {
   "cell_type": "markdown",
   "metadata": {},
   "source": [
    "### [Correctness Proof II](https://www.coursera.org/learn/algorithms-greedy/lecture/hYzal/correctness-proof-ii)"
   ]
  },
  {
   "cell_type": "markdown",
   "metadata": {},
   "source": [
    "### [Proof of Cut Property [Advanced - Optional]](https://www.coursera.org/learn/algorithms-greedy/lecture/UImix/proof-of-cut-property-advanced-optional)"
   ]
  },
  {
   "cell_type": "markdown",
   "metadata": {},
   "source": [
    "### [Fast Implementation I](https://www.coursera.org/learn/algorithms-greedy/lecture/bYMq1/fast-implementation-i)"
   ]
  },
  {
   "cell_type": "markdown",
   "metadata": {},
   "source": [
    "### [Fast Implementation II](https://www.coursera.org/learn/algorithms-greedy/lecture/qzdR8/fast-implementation-ii)"
   ]
  },
  {
   "cell_type": "markdown",
   "metadata": {},
   "source": []
  }
 ],
 "metadata": {
  "kernelspec": {
   "display_name": "Python 3",
   "language": "python",
   "name": "python3"
  },
  "language_info": {
   "codemirror_mode": {
    "name": "ipython",
    "version": 3
   },
   "file_extension": ".py",
   "mimetype": "text/x-python",
   "name": "python",
   "nbconvert_exporter": "python",
   "pygments_lexer": "ipython3",
   "version": "3.8.3"
  }
 },
 "nbformat": 4,
 "nbformat_minor": 4
}
