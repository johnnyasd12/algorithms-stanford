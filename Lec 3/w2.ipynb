{
 "cells": [
  {
   "cell_type": "markdown",
   "metadata": {},
   "source": [
    "# [Greedy Algorithms, Minimum Spanning Trees, and Dynamic Programming - Week2](https://www.coursera.org/learn/algorithms-greedy/home/welcome)"
   ]
  },
  {
   "cell_type": "markdown",
   "metadata": {},
   "source": [
    "- outline1\n",
    "- outline2"
   ]
  },
  {
   "cell_type": "markdown",
   "metadata": {},
   "source": [
    "## XXI. Kruskal's Minimum Spanning Tree Algorithm"
   ]
  },
  {
   "cell_type": "markdown",
   "metadata": {},
   "source": [
    "### [Kruskal's MST Algorithm](https://www.coursera.org/learn/algorithms-greedy/lecture/PLdBf/kruskals-mst-algorithm)"
   ]
  },
  {
   "cell_type": "markdown",
   "metadata": {},
   "source": [
    "#### MST Review\n",
    "\n",
    "![](https://i.imgur.com/uPpcIex.png)\n",
    "- 我們有了 Prim's，為何要再學一個 Kruskal's?\n",
    "    1. 新的 data structure: Union-Find\n",
    "    1. Kruskal's MST 跟許多 clustering methods 有關聯 (某些 greedy 的 clustering 方法可以視為 Kruskal's MST Algorithm 的變體)\n",
    "- 這邊一樣假設 $G$ is connected、edge costs 沒有重複。也跟 Prim's 一樣其實不影響正確性，只是方便講解、證明。\n",
    "- 跟 Prim's MST 一樣，我們在 proof correctness 時需要用到 **Cut Property**，有興趣看 property 證明請見上周 optional video。"
   ]
  },
  {
   "cell_type": "markdown",
   "metadata": {},
   "source": [
    "#### Example\n",
    "\n",
    "![](https://i.imgur.com/KlOG4on.png)\n",
    "- Kruskal's 挑選順序：1 -> 2 -> 3 -> 4(X, becuz of cycle) -> 5 -> 6(X, cycle) -> 7(X, cycle)"
   ]
  },
  {
   "cell_type": "markdown",
   "metadata": {},
   "source": [
    "#### Kruskal's MST Algorithm\n",
    "\n",
    "![](https://i.imgur.com/kUQLAxj.png)\n",
    "- rename sorted edges 讓 algorithm 跟 proof 更簡潔"
   ]
  },
  {
   "cell_type": "markdown",
   "metadata": {},
   "source": [
    "### [Correctness of Kruskal's Algorithm](https://www.coursera.org/learn/algorithms-greedy/lecture/U3ukN/correctness-of-kruskals-algorithm)"
   ]
  },
  {
   "attachments": {},
   "cell_type": "markdown",
   "metadata": {},
   "source": [
    "#### Correctness of Kruskal (Part I)\n",
    "\n",
    "![](https://i.imgur.com/DadkPYT.png)"
   ]
  },
  {
   "attachments": {},
   "cell_type": "markdown",
   "metadata": {},
   "source": [
    "#### Correctness of Kruskal (Part II)\n",
    "\n",
    "![](https://i.imgur.com/uDg9Dm6.png)"
   ]
  },
  {
   "cell_type": "markdown",
   "metadata": {},
   "source": [
    "### [Implementing Kruskal's Algorithm via Union Find I](https://www.coursera.org/learn/algorithms-greedy/lecture/e0TJP/implementing-kruskals-algorithm-via-union-find-i)"
   ]
  },
  {
   "cell_type": "markdown",
   "metadata": {},
   "source": [
    "### [MSTs: State-of-the-Art and Open Questions [Advanced - Optional]](https://www.coursera.org/learn/algorithms-greedy/lecture/Wt9aw/msts-state-of-the-art-and-open-questions-advanced-optional)"
   ]
  },
  {
   "cell_type": "markdown",
   "metadata": {},
   "source": [
    "## XXII. Clustering "
   ]
  },
  {
   "cell_type": "markdown",
   "metadata": {},
   "source": [
    "### [Application to Clustering](https://www.coursera.org/learn/algorithms-greedy/lecture/QWubN/application-to-clustering)"
   ]
  },
  {
   "cell_type": "markdown",
   "metadata": {},
   "source": [
    "### [Correctness of Clustering Algorithm](https://www.coursera.org/learn/algorithms-greedy/lecture/7lWTf/correctness-of-clustering-algorithm)"
   ]
  },
  {
   "cell_type": "markdown",
   "metadata": {},
   "source": [
    "## XXIII. Advanced Union Find"
   ]
  },
  {
   "cell_type": "markdown",
   "metadata": {},
   "source": [
    "### [ Lazy Unions [Advanced - Optional]](https://www.coursera.org/learn/algorithms-greedy/lecture/WX3tg/lazy-unions-advanced-optional)"
   ]
  },
  {
   "cell_type": "markdown",
   "metadata": {},
   "source": [
    "### [Union-by-Rank [Advanced - Optional]](https://www.coursera.org/learn/algorithms-greedy/lecture/RF7aH/union-by-rank-advanced-optional)"
   ]
  },
  {
   "cell_type": "markdown",
   "metadata": {},
   "source": [
    "### [Analysis of Union-by-Rank [Advanced - Optional]](https://www.coursera.org/learn/algorithms-greedy/lecture/r2nA3/analysis-of-union-by-rank-advanced-optional)"
   ]
  },
  {
   "cell_type": "markdown",
   "metadata": {},
   "source": [
    "### [Path Compression [Advanced - Optional]](https://www.coursera.org/learn/algorithms-greedy/lecture/Rhh6y/path-compression-advanced-optional)"
   ]
  },
  {
   "cell_type": "markdown",
   "metadata": {},
   "source": [
    "### [Path Compression: The Hopcroft-Ullman Analysis I [Advanced - Optional]](https://www.coursera.org/learn/algorithms-greedy/lecture/KdbbU/path-compression-the-hopcroft-ullman-analysis-i-advanced-optional)"
   ]
  },
  {
   "cell_type": "markdown",
   "metadata": {},
   "source": [
    "### [Path Compression: The Hopcroft-Ullman Analysis II [Advanced - Optional]](https://www.coursera.org/learn/algorithms-greedy/lecture/ttbcu/path-compression-the-hopcroft-ullman-analysis-ii-advanced-optional)"
   ]
  },
  {
   "cell_type": "markdown",
   "metadata": {},
   "source": [
    "### [The Ackermann Function [Advanced - Optional]](https://www.coursera.org/learn/algorithms-greedy/lecture/KZvAe/the-ackermann-function-advanced-optional)"
   ]
  },
  {
   "cell_type": "markdown",
   "metadata": {},
   "source": [
    "### [Path Compression: Tarjan's Analysis I [Advanced - Optional]](https://www.coursera.org/learn/algorithms-greedy/lecture/RqR0G/path-compression-tarjans-analysis-i-advanced-optional)"
   ]
  },
  {
   "cell_type": "markdown",
   "metadata": {},
   "source": [
    "### [Path Compression: Tarjan's Analysis II [Advanced - Optional]](https://www.coursera.org/learn/algorithms-greedy/lecture/aqa6f/path-compression-tarjans-analysis-ii-advanced-optional)"
   ]
  }
 ],
 "metadata": {
  "kernelspec": {
   "display_name": "Python 3",
   "language": "python",
   "name": "python3"
  },
  "language_info": {
   "codemirror_mode": {
    "name": "ipython",
    "version": 3
   },
   "file_extension": ".py",
   "mimetype": "text/x-python",
   "name": "python",
   "nbconvert_exporter": "python",
   "pygments_lexer": "ipython3",
   "version": "3.8.3"
  }
 },
 "nbformat": 4,
 "nbformat_minor": 4
}
