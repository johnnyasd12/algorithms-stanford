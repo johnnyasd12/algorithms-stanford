{
 "cells": [
  {
   "cell_type": "markdown",
   "metadata": {},
   "source": [
    "# [Graph Search, Shortest Paths, and Data Structures - Week3](https://www.coursera.org/learn/algorithms-graphs-data-structures/home/week/3)"
   ]
  },
  {
   "cell_type": "markdown",
   "metadata": {},
   "source": [
    "SUGGESTED READINGS FOR WEEK 3: Algorithms Illuminated (Part 2), Chapters 10 and 11. "
   ]
  },
  {
   "cell_type": "markdown",
   "metadata": {},
   "source": [
    "## XII. HEAPS (Week 3)"
   ]
  },
  {
   "cell_type": "markdown",
   "metadata": {},
   "source": [
    "### [Data Structures: Overview](https://www.coursera.org/learn/algorithms-graphs-data-structures/lecture/WHOPA/data-structures-overview)"
   ]
  },
  {
   "cell_type": "markdown",
   "metadata": {},
   "source": [
    "#### Data Structures\n",
    "\n",
    "![](https://i.imgur.com/NEMBj7Z.png)"
   ]
  },
  {
   "cell_type": "markdown",
   "metadata": {},
   "source": [
    "#### Take It to the Next Level\n",
    "\n",
    "![](https://i.imgur.com/gHllh3l.png)\n",
    "- **Level 2 (Good programmer): 知道各種 data structure 的 operations 以及使用時機，可以根據自己的 task 來做合理的應用**\n",
    "    - 這個 level 是本門課主要希望學生擁有的能力。\n",
    "- **Level 3 (hardcore programmer): 不想只是當 data structures 的 client，而是根據自己的 task 設計出最合適的 data structure !!!**\n",
    "    - 本門課將這個 level 會需要的內容放在 optional videos 內，有興趣的話再去看吧"
   ]
  },
  {
   "cell_type": "markdown",
   "metadata": {},
   "source": [
    "### [Heaps: Operations and Applications](https://www.coursera.org/learn/algorithms-graphs-data-structures/lecture/iIzo8/heaps-operations-and-applications)"
   ]
  },
  {
   "cell_type": "markdown",
   "metadata": {},
   "source": [
    "#### Heap: Supported Operations\n",
    "\n",
    "![](https://i.imgur.com/Ibl6qLQ.png)"
   ]
  },
  {
   "cell_type": "markdown",
   "metadata": {},
   "source": [
    "#### Application: Sorting\n",
    "\n",
    "![](https://i.imgur.com/606C2uR.png)"
   ]
  },
  {
   "cell_type": "markdown",
   "metadata": {},
   "source": [
    "#### Application: Event Manager\n",
    "\n",
    "![](https://i.imgur.com/OBj9mh5.png)"
   ]
  },
  {
   "cell_type": "markdown",
   "metadata": {},
   "source": [
    "#### Application: Median Maintenance\n",
    "\n",
    "![](https://i.imgur.com/BDgDYyj.png)"
   ]
  },
  {
   "cell_type": "markdown",
   "metadata": {},
   "source": [
    "#### Application: Speeding Up Dijkstra\n",
    "\n",
    "![](https://i.imgur.com/CHRpHzP.png)"
   ]
  },
  {
   "cell_type": "markdown",
   "metadata": {},
   "source": []
  },
  {
   "cell_type": "markdown",
   "metadata": {},
   "source": []
  },
  {
   "cell_type": "markdown",
   "metadata": {},
   "source": []
  },
  {
   "cell_type": "markdown",
   "metadata": {},
   "source": []
  },
  {
   "cell_type": "markdown",
   "metadata": {},
   "source": []
  },
  {
   "cell_type": "markdown",
   "metadata": {},
   "source": [
    "## XIII. BALANCED BINARY SEARCH TREES (Week 3)"
   ]
  },
  {
   "cell_type": "markdown",
   "metadata": {},
   "source": []
  },
  {
   "cell_type": "markdown",
   "metadata": {},
   "source": []
  },
  {
   "cell_type": "markdown",
   "metadata": {},
   "source": []
  },
  {
   "cell_type": "markdown",
   "metadata": {},
   "source": []
  },
  {
   "cell_type": "markdown",
   "metadata": {},
   "source": []
  }
 ],
 "metadata": {
  "kernelspec": {
   "display_name": "Python 3",
   "language": "python",
   "name": "python3"
  },
  "language_info": {
   "codemirror_mode": {
    "name": "ipython",
    "version": 3
   },
   "file_extension": ".py",
   "mimetype": "text/x-python",
   "name": "python",
   "nbconvert_exporter": "python",
   "pygments_lexer": "ipython3",
   "version": "3.8.3"
  }
 },
 "nbformat": 4,
 "nbformat_minor": 4
}
