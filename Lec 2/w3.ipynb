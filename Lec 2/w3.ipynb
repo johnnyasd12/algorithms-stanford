{
 "cells": [
  {
   "cell_type": "markdown",
   "metadata": {},
   "source": [
    "# [Graph Search, Shortest Paths, and Data Structures - Week3](https://www.coursera.org/learn/algorithms-graphs-data-structures/home/week/3)"
   ]
  },
  {
   "cell_type": "markdown",
   "metadata": {},
   "source": [
    "SUGGESTED READINGS FOR WEEK 3: Algorithms Illuminated (Part 2), Chapters 10 and 11. "
   ]
  },
  {
   "cell_type": "markdown",
   "metadata": {},
   "source": [
    "## XII. HEAPS (Week 3)"
   ]
  },
  {
   "cell_type": "markdown",
   "metadata": {},
   "source": [
    "### [Data Structures: Overview](https://www.coursera.org/learn/algorithms-graphs-data-structures/lecture/WHOPA/data-structures-overview)"
   ]
  },
  {
   "cell_type": "markdown",
   "metadata": {},
   "source": [
    "#### Data Structures\n",
    "\n",
    "![](https://i.imgur.com/NEMBj7Z.png)"
   ]
  },
  {
   "cell_type": "markdown",
   "metadata": {},
   "source": [
    "#### Take It to the Next Level\n",
    "\n",
    "![](https://i.imgur.com/gHllh3l.png)\n",
    "- **Level 2 (Good programmer): 知道各種 data structure 的 operations 以及使用時機，可以根據自己的 task 來選擇合適的 data structure**\n",
    "    - 這個 level 是本門課主要希望學生擁有的能力。\n",
    "- **Level 3 (hardcore programmer): 不想只是當 data structures 的 client，而是根據自己的 task 設計出最合適的 data structure !!!**\n",
    "    - 本門課將這個 level 會需要的內容放在 optional videos 內，想當 hardcore programmer 或有興趣的話可以去看!"
   ]
  },
  {
   "cell_type": "markdown",
   "metadata": {},
   "source": [
    "### [Heaps: Operations and Applications](https://www.coursera.org/learn/algorithms-graphs-data-structures/lecture/iIzo8/heaps-operations-and-applications)"
   ]
  },
  {
   "cell_type": "markdown",
   "metadata": {},
   "source": [
    "#### Heap: Supported Operations\n",
    "\n",
    "![](https://i.imgur.com/Ibl6qLQ.png)\n",
    "- 上週用到的 Heap 可以看成是 a container for objects that have keys\n",
    "    - 這邊可以把 key 想成 value，但要**注意 key 必須可以比大小** (回想 heap 的特性)。\n",
    "    - 一些例子：\n",
    "        - object 是 edges in a graph，key 是 edge length。\n",
    "        - object 是 events，key 是 event 的開始時間。\n",
    "        - object 是 員工紀錄，key 是員工的 social security numbers。@@\n",
    "- 對於任何 data structure，你不只該知道它們支援哪些 operations，也該知道它們的 running time。\n",
    "- Heaps 支援：\n",
    "    - **insertion** in $O(\\log n)$\n",
    "    - **extract-min** in $O(\\log n)$ (或 extract-max，**只能選其中一個**)\n",
    "    - **heapify**: initialize 一個 size 為 $n$ 的 heap in $O(n)$\n",
    "        - 如果直接做 $n$ 次 insert 可能需要花 $O(n\\log n)$，但是用 heapify 的方式只需要 $O(n)$\n",
    "            - > Q: 做 $n$ 次 insert 應該是 $\\le c(\\log 1 + \\log 2 + ... + \\log n)$，雖然的確可以寫成 $O(n\\log n)$? 但怎麼知道沒有更 tight 的 bound 呢? 改天來推推看好了\n",
    "        - > Q: 我真的不確定 heapify 的定義是什麼@@ 改天仔細查查\n",
    "            - 如果說是把 array 整成 heap 的話，(根據網路查到的)步驟似乎是先把 array 變成 binary tree，然後再把 binary tree 變 heap。\n",
    "            - 不過後來好像又看到說 heap 本來就是用 array 來 implement 的 @@\n",
    "    - **delete**: in $O(\\log n)$\n",
    "        - > Q: 這裡指的應該是已經知道 object 的位置了，不包含 search operation 吧(delete by key)??"
   ]
  },
  {
   "cell_type": "markdown",
   "metadata": {},
   "source": [
    "#### Application: Sorting\n",
    "\n",
    "![](https://i.imgur.com/606C2uR.png)\n",
    "- heap 可以加速重複的 minimum computations\n",
    "- 例如 selection sort，我們做的事情是一直去找剩下 array 的最小值出來，放到 sorted part 裡面\n",
    "- 這邊「一直找最小值」的部分就可以利用 heap 加速，其實就是 heap sort\n",
    "    - 先把所有 elements 放到 heap 裡面\n",
    "    - 一個一個拿出 minimum\n",
    "    - > Q: 為何說這樣是 $2n$ 個 heap operations? 第二步是 $n$ 次 extract-min 我理解，但第一步不就 heapify 嗎? 一個一個 insert element 是土法煉鋼吧? 還是我對前面說的 heapify 理解有誤?\n",
    "- summary: heap sort 就是 selection sort 的改良版，從 $O(n^2)$ 變成 $O(n\\log n)$，已經達到 comparison-based sort 的 optimal。"
   ]
  },
  {
   "cell_type": "markdown",
   "metadata": {},
   "source": [
    "#### Application: Event Manager\n",
    "\n",
    "![](https://i.imgur.com/OBj9mh5.png)\n",
    "- **Priority Queue 跟 heap 是同義詞**\n",
    "- 現在有很多個 event 等著被執行，需要找誰是下一個 event?\n",
    "    - 就挑預定執行時間最早的就好啦\n",
    "    - 執行完下一個又要繼續找下下一個... 也就是說我們要不斷地找最早的 event\n",
    "    - 因此我們要不斷 extract minimum of scheduled event time。\n",
    "    - 顯然要用到 heap A_A，然後 key 就是 scheduled event time。"
   ]
  },
  {
   "cell_type": "markdown",
   "metadata": {},
   "source": [
    "#### Application: Median Maintenance\n",
    "\n",
    "![](https://i.imgur.com/BDgDYyj.png)\n",
    "- 每個 time step $i$ 你會拿到數字 $x_1,...,x_i$，每次都要計算 median。\n",
    "    - 給定整串數字，我們當然可以在 linear time $O(i)$ 算出來\n",
    "        - > Q: 修但幾咧，怎麼算我不知道QQ 改天回來想\n",
    "    - 不過就像題目說的，我們的情境是，數字會逐漸增加，一次來一個數字，那 time step $i$ 要怎麼在 $O(\\log i)$ 的時間內算出 median 呢?\n",
    "- 解法\n",
    "    - 可以先把資料分兩部分存：\n",
    "        - 最小的那一半存在 $H_{Low}$，用 max heap 存\n",
    "        - 最大的那一半存在 $H_{High}$，用 min heap 存\n",
    "    - 然後保持 invariant: $H_{Low}$ 就是存最小那一半，$H_{High}$ 就是存最大那一半\n",
    "- You check, in step $i$:\n",
    "    1. can maintain invariant with $O(\\log i)$ work\n",
    "        - 應該就看 $x_i$ 跟 $H_{Low}$ 的 maximum 跟 $H_{High}$ 的 minimum 比大小，根據比較結果跟 heap size 來決定要 insert 到哪個 heap 吧?\n",
    "            - 如果 $x_i$ 的大小介於那兩個值之間，才需要根據 heap size 決定ㄅ\n",
    "            - 還有就是 $x_i$ 插入某個 heap 之後，如果兩個 heap size 不平均，就要把太多的 heap 的極值丟給另外一個 heap，所以還會有一次 extract 跟 insert，都是 $O(\\log i)$。\n",
    "        - 計算 maximum 和 minimum 都是 $O(\\log i)$，insert 也是 $O(\\log i)$，故總工作量也 $O(\\log i)$ 吧\n",
    "    2. given invariant, can compute median in $O(\\log i)$ work\n",
    "        - 應該也是根據兩個 heap 的 size 決定要提取哪個 heap 的 minimum/maximum，所以也是 $O(\\log i)$ 吧"
   ]
  },
  {
   "cell_type": "markdown",
   "metadata": {},
   "source": [
    "#### Application: Speeding Up Dijkstra\n",
    "\n",
    "![](https://i.imgur.com/CHRpHzP.png)\n",
    "- 這個在 week 2 有講過，總之 heap 可以加速 Dijkstra's algorithm 因為他需要一直 extract minimum。\n",
    "- 再次的呈現了，只要使用得宜的 data structure，就可以幫助 algorithm 加速！"
   ]
  },
  {
   "cell_type": "markdown",
   "metadata": {},
   "source": [
    "### [Heaps: Implementation Details [Advanced - Optional]](https://www.coursera.org/learn/algorithms-graphs-data-structures/lecture/KKqlm/heaps-implementation-details-advanced-optional)"
   ]
  },
  {
   "cell_type": "markdown",
   "metadata": {},
   "source": [
    "來不及看這個，下次一定看QQ"
   ]
  },
  {
   "cell_type": "markdown",
   "metadata": {},
   "source": [
    "## XIII. BALANCED BINARY SEARCH TREES (Week 3)"
   ]
  },
  {
   "cell_type": "markdown",
   "metadata": {},
   "source": [
    "### [Balanced Search Trees: Operations and Applications](https://www.coursera.org/learn/algorithms-graphs-data-structures/lecture/juAOg/balanced-search-trees-operations-and-applications)"
   ]
  },
  {
   "cell_type": "markdown",
   "metadata": {},
   "source": [
    "#### Balanced Search Trees: Supported Operations\n",
    "\n",
    "![](https://i.imgur.com/ugk1UgJ.png)\n",
    "- 可以把 balanced search tree 想成是 **dynamic sorted array**，sorted array 支援的操作(和複雜度?) Balanced ST 都支援\n",
    "- operations for a **sorted array**\n",
    "    - search 只需要 $\\theta(\\log n)$ (binary search)\n",
    "    - select (選 $i$-th order statistic，即第 $i$ 小的) 只需要 $O(1)$\n",
    "    - min/max 其實也是 select problem 的 special case，$O(1)$\n",
    "    - predecessor (給定一個 obj pointer，找下一個比它小的)，就 return 它前一個就好啦，$O(1)$\n",
    "    - successor (給定一個 obj pointer，找下一個比它大的)，和 predecessor 同理，$O(1)$\n",
    "    - rank (給定一個 key，比那個 key 小的有多少個?)，直接 search 該 key 即可，$O(\\log n)$\n",
    "    - output in sorted order (就照 sorted 順序 print)，每個 element 花費 constant time，因此 $O(n)$\n",
    "- 但是 sorted array 是 statistic 的，也就是說它不會隨時間改變 (其實要 insert 或 delete 也是可以，但是需要 $O(n)$，太慢了。除非你很少需要 insert 和 delete，不然很花時間。)\n",
    "- raison d'être(法文? a reason for existence) of **Balanced Search Trees** is like **sorted array + fast (logarithmic) inserts + deletes**\n",
    "    - 要注意 select、min/max、pred/succ 不再是 constant time，而是上升到 $\\theta(\\log n)$\n",
    "- heap 也支援 insert, delete in $O(\\log n)$，且 keep track of minimum\n",
    "    - 所以如果只需要 insert, delete, remember minimum 的話，用 heap 就好。用 Balanced ST 是 overkill (多此一舉)。\n",
    "        - 因為雖然兩者的 insert, delete 都是 $O(\\log n)$，但是 constant factor $c$ 是 heap 贏 BST (不論是 time 還是 space)\n",
    "    - 如果只是 check minimum 的話應該是 $O(1)$? 要 delete 的話才是 $O(\\log n)$\n",
    "    - slide typo: heap 的上面應該指到 min/max 而不是 select\n",
    "- hash table 的話，insertion 跟 search 超快，$O(1)$ (有的 implementation 也可以快速 delete)。因此如果只會常需要判斷某 object「是否在裡面」(look up)，就可以用 hash table。\n",
    "- 如果你需要各式各樣的 operations (如 slide 所列)，那麼 balanced search tree 是個好選擇。"
   ]
  },
  {
   "cell_type": "markdown",
   "metadata": {},
   "source": [
    "### [Binary Search Tree Basics, Part I](https://www.coursera.org/learn/algorithms-graphs-data-structures/lecture/1FBl2/binary-search-tree-basics-part-i)"
   ]
  },
  {
   "cell_type": "markdown",
   "metadata": {},
   "source": [
    "#### Binary Search Tree Structure\n",
    "\n",
    "- **從這裡開始，只要是 binary search tree (BST) 都適用 (不論是 balanced 還是 unblanced)**\n",
    "\n",
    "![](https://i.imgur.com/2mqzUUD.png)\n",
    "- Search Tree Property\n",
    "    - 只要是 node 左邊的 **subtree 裡面的任何 node，key 都小於(or等於) 該 node 的 key**；右邊則反之。\n",
    "    - 這樣的 property 就是要方便你 search。(比 key 小就往左走，反之往右)\n",
    "- 回頭看一下 (min) heap 的 property，就是要方便你取得 minimum。\n",
    "- > Q: 後來思考了一下感覺 recursion tree 其實可以用 search tree 來表示嗎? key 是執行順序，左邊的先執行(因此 key 較小)；右邊的後執行(因此 key 較大)"
   ]
  },
  {
   "cell_type": "markdown",
   "metadata": {},
   "source": [
    "#### The Height of a BST\n",
    "\n",
    "![](https://i.imgur.com/35OcEdy.png)\n",
    "- height 也可稱作 depth\n",
    "- slide typo: best case 跟 worst case 寫反了。"
   ]
  },
  {
   "cell_type": "markdown",
   "metadata": {},
   "source": [
    "#### Searching and Inserting\n",
    "\n",
    "![](https://i.imgur.com/6gyu61N.png)\n",
    "- searching 很簡單，跟 node key 比，較小往左，較大往右。最後有找到就 return，沒找到(即走到最後是 null)也 return null\n",
    "- insert 直接拿 searching 的來用，沒找到 key 最後會走到 null，把 null 替換成你要的 key (node) 即可\n",
    "    - 而這樣的 procedure 可以保留 search tree 的特性，自己想想看吧"
   ]
  },
  {
   "cell_type": "markdown",
   "metadata": {},
   "source": [
    "### [Binary Search Tree Basics, Part II](https://www.coursera.org/learn/algorithms-graphs-data-structures/lecture/cXMbA/binary-search-tree-basics-part-ii)"
   ]
  },
  {
   "cell_type": "markdown",
   "metadata": {},
   "source": [
    "#### Quiz: BST Worst-Case Running Time of Search (or Insert)\n",
    "\n",
    "![](https://i.imgur.com/RxSB5vf.png)\n",
    "- **只知道 size $n$ 是沒辦法直接推論出 wosrt-case searching time 的，必須要知道 tree 的 structure 才行 !!!**"
   ]
  },
  {
   "cell_type": "markdown",
   "metadata": {},
   "source": [
    "#### Min, Max, Pred, and Succ\n",
    "\n",
    "![](https://i.imgur.com/F70DXtD.png)\n",
    "- min/max 很簡單不多說\n",
    "- pred (找只比 node key 小一個 order 的 node，即比 key 小的最大值)，分兩種情況：\n",
    "    - easy case (有 左 sub-tree): 那就找它 left subtree 的 maximum (即最右邊)\n",
    "    - otherwise (左邊沒 sub-tree): 往 parent 找，第一次找到比自己小的(即第一次左轉)就是它了。\n",
    "- *Exercise*: 證明上面的 procedure 可以找到 pred\n",
    "    - > 分 2 個狀況：\n",
    "        - start node 沒有 left sub-tree: \n",
    "            - 不可能往 right sub-tree 走，因為所有 node key 都比 start key 大\n",
    "            - 第一步往 parent 的話，又分兩種情況\n",
    "                - (若只往 parent 走) 走一走遇到右 parent，一定比 start key 大 (因為 start key 被包括在它的 left subtree 內)，而要往它的 child 走就只能走 right sub-tree，但是我們要找比 start key 小的，所以只能繼續往 parent 走。\n",
    "                - (若只往 parent 走) 走一走遇到左 parent，一定比 start key 小 (因為 start key 被包括在它的 right subtree 內)，而要往它的 child 走就只能走 left sub-tree，但是我們要找 maximum，所以要嘛選它，要嘛繼續往 parent 走。\n",
    "                    - 啊上面說過遇到右 parent 就只能繼續走，那左 parent 呢? 第二次之後遇到的左 parent (跟它的 left subtree) 一定都比第一次遇到的 parent 還要小啊，因此只能選第一次遇到的 left parent。 **得證(1)**\n",
    "        - 有 left sub-tree: 我們知道 left sub-tree 的所有 node key 都會比 start key 小，所以如果走 sub-tree 之後一定要找最大值(只會往右)。那 left sub-tree 跟第一次遇到的左 parent 比呢?\n",
    "            - left sub-tree 會被包含於那個左 parent 的 right sub-tree，也就是說 LST 會比左 parent 大，因此我們要選 LST。 **得證(2)**\n",
    "    - > Q: 乾我的證明太複雜了一定有更簡單的 = ="
   ]
  },
  {
   "cell_type": "markdown",
   "metadata": {},
   "source": [
    "#### Quiz: BST Worst-Case Running Time of the Max Operation\n",
    "\n",
    "![](https://i.imgur.com/6lactk0.png)\n",
    "- 跟上個 quiz 同理。"
   ]
  },
  {
   "cell_type": "markdown",
   "metadata": {},
   "source": [
    "#### In-Order Traversal\n",
    "\n",
    "(以下分別簡稱 left subtree 及 right subtree 作 TL 及 TR。)\n",
    "![](https://i.imgur.com/J2OKd6W.png)\n",
    "- 要怎麼在 BST 裡面從小到大 print 出 keys 呢?\n",
    "    - 回想 BST 的性質：TL 的 keys 一定都小於 root key；TR 反之。\n",
    "    - 所以可以很簡單的用 recursive 的方式 print 出來：先 recursively print TL，再 print root key，再 recursively print TR。\n",
    "        - 這樣的 traverse 也叫 **in-order traversal**\n",
    "    - 時間複雜度: $O(n)$。\n",
    "    - meta-knowledge: **只要想想「每個 recursive call 本身的 work 量」，以及「一共有多少個 recursive call」就知道整體時間複雜度了。**\n"
   ]
  },
  {
   "cell_type": "markdown",
   "metadata": {},
   "source": [
    "#### Deletion\n",
    "\n",
    "![](https://i.imgur.com/QkSiHQx.png)\n",
    "(對於多數的 data structure 而言，deletion 是最 difficult 的 operation。)\n",
    "- deletion for BST\n",
    "    - 先 search key $k$ 找到 node\n",
    "    - 如果 node 沒有 children，就直接刪\n",
    "    - 如果 node 只有 1 個 child，就把 child 接到 node 本來的位置。\n",
    "        - 這樣仍然可以保留 BST 的特性\n",
    "    - 如果 node 有 2 個 children 呢?"
   ]
  },
  {
   "cell_type": "markdown",
   "metadata": {},
   "source": [
    "#### Deletion (con'd)\n",
    "\n",
    "![](https://i.imgur.com/ql3CuID.png)\n",
    "- 如果 $k$ 的 node 有兩個 children，就直接把 $k$ 跟 predecessor 的 node 交換，再刪掉 $k$。\n",
    "    - 因為兩邊都有 children，所以執行 predecessor 就會走到 TL 的最右邊的 leaf，這樣交換之後就很容易刪掉 (因為沒有 right child 了，要嘛完全沒有 child (可以直接刪)，要嘛只有 left child (那就把 left child 接到現在的位置))\n",
    "- *Exercise: 為何這樣可以保持 valid search tree property?*\n",
    "    - > 是因為 $k$ 跟 $l$ 的 order 幾乎一樣嗎?\n",
    "        - 這樣的話是不是也可以用 successor?"
   ]
  },
  {
   "cell_type": "markdown",
   "metadata": {},
   "source": [
    "#### Select and Rank\n",
    "\n",
    "![](https://i.imgur.com/ima6VYh.png)\n",
    "- **select** 就是在找 第 $i$ 小的 node\n",
    "- **rank** 就是 given 一個 value，找有多少個 key 比它小\n",
    "- 我們額外紀錄以每個 node 為 root 時的 subtree size。\n",
    "- *Exercise: insert 以及 delete 的時候也很容易 maintain 這個 information，而且 running time complexity 不變*\n",
    "    - > insert 應該就是在 search 時經過的每個 node 都加 1 吧，也不用回頭才加?\n",
    "    - > delete 之後再想\n"
   ]
  },
  {
   "cell_type": "markdown",
   "metadata": {},
   "source": [
    "#### Select and Rank (con'd)\n",
    "\n",
    "![](https://i.imgur.com/6KFqR9i.png)\n",
    "- select 的做法我覺得跟 quick sort 的 pivoting 滿像的\n",
    "    - slide typo: if $a\\ge i$，而不是 $I$\n",
    "    - running time: $\\theta(\\rm{height})$\n",
    "- *Exercise: implement RANK*\n",
    "    - > 下次QQ"
   ]
  },
  {
   "cell_type": "markdown",
   "metadata": {},
   "source": [
    "### [Red-Black Trees](https://www.coursera.org/learn/algorithms-graphs-data-structures/lecture/8acpe/red-black-trees)"
   ]
  },
  {
   "cell_type": "markdown",
   "metadata": {},
   "source": [
    "#### Binary Search Tree Structure (Review)\n",
    "- 先回想一下 BST 的 properties"
   ]
  },
  {
   "cell_type": "markdown",
   "metadata": {},
   "source": [
    "#### The Height of a BST (Review)\n",
    "- 再回想一下 BST 的 depth (worst case & best case)"
   ]
  },
  {
   "cell_type": "markdown",
   "metadata": {},
   "source": [
    "#### Balanced Search Trees\n",
    "\n",
    "![](https://i.imgur.com/3G6p1ue.png)\n",
    "- 為何想要 small height? 因為很多 operations 的複雜度都 depend on tree height!\n",
    "- red-black trees\n",
    "    - 只需要從 binary search tree (BST) 修改 insert, delete 即可。\n",
    "- AVL trees\n",
    "    - 跟 red black trees 很類似，只需要從 BST 修改 insert, delete 即可。\n",
    "- splay trees\n",
    "    - 不僅 insert, delete，連 search (look up) 都會修改 tree，因此又稱 self-adjusting trees。\n",
    "- B trees\n",
    "    - 常用於實作 databases\n",
    "    - 一個 node 有很多 keys，也有很多 branches。\n",
    "    - 它不是 BST，為何不用 binary 是為了更好地 match up with the memory hierarchy。"
   ]
  },
  {
   "cell_type": "markdown",
   "metadata": {},
   "source": [
    "#### Red-Black Invariants\n",
    "\n",
    "![](https://i.imgur.com/DVKWjuY.png)\n",
    "3. no 2 reds in a row 意思就是 red node 必須只有 black children。\n",
    "    - 思考一下就知道，red node 的 parent 一定是 black node。\n",
    "    - > Q: red node 只有 black children 意思應該只是下一層的 children 而不是指整個 subtree 吧\n",
    "        - Q: 那我就不懂 **in a row** 是啥意思啦????\n",
    "            - 後來覺得「in a row」應該是說「用一個 edge 連起來的兩個 node」吧\n",
    "        - 所以這個 invariant 的意思應該只是在說兩個 red node 不能連在一起?\n",
    "4. 每個 root-NULL path 有相同數量的 black nodes。\n",
    "    - 可以想成是任何 unsuccessful search 的 path\n",
    "    - > 注意**不只是** root-leaf，因為 **root-NULL path 最後不一定會停在 leaf 上。**"
   ]
  },
  {
   "cell_type": "markdown",
   "metadata": {},
   "source": [
    "#### Example #1\n",
    "\n",
    "![](https://i.imgur.com/pD5Jnqe.png)\n",
    "- Claim: 能不能把一個 length-3 chain 塗顏色塗成 red-black tree 呢? 不行！\n",
    "- 根據 invariant 3，node 2 跟 3 只有 3 種塗法：node 2 跟 3 其中一個塗紅色，不然就都塗成黑色。\n",
    "- 假設我們只把 node 2 塗成 red。\n",
    "    - 從 root 往沒 child 的方向走直接 NULL：共 1 black node\n",
    "    - 從 root 一直走到 leaf 然後 NULL：共 2 black node\n",
    "    - 兩條 path 的 # of black node 不一樣，違反 invariant 4。\n",
    "- 同理，另外兩種塗法也違反 invariant 4。"
   ]
  },
  {
   "cell_type": "markdown",
   "metadata": {},
   "source": [
    "#### Example #2\n",
    "\n",
    "![](https://i.imgur.com/1fIudmd.png)\n",
    "我們先看 5-3-7 這個 tree 能不能塗成 red-black tree?\n",
    "- 可以，把 3 跟 7 都塗成黑色就滿足那 4 個 invariants 了。\n",
    "    - invariant 4 也滿足因為 tree 已經是 perfectly balanced，不論怎麼走 black nodes 數量都一樣。\n",
    "    - > Q: 那如果把 3 跟 7 都塗成紅色應該也滿足?\n",
    "\n",
    "接下來我們要 insert 一個 node (6) 到 5-3-7 tree，如何才能繼續保持 invariants 呢?\n",
    "- **只要找到一種塗法可以滿足那 4 個 invariants 就是 red-black tree**\n",
    "- 把 node 6 變成 red 即可\n",
    "\n",
    "再 insert node (8) 到 5-3-7-6 tree，想保持 invariants\n",
    "- 把 node 8 也變成 red 即可\n",
    "- 不過這並不是唯一的塗法。\n",
    "\n",
    "![](https://i.imgur.com/wh5JQlV.png)\n",
    "- 剛剛的塗法 node 6 跟 8 是紅色的，我們可以把這兩個 red 往上推到 node 7，這樣所有的 root-NULL path 所經過的 black nodes 數量跟剛剛是一樣的。\n",
    "    - > Q: 因為所有的 7-NULL 的 path 都剛好一個紅色，所以可以把 subtree 的紅色集中到 node 7 上?\n"
   ]
  },
  {
   "cell_type": "markdown",
   "metadata": {},
   "source": [
    "#### Height Guarantee\n",
    "\n",
    "![](https://i.imgur.com/eZcQc47.png)\n",
    "- 只要能滿足那 4 個 invariants，就可以保證 height 只有 logarithm\n",
    "- Claim: 任意 $n$ 個 nodes 的 red-black tree 的 height 都 $\\le 2\\log_2 (n+1)$\n",
    "- Observation: 如果任何 root-NULL path 都有 $\\ge k$ nodes，那麼前 $k-1$ 層必須是 fully grown (即 perfectly balanced search tree)\n",
    "    - 思考: 因為如果前 $k-1$ 層不是 perfectly balanced，就代表有缺某個 node，這時候就會有 root-NULL path 是 $k-1\\lt k$ 個 node。"
   ]
  },
  {
   "cell_type": "markdown",
   "metadata": {},
   "source": [
    "#### Height Guarantee (con'd)\n",
    "\n",
    "![](https://i.imgur.com/zhEhzby.png)"
   ]
  },
  {
   "cell_type": "markdown",
   "metadata": {},
   "source": [
    "#### Quiz: Operations to be Re-Implemented for the Red-Black Tree\n",
    "\n",
    "![](https://i.imgur.com/2NBngwL.png)"
   ]
  },
  {
   "cell_type": "markdown",
   "metadata": {},
   "source": [
    "### [Rotations [Advanced - Optional]](https://www.coursera.org/learn/algorithms-graphs-data-structures/lecture/JV7KI/rotations-advanced-optional)"
   ]
  },
  {
   "cell_type": "markdown",
   "metadata": {},
   "source": [
    "下次再看QQ"
   ]
  },
  {
   "cell_type": "markdown",
   "metadata": {},
   "source": [
    "### [Insertion in a Red-Black Tree [Advanced]](https://www.coursera.org/learn/algorithms-graphs-data-structures/lecture/jPL2x/insertion-in-a-red-black-tree-advanced)"
   ]
  },
  {
   "cell_type": "markdown",
   "metadata": {},
   "source": [
    "下次再看QQ"
   ]
  }
 ],
 "metadata": {
  "kernelspec": {
   "display_name": "Python 3",
   "language": "python",
   "name": "python3"
  },
  "language_info": {
   "codemirror_mode": {
    "name": "ipython",
    "version": 3
   },
   "file_extension": ".py",
   "mimetype": "text/x-python",
   "name": "python",
   "nbconvert_exporter": "python",
   "pygments_lexer": "ipython3",
   "version": "3.8.3"
  }
 },
 "nbformat": 4,
 "nbformat_minor": 4
}
