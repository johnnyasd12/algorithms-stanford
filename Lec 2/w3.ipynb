{
 "cells": [
  {
   "cell_type": "markdown",
   "metadata": {},
   "source": [
    "# [Graph Search, Shortest Paths, and Data Structures - Week3](https://www.coursera.org/learn/algorithms-graphs-data-structures/home/week/3)"
   ]
  },
  {
   "cell_type": "markdown",
   "metadata": {},
   "source": [
    "SUGGESTED READINGS FOR WEEK 3: Algorithms Illuminated (Part 2), Chapters 10 and 11. "
   ]
  },
  {
   "cell_type": "markdown",
   "metadata": {},
   "source": [
    "## XII. HEAPS (Week 3)"
   ]
  },
  {
   "cell_type": "markdown",
   "metadata": {},
   "source": [
    "### [Data Structures: Overview](https://www.coursera.org/learn/algorithms-graphs-data-structures/lecture/WHOPA/data-structures-overview)"
   ]
  },
  {
   "cell_type": "markdown",
   "metadata": {},
   "source": [
    "#### Data Structures\n",
    "\n",
    "![](https://i.imgur.com/NEMBj7Z.png)"
   ]
  },
  {
   "cell_type": "markdown",
   "metadata": {},
   "source": [
    "#### Take It to the Next Level\n",
    "\n",
    "![](https://i.imgur.com/gHllh3l.png)\n",
    "- **Level 2 (Good programmer): 知道各種 data structure 的 operations 以及使用時機，可以根據自己的 task 來選擇合適的 data structure**\n",
    "    - 這個 level 是本門課主要希望學生擁有的能力。\n",
    "- **Level 3 (hardcore programmer): 不想只是當 data structures 的 client，而是根據自己的 task 設計出最合適的 data structure !!!**\n",
    "    - 本門課將這個 level 會需要的內容放在 optional videos 內，想當 hardcore programmer 或有興趣的話可以去看!"
   ]
  },
  {
   "cell_type": "markdown",
   "metadata": {},
   "source": [
    "### [Heaps: Operations and Applications](https://www.coursera.org/learn/algorithms-graphs-data-structures/lecture/iIzo8/heaps-operations-and-applications)"
   ]
  },
  {
   "cell_type": "markdown",
   "metadata": {},
   "source": [
    "#### Heap: Supported Operations\n",
    "\n",
    "![](https://i.imgur.com/Ibl6qLQ.png)\n",
    "- Heap 可以看成是 a container for objects that have keys\n",
    "    - 這邊可以把 key 想成 value，但要**注意 key 必須可以比大小** (回想 heap 的特性)。\n",
    "    - 一些例子：\n",
    "        - object 是 edges in a graph，key 是 edge length。\n",
    "        - object 是 events，key 是 event 的開始時間。\n",
    "        - object 是 員工紀錄，key 是員工的 social security numbers。@@\n",
    "- 對於任何 data structure，你不只該知道它們支援哪些 operations，也該知道它們的 running time。\n",
    "- Heaps 支援：\n",
    "    - **insertion** in $O(\\log n)$\n",
    "    - **extract-min** in $O(\\log n)$ (或 extract-max，**只能選其中一個**)\n",
    "    - **heapify**: initialize 一個 size 為 $n$ 的 heap in $O(n)$\n",
    "        - 如果直接做 $n$ 次 insert 可能需要花 $O(n\\log n)$，但是用 heapify 的方式只需要 $O(n)$\n",
    "            - > Q: 做 $n$ 次 insert 應該是 $\\le c(\\log 1 + \\log 2 + ... + \\log n)$，雖然的確可以寫成 $O(n\\log n)$? 但怎麼知道沒有更 tight 的 bound 呢? 改天來推推看好了\n",
    "        - > Q: 我真的不確定 heapify 的定義是什麼@@ 改天仔細查查\n",
    "            - 如果說是把 array 整成 heap 的話，(根據網路查到的)步驟似乎是先把 array 變成 binary tree，然後再把 binary tree 變 heap。\n",
    "    - **delete**: in $O(\\log n)$\n",
    "        - > Q: 這裡指的應該是已經知道 object 的位置了，不包含 search operation 吧(delete by key)??"
   ]
  },
  {
   "cell_type": "markdown",
   "metadata": {},
   "source": [
    "#### Application: Sorting\n",
    "\n",
    "![](https://i.imgur.com/606C2uR.png)\n",
    "- heap 可以加速重複的 minimum computations\n",
    "- 例如 selection sort，我們做的事情是一直去找剩下 array 的最小值出來，放到 sorted part 裡面\n",
    "- 這邊「一直找最小值」的部分就可以利用 heap 加速，其實就是 heap sort\n",
    "    - 先把所有 elements 放到 heap 裡面\n",
    "    - 一個一個拿出 minimum\n",
    "    - > Q: 為何說這樣是 $2n$ 個 heap operations? 第二步是 $n$ 次 extract-min 我理解，但第一步不就 heapify 嗎? 一個一個 insert element 是土法煉鋼吧? 還是我對前面說的 heapify 理解有誤?\n",
    "- summary: heap sort 就是 selection sort 的改良版，從 $O(n^2)$ 變成 $O(n\\log n)$，已經達到 comparison-based sort 的 optimal。"
   ]
  },
  {
   "cell_type": "markdown",
   "metadata": {},
   "source": [
    "#### Application: Event Manager\n",
    "\n",
    "![](https://i.imgur.com/OBj9mh5.png)\n",
    "- **Priority Queue 跟 heap 是同義詞**\n",
    "- 現在有很多個 event 等著被執行，需要找誰是下一個 event?\n",
    "    - 就挑預定執行時間最早的就好啦\n",
    "    - 執行完下一個又要繼續找下下一個... 也就是說我們要不斷地找最早的 event\n",
    "    - 因此我們要不斷 extract minimum of scheduled event time。\n",
    "    - 顯然要用到 heap A_A，然後 key 就是 scheduled event time。"
   ]
  },
  {
   "cell_type": "markdown",
   "metadata": {},
   "source": [
    "#### Application: Median Maintenance\n",
    "\n",
    "![](https://i.imgur.com/BDgDYyj.png)\n",
    "- 每個 time step $i$ 你會拿到數字 $x_1,...,x_i$，每次都要計算 median。\n",
    "    - 給定整串數字，我們當然可以在 linear time $O(i)$ 算出來\n",
    "        - > Q: 修但幾咧，怎麼算我不知道QQ 改天回來想\n",
    "    - 不過就像題目說的，我們的情境是，數字會逐漸增加，一次來一個數字，那 time step $i$ 要怎麼在 $O(\\log i)$ 的時間內算出 median 呢?\n",
    "- 解法\n",
    "    - 可以先把資料分兩部分存：\n",
    "        - 最小的那一半存在 $H_{Low}$，用 max heap 存\n",
    "        - 最大的那一半存在 $H_{High}$，用 min heap 存\n",
    "    - 然後保持 invariant: $H_{Low}$ 就是存最小那一半，$H_{High}$ 就是存最大那一半\n",
    "- You check, in step $i$:\n",
    "    1. can maintain invariant with $O(\\log i)$ work\n",
    "        - 應該就看 $x_i$ 跟 $H_{Low}$ 的 maximum 跟 $H_{High}$ 的 minimum 比大小，根據比較結果跟 heap size 來決定要 insert 到哪個 heap 吧?\n",
    "            - 如果 $x_i$ 的大小介於那兩個值之間，才需要根據 heap size 決定ㄅ\n",
    "            - 還有就是 $x_i$ 插入某個 heap 之後，如果兩個 heap size 不平均，就要把太多的 heap 的極值丟給另外一個 heap，所以還會有一次 extract 跟 insert，都是 $O(\\log i)$。\n",
    "        - 計算 maximum 和 minimum 都是 $O(\\log i)$，insert 也是 $O(\\log i)$，故總工作量也 $O(\\log i)$ 吧\n",
    "    2. given invariant, can compute median in $O(\\log i)$ work\n",
    "        - 應該也是根據兩個 heap 的 size 決定要提取哪個 heap 的 minimum/maximum，所以也是 $O(\\log i)$ 吧"
   ]
  },
  {
   "cell_type": "markdown",
   "metadata": {},
   "source": [
    "#### Application: Speeding Up Dijkstra\n",
    "\n",
    "![](https://i.imgur.com/CHRpHzP.png)\n",
    "- 這個在 week 2 有講過，總之 heap 可以加速 Dijkstra's algorithm 因為他需要一直 extract minimum。\n",
    "- 再次的呈現了，只要使用得宜的 data structure，就可以幫助 algorithm 加速！"
   ]
  },
  {
   "cell_type": "markdown",
   "metadata": {},
   "source": [
    "### [Heaps: Implementation Details [Advanced - Optional]](https://www.coursera.org/learn/algorithms-graphs-data-structures/lecture/KKqlm/heaps-implementation-details-advanced-optional)"
   ]
  },
  {
   "cell_type": "markdown",
   "metadata": {},
   "source": [
    "來不及看這個，下次一定看QQ"
   ]
  },
  {
   "cell_type": "markdown",
   "metadata": {},
   "source": [
    "## XIII. BALANCED BINARY SEARCH TREES (Week 3)"
   ]
  },
  {
   "cell_type": "markdown",
   "metadata": {},
   "source": [
    "### [Balanced Search Trees: Operations and Applications](https://www.coursera.org/learn/algorithms-graphs-data-structures/lecture/juAOg/balanced-search-trees-operations-and-applications)"
   ]
  },
  {
   "cell_type": "markdown",
   "metadata": {},
   "source": [
    "#### Balanced Search Trees: Supported Operations\n",
    "\n",
    "![](https://i.imgur.com/ugk1UgJ.png)"
   ]
  },
  {
   "cell_type": "markdown",
   "metadata": {},
   "source": [
    "#### The Height of a BST\n",
    "\n",
    "![](https://i.imgur.com/35OcEdy.png)\n",
    "- > Q: best case 跟 worst case 寫反了吧?"
   ]
  },
  {
   "cell_type": "markdown",
   "metadata": {},
   "source": [
    "#### Searching and Inserting\n",
    "\n",
    "![](https://i.imgur.com/6gyu61N.png)"
   ]
  },
  {
   "cell_type": "markdown",
   "metadata": {},
   "source": [
    "#### Quiz: ???\n",
    "\n",
    "![](https://i.imgur.com/RxSB5vf.png)"
   ]
  },
  {
   "cell_type": "markdown",
   "metadata": {},
   "source": [
    "#### Min, Max, Pred, and Succ\n",
    "\n",
    "![](https://i.imgur.com/F70DXtD.png)"
   ]
  },
  {
   "cell_type": "markdown",
   "metadata": {},
   "source": [
    "#### Quiz: ???\n",
    "\n",
    "![](https://i.imgur.com/6lactk0.png)"
   ]
  },
  {
   "cell_type": "markdown",
   "metadata": {},
   "source": [
    "#### In-Order Traversal\n",
    "\n",
    "![](https://i.imgur.com/J2OKd6W.png)"
   ]
  },
  {
   "cell_type": "markdown",
   "metadata": {},
   "source": [
    "#### Deletion\n",
    "\n",
    "![](https://i.imgur.com/QkSiHQx.png)"
   ]
  },
  {
   "cell_type": "markdown",
   "metadata": {},
   "source": [
    "#### Deletion (con'd)\n",
    "\n",
    "![](https://i.imgur.com/ql3CuID.png)"
   ]
  },
  {
   "cell_type": "markdown",
   "metadata": {},
   "source": [
    "#### Select and Rank\n",
    "\n",
    "![](https://i.imgur.com/ima6VYh.png)"
   ]
  },
  {
   "cell_type": "markdown",
   "metadata": {},
   "source": [
    "#### Select and Rank (con'd)\n",
    "\n",
    "![](https://i.imgur.com/6KFqR9i.png)"
   ]
  },
  {
   "cell_type": "markdown",
   "metadata": {},
   "source": []
  },
  {
   "cell_type": "markdown",
   "metadata": {},
   "source": []
  },
  {
   "cell_type": "markdown",
   "metadata": {},
   "source": []
  }
 ],
 "metadata": {
  "kernelspec": {
   "display_name": "Python 3",
   "language": "python",
   "name": "python3"
  },
  "language_info": {
   "codemirror_mode": {
    "name": "ipython",
    "version": 3
   },
   "file_extension": ".py",
   "mimetype": "text/x-python",
   "name": "python",
   "nbconvert_exporter": "python",
   "pygments_lexer": "ipython3",
   "version": "3.8.3"
  }
 },
 "nbformat": 4,
 "nbformat_minor": 4
}
