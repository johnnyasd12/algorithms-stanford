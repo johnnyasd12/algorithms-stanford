{
 "cells": [
  {
   "cell_type": "markdown",
   "metadata": {},
   "source": [
    "# [Graph Search, Shortest Paths, and Data Structures - Week1](https://www.coursera.org/learn/algorithms-graphs-data-structures/home/week/1)"
   ]
  },
  {
   "cell_type": "markdown",
   "metadata": {},
   "source": [
    "## X. Graph Search and Connectivity"
   ]
  },
  {
   "cell_type": "markdown",
   "metadata": {},
   "source": [
    "### [Graph Search - Overview](https://www.coursera.org/learn/algorithms-graphs-data-structures/lecture/NX0BI/graph-search-overview)"
   ]
  },
  {
   "cell_type": "markdown",
   "metadata": {},
   "source": [
    "#### A Few Motivations\n",
    "\n",
    "![](https://i.imgur.com/ZkebfhA.png)"
   ]
  },
  {
   "cell_type": "markdown",
   "metadata": {},
   "source": [
    "#### Generic Graph Search\n",
    "\n",
    "![](https://i.imgur.com/6qPzYRY.png)\n",
    "- Goals:\n",
    "    1. find everything findable from a given start vertex\n",
    "    2. don't explore anything twice\n",
    "- > Q: Goal: $O(m+n)$ time 是?"
   ]
  },
  {
   "cell_type": "markdown",
   "metadata": {},
   "source": [
    "#### Generic Graph Search (con'd)\n",
    "\n",
    "![](https://i.imgur.com/K14Hpjz.png)\n",
    "- Claim: at end of the algorithm, $v$ explored $\\iff$ $G$ has a path from $s$ to $v$\n",
    "- Proof ($\\implies$): By induction (I check)\n",
    "    > - When $n=1$: $v=s$ is explored thus $s$ has a path to $v$ (?), thus $n=1$ holds. \n",
    "    > - When $n>1$: if $v$ is explored by edge $(u,v)$, then vertex $u$ must be explored before.\n",
    "    > - the graph without vertex $v$ has only $n-1$ vertices. Thus there must be path from $s$ to $u$ (by induction hypothesis). \n",
    "    > - Since there's a path from $s$ to $u$ and an edge $(u,v)$, there's path from $s$ to $v$. Q.E.D.\n",
    "- Proof ($\\impliedby$): By contradiction\n",
    "    - 看 slide\n",
    "- 而這個通用的 graph search 主要有兩種 instantiation\n",
    "    - Breadth-First Search\n",
    "    - Depth-First Search"
   ]
  },
  {
   "cell_type": "markdown",
   "metadata": {},
   "source": [
    "#### BFS vs. DFS\n",
    "\n",
    "![](https://i.imgur.com/ryJuUlR.png)\n",
    "- 根據 generic graph search 可以把 graph 分成 explored 跟 unexplored，而這兩個 set 之間有 crossing edges\n",
    "    - 如果是 directed graph，則只看 tail 在 explored，head 在 unexplored 的 edges (explored $\\rightarrow$ unexplored)。\n",
    "- 我們有許多 strategy 可以挑 unexplored node，根據 strategy 的不同就有不同的 graph search algorithm。\n",
    "- BFS\n",
    "    - connected component (in undirected graphs) 可以用任何 graph search algorithm 來找\n",
    "        - 但是我們可以用 linear time $O(m+n)$ 找到，利用 looped version of BFS + queue(FIFO)。\n",
    "- DFS\n",
    "    - DFS 在 directed (acyclic?) graph 很強\n",
    "        - 其中一個原因是 directed graphs 定義 connected component 的方式比較 tricky @@?\n",
    "    - 適合使用 stack(LIFO)\n",
    "    - 而且不需要特地 explicitly 做 stack，recursion 已經 implicitly 做了 stack。\n",
    "- topological ordering\n",
    "    - 用途：例如有一些 task 需要排序，又有優先順序的限制。例如修課的順序。"
   ]
  },
  {
   "cell_type": "markdown",
   "metadata": {},
   "source": [
    "### [Breadth-First Search (BFS): The Basics](https://www.coursera.org/learn/algorithms-graphs-data-structures/lecture/JZRXz/breadth-first-search-bfs-the-basics)"
   ]
  },
  {
   "cell_type": "markdown",
   "metadata": {},
   "source": [
    "#### Overview and Example\n",
    "\n",
    "![](https://i.imgur.com/mQwuD7o.png)\n",
    "- layer $0$ 為 $s$，layer $1$ 為 $s$ 的 neighbors\n"
   ]
  },
  {
   "cell_type": "markdown",
   "metadata": {},
   "source": [
    "#### The Code (BFS)\n",
    "\n",
    "![](https://i.imgur.com/oVDfU8h.png)\n",
    "- 不論 undirected 或 directed 都適用，不過我們 focus 在 undirected graph。\n",
    "- > Q: 每個 edge 會被 check (if explored) 剛好兩次?\n",
    "- 因為用了 **queue**，所以才能：\n",
    "    - **remove first node in constant time**\n",
    "    - **add node to the end in constant time**\n",
    "- > Q: 為何要 First-In First-Out 呢?\n",
    "    - 思考 in 代表的意義：先放著，等等處理它(後面的 path??)\n",
    "    - 思考 out 代表的意義：處理完它(後面的 path??) 了"
   ]
  },
  {
   "cell_type": "markdown",
   "metadata": {},
   "source": [
    "#### Basic BFS Properties\n",
    "\n",
    "![](https://i.imgur.com/FmCTWla.png)\n",
    "- Claim 2\n",
    "    - $n_s$ 的部分，時間花在「把某 node 丟進 queue」以及「從 queue 中刪除某 node」\n",
    "    - $m_s$ 的部分，會 check 某 edge 最多兩次"
   ]
  },
  {
   "cell_type": "markdown",
   "metadata": {},
   "source": [
    "### [BFS and Shortest Paths](https://www.coursera.org/learn/algorithms-graphs-data-structures/lecture/ZAaJA/bfs-and-shortest-paths)"
   ]
  },
  {
   "cell_type": "markdown",
   "metadata": {},
   "source": [
    "#### Application: Shortest Paths\n",
    "\n",
    "![](https://i.imgur.com/DgxMZ4W.png)\n",
    "- > Q: layer 的定義前面有提到嗎@@? 該看影片了Orz\n",
    "- 可以用 induction 證明。\n",
    "- > Q: proof 改天證\n",
    "- **BFS 特別的地方就在於它可以找 shortest paths**"
   ]
  },
  {
   "cell_type": "markdown",
   "metadata": {},
   "source": [
    "### [BFS and Undirected Connectivity](https://www.coursera.org/learn/algorithms-graphs-data-structures/lecture/BTVWn/bfs-and-undirected-connectivity)"
   ]
  },
  {
   "cell_type": "markdown",
   "metadata": {},
   "source": [
    "#### Application: Undirected Connectivity\n",
    "\n",
    "![](https://i.imgur.com/J0o9tXh.png)\n",
    "- 註：node $v$ 的確有通往自己的 path，我們稱 empty path。\n",
    "- 註：equivalence relation 須滿足三條件\n",
    "    1. reflexive: related to itself\n",
    "    2. symmetric\n",
    "    3. transitive"
   ]
  },
  {
   "cell_type": "markdown",
   "metadata": {},
   "source": [
    "#### Connected Components via BFS\n",
    "\n",
    "![](https://i.imgur.com/bDK9WK2.png)\n",
    "- > Q: 為什麼是 $O(m+n)$ 的部分可能要 review BFS"
   ]
  },
  {
   "cell_type": "markdown",
   "metadata": {},
   "source": [
    "### [Depth-First Search (DFS): The Basics](https://www.coursera.org/learn/algorithms-graphs-data-structures/lecture/pKr0Y/depth-first-search-dfs-the-basics)"
   ]
  },
  {
   "cell_type": "markdown",
   "metadata": {},
   "source": [
    "#### Overview and Example\n",
    "\n",
    "![](https://i.imgur.com/9FvA4O4.png)\n",
    "- DFS 的一個可能的路徑是 s,a,c,e,d,b 剛好繞一圈"
   ]
  },
  {
   "cell_type": "markdown",
   "metadata": {},
   "source": [
    "#### The Code (DFS)\n",
    "\n",
    "![](https://i.imgur.com/1iw46a5.png)\n",
    "- 這次使用 stack 因為可以：\n",
    "    - insert from the front with constant time\n",
    "    - delete the front with constant time\n",
    "- 其實把 BFS 的 queue 改成 stack，再修一些 code 就可以變成 DFS。但是為了 variety(?) 和 elegance，我們這邊要做的是 recursive 的版本。\n",
    "- DFS 可以很自然地用 recursive 來解。\n",
    "- 我們說 DFS 是 aggressive search 因為它一找到 unexplored vertex 就急著繼續往前 search (recursive call)。"
   ]
  },
  {
   "cell_type": "markdown",
   "metadata": {},
   "source": [
    "#### Basic DFS Properties\n",
    "\n",
    "![](https://i.imgur.com/AGYX3Kt.png)\n",
    "- Claim 1 成立也是因為 generic search procedure 的一個 special case。\n",
    "- Claim 2 成立，因為：\n",
    "    - 我們 explore 每個 vertex 最多一次 (因為有判斷 if explored)\n",
    "    - 我們 explore 每個 edge 最多兩次\n",
    "- 這兩個 claim 在 BFS 和 DFS 都成立，因此要找 connected component (in a undirected graph)，我們可以用一個 outer loop 裡面包一個 DFS(或BFS) 的 inner loop。"
   ]
  },
  {
   "cell_type": "markdown",
   "metadata": {},
   "source": [
    "### [Topological Sort](https://www.coursera.org/learn/algorithms-graphs-data-structures/lecture/yeKm7/topological-sort)"
   ]
  },
  {
   "cell_type": "markdown",
   "metadata": {},
   "source": [
    "#### Application: Topological Sort\n",
    "\n",
    "![](https://i.imgur.com/aFLvshb.png)\n",
    "- **directed** graph !!!\n",
    "- 我們要做的其實就是一個 function，input 是 vertices，output 是 index $\\in\\{1,2,...,n\\}$\n",
    "- 若存在 edge $(u,v)$，則 tail $u$ 的值 要小於 head $v$ 的值，即 $f(u)<f(v)$\n",
    "- 所以我們可以排 svwx，也可以排 swvx。\n",
    "    - 把 graph 照這順序排成一直線，會發現其實長一模一樣！\n",
    "        - 而且「只會往前」XD\n",
    "- 例如排課程要考慮擋修什麼的，就要有一個修課順序\n",
    "- > Q: 不是很懂怎麼證明 directed cycle $\\iff$ no topological ordering?\n",
    "    - 咦為何我寫 $\\iff$，是老師有提到嗎@@\n",
    "    - $\\rightarrow$：有 directed cycle 表示存在 path $(u_1,u_2,...,u_n,u_1)$，但不可能找到 $f(u_1)<f(u_2)<...<f(u_1)$，因此沒有 topological ordering。\n",
    "    - $\\leftarrow$：改天再回來看"
   ]
  },
  {
   "cell_type": "markdown",
   "metadata": {},
   "source": [
    "#### Straight Forward Solution\n",
    "\n",
    "![](https://i.imgur.com/bHul3ro.png)\n",
    "- sink vertex: 沒有任何 outgoing edge\n",
    "- Note: every directed acyclic graph has a sink vertex\n",
    "- Proof: 用反證法，如果 DAG 沒有 sink vertex，那我們就可以從某個 vertex 一直往下走，走完所有 vertices 也會繼續走，那一定會遇到重複的 vertex，這時候就產生了 cycle，contradiction (with DAG)!!! Q.E.D.\n",
    "- To compute topological ordering\n",
    "    - 選一個 sink vertex，標 label，刪掉該 vertex。(然後 label 減 1 吧) 一直重複做。\n",
    "    - 這裡如果 sink vertex 有很多個，就隨便挑一個"
   ]
  },
  {
   "cell_type": "markdown",
   "metadata": {},
   "source": [
    "#### Topological Sort via DFS (Slick)\n",
    "\n",
    "![](https://i.imgur.com/Pa95arg.png)\n",
    "> - meta-knowledge: 從 DFS 的改寫似乎可以歸納出一個 trick，就是如果想要在最深的 recursive call 最先執行某個 procedure，那就把該 procedure 寫到 recursive call 的後面?\n",
    ">     - 反之，如果想要在最初的 recursive call 最先執行某 procedure，就把該 procedure 放到 recursive call 前面 (這句好像廢話XDDD)\n",
    "- 演示一下流程，一個可能的 explore 順序是 vtsw (但填進去的數字分別是 3412)。"
   ]
  },
  {
   "cell_type": "markdown",
   "metadata": {},
   "source": [
    "#### Topological Sort (con'd)\n",
    "\n",
    "![](https://i.imgur.com/bfihOOq.png)\n",
    "- 這邊的證明要分別討論 $u$ 是先 explore 還是後 explore 的 (注意 $u$ 不一定會先 explore)。\n",
    "    - case 1 ($u$ 先): 那麼 $v$ 就會在 $u$ 的 deeper recursive call，labeling procedure 會先執行，所以 $v$ label 就會比較大\n",
    "    - case 2 ($v$ 先): 因為 $v$ 沒有通往 $u$ 的路徑，因此 $v$ 的所有 deeper recursive call 都做完之後才有可能輪到 $v$。也就是說 $v$ 的 labeling procedure 也一樣比 $u$ 先執行了，因此 $v$ label 還是比較大。"
   ]
  },
  {
   "cell_type": "markdown",
   "metadata": {},
   "source": [
    "### [Computing Strong Components: The Algorithm](https://www.coursera.org/learn/algorithms-graphs-data-structures/lecture/rng2S/computing-strong-components-the-algorithm)"
   ]
  },
  {
   "cell_type": "markdown",
   "metadata": {},
   "source": [
    "#### Strongly Connected Components\n",
    "\n",
    "![](https://i.imgur.com/1V8jN7V.png)\n",
    "- strongly connected components (SCCs) 的任何一個 vertex 都有 path 可以到任何其他 vertex\n",
    "- 我們說 $u\\leftrightarrow v$ 意思就是 $u$ 和 $v$ 都有 path 可以連到彼此\n",
    "    - 注意 $\\leftrightarrow$ 是一個 equivalent relation\n",
    "- 圖中紅色部分不是 SCC\n",
    "- 圖中紫色部分是 SCC\n",
    "    - 講者說這些紫色同時也是 maximal SCC ?\n",
    "    - 觀察這些紫色部分，如果一個紫色有 path 通往另一個，那就不會有 path 通回來 (因為是 maximal 吧)\n",
    "    - 其實把紫色部分都看成一個 vertex，整個 graph 就跟紅色那個一樣。\n",
    "        - 所以最右邊的紫色 component 是回不去(最)左邊的 component 的。"
   ]
  },
  {
   "cell_type": "markdown",
   "metadata": {},
   "source": [
    "#### Why Depth-First Search?\n",
    "\n",
    "![](https://i.imgur.com/hKH7Kpu.png)\n",
    "- 以這個 graph 為例\n",
    "\n",
    "![](https://i.imgur.com/0fvmoBg.png)\n",
    "- 正確的起始點，可以幫助我們用 DFS 找到 SCC\n",
    "- > Q: 目前看起來，BFS 和 DFS 都可以呀，DFS 可能比較快?\n",
    "\n",
    "![](https://i.imgur.com/ae7L1oa.png)\n",
    "- 但是錯誤的起始點，用 DFS 只能找到 SCCs 的 union\n",
    "\n",
    "![](https://i.imgur.com/wLYyevS.png)\n",
    "- 錯誤的起始點，用 DFS 甚至可能會包住整個 graph\n",
    "- 於是我們需要先做一次 DFS preprocessing 來找正確的起始點"
   ]
  },
  {
   "cell_type": "markdown",
   "metadata": {},
   "source": [
    "#### Kosaraju's Two-Pass Algorithm\n",
    "\n",
    "![](https://i.imgur.com/HXVTRrQ.png)\n",
    "1. 先做一個 $G^{rev}$ 出來 (所有 arc 反轉)\n",
    "2. 然後在 $G^{rev}$ 上做 DFS-Loop (1st pass)\n",
    "    - (用來計算正確起始點順序吧)\n",
    "    - > 所以在 $G^{rev}$ 中重複 DFS，越晚 explore 到的，順序越前面?\n",
    "3. 之後在 $G$ 上也做 DFS-Loop (2nd pass)\n",
    "    - 我們期望做完之後同一個 SCC 的 vertex 會得出相同的 leader vertex\n",
    "\n",
    "接下來就要說明 DFS-Loop 了"
   ]
  },
  {
   "cell_type": "markdown",
   "metadata": {},
   "source": [
    "#### DFS-Loop (for Kosaraju's Two-Pass Algorithm)\n",
    "\n",
    "![](https://i.imgur.com/YI85ksF.png)\n",
    "- 只有在 1st pass 需要紀錄 finishing time $t$\n",
    "    - 看 code 覺得 finishing time 應該就是在記錄這個 DFS function 的結束的 order。\n",
    "- 只有在 2nd pass 需要紀錄 source vertex $s$\n",
    "- But let's just keep them both in there just for kicks.\n",
    "    - 註：just for kicks = for the hell of it = for no particular or important reason.\n",
    "- 我們假設 vertex 已經用某種方式 index 過了。\n",
    "    - (其實在 1st pass 中，應該就是單純 vertex index)\n",
    "    - (在 2nd pass 中，應該就是 1st pass 計算出來的 finishing time)\n",
    "<!-- - > 第一行的 DFS-Loop 只是 function 名稱，但是下面沒縮排有點誤導，還以為是要執行一次 [Topological Sort via DFS](#Topological-Sort-via-DFS-(Slick)) 的 DFS-Loop ... -->"
   ]
  },
  {
   "cell_type": "markdown",
   "metadata": {},
   "source": [
    "#### Quiz: Possible Finishing Time\n",
    "\n",
    "![](https://i.imgur.com/OEdnBBQ.png)\n",
    "- 注意我們先執行了 reverse arc 因此圖上的是 $G^{rev}$\n",
    "- 如果照著 code 來 (從最大的 index 開始)，哪一個 sequence 才有可能是 finishing time?\n",
    "- > DFS-Loop 會執行多次 DFS，而第一次 DFS 就會跑過 235689 這些 vertices。應該要滿足條件 $f(9)>f(6)>f(8)>f(2)>f(5)$ 以及 $f(9)>f(6)>f(3)$。(因為 6 接下來可以走 8 也可以走 3)\n",
    "- > 而下次會從 7 (因為 8 被 explore 過)開始跑過 147 因此要滿足條件 $f(7)>f(4)>f(1)$。(其實還要滿足 $f(7)>f(4)>f(1)>f(9)>...$)\n",
    "    - 其實從這邊還可以看出來，$f$-value 最大的 vertex 會在 leading SCC，而 $G^{rev}$ 的 leading SCC 就是 $G$ 的 sink SCC 啦 (後來劇透XDD\n",
    "- 因此答案顯而易見\n",
    "- 有很多種方式 explore，而下圖的 finishing time 就和該選項的答案一樣，explore 順序為 9,6,3,8,5,2,7,4,1。\n",
    "    - ![](https://i.imgur.com/n4Eq84O.png)\n",
    "    - 註：如果去算 leader 的話右邊那群的 leader 就是 9 不過我們不在乎，因為這是 1st pass。\n",
    "<!-- ![](https://i.imgur.com/MC9aVts.png) -->"
   ]
  },
  {
   "cell_type": "markdown",
   "metadata": {},
   "source": [
    "#### Example ($2^{nd}$ Pass)\n",
    "\n",
    "![](https://i.imgur.com/5UD6suF.png)\n",
    "- 現在要來計算 2nd pass DFS-Loop，因此\n",
    "    - 所有 vertices 都改名成剛剛算出來的 finishing time。\n",
    "    - 剛剛是 $G^{rev}$，現在要把方向反轉回 $G$。\n",
    "    - 這次不用計算 finishing time，而只計算 leaders。\n",
    "- > Q: 我大概猜得到整套邏輯的運作方式：回顧一下 [Strongly Connected Components 的 example](#Strongly-Connected-Components)，只要 initial vertex 是落在箭頭最前方的 SCC(可以說是 sink SCC 嗎XD，以圖中來看就是最右邊紫色圈的 SCC)，那麼怎麼做 graph search 都不會回流到前面的 SCC，也就是說做一次 DFS 就可以剛好看完 sink SCC，然後把 sink SCC 刪掉，重複以上流程。\n",
    "    - SCC 內部的箭頭不論怎麼反轉，vertices 都可以到達彼此；但是 (maximal?) SCCs 之間只會有單向箭頭。所以?"
   ]
  },
  {
   "cell_type": "markdown",
   "metadata": {},
   "source": [
    "### [Computing Strong Components: The Analysis](https://www.coursera.org/learn/algorithms-graphs-data-structures/lecture/QFOFt/computing-strong-components-the-analysis)"
   ]
  },
  {
   "cell_type": "markdown",
   "metadata": {},
   "source": [
    "#### Example Recap\n",
    "\n",
    "![](https://i.imgur.com/A0MjcCg.png)\n",
    "- 藍色圈圈內的數字是第一次的 vertex indices；紅色圈圈內的數字是第二次的 vertex indices"
   ]
  },
  {
   "cell_type": "markdown",
   "metadata": {},
   "source": [
    "#### Observation\n",
    "\n",
    "![](https://i.imgur.com/26O3VSO.png)\n",
    "- 假設 graph $G$ 可以表示成 meta-nodes (即 SCCs) $C_1,...,C_k$\n",
    "- 這樣的 meta-graph 它的 arcs 其實就是這些 SCCs 之間的 arcs\n",
    "- 也就是說 $\\exists C\\rightarrow \\hat C \\iff \\exists arc (i,j)\\in G\\textrm{ with }i\\in C,j\\in\\hat C$"
   ]
  },
  {
   "cell_type": "markdown",
   "metadata": {},
   "source": [
    "#### Quiz: SCC of $G$ and $G^{rev}$\n",
    "\n",
    "![](https://i.imgur.com/FIAk5hn.png)\n",
    "- $G$ 和 $G^{rev}$ 會有相同的 SCCs。"
   ]
  },
  {
   "cell_type": "markdown",
   "metadata": {},
   "source": [
    "#### Key Lemma\n",
    "\n",
    "![](https://i.imgur.com/IOdf9Kf.png)\n",
    "- Key Lemma: 若 SCC $C_1$ 有 arc 連到 SCC $C_2$，(即 $C_1\\rightarrow C_2$)，那麼 $\\max_{v\\in C_1}f(v)<\\max_{v\\in C_2}f(v)$\n",
    "    - 這個 Key Lemma 我們先假設它是對的\n",
    "- 那麼必然(Corollary)，(整個 $G$ 的) maximum finishing time 必定在 sink SCC 裏面。\n",
    "    - 為啥我們要去在意 $G$ 的 maximum $f$-value 呢? 因為它就是 2nd pass 的最一開始會跑 DFS 的 vertex 啊\n",
    "    - sink SCC: 沒有任何 outgoing arc 的 SCC\n",
    "- 圖例的 $f_1,f_2,f_3,f_4$ 表示 SCC 的 maximum $f$-value。而根據 lemma 可以知道：\n",
    "    - $f_1<f_2$\n",
    "    - $f_1<f_3$\n",
    "    - $f_2<f_4$\n",
    "    - $f_3<f_4$\n",
    "- 上面說的 Corollary 是可以用 contradiction 證明的\n",
    "    - 假設 $G$(應該是$G^{rev}$) 的 maximum finishing time 所在的 SCC 為 $C_i$ 並非 sink SCC (有 outgoing arc 連到別的 SCC $C_j$)\n",
    "    - 那麼根據 key lemma，$\\max_{v\\in C_i}f(v) < \\max_{v\\in C_j}f(v)$，發現 $C_i$ 中的 maximum 並不是 $G$ 中最大的，contradiction!!\n",
    "    - 因此 $C_i$ 必須是 sink SCC。 Q.E.D."
   ]
  },
  {
   "cell_type": "markdown",
   "metadata": {},
   "source": [
    "#### Correctness Intuition\n",
    "\n",
    "![](https://i.imgur.com/JwYocJu.png)\n",
    "- 以圖為例，當我們的 2nd pass 找完 $C_4$，接下來的步驟可以看成是：\n",
    "    - 把剩下的 graph ($G-C_4$) 再 recursively 繼續做 2nd pass，所以又會找到下一個 sink SCC。\n",
    "        - 這是因為任意 graph 都有(?)這樣的性質：maximum finishing time 會位在 sink SCC。\n",
    "- 也就是說用這個方法，就可以一個一個找出 SCCs 啦\n",
    "- 不過我們還沒證明 key lemma 啊，要來證明一下。"
   ]
  },
  {
   "cell_type": "markdown",
   "metadata": {},
   "source": [
    "#### Proof of Key Lemma\n",
    "\n",
    "![](https://i.imgur.com/wZWP7bO.png)\n",
    "(還沒看 video)\n",
    "- 假設在 $G$ 中 $C_1\\rightarrow C_2$，也就是說 $G^{rev}$ 中 $C_1\\leftarrow C_2$。\n",
    "- 我們要證明：$\\max_{v\\in C_1}f(v)<\\max_{v\\in C_2}f(v)$\n",
    "- 令 $v$ 為 1st pass DFS 在 $C_1\\cup C_2$ 的第一個 reached node。這有兩種情況：\n",
    "    1. $v\\in C_1$：這時候所有 $C_1$ 中的 node 都會比 $C_2$ 先 explore 因為一次 DFS 就可以 explore 完 $C_1$。)\n",
    "    2. $v\\in C_2$：這時候從 $v$ 開始的 DFS 會 explore 完 $C_1\\cup C_2$ 的所有 node，$v$ 的 procedure 才算結束，因此 $f(v)$ 會大於所有在 $C_1$ 中的 finishing time 且 $f(v)$ 就是 $C_1$ 中的最大 $f$-value。Q.E.D."
   ]
  },
  {
   "cell_type": "markdown",
   "metadata": {},
   "source": [
    "### [Structure of the Web [Optional]](https://www.coursera.org/learn/algorithms-graphs-data-structures/lecture/f11at/structure-of-the-web-optional)"
   ]
  },
  {
   "cell_type": "markdown",
   "metadata": {},
   "source": [
    "#### The Web Graph\n",
    "\n",
    "這邊要來講一下為何我們需要在很大的 graph 上跑演算法。\n",
    "![](https://i.imgur.com/ugDtzd8.png)\n",
    "- 例如網站之間的超連結\n",
    "- 西元約 2000 年時，就已經需要知道 large graph 到底長什麼樣子。"
   ]
  },
  {
   "cell_type": "markdown",
   "metadata": {},
   "source": [
    "#### The Bow Tie\n",
    "\n",
    "![](https://i.imgur.com/7rVX0C5.png)\n",
    "- bow tie 領結\n",
    "- 後面有點懶得看XDDD"
   ]
  },
  {
   "cell_type": "markdown",
   "metadata": {},
   "source": [
    "#### Main Findings\n",
    "\n",
    "![](https://i.imgur.com/jJJjLtf.png)"
   ]
  },
  {
   "cell_type": "markdown",
   "metadata": {},
   "source": [
    "#### Modern Web Research\n",
    "\n",
    "![](https://i.imgur.com/VMpgNPu.png)"
   ]
  }
 ],
 "metadata": {
  "kernelspec": {
   "display_name": "Python 3",
   "language": "python",
   "name": "python3"
  },
  "language_info": {
   "codemirror_mode": {
    "name": "ipython",
    "version": 3
   },
   "file_extension": ".py",
   "mimetype": "text/x-python",
   "name": "python",
   "nbconvert_exporter": "python",
   "pygments_lexer": "ipython3",
   "version": "3.8.3"
  }
 },
 "nbformat": 4,
 "nbformat_minor": 4
}
