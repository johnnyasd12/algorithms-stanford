{
 "cells": [
  {
   "cell_type": "markdown",
   "metadata": {},
   "source": [
    "# [Graph Search, Shortest Paths, and Data Structures - Week?]()"
   ]
  },
  {
   "cell_type": "markdown",
   "metadata": {},
   "source": [
    "## X. Graph Search and Connectivity"
   ]
  },
  {
   "cell_type": "markdown",
   "metadata": {},
   "source": [
    "### [Graph Search - Overview](https://www.coursera.org/learn/algorithms-graphs-data-structures/lecture/NX0BI/graph-search-overview)"
   ]
  },
  {
   "cell_type": "markdown",
   "metadata": {},
   "source": [
    "#### A Few Motivations\n",
    "\n",
    "![](https://i.imgur.com/ZkebfhA.png)"
   ]
  },
  {
   "cell_type": "markdown",
   "metadata": {},
   "source": [
    "#### Generic Graph Search\n",
    "\n",
    "![](https://i.imgur.com/6qPzYRY.png)\n",
    "- Goals:\n",
    "    1. find everything findable from a given start vertex\n",
    "    2. don't explore anything twice\n",
    "- > Q: Goal: $O(m+n)$ time 是?"
   ]
  },
  {
   "cell_type": "markdown",
   "metadata": {},
   "source": [
    "#### Generic Graph Search (con'd)\n",
    "\n",
    "![](https://i.imgur.com/K14Hpjz.png)\n",
    "- Claim: at end of the algorithm, $v$ explored $\\iff$ $G$ has a path from $s$ to $v$\n",
    "- Proof ($\\implies$): By induction (I check)\n",
    "    > - When $n=1$: $v=s$ is explored thus $s$ has a path to $v$ (?), thus $n=1$ holds. \n",
    "    > - When $n>1$: if $v$ is explored by edge $(u,v)$, then vertex $u$ must be explored before.\n",
    "    > - the graph without vertex $v$ has only $n-1$ vertices. Thus there must be path from $s$ to $u$ (by induction hypothesis). \n",
    "    > - Since there's a path from $s$ to $u$ and an edge $(u,v)$, there's path from $s$ to $v$. Q.E.D.\n",
    "- Proof ($\\impliedby$): By contradiction\n",
    "    - 看 slide\n",
    "- 而這個通用的 graph search 主要有兩種 instantiation\n",
    "    - Breadth-First Search\n",
    "    - Depth-First Search"
   ]
  },
  {
   "cell_type": "markdown",
   "metadata": {},
   "source": [
    "#### BFS vs. DFS\n",
    "\n",
    "![](https://i.imgur.com/ryJuUlR.png)\n",
    "- 根據 generic graph search 可以把 graph 分成 explored 跟 unexplored，而這兩個 set 之間有 crossing edges\n",
    "    - 如果是 directed graph，則只看 tail 在 explored，head 在 unexplored 的 edges (explored $\\rightarrow$ unexplored)。\n",
    "- 我們有許多 strategy 可以挑 unexplored node，根據 strategy 的不同就有不同的 graph search algorithm。\n",
    "- BFS\n",
    "    - connected component (in undirected graphs) 可以用任何 graph search algorithm 來找\n",
    "        - 但是我們可以用 linear time $O(m+n)$ 找到，利用 looped version of BFS + queue(FIFO)。\n",
    "- DFS\n",
    "    - DFS 在 directed (acyclic?) graph 很強\n",
    "        - 其中一個原因是 directed graphs 定義 connected component 的方式比較 tricky @@?\n",
    "    - 適合使用 stack(LIFO)\n",
    "    - 而且不需要特地 explicitly 做 stack，recursiion 已經 implicitly 做了 stack。\n",
    "- > Q: topological ordering 聽不太懂是啥\n",
    "    - 用途：例如有一些 task 需要排序，又有優先順序的限制。例如修課的順序。"
   ]
  },
  {
   "cell_type": "markdown",
   "metadata": {},
   "source": [
    "### [Breadth-First Search (BFS): The Basics](https://www.coursera.org/learn/algorithms-graphs-data-structures/lecture/JZRXz/breadth-first-search-bfs-the-basics)"
   ]
  },
  {
   "cell_type": "markdown",
   "metadata": {},
   "source": [
    "#### Overview and Example\n",
    "\n",
    "![](https://i.imgur.com/mQwuD7o.png)\n",
    "- layer $0$ 為 $s$，layer $1$ 為 $s$ 的 neighbors\n"
   ]
  },
  {
   "cell_type": "markdown",
   "metadata": {},
   "source": [
    "#### The Code\n",
    "\n",
    "![](https://i.imgur.com/oVDfU8h.png)\n",
    "- 不論 undirected 或 directed 都適用，不過我們 focus 在 undirected graph。\n",
    "- > Q: 每個 edge 會被 check (if explored) 剛好兩次?\n",
    "- 因為用了 **queue**，所以才能：\n",
    "    - **remove first node in constant time**\n",
    "    - **add node to the end in constant time**"
   ]
  },
  {
   "cell_type": "markdown",
   "metadata": {},
   "source": [
    "#### Basic BFS Properties\n",
    "\n",
    "![](https://i.imgur.com/FmCTWla.png)\n",
    "- Claim 2\n",
    "    - $n_s$ 的部分，時間花在「把某 node 丟進 queue」以及「從 queue 中刪除某 node」\n",
    "    - $m_s$ 的部分，會 check 某 edge 最多兩次"
   ]
  },
  {
   "cell_type": "markdown",
   "metadata": {},
   "source": [
    "### [BFS and Shortest Paths](https://www.coursera.org/learn/algorithms-graphs-data-structures/lecture/ZAaJA/bfs-and-shortest-paths)"
   ]
  },
  {
   "cell_type": "markdown",
   "metadata": {},
   "source": [
    "#### Application: Shortest Paths\n",
    "\n",
    "![](https://i.imgur.com/DgxMZ4W.png)\n",
    "- > Q: layer 的定義前面有提到嗎@@? 該看影片了Orz\n",
    "- 可以用 induction 證明。\n",
    "- > Q: proof 改天證\n",
    "- **BFS 特別的地方就在於它可以找 shortest paths**"
   ]
  },
  {
   "cell_type": "markdown",
   "metadata": {},
   "source": [
    "### [BFS and Undirected Connectivity](https://www.coursera.org/learn/algorithms-graphs-data-structures/lecture/BTVWn/bfs-and-undirected-connectivity)"
   ]
  },
  {
   "cell_type": "markdown",
   "metadata": {},
   "source": [
    "#### Application: Undirected Connectivity\n",
    "\n",
    "![](https://i.imgur.com/J0o9tXh.png)\n",
    "- 註：node $v$ 的確有通往自己的 path，我們稱 empty path。\n",
    "- 註：equivalence relation 須滿足三條件\n",
    "    1. reflexive: related to itself\n",
    "    2. symmetric\n",
    "    3. transitive"
   ]
  },
  {
   "cell_type": "markdown",
   "metadata": {},
   "source": [
    "#### Connected Components via BFS\n",
    "\n",
    "![](https://i.imgur.com/bDK9WK2.png)\n",
    "- > Q: 為什麼是 $O(m+n)$ 的部分可能要重看"
   ]
  },
  {
   "cell_type": "markdown",
   "metadata": {},
   "source": [
    "### [Depth-First Search (DFS): The Basics](https://www.coursera.org/learn/algorithms-graphs-data-structures/lecture/pKr0Y/depth-first-search-dfs-the-basics)"
   ]
  },
  {
   "cell_type": "markdown",
   "metadata": {},
   "source": [
    "### [Topological Sort](https://www.coursera.org/learn/algorithms-graphs-data-structures/lecture/yeKm7/topological-sort)"
   ]
  },
  {
   "cell_type": "markdown",
   "metadata": {},
   "source": [
    "### [Computing Strong Components: The Algorithm](https://www.coursera.org/learn/algorithms-graphs-data-structures/lecture/rng2S/computing-strong-components-the-algorithm)"
   ]
  },
  {
   "cell_type": "markdown",
   "metadata": {},
   "source": [
    "### [Computing Strong Components: The Analysis](https://www.coursera.org/learn/algorithms-graphs-data-structures/lecture/QFOFt/computing-strong-components-the-analysis)"
   ]
  },
  {
   "cell_type": "markdown",
   "metadata": {},
   "source": [
    "### [Structure of the Web [Optional]](https://www.coursera.org/learn/algorithms-graphs-data-structures/lecture/f11at/structure-of-the-web-optional)"
   ]
  },
  {
   "cell_type": "markdown",
   "metadata": {},
   "source": []
  }
 ],
 "metadata": {
  "kernelspec": {
   "display_name": "Python 3",
   "language": "python",
   "name": "python3"
  },
  "language_info": {
   "codemirror_mode": {
    "name": "ipython",
    "version": 3
   },
   "file_extension": ".py",
   "mimetype": "text/x-python",
   "name": "python",
   "nbconvert_exporter": "python",
   "pygments_lexer": "ipython3",
   "version": "3.8.3"
  }
 },
 "nbformat": 4,
 "nbformat_minor": 4
}
