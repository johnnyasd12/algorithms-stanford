{
 "cells": [
  {
   "cell_type": "markdown",
   "metadata": {},
   "source": [
    "# [Graph Search, Shortest Paths, and Data Structures - Week2](https://www.coursera.org/learn/algorithms-graphs-data-structures/home/week/2)"
   ]
  },
  {
   "cell_type": "markdown",
   "metadata": {},
   "source": [
    "## XI. Dijkstra's Shortest Path Algorithm"
   ]
  },
  {
   "cell_type": "markdown",
   "metadata": {},
   "source": [
    "### [Week 2 Overview](https://www.coursera.org/learn/algorithms-graphs-data-structures/supplement/tDq29/week-2-overview)"
   ]
  },
  {
   "cell_type": "markdown",
   "metadata": {},
   "source": [
    "SUMMARY: This week is the climax of all our work on graph search --- **Dijkstra's shortest-path algorithm**, surely one of the greatest hits of algorithms (Part XI). **It works in any directed graph with non-negative edge lengths, and it computes the shortest paths from a source vertex to all other vertices.** Particularly nice is the blazingly **fast implementation that uses a heap data structure** (more on heaps next week). \n",
    "\n",
    "THE HOMEWORK: Problem Set #2 should solidify your understanding of Dijkstra's shortest-path algorithm.  In the programming assignment you'll implement Dijkstra's algorithm. You can just implement the basic version, but those of you who want a bigger challenge are encouraged to devise a heap-based implementation.\n",
    "\n",
    "SUGGESTED READINGS FOR WEEK 2: Algorithms Illuminated (Part 2), Chapter 9. "
   ]
  },
  {
   "cell_type": "markdown",
   "metadata": {},
   "source": [
    "### [Dijkstra's Shortest-Path Algorithm](https://www.coursera.org/learn/algorithms-graphs-data-structures/lecture/rxrPa/dijkstras-shortest-path-algorithm)"
   ]
  },
  {
   "cell_type": "markdown",
   "metadata": {},
   "source": [
    "#### Single-Source Shortest Paths\n",
    "\n",
    "![](https://i.imgur.com/9JHcaUu.png)\n",
    "- Input: $G=(V,E)$\n",
    "    - $l_e \\ge 0 \\,\\,\\forall e\\in E$\n",
    "- Output: 計算「所有」 $v\\in V$ 的 shortest paths"
   ]
  },
  {
   "cell_type": "markdown",
   "metadata": {},
   "source": [
    "#### Quiz: Shortest Path\n",
    "\n",
    "![](https://i.imgur.com/B4D4JBr.png)\n",
    "- 顯然是 0,1,3,6"
   ]
  },
  {
   "cell_type": "markdown",
   "metadata": {},
   "source": [
    "#### Why Another Shortest Path Algorithm?\n",
    "\n",
    "![](https://i.imgur.com/7LDy0yu.png)\n",
    "- BFS 只能在 edge length = 1 的情況下計算從 $s$ 到每個 $v$ 的 shortest path\n",
    "- 那如果把長度為 $k$ 的 edge 換成 $k$ 個相連的 unit length edge 呢?\n",
    "    - 這樣 graph 會變很大，因為 length 可能是 100、1000 等。"
   ]
  },
  {
   "cell_type": "markdown",
   "metadata": {},
   "source": [
    "#### Dijkstra's Algorithm\n",
    "\n",
    "![](https://i.imgur.com/FAPh8qr.png)\n",
    "- 註：當 edge length 都是 1 的時候，Dijkstra's algorithm 會變成 BFS。也就是說它其實是 generalized BFS。\n",
    "- Notation\n",
    "    - $X$: 當前已經計算好 shortest path 的 nodes\n",
    "    - $V-X$: 當前尚未計算 shortest path 的 nodes\n",
    "    - $A$: 各 vertex 計算出來的 shortest path 的距離\n",
    "    - $B$: 各 vertex 的 shortest path (路線)\n",
    "        - $B$ 其實不用 implement，只是為了好理解。\n",
    "- 找到 edge $(v,w)$ 使得 $A[v]+l_{vw}$ 最小。\n",
    "    - $v$ 在圖左；$w$ 在圖右。\n",
    "    - > 思考：為何不是找最小的 $l_{vw}$ 就好呢?\n",
    "        - 因為 $A[v]$ 雖然是到 $v$ 的 shortest path，但是可能有其他的 path 到 $w$ 更快。\n",
    "- 簡單講就是不斷地找出下一個離「$s$」最近的 node $w^*$，然後把計算出的 distance 記錄起來，並把 $w^*$ 丟進 $X$。\n",
    "- > Q: 最後那列應該是 $B[w^*]:=B[v^*]\\cup (v^*,w^*)$ 吧?"
   ]
  },
  {
   "cell_type": "markdown",
   "metadata": {},
   "source": [
    "### [Dijkstra's Algorithm: Examples](https://www.coursera.org/learn/algorithms-graphs-data-structures/lecture/Jfvmn/dijkstras-algorithm-examples)"
   ]
  },
  {
   "cell_type": "markdown",
   "metadata": {},
   "source": [
    "#### Example\n",
    "![](https://i.imgur.com/Pbkr1Ds.png)\n",
    "\n",
    "---\n",
    "![](https://i.imgur.com/4siO7Sw.png)\n",
    "\n",
    "---\n",
    "![](https://i.imgur.com/9lVsI6Q.png)\n",
    "\n",
    "---\n",
    "![](https://i.imgur.com/eGE3tVy.png)\n",
    "\n",
    "---\n",
    "![](https://i.imgur.com/au6BXlX.png)"
   ]
  },
  {
   "cell_type": "markdown",
   "metadata": {},
   "source": [
    "#### Non-Example\n",
    "\n",
    "![](https://i.imgur.com/YfxsvsN.png)\n",
    "- 為何 graph 中有 **negative 的 edge 就不能套用 Dijkstra's algorithm** 呢? 直接把每個 edge 都加上某個數字不就可以讓全部都是正的，就可以用 Dijkstra's algorithm 跑了啊? ***這樣做是不行的!!!!***\n",
    "- 因為同樣的起點和終點可以有不同的 path，而不同的 paths 有不同數量的 edges (例如 path A 有 2 個 edges，path B 有 5 個 edges)。把全部的 edge 都加上某個數字會導致 path A 和 path B 加上的數字不一樣，之後就可能選到錯的 shortest path。\n",
    "    - 例如圖中 path $(s,v,t)$ 有 2 個 edges 總長度為 -4；而 path $(s,t)$ 有 1 個 edge 但是總長度為 -2。然後我們把每個 edges 都加上 5，path $(s,v,t)$ 長度就變 6；path $(s,t)$ 長度就變 3，路徑長度大小就反過來了！\n",
    "- > Q: 可是好像沒解釋到為何不能直接跑在 negative 的 edge 上?\n",
    "    - 實際跑在圖上的例子看看好了\n",
    "        - 這個 algorithm 從 $s$ 開始，$A[s]=0, B[s]=\\{\\}$\n",
    "        - 然後選 $A[t]=-2, B[t]=(s,t)$ (這一步就已經錯了，$t$ 的 shortest path 應該是 $(s,v,t)$。\n",
    "    - 思考：因為 Dijkstra's algorithm 假設你越往前走，總路徑一定越長 (所以才會在 $X$ 之外只看一個 edge 並取最小的總路徑長)，這個 algorithm 不相信看得更遠可以得到更短的路徑，所以不適用於有 negative edge 的 graph 吧\n",
    "- ㄎㄅ原來它後面有解答我的疑問我還自己在那邊推XDDDDD"
   ]
  },
  {
   "cell_type": "markdown",
   "metadata": {},
   "source": [
    "### [Correctness of Dijkstra's Algorithm](https://www.coursera.org/learn/algorithms-graphs-data-structures/lecture/VCHYw/correctness-of-dijkstras-algorithm)"
   ]
  },
  {
   "cell_type": "markdown",
   "metadata": {},
   "source": [
    "#### Dijkstra's Algorithm (Review)\n",
    "\n",
    "![](https://i.imgur.com/vAJRJHF.png)\n",
    "- 回顧一下"
   ]
  },
  {
   "cell_type": "markdown",
   "metadata": {},
   "source": [
    "#### Correctness Claim\n",
    "\n",
    "![](https://i.imgur.com/5kx8UTA.png)"
   ]
  },
  {
   "cell_type": "markdown",
   "metadata": {},
   "source": [
    "#### Proof\n",
    "\n",
    "![](https://i.imgur.com/38wVgEi.png)\n",
    "(到這邊為止應該都不用看 video)\n",
    "- slide typo\n",
    "    - We set $B[w^*]=B[v^*]\\cup (v^*,w^*)$\n",
    "- 根據 inductive bias，我們知道 $A[w^*]=A[v^*]+l_{v^* w^*}=L(v^*)+l_{v^* w^*}$\n",
    "- 注意 $v^*$ 和 $w^*$ 是演算法找出的解，還不確定是否最佳解。"
   ]
  },
  {
   "cell_type": "markdown",
   "metadata": {},
   "source": [
    "#### Proof (con'd)\n",
    "\n",
    "![](https://i.imgur.com/sIpZ1Kr.png)\n",
    "- 只要我們證明 **「任意」** $s$-$w^*$ path 的 length 都 $\\ge L(v^*)+l_{v^* w^*}$，就等同於證明了 $A[w^*]=L(v^*)+l_{v^* w^*}$ 是 shortest path distance。\n",
    "- 令 $P$ 為「任意」的 $s$-$w^*$ path，這個 path 必定會從 $X$ 跨到 $V-X$。因此我們假設要跨出去的那瞬間的 node 為 $y\\in X$，跨出去的下個 node 為 $z\\notin X$。\n",
    "- 所以路徑順序就會是 $s\\rightarrow y\\rightarrow z\\rightarrow w^*$\n",
    "    - > Q: 這時候 $y$ 應該可以等於 $s$；$z$ 應該可以等於 $w^*$ 吧?\n",
    "        - 恩對\n"
   ]
  },
  {
   "cell_type": "markdown",
   "metadata": {},
   "source": [
    "#### Proof (con'd) (II)\n",
    "\n",
    "![](https://i.imgur.com/u1BqR5i.png)\n",
    "- 為了證明 shortest path，我們要找出 path $P:s\\rightarrow y\\rightarrow z\\rightarrow w^*$ 的 distance **lower bound**。\n",
    "- slide typo:\n",
    "    - Total length of path $P$: at least $A[y]+l_{yz}$\n",
    "- 因為我們 Dijkstra's algorithm 找的是「一跨出去的最短路徑」，因此 $A[w^*]\\le A[y]+l_{yz}$。又 $A[y]+l_{yz}\\le \\textrm{length of }P$，得證 $A[w^*]$ 是 shortest path distance。"
   ]
  },
  {
   "cell_type": "markdown",
   "metadata": {},
   "source": [
    "### [Dijkstra's Algorithm: Implementation and Running Time](https://www.coursera.org/learn/algorithms-graphs-data-structures/lecture/Pbpp9/dijkstras-algorithm-implementation-and-running-time)"
   ]
  },
  {
   "cell_type": "markdown",
   "metadata": {},
   "source": [
    "#### Single-Source Shortest Path (Review)\n",
    "\n",
    "![](https://i.imgur.com/2ikqF64.png)"
   ]
  },
  {
   "cell_type": "markdown",
   "metadata": {},
   "source": [
    "#### Dijkstra's Algorithm (Review II)\n",
    "\n",
    "![](https://i.imgur.com/Pt8Rbiz.png)"
   ]
  },
  {
   "cell_type": "markdown",
   "metadata": {},
   "source": [
    "#### Quiz: Running Time\n",
    "\n",
    "![](https://i.imgur.com/TTCEMWl.png)\n",
    "- $n-1$ iterations\n",
    "- $\\theta(m)$ works done in each loop\n",
    "    - 因為會 scan 所有 edges 看是不是 eligible edge ($X$ 和 $V-X$ 之間的 crossing edge)，是的話再計算 $A[v]+l_{vw}$\n",
    "    - > Q: 那為什麼不是 scan $X$ 裡面的 node 然後看它們有哪些 edges (利用 adjacency list)? 應該可以省下不少時間?\n",
    "- Therefore $\\theta(mn)$\n",
    "- 而我們希望不更動 algorithm，只是更動 data structure 來降低所需時間。"
   ]
  },
  {
   "cell_type": "markdown",
   "metadata": {},
   "source": [
    "#### Heap Operations\n",
    "\n",
    "![](https://i.imgur.com/kwYIyFP.png)\n",
    "- 我們本來 Dijkstra's algorithm 要找 minimum 要做 exhaustive search (徹底地搜尋)\n",
    "    - 我們去看所有的 edges that cross the frontier 來找到 minimum。\n",
    "    - 既然我們要不斷地尋找 minimum，那有沒有 data structure 是可以讓我們更快找到 minimum 的呢?\n",
    "    - 其實就是 heap 啦！\n",
    "    - > meta-knowledge: 想減少 algorithm complexity，可以去看演算法花很多功夫在「重複」做什麼，然後去找相應的、適合做那件事的 data structure。例如我們現在會一直去找 minimum，所以就用 heap。\n",
    "- heap 可以複習[這裡](https://openhome.cc/Gossip/AlgorithmGossip/HeapSort.htm)\n",
    "    - heap 是一種 completely binary tree (由上至下，由左至右排列)\n",
    "        - perfectly balanced binary tree?\n",
    "    - min heap 的 parent 一定比 children 小 (max heap 反之)\n",
    "    - 因此 min heap 的 root 一定是 minimum\n",
    "    - heap 通常可以用一個 array 來表示\n",
    "    - insert: \n",
    "        - 直接放到最後一個 leaf，然後視情況跟 parent 交換，像 bubble 一樣浮上去\n",
    "    - 取出(+移除) minimum，並重建樹: \n",
    "        - 把 root 跟最後一個 leaf 交換之後，將 root 視情況跟 children 不斷交換(比 children 大就交換)，向下 bubble\n",
    "        - 時間複雜度 $O(\\log_2 n)$，$n$ 是 heap size\n",
    "    - heap sort 就是不斷地取出 minimum，就完成了(吧)。\n",
    "- heap property: every node's key $\\le$ children's keys (這裡的 key 應該是指 node value)\n",
    "- **Exercise**: delete an element from the middle of heap (Dijkstra's algorithm 也需要用到@@)\n",
    "    - > Q: 聽他講 middle of heap 應該是指 heap 當中的其中一個值吧，不一定是「正中央」\n",
    "        - 這樣的話是已經找到 heap 中的位置了嗎，還是 delete by value 要自己先 search?\n",
    "            - 看到後面發現已經先 search 過了，因為要先 check whether the node is in heap。\n",
    "        - 如果不用先 search 的話，應該就把該 node 跟最後面那個 node 換位置，然後刪掉最後面的 node 之後，把原來位置的 node 做 heapify (向上或向下 bubble 應該就可了?)\n"
   ]
  },
  {
   "cell_type": "markdown",
   "metadata": {},
   "source": [
    "#### Two Invariants\n",
    "\n",
    "![](https://i.imgur.com/tL8sHpG.png)\n",
    "- 每個 iteration 都要挑一個 edge，很直覺會以為要在 heap 存 edge\n",
    "- 但是我們其實要在 heap 裡面存 vertex (而且是 $V-X$ 裡面的 vertices)**[Invariant #1]**\n",
    "    - 因為我們找 edge 的目的其實是找下一個 vertex，這樣就可以直接從 heap 裡面 extract 出 vertex (which has the lowest **(minimum of?) Dijkstra's greedy score**)\n",
    "        - 也就是取了兩次 minimum，一次是每個 vertex 各自找 minimum 的 edge，另一次是從所有 $V-X$ 找 minimum 的 vertex\n",
    "    - 這邊定義一下對於 crossing edge $(v,w)$ 的 **Dijkstra's greedy score** 即 $A[v]+l_{vw}$\n",
    "- 然後我們想挑的是從 $X$ 指向 $V-X$ 的 crossing edges (圖中只有上面三條符合條件，注意前兩條 share the same head vertex)\n",
    "    - 如果用 naive implementation 的話，就會挑出上面那三條，然後再看誰有最小的 path distance $A[v]+l_{vw}$\n",
    "- 既然我們現在 heap 存的是 vertex，那麼就要小心 define 存在 heap 中的 key (我覺得講 value 比較恰當)，我們 define $Key[v]$ 為：目前以 $v$ 為 head (且直接從 $X$ 指向 $v$)的 **(local) minimum of** Dijkstra's greedy score **[Invariant #2]**\n",
    "    - 注意這邊 $Key[v]$ 跟 $A[v]$ 不一樣\n",
    "    - e.g., 假設圖中三條 edges 的 **Dijkstra's greedy score** 分別為 7, 3, 5 (不是 length !!!)。那麼最上面 node 的 key 就是 3；第二個 node 的 key 就是 5；下面 node 的 key 就是 $+\\infty$ (因為沒有直接 tail 在 $X$ 裡面的 edge)\n",
    "- 小結：\n",
    "    - 這邊可以看成是兩階段的 tournament，第一階段對每個在 $V-X$ 內的 vertex 都去找一個各自的 winner edge 來代表該 vertex，然後再比較每個 vertex 的代表，誰比較強就是 winner vertex。\n",
    "    - 只要我們能夠 maintain 上面的兩個 invariants，就可以直接做到 naive implementation 想做的事 (with lower complexity)\n"
   ]
  },
  {
   "cell_type": "markdown",
   "metadata": {},
   "source": [
    "#### Maintaining the Invariants\n",
    "\n",
    "![](https://i.imgur.com/iisY4kV.png)\n",
    "- 每次從 heap 取出 $w$ (也就是將 $w$ 加入 $X$)之後，會多出一些從 $w$ 到 $V-X$ 的 crossing edges。\n",
    "- 這時候就要針對所有這些 crossing edges 的 head vertex 重新計算 Dijkstra's greedy score，然後 update 到該 vertex 的 key 裡面。\n",
    "- 以圖為例，假設綠色 node $w$ 被加到 $X$ 裡面，那麼新的 $X$ 就變藍色的線，紫色的那三個箭頭就會成為新的 crossing edges，而這三個箭頭所對應的 head vertex 就需要重新計算它們的 local minimum score。\n",
    "- update $v$ 的 key 很簡單，只要看新的 crossing edge $(w,v)$ 的 score 跟舊的 minimum score 誰比較小就選誰即可。\n",
    "- 從 pseudocode 可以看出，我們要先 check $v$ 若在 heap 裡面，才把它刪掉。因此我自己在 [Heap Operations](#Heap-Operations) 部分提出的問題就得到答案了 (一定會先 search 到 $v$ 才開始刪)。"
   ]
  },
  {
   "cell_type": "markdown",
   "metadata": {},
   "source": [
    "#### Running Time Analysis\n",
    "\n",
    "![](https://i.imgur.com/jyrMRFe.png)\n",
    "- 這裡沒很專心，可能會有誤\n",
    "- 本來 while loop 裡面要 scan 全部 edges 才能找到 min，現在只要\n",
    "    - 從 heap 取出 min node $w$: $O(\\lg n)$，共 $n-1$ 個 while loop 所以 extract min: $O(n\\lg n)$\n",
    "    - $w$ 有幾個 crossing edges 就要 update 幾個 key: $?\\times O(\\lg n)$ 這樣看起來好像在 dense graph 裡面每次都可能最糟有 $n$ 個 crossing edges，這樣一共就要做 $n^2$ 次 update key，複雜度就變 $O(n^2\\lg n)$囉?\n",
    "    - 其實不是，讓我們從 edge 的角度看：因為每個 edge 最多只會拿來 update 一次 key，所以最多也只會 update $m$ 次 key，因此複雜度 $O(m\\lg n)$\n",
    "- 加起來就是 $O((m+n)\\lg n)$ 所以就是 $O(m\\lg n)$???"
   ]
  }
 ],
 "metadata": {
  "kernelspec": {
   "display_name": "Python 3",
   "language": "python",
   "name": "python3"
  },
  "language_info": {
   "codemirror_mode": {
    "name": "ipython",
    "version": 3
   },
   "file_extension": ".py",
   "mimetype": "text/x-python",
   "name": "python",
   "nbconvert_exporter": "python",
   "pygments_lexer": "ipython3",
   "version": "3.8.3"
  }
 },
 "nbformat": 4,
 "nbformat_minor": 4
}
