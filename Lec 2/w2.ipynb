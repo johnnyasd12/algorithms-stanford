{
 "cells": [
  {
   "cell_type": "markdown",
   "metadata": {},
   "source": [
    "# [Graph Search, Shortest Paths, and Data Structures - Week2](https://www.coursera.org/learn/algorithms-graphs-data-structures/home/week/2)"
   ]
  },
  {
   "cell_type": "markdown",
   "metadata": {},
   "source": [
    "## XI. Dijkstra's Shortest Path Algorithm"
   ]
  },
  {
   "cell_type": "markdown",
   "metadata": {},
   "source": [
    "### [Week 2 Overview](https://www.coursera.org/learn/algorithms-graphs-data-structures/supplement/tDq29/week-2-overview)"
   ]
  },
  {
   "cell_type": "markdown",
   "metadata": {},
   "source": [
    "SUMMARY: This week is the climax of all our work on graph search --- **Dijkstra's shortest-path algorithm**, surely one of the greatest hits of algorithms (Part XI). **It works in any directed graph with non-negative edge lengths, and it computes the shortest paths from a source vertex to all other vertices.** Particularly nice is the blazingly **fast implementation that uses a heap data structure** (more on heaps next week). \n",
    "\n",
    "THE HOMEWORK: Problem Set #2 should solidify your understanding of Dijkstra's shortest-path algorithm.  In the programming assignment you'll implement Dijkstra's algorithm. You can just implement the basic version, but those of you who want a bigger challenge are encouraged to devise a heap-based implementation.\n",
    "\n",
    "SUGGESTED READINGS FOR WEEK 2: Algorithms Illuminated (Part 2), Chapter 9. "
   ]
  },
  {
   "cell_type": "markdown",
   "metadata": {},
   "source": [
    "### [Dijkstra's Shortest-Path Algorithm](https://www.coursera.org/learn/algorithms-graphs-data-structures/lecture/rxrPa/dijkstras-shortest-path-algorithm)"
   ]
  },
  {
   "cell_type": "markdown",
   "metadata": {},
   "source": [
    "#### Single-Source Shortest Paths\n",
    "\n",
    "![](https://i.imgur.com/9JHcaUu.png)\n",
    "- Input: $G=(V,E)$\n",
    "    - $l_e \\ge 0 \\,\\,\\forall e\\in E$\n",
    "- Output: 計算所有 $v\\in V$ 的 shortest paths"
   ]
  },
  {
   "cell_type": "markdown",
   "metadata": {},
   "source": [
    "#### Quiz: Shortest Path\n",
    "\n",
    "![](https://i.imgur.com/B4D4JBr.png)\n",
    "- 顯然是 0,1,3,6"
   ]
  },
  {
   "cell_type": "markdown",
   "metadata": {},
   "source": [
    "#### Why Another Shortest Path Algorithm?\n",
    "\n",
    "![](https://i.imgur.com/7LDy0yu.png)\n",
    "- BFS 只能在 edge length = 1 的情況下計算從 $s$ 到每個 $v$ 的 shortest path\n",
    "- 那如果把長度為 $k$ 的 edge 換成 $k$ 個相連的 unit length edge 呢?\n",
    "    - 這樣 graph 會變很大，因為 length 可能是 100、1000 等。"
   ]
  },
  {
   "cell_type": "markdown",
   "metadata": {},
   "source": [
    "#### Dijkstra's Algorithm\n",
    "\n",
    "![](https://i.imgur.com/FAPh8qr.png)\n",
    "- 註：當 edge length 都是 1 的時候，Dijkstra's algorithm 會變成 BFS。也就是說它其實是 generalized BFS。\n",
    "- Notation\n",
    "    - $X$: 當前已經計算好 shortest path 的 nodes\n",
    "    - $V-X$: 當前尚未計算 shortest path 的 nodes\n",
    "    - $A$: 各 vertex 計算出來的 shortest path 的距離\n",
    "    - $B$: 各 vertex 的 shortest path (路線)\n",
    "        - $B$ 其實不用 implement，只是為了好理解。\n",
    "- 找到 edge $(v,w)$ 使得 $A[v]+l_{vw}$ 最小。\n",
    "    - $v$ 在圖左；$w$ 在圖右。\n",
    "    - > 思考：為何不是找最小的 $l_{vw}$ 就好呢?\n",
    "        - 因為 $A[v]$ 雖然是到 $v$ 的 shortest path，但是可能有其他的 path 到 $w$ 更快。\n",
    "- 簡單講就是不斷地找出下一個離「$s$」最近的 node $w^*$，然後把計算出的 distance 記錄起來，並把 $w^*$ 丟進 $X$。\n",
    "- > Q: 最後那列應該是 $B[w^*]:=B[v^*]\\cup (v^*,w^*)$ 吧?"
   ]
  },
  {
   "cell_type": "markdown",
   "metadata": {},
   "source": [
    "### [Dijkstra's Algorithm: Examples](https://www.coursera.org/learn/algorithms-graphs-data-structures/lecture/Jfvmn/dijkstras-algorithm-examples)"
   ]
  },
  {
   "cell_type": "markdown",
   "metadata": {},
   "source": [
    "#### Example\n",
    "- ![video step]()"
   ]
  },
  {
   "cell_type": "markdown",
   "metadata": {},
   "source": [
    "#### Non-Example\n",
    "\n",
    "![](https://i.imgur.com/YfxsvsN.png)"
   ]
  }
 ],
 "metadata": {
  "kernelspec": {
   "display_name": "Python 3",
   "language": "python",
   "name": "python3"
  },
  "language_info": {
   "codemirror_mode": {
    "name": "ipython",
    "version": 3
   },
   "file_extension": ".py",
   "mimetype": "text/x-python",
   "name": "python",
   "nbconvert_exporter": "python",
   "pygments_lexer": "ipython3",
   "version": "3.8.3"
  }
 },
 "nbformat": 4,
 "nbformat_minor": 4
}
