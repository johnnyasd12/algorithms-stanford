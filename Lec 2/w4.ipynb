{
 "cells": [
  {
   "cell_type": "markdown",
   "metadata": {},
   "source": [
    "# [Graph Search, Shortest Paths, and Data Structures - Week4](https://www.coursera.org/learn/algorithms-graphs-data-structures/home/week/4)"
   ]
  },
  {
   "cell_type": "markdown",
   "metadata": {},
   "source": [
    "- Hashing\n",
    "- Universal Hashing\n",
    "- Bloom Filters"
   ]
  },
  {
   "cell_type": "markdown",
   "metadata": {},
   "source": [
    "SUGGESTED READINGS FOR WEEK 4: Algorithms Illuminated (Part 2), Chapter 12."
   ]
  },
  {
   "cell_type": "markdown",
   "metadata": {},
   "source": [
    "## XIV. HASHING: THE BASICS (Week 4)"
   ]
  },
  {
   "cell_type": "markdown",
   "metadata": {},
   "source": [
    "### [Hash Tables: Operations and Applications](https://www.coursera.org/learn/algorithms-graphs-data-structures/lecture/b2Uee/hash-tables-operations-and-applications)"
   ]
  },
  {
   "cell_type": "markdown",
   "metadata": {},
   "source": [
    "#### Hash Table: Supported Operations\n",
    "\n",
    "![](https://i.imgur.com/6i98lKm.png)\n",
    "- hash table 能 support 的 operations 不多，但是卻做得很好。\n",
    "- 可以把 hash table 當成 array\n",
    "    - array 支援 random access，即我要拿第 $i$ 個 element\n",
    "        - > Q: 但是 hash table??\n",
    "- 但是 array 有些限制，例如我想存很多人的電話：\n",
    "    - key 必須是「某個範圍內的」「integer」\n",
    "    - 人名有太多種了，一次要 array 能容納所有可能的人名很困難\n",
    "- 我們希望 array 有 reasonable size"
   ]
  },
  {
   "cell_type": "markdown",
   "metadata": {},
   "source": [
    "#### Application: De-Duplication\n",
    "\n",
    "![](https://i.imgur.com/rWylekk.png)"
   ]
  },
  {
   "cell_type": "markdown",
   "metadata": {},
   "source": [
    "#### Application: The 2-Sum Problem\n",
    "\n",
    "![](https://i.imgur.com/Of2te2K.png)"
   ]
  },
  {
   "cell_type": "markdown",
   "metadata": {},
   "source": [
    "#### Further Immediate Applications\n",
    "\n",
    "![](https://i.imgur.com/2horu0X.png)"
   ]
  },
  {
   "cell_type": "markdown",
   "metadata": {},
   "source": [
    "### [Hash Tables: Implementation Details, Part I](https://www.coursera.org/learn/algorithms-graphs-data-structures/lecture/Ob0K7/hash-tables-implementation-details-part-i)"
   ]
  },
  {
   "cell_type": "markdown",
   "metadata": {},
   "source": []
  },
  {
   "cell_type": "markdown",
   "metadata": {},
   "source": []
  },
  {
   "cell_type": "markdown",
   "metadata": {},
   "source": [
    "### [Hash Tables: Implementation Details, Part II](https://www.coursera.org/learn/algorithms-graphs-data-structures/lecture/1Y8t1/hash-tables-implementation-details-part-ii)"
   ]
  },
  {
   "cell_type": "markdown",
   "metadata": {},
   "source": []
  },
  {
   "cell_type": "markdown",
   "metadata": {},
   "source": []
  },
  {
   "cell_type": "markdown",
   "metadata": {},
   "source": [
    "## XV. UNIVERSAL HASHING (Week 4)"
   ]
  },
  {
   "cell_type": "markdown",
   "metadata": {},
   "source": []
  },
  {
   "cell_type": "markdown",
   "metadata": {},
   "source": []
  },
  {
   "cell_type": "markdown",
   "metadata": {},
   "source": []
  },
  {
   "cell_type": "markdown",
   "metadata": {},
   "source": [
    "## XVI. BLOOM FILTERS (Week 4)"
   ]
  },
  {
   "cell_type": "markdown",
   "metadata": {},
   "source": []
  }
 ],
 "metadata": {
  "kernelspec": {
   "display_name": "Python 3",
   "language": "python",
   "name": "python3"
  },
  "language_info": {
   "codemirror_mode": {
    "name": "ipython",
    "version": 3
   },
   "file_extension": ".py",
   "mimetype": "text/x-python",
   "name": "python",
   "nbconvert_exporter": "python",
   "pygments_lexer": "ipython3",
   "version": "3.8.3"
  }
 },
 "nbformat": 4,
 "nbformat_minor": 4
}
