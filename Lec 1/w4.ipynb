{
 "cells": [
  {
   "cell_type": "markdown",
   "metadata": {},
   "source": [
    "# [Divide and Conquer, Sorting and Searching, and Randomized Algorithms - Week4](https://www.coursera.org/learn/algorithms-divide-conquer/home/week/4)"
   ]
  },
  {
   "cell_type": "markdown",
   "metadata": {},
   "source": [
    "## 其他版本\n",
    "- [以 nbviewer 檢視](https://nbviewer.jupyter.org/github/johnnyasd12/algorithms-stanford/blob/master/Lec%201/w4.ipynb)\n"
   ]
  },
  {
   "cell_type": "markdown",
   "metadata": {},
   "source": [
    "## VIII. Linear-Time Selection"
   ]
  },
  {
   "cell_type": "markdown",
   "metadata": {},
   "source": [
    "### [Randomized Selection - Algorithm](https://www.coursera.org/learn/algorithms-divide-conquer/lecture/aqUNa/randomized-selection-algorithm)"
   ]
  },
  {
   "cell_type": "markdown",
   "metadata": {},
   "source": [
    "#### About Optional Video\n",
    "- 第一個 optional video 在講怎麼在 deterministic linear time 做到 median selection 這類的事\n",
    "- 第二個 optional video 在講為何 comparison-based sort 總無法贏過 merge sort"
   ]
  },
  {
   "cell_type": "markdown",
   "metadata": {},
   "source": [
    "#### The Problem\n",
    "- input: 給定一個 array $A$，size $n$ 和一個數字 $i$\n",
    "- output: 求 $i$-th order statistic (即第 $i$ 小的數字)\n",
    "- 為求簡潔，我們一樣假設 array 的每個數字都不一樣\n"
   ]
  },
  {
   "cell_type": "markdown",
   "metadata": {},
   "source": [
    "#### Reduction to Sorting\n",
    "- **Reduction**\n",
    "    - 把一個問題轉化成另一個我「已經會解」的問題\n",
    "    - 我們當然可以先 sort (例如 merge sort) 再直接挑第 $i$ 個，這樣時間複雜度是 $O(n\\log n)$\n",
    "    - 但是這樣就不可能超越 $O(n\\log n)$\n",
    "- 我們想證明 \"Selection\" 這個問題比 \"Sorting\" 簡單\n",
    "- 接下來要對 Quick Sort 做點修改，來達成 Selection 的目的\n"
   ]
  },
  {
   "cell_type": "markdown",
   "metadata": {},
   "source": [
    "#### Partitioning Around a Pivot\n",
    "- 可以回顧 week 3 的內容，回想一下 parition subroutine of quick sort\n",
    "    - 選定 pivot 然後劃分 array\n",
    "    - 重新排列 array 使得：\n",
    "        - 小於 pivot 放它左邊\n",
    "        - 大於 pivot 放它右邊"
   ]
  },
  {
   "cell_type": "markdown",
   "metadata": {},
   "source": [
    "#### Quiz: How to Recursively Call Partition to Solve Selection?\n",
    "Suppose we are looking for the 5th order statistic in an input array of length 10. We partition the array, and the pivot winds up in the third position of the partitioned array. On which side of the pivot do we recurse, and what order statistic should we look for?\n",
    "- [ ] The 3rd order statistic on the left side of the pivot.\n",
    "- [x] The 2nd order statistic on the right side of the pivot.\n",
    "- [ ] The 5th order statistic on the right side of the pivot.\n",
    "- [ ] \"Not enough information to answer question\" – we might need to recurse on the left or the right side of the pivot."
   ]
  },
  {
   "cell_type": "markdown",
   "metadata": {},
   "source": [
    "#### Randomized Selection\n",
    "<a id='RSelect'></a>\n",
    "- 根據前面的 quiz 得到的 insight，我們可以寫出這樣的 algorithm\n",
    "![](https://i.imgur.com/oj7IVEX.png)\n",
    "- 圖像思考一下就知道怎麼寫囉\n"
   ]
  },
  {
   "cell_type": "markdown",
   "metadata": {},
   "source": [
    "#### Properties of RSelect\n",
    "- Claim: RSelect is correct. \n",
    "- Proof: Induction (參考 QuickSort)\n",
    "- Running Time? depends on quality of (randomly) chosen pivots (類似 QuickSort)"
   ]
  },
  {
   "cell_type": "markdown",
   "metadata": {},
   "source": [
    "#### Quiz: Worst Case Running Time of RSelect\n",
    "\n",
    "![](https://i.imgur.com/mAO47ZL.png)"
   ]
  },
  {
   "cell_type": "markdown",
   "metadata": {},
   "source": [
    "#### Running Time of RSelect?\n",
    "- Running Time 會根據 chosen pivot (sequence) 而不同 (最糟糕需要 $\\theta(n^2)$)\n",
    "- 最好可以每次都選到 median ($n/2$) 的 pivot，但這是雞生蛋蛋生雞的問題...\n",
    "    - 這樣就可以有 $T(n)\\le T(n/2)+O(n)$\n",
    "    - 根據 Master Method，$a=1,b=2,d=1$，$a<b^d$，工作量集中在 root，也就是 $T(n)=O(n^d)=O(n)$\n",
    "- Hope: **random pivot is \"pretty good\" and \"often enough\"**\n",
    "    - (跟 quick sort 很類似：random 某種程度可以取代 median)\n",
    "    - 下個 video 就要來證明啦"
   ]
  },
  {
   "cell_type": "markdown",
   "metadata": {},
   "source": [
    "#### Running Time of RSelect\n",
    "RSelect Theorem: for every input array of length $n$, the **average** running time of RSelect is $O(n)$\n",
    "- holds for every input (no assumptions on data)\n",
    "- \"average\" is random pivot choices made by the **algorithm** (not data)."
   ]
  },
  {
   "cell_type": "markdown",
   "metadata": {},
   "source": [
    "### [Randomized Selection - Analysis](https://www.coursera.org/learn/algorithms-divide-conquer/lecture/obhKq/randomized-selection-analysis)"
   ]
  },
  {
   "cell_type": "markdown",
   "metadata": {},
   "source": [
    "#### Tracking Progress via Phases\n",
    "\n",
    "![](https://i.imgur.com/kc1xQD5.png)\n",
    "- 跟 quick sort 一樣，workhorse(主力)放在 partition subroutine\n",
    "- 因此(不把 recursive call 算進去的話) 計算量 $\\le cn$\n",
    "- 我們用當前 array size 來決定我們現在在哪個階段。\n",
    "    - 如果當前 array size 落在 $(\\frac 3 4)^{j+1}\\cdot n$ 和 $(\\frac 3 4)^j \\cdot n$ 之間，我們就視為他在第 $j$ 個階段\n",
    "    - 例如第 0 階段就是 array size 介於 $\\frac 3 4 n$ 到 $n$ 之間\n",
    "    - 如果挑到好的 pivot 就可以跳出這個階段到下一階段。\n",
    "- 接下來我們設計 random variable $X_j$ 代表第 $j$ 個階段我們用了多少個 recursive call。\n",
    "- 利用上面這些，我們可以知道 Randomized Selection 的 running time $\\le \\sum_\\limits{\\textrm{all phases }j}X_j\\cdot c\\cdot (\\frac 3 4)^j \\cdot n$，於是我們就得到了 **running time 的 upper bound**。\n",
    "    - 是 upper bound 是因為第 $j$ 階段的 array size $\\le (\\frac 3 4)^j n$\n",
    "- 而等式左邊 (running time) 是一個 random variable；右邊也是一個 random variable。而我們在乎的是它的期望值。"
   ]
  },
  {
   "cell_type": "markdown",
   "metadata": {},
   "source": [
    "#### Proof II: Reduction to Coin Flipping\n",
    "- 先來算看看 $X_j$ 的 expectation 好了\n",
    "\n",
    "![](https://i.imgur.com/pWUCfnp.png)\n",
    "- 只要選出的 pivot 在 25%~75% 之間，就可以保證從第 $j$ 階段跳到第 $j+1$ 階段\n",
    "    - (因為這樣的話切出來的任何 sub-array 都會小於當前 size 的 3/4倍)\n",
    "- 而選出這樣的 pivot 的機率有 50%\n",
    "- **現在 $X_j$ 可以看成是「擲多少次硬幣可以擲出 good pivot?」，我們想計算 $E[X_j]$。**\n",
    "    - > Q: 總覺得這比喻不太恰當@@，前一次的 pivot 也會決定這次 pivot 可以跳出第 $j$ phase 的機率吧? 感覺就算都在第 $j$ 階段，每次擲硬幣擲到 good pivot 的機率應該不會一樣? **跳出階段 $j$ 需要的次數實際上應該會比「擲硬幣的次數」少?**"
   ]
  },
  {
   "cell_type": "markdown",
   "metadata": {},
   "source": [
    "#### Proof III: Coin Flipping Analysis\n",
    "\n",
    "![](https://i.imgur.com/arEnM74.png)\n",
    "- 其實就是要求 geometric random variable 的 expectation\n",
    "- 令 random variable $N$ 表示「要擲多少次硬幣才能擲出人頭」\n",
    "    - 假設擲一次出人頭的機率 $p=1/2$\n",
    "- 因為這個次數 $N$ 絕對至少需要一次，所以我們可以表示成 $E[N]=1+...$\n",
    "- 而 $E[N]=1+...$ 第一次擲失敗才會擲第二次第三次嘛，所以「還需要擲更多次硬幣」的機率為 $1-p=1/2$\n",
    "- 這是一個 memoryless process(失憶性過程?)，也就是說「還需要擲幾次」跟「已經擲了幾次」沒關係，因此「還需要擲的次數」期望值仍然是 $E[N]$\n",
    "- 所以可以寫成 $E[N]=1+(1-p)E[N]$，移項得 $E[N]=\\frac 1 p$\n",
    "- $p=1/2$，也就是說此時 $E[N]=2$\n",
    "- 回想 $X_j$ 其實跟這裡的 $N$ 扮演類似角色。\n"
   ]
  },
  {
   "cell_type": "markdown",
   "metadata": {},
   "source": [
    "#### Putting It All Together\n",
    "\n",
    "![](https://i.imgur.com/FyHFC32.png)\n",
    "- > Q: 第 3 行的「$\\le$」似乎就呼應了我在 *Proof II: Reduction to Coin Flipping* 部分提出的問題?\n",
    "- 第 4 行：$\\sum_j (\\frac 3 4)^j\\le 4$ 可以回想 $\\sum_{k=1}^K r^k=\\dfrac{1}{1-r^k}<\\dfrac 1 {1-r}$。($r<1$)\n",
    "- 最終得證我們的 upper bound $\\le 8cn$，因此 running time $=O(n)$。"
   ]
  },
  {
   "cell_type": "markdown",
   "metadata": {},
   "source": [
    "### [Deterministic Selection - Algorithm [Advanced - Optional]](https://www.coursera.org/learn/algorithms-divide-conquer/lecture/vtehr/deterministic-selection-algorithm-advanced-optional)"
   ]
  },
  {
   "cell_type": "markdown",
   "metadata": {},
   "source": [
    "- > Q: 一開始的意思是說，這個 deterministic algorithm 複雜度可以在 $O(n)$，但是 practically 比 Randomized Selection 慢，因為 constant 比較大，而且它的 operation 沒辦法 in-place?\n",
    "- > Q: 但是 worst case 比 Randomized Selection 好嗎?"
   ]
  },
  {
   "cell_type": "markdown",
   "metadata": {},
   "source": [
    "#### The Problem\n",
    "- 要解的問題一樣是找第 $i$ 小的 element。"
   ]
  },
  {
   "cell_type": "markdown",
   "metadata": {},
   "source": [
    "#### The Randomized Selection\n",
    "\n",
    "![](https://i.imgur.com/jhKPyzK.png)\n",
    "<!-- - 接下來要講的方法可以看成是修改過的 [Randomized Selection](#Randomized-Selection)，因此可以先複習一下。 -->\n",
    "- 接下來要講的方法可以看成是修改過的 [Randomized Selection](#RSelect)，因此可以先複習一下。"
   ]
  },
  {
   "cell_type": "markdown",
   "metadata": {},
   "source": [
    "#### Guaranteeing a Good Pivot\n",
    "- 回想：最好的 pivot 就是 median\n",
    "- 目標：找到一個足夠好的 pivot (大概跟 median 差不多就好了)\n",
    "- Key Idea: using **\"median of medians\"**!!\n"
   ]
  },
  {
   "cell_type": "markdown",
   "metadata": {},
   "source": [
    "#### A Deterministic ChoosePivot\n",
    "\n",
    "![](https://i.imgur.com/pgXCQLD.png)\n",
    "- 把 $A$ 切成 $\\frac n 5$ 個 groups (每組 $5$ 個 elements)\n",
    "- 每個 group 都做 sorting (例如 merge sort)\n",
    "- 把所有 $\\frac n 5$ 個 group 的 medians 都存到 new array $C$\n",
    "- recursively compute median of $C$\n",
    "- 最後算出來的 median 把它當 pivot"
   ]
  },
  {
   "cell_type": "markdown",
   "metadata": {},
   "source": [
    "#### The DSelect Algorithm\n",
    "\n",
    "![](https://i.imgur.com/X3GhLgz.png)\n",
    "- 前面就是改造過的 ChoosePivot\n",
    "- 後面就是之前的 RSelect，只是 pivot 用前面得到的\n",
    "- 從這裡可以看出我們會在這個 algorithm 中，(不計 base case) 每次 call 都做 2 次 recursive call。\n",
    "    - 相較於 Randomized Selection (只需要一次 recursive call)，我們在第 3 行多做了一次 recursive call"
   ]
  },
  {
   "cell_type": "markdown",
   "metadata": {},
   "source": [
    "#### Running Time of DSelect\n",
    "- 雖然 DSelect (Deterministic Selection) 不會落到 $O(n^2)$，總是 $O(n)$，但實務上會比 RSelect (Randomized Selection) 差。因為\n",
    "    - worse constant\n",
    "    - not in-place\n"
   ]
  },
  {
   "cell_type": "markdown",
   "metadata": {},
   "source": [
    "### [Deterministic Selection - Analysis I [Advanced - Optional]](https://www.coursera.org/learn/algorithms-divide-conquer/lecture/2wmHr/deterministic-selection-analysis-i-advanced-optional)"
   ]
  },
  {
   "cell_type": "markdown",
   "metadata": {},
   "source": [
    "\n",
    "\n",
    "![](https://i.imgur.com/X3GhLgz.png)\n",
    "- 回顧一下 DSelect\n",
    "- > Q: 不知道 $5$ 這個數字換成別的是不是也可以 linear ? 改天導導看"
   ]
  },
  {
   "cell_type": "markdown",
   "metadata": {},
   "source": [
    "#### Quiz: Asymptotic Running Time of Sorting All Sub-Arrays?\n",
    "\n",
    "![](https://i.imgur.com/Qr27bMN.png)\n",
    "- sort 長度為 5 的 array 需要的 time 為 constant\n",
    "- 共有 $\\frac n 5$ 個這樣的 array 因此 $\\textrm{constant}\\cdot \\frac n 5 = \\theta(n)$"
   ]
  },
  {
   "cell_type": "markdown",
   "metadata": {},
   "source": [
    "#### The DSelect Algorithm (Decomposed Complexities)\n",
    "\n",
    "![](https://i.imgur.com/9lf2e3C.png)\n",
    "- 之前 (QuickSort, RSelect) 不用 recurrence 的方式去分析是因為 randomized algorithm 沒辦法知道第 6、7 行的 recursive call 的 input 大小，它是被 pivot $p$ 決定的。\n",
    "- > Q: 現在就可以知道嗎@@?\n"
   ]
  },
  {
   "cell_type": "markdown",
   "metadata": {},
   "source": [
    "#### Rough Recurrence\n",
    "\n",
    "![](https://i.imgur.com/97e6S0g.png)\n",
    "- 長度為 1 就直接 return 就好因此 $T(1)=1$\n",
    "- $T(n)=c\\cdot n + T(\\frac n 5) + T(?)$\n",
    "    - 問號很難處理呀，我們要把它換成別的東西。"
   ]
  },
  {
   "cell_type": "markdown",
   "metadata": {},
   "source": [
    "#### The Key Lemma\n",
    "\n",
    "![](https://i.imgur.com/1CfAMRh.png)\n",
    "- 實際上應該是 $\\frac{7}{10}n - 5$，不過不影響大觀念。\n",
    "- 方便起見，接下來我們用：\n",
    "    - $k$ 代表 \"# of groups\"，以我們的 case 而言 $k=\\frac n 5$\n",
    "    - $x_i$ 代表挑出來的 medians 裡面第 $i$ 小的，因此我們要找的 pivot 就是 $x_{k/2}$\n",
    "- 那麼我們要來證明：「以 median of medians 的方式選出來的 pivot」，會在所有 elements 大小的 30% ~ 70% 之間。"
   ]
  },
  {
   "cell_type": "markdown",
   "metadata": {},
   "source": [
    "#### Rough Proof of Key Lemma\n",
    "\n",
    "![](https://i.imgur.com/nHDUG6V.png)\n",
    "- 剛剛不是把原本的 array $A$ 分成 $k$ 組 sub-arrays 嗎，把這 $k$ 組畫出來\n",
    "- 一個 column 就是一組 sub-array，排序下小上大\n",
    "- 照 medians $x_i$ 的大小順序排列，左小右大\n",
    "- 可以看出左下黃色部分一定小於等於 $x_{k/2}$；右上黃色部分一定大於等於 $x_{k/2}$\n",
    "    - 左下黃色部分占了左「半」邊的 3/5；因此至少有 $\\frac 3 5\\times \\frac 1 2=30\\%$ 的 elements 比 $x_{k/2}$ 小\n",
    "    - 同理，至少有 30% 的 elements 比 $x_{k/2}$ 還要大。\n",
    "- 得證啦，選出的 pivot 會介在 30% ~ 70% 之間。"
   ]
  },
  {
   "cell_type": "markdown",
   "metadata": {},
   "source": [
    "#### Example (of Key Lemma)\n",
    "\n",
    "![](https://i.imgur.com/0xj8lE7.png)\n",
    "- 有點懶得看 example 啊"
   ]
  },
  {
   "cell_type": "markdown",
   "metadata": {},
   "source": [
    "### [Deterministic Selection - Analysis II [Advanced - Optional]](https://www.coursera.org/learn/algorithms-divide-conquer/lecture/vOjvG/deterministic-selection-analysis-ii-advanced-optional)"
   ]
  },
  {
   "cell_type": "markdown",
   "metadata": {},
   "source": [
    "#### Rough Recurrence (Revisited)\n",
    "\n",
    "![](https://i.imgur.com/97e6S0g.png)\n",
    "- 現在我們可以確定問號裡面的東西 $\\le \\frac {7}{10} n$ 啦\n"
   ]
  },
  {
   "cell_type": "markdown",
   "metadata": {},
   "source": [
    "#### Rough Recurrence (Revisited)\n",
    "\n",
    "![](https://i.imgur.com/xdFxxLI.png)\n",
    "- 不能直接套 Master Method 因為 subproblem 的 size 不一樣\n",
    "- 這邊要用比較奇妙(?)的證明，先假設某件事是對的，然後用歸納法 (induction) 證明它。\n",
    "- 那我們就假設存在 constant $a$ 使得 DSelect 的 running time $T(n)\\le a n,\\forall n\\ge 1$ "
   ]
  },
  {
   "cell_type": "markdown",
   "metadata": {},
   "source": [
    "#### Analysis of Rough Recurrence\n",
    "\n",
    "![](https://i.imgur.com/Z57fcn2.png)\n",
    "- 怎麼知道 $a$ 要代 $10c$ 呢? 其實就先把 $a$ 帶進去推導之後看代多少可以達成條件就好了。reverse engineering!!\n",
    "- 歸納法的假設就是對於所有 $k<n$ 都成立，只要可以用這個假設推導出 $n$ 的 case 也成立，即可得證所有數字都成立。\n",
    "- 推完之後就可以知道，只要代 $a=10c$，就可以證明出來。\n",
    "    - > Q: 可以這樣證明的原因應該也是因為我們目的只是要證明「存在 $a$」使得不等式成立即可吧。\n",
    "- 終於得證 $T(n)=O(n)$ 啦！ DSelect is in linear time !!!"
   ]
  },
  {
   "cell_type": "markdown",
   "metadata": {},
   "source": [
    "### [Omega(n log n) Lower Bound for Comparison-Based Sorting [Advanced - Optional]](https://www.coursera.org/learn/algorithms-divide-conquer/lecture/P2uwC/omega-n-log-n-lower-bound-for-comparison-based-sorting-advanced-optional)"
   ]
  },
  {
   "cell_type": "markdown",
   "metadata": {},
   "source": [
    "#### A Sorting Lower Bound\n",
    "\n",
    "![](https://i.imgur.com/Y6TjhJm.png)\n",
    "- 我們可以做得比 $n\\log n$ 好嗎?\n",
    "- 只要是 comparison based sort 就沒辦法比 $n\\log n$ 好。\n",
    "    - 即使是 average case 也一樣無法超越 $n\\log n$。\n",
    "        - > Q: 是指 randomized algorithm 的 average case (randomness is from algorithm) 還是 deterministic algorithm 的 average case (randomness is from data)? 還是都是XD\n",
    "- comprison based sort examples: \n",
    "    - Merge Sort：algorithm 唯一的 interaction with elements 是 compare & copy\n",
    "        - 回想 merge subroutine，就是把兩個 sorted array 從頭開始一一比較，然後把最小的 copy 到新的 array 的最左邊空位\n",
    "    - Quick Sort (only compare & in-place swapping)\n",
    "        - 回想 partition (subroutine?) 就是把 elements 都跟 pivot 比較，然後 in-place 換位置。\n",
    "    - Heap Sort (之後會講)\n",
    "- 非 comparison based sort 有：\n",
    "    - Bucket Sort (似乎適用於 uniformly distributed 於已知範圍??)\n",
    "    - Counting Sort (已知數值範圍且是 integer?) 不須比較 elements 大小\n",
    "    - Radix Sort\n",
    "    - 有聽沒懂，總之都對 data distribution 有一些 assumption，就可以比 $n\\log n$ 更低\n",
    "\n",
    "\n",
    "\n",
    "- > Q: 這一段有點難懂@@"
   ]
  },
  {
   "cell_type": "markdown",
   "metadata": {},
   "source": [
    "#### Proof Idea\n",
    "\n",
    "![](https://i.imgur.com/2XlIXXe.png)\n",
    "- 方便起見我們假設長度為 $n$ 的 array 內容為 [1,2,3,...,n]\n",
    "- 假設 algorithm 的 comparison 次數 $\\le k$\n",
    "- 長度為 $n$ 的 array 共有 $n!$ 種組合\n",
    "    - 註：$n!$ 的英文是 n factorial\n",
    "- 唯一會在執行中造成 branch 的就是 **resolution of comparison**\n",
    "    - > Q: resolution of comparison 是啥@@ 看無\n",
    "    - > branch 後來覺得應該是指 execution branch\n",
    "- 因此 execution 最多就只有 $2^k$ 條路可以走\n",
    "- 可以聯想成 $k$-bit 的 string??? \n",
    "    - > Q: 什麼東西啊啊啊\n",
    "- 也就是 $2^k$ 種不同的 comparison results。\n",
    "    - > 我好像懂了什麼？每次 comparison 都可能有兩種不同答案(大於或小於)，不同的答案就導致不同的 execution，因此共有 $2^k$ 種 comparison result (sequences) 也就會有 $2^k$ 種 execution。\n",
    "- 整合來看，我們的 algorithm 最多作 $k$ 次 comparison，最多會有 $2^k$ 種 comparison result，而 array 的 order 種類可能有 $n!$ 種。\n",
    "- 因此 $2^k$ 必須大於 $n!$ 是嗎? 下個 slide 講得比較詳細。"
   ]
  },
  {
   "cell_type": "markdown",
   "metadata": {},
   "source": [
    "#### Proof Idea (con'd)\n",
    "\n",
    "![](https://i.imgur.com/uSAxcCx.png)\n",
    "- 如果 $2^k <n!$，根據鴿籠原理，就會有某個 comparison result 包含了超過一種 order 的 array，但是這樣一定有某個 order 的 array 是被 compare 錯的。因此 $2^k \\ge n!$\n",
    "- $n! \\ge (\\frac n 2)^{\\frac n 2}$ 因為 $n!\\ge n\\times (n-1)\\times \\cdots \\times (\\frac n 2)\\ge (\\frac n 2)^{\\frac n 2}$\n",
    "- 因此 $2^k \\ge (\\frac n 2)^{\\frac n 2}$ 取 log，$k\\ge \\frac n 2\\log \\frac n 2=\\Omega(n\\log n)$，Q.E.D.\n",
    "- 證明完啦！**任何 comparison based sort 都需要 $\\Omega(n\\log n)$ running time！**\n",
    "    - > Q: 但是 $k$ 不是 comparison upper bound 嗎? 我們證出來的好像是 upper bound 的 lower bound，這樣算 lower bound 嗎?"
   ]
  },
  {
   "cell_type": "markdown",
   "metadata": {},
   "source": [
    "## IX. Graphs and the Contraction Algorithm"
   ]
  },
  {
   "cell_type": "markdown",
   "metadata": {},
   "source": [
    "### [Graphs and Minimum Cuts](https://www.coursera.org/learn/algorithms-divide-conquer/lecture/Md9GY/graphs-and-minimum-cuts) (Overview)"
   ]
  },
  {
   "cell_type": "markdown",
   "metadata": {},
   "source": []
  },
  {
   "cell_type": "markdown",
   "metadata": {},
   "source": [
    "#### Graphs\n",
    "\n",
    "![](https://i.imgur.com/vK8l0aK.png)\n",
    "- graph 就是用來表示 **pairwise relationships among a set of objects**\n",
    "- undirected edge 連接出的是 unordered pair\n",
    "- directed edge 連接的是 ordered pair (即 **arcs**)\n",
    "    - 通常會用 tail, head 來稱呼 directed edge 的兩端\n",
    "        - **tail = 箭頭後面 = first vertex**\n",
    "        - **head = 箭頭前面 = second vertex**\n",
    "- verti**ces** / node**s** $V$\n",
    "- edge**s** $E$"
   ]
  },
  {
   "cell_type": "markdown",
   "metadata": {},
   "source": [
    "#### Cuts of Graphs\n",
    "\n",
    "![](https://i.imgur.com/e3iMiYz.png)\n",
    "- **cut 就是指把一個 graph 分成 $A$、$B$ 兩個 non-empty set**\n",
    "- 當我們把一個 graph 分成 $A$、$B$ 兩個 set，那麼 edge 便可以分成三種\n",
    "    - 兩個 endpoints 都在 $A$ 裡面\n",
    "    - 兩個 endpoints 都在 $B$ 裡面\n",
    "    - 兩個 endpoints 分別在 $A$、$B$ 裡面\n",
    "- **crossing edges** of cut $(A,B)$ 的定義\n",
    "    - [undirected] 連接 $A,B$ 的 edge\n",
    "    - [directed] 從 $A$ 通往 $B$ 的 edge (本門課不討論從 $B$ 通往 $A$ 的方向)\n",
    "        - > Q: 意思是 crossing edges 是這門課定義的嗎@@?"
   ]
  },
  {
   "cell_type": "markdown",
   "metadata": {},
   "source": [
    "#### Quiz: How Many Cuts?\n",
    "\n",
    "Roughly how many cuts does a graph with $n$ vertices have?\n",
    "- [ ] $n$\n",
    "- [ ] $n^2$\n",
    "- [x] $2^n$\n",
    "- [ ] $n^n$\n",
    "- 嚴格來說應該是 $2^n-2$ 啦，因為不能有 empty set。"
   ]
  },
  {
   "cell_type": "markdown",
   "metadata": {},
   "source": [
    "#### The Minimum Cut Problem\n",
    "\n",
    "![](https://i.imgur.com/y52dx4V.png)\n",
    "- > Q: 這個 graph $G$ 應該要 connected 嗎? 還是可以不用? \n",
    "    - > Q: 如果當 $G$ 不是 connected 那 min cut 應該就是找 # of crossing edges = 0 的 cut 吧?"
   ]
  },
  {
   "cell_type": "markdown",
   "metadata": {},
   "source": [
    "#### Quiz: How Many Crossing Edges?\n",
    "\n",
    "![](https://i.imgur.com/XyA77nb.png)"
   ]
  },
  {
   "cell_type": "markdown",
   "metadata": {},
   "source": [
    "#### A Few Applications\n",
    "\n",
    "![](https://i.imgur.com/LIcLhZT.png)\n",
    "- minimum cut 是一種 graph partitioning 問題\n",
    "- Applications\n",
    "    - 有效地打斷某個地方的運輸系統\n",
    "    - 在社群網站中分辨出緊密連結的群體/人際網路\n",
    "    - image segmentation\n",
    "        - 相鄰的 pixel 就算是有 edge 連接\n",
    "        - 通常會用 weighted edge，weight 代表了兩個 pixel 有多大可能來自同個 object。\n",
    "        - 希望跑了 min cut 之後可以切出主要 object。"
   ]
  },
  {
   "cell_type": "markdown",
   "metadata": {},
   "source": [
    "### [Graph Representations](https://www.coursera.org/learn/algorithms-divide-conquer/lecture/b3CWT/graph-representations)"
   ]
  },
  {
   "cell_type": "markdown",
   "metadata": {},
   "source": [
    "#### Graphs\n",
    "\n",
    "![](https://i.imgur.com/vK8l0aK.png)\n",
    "- 一般慣用的 notation\n",
    "    - **通常用 $n$ 表示 # of vertices**\n",
    "    - **通常用 $m$ 表示 # of edges**"
   ]
  },
  {
   "cell_type": "markdown",
   "metadata": {},
   "source": [
    "#### Quiz: Number of Edges in a Connected Graph\n",
    "\n",
    "![](https://i.imgur.com/19zDhRe.png)\n",
    "- minimum $n-1$ 可有各種畫法，總之當下 connected 就把它變成同個 piece，再從裡面隨便挑一個 vertex 連到下一個 vertex 即可。"
   ]
  },
  {
   "cell_type": "markdown",
   "metadata": {},
   "source": [
    "#### Sparse vs. Dense Graphs\n",
    "\n",
    "![](https://i.imgur.com/5ruI5eK.png)\n",
    "- 這並不是很正式的定義，不過一般並不對 sparse / dense 作非常嚴謹的定義。"
   ]
  },
  {
   "cell_type": "markdown",
   "metadata": {},
   "source": [
    "#### The Adjacency Matrix\n",
    "\n",
    "![](https://i.imgur.com/teLCzYX.png)\n",
    "- 較適合 dense graph，如果用在 sparse graph 上很浪費空間。\n"
   ]
  },
  {
   "cell_type": "markdown",
   "metadata": {},
   "source": [
    "#### Adjacency Lists\n",
    "\n",
    "![](https://i.imgur.com/SIhRh6S.png)\n",
    "- 為了作 cross reference 所以有「以 vertex 為主」和「以 edge 為主」的 storage。\n",
    "- > Q: [這個](https://hackmd.io/@johnnyasd12/BywdW4-iI) 寫的似乎稍有不同?"
   ]
  },
  {
   "cell_type": "markdown",
   "metadata": {},
   "source": [
    "#### Quiz: Space of Adjacency List\n",
    "\n",
    "![](https://i.imgur.com/etdKCYI.png)"
   ]
  },
  {
   "cell_type": "markdown",
   "metadata": {},
   "source": [
    "#### Adjacency Lists (Properties)\n",
    "\n",
    "![](https://i.imgur.com/617VCch.png)\n",
    "- 注意 space 的 complexity。\n",
    "- > Q: 後面一大段都不太明白意思@@"
   ]
  },
  {
   "cell_type": "markdown",
   "metadata": {},
   "source": [
    "### [Random Contraction Algorithm](https://www.coursera.org/learn/algorithms-divide-conquer/lecture/FKAnq/random-contraction-algorithm)"
   ]
  },
  {
   "cell_type": "markdown",
   "metadata": {},
   "source": [
    "#### Random Contraction Algorithm\n",
    "\n",
    "<!-- ![image.png](attachment:image.png) -->\n",
    "![](https://i.imgur.com/9DYfqjx.png)\n",
    "- 隨機挑一個 edge 合併兩端 vertices 成一個 vertex\n"
   ]
  },
  {
   "cell_type": "markdown",
   "metadata": {},
   "source": [
    "#### Example\n",
    "\n",
    "<!-- ![image.png](attachment:image.png) -->\n",
    "![](https://i.imgur.com/MzCWHhG.png)\n",
    "- 因為是 randomized algorithm 所以執行可能會有各種結果，我們先來看看這種。\n",
    "- 結果成功地找到 min cut。\n",
    "\n"
   ]
  },
  {
   "cell_type": "markdown",
   "metadata": {},
   "source": [
    "#### Example (Con'd)\n",
    "\n",
    "<!-- ![image.png](attachment:image.png) -->\n",
    "![](https://i.imgur.com/pHTqMRC.png)\n",
    "- 這是另外一種可能的執行結果。\n",
    "- 而這種失敗了。\n",
    "- 接下來我們要來算算 Random Contraction Algorithm 有多大機率會成功。\n",
    "\n"
   ]
  },
  {
   "cell_type": "markdown",
   "metadata": {},
   "source": [
    "### [Analysis of Contraction Algorithm](https://www.coursera.org/learn/algorithms-divide-conquer/lecture/4TLKM/analysis-of-contraction-algorithm)"
   ]
  },
  {
   "cell_type": "markdown",
   "metadata": {},
   "source": [
    "#### Review (The Minimum Cut Problem and Random Contraction Algorithm)\n",
    "- 先回想一下 問題 & 演算法"
   ]
  },
  {
   "cell_type": "markdown",
   "metadata": {},
   "source": [
    "#### The Setup\n",
    "\n",
    "![](https://i.imgur.com/0UJqnIP.png)\n",
    "- 固定 minimum cut $(A,B)$\n",
    "- 令 $F$ 為 $(A,B)$ 的 crossing edges。\n",
    "- 令 $k=|F|$ 為 $(A,B)$ 的 crossing edges 數量。"
   ]
  },
  {
   "cell_type": "markdown",
   "metadata": {},
   "source": [
    "#### What Could Go Wrong?\n",
    "\n",
    "![](https://i.imgur.com/jtvqRRD.png)\n",
    "- Random Contraction 怎樣會犯錯呢?\n",
    "    1. 若有 crossing edges 被 contracted (merged)，那麼 algorithm 就不會 output $(A,B)$\n",
    "    2. 若沒有任何 crossing edges 被 contracted，那麼 algorithm 就會 output $(A,B)$\n",
    "- 令 $S_i$ 為第 $i$ 次 iteration 選到 crossing edges 來 merge 的機率\n",
    "- 因此 algorithm 成功找到 min cut 機率為 $Pr(\\neg S_1 \\cup \\neg S_2 \\cup \\cdots \\cup \\neg S_{n-2})$"
   ]
  },
  {
   "cell_type": "markdown",
   "metadata": {},
   "source": [
    "#### Quiz: The Probability to Get Wrong\n",
    "\n",
    "![](https://i.imgur.com/TP8BLhC.png)\n",
    "\n",
    "![](https://i.imgur.com/pqfyu3Z.png)"
   ]
  },
  {
   "cell_type": "markdown",
   "metadata": {},
   "source": [
    "#### The First Iteration\n",
    "\n",
    "![](https://i.imgur.com/35vWHIo.png)\n",
    "- 任一 vertex 接出去的 edge 數量 (degree) $\\ge k$\n",
    "    - 因為把該 vertex $v$ 作為一個 set 就可以 define 一個 cut，而 min cut 的 # of crossing edges 就是 $k$。\n",
    "- 我們可以寫 $\\sum_v \\textrm{degree}(v)\\ge kn$\n",
    "- 又 $\\sum_v \\textrm{degree}(v)=2m$ 因此 $m\\ge \\dfrac{kn}{2}$\n",
    "- 因此 $Pr(S_1)=\\frac k m \\le \\frac 2 n$"
   ]
  },
  {
   "cell_type": "markdown",
   "metadata": {},
   "source": [
    "#### The Second Iteration\n",
    "\n",
    "![](https://i.imgur.com/ljSxI6n.png)\n",
    "- 接下來要求兩個 iteration 都沒錯的機率\n",
    "- 第一個 iteration 沒錯的機率 $\\ge 1-\\frac 2 n$\n",
    "- $Pr(\\neg S_1 \\cup \\neg S_2)$\n",
    "- 第 $2$ 個 iteration 少一個 vertex 了，因此當前的 edge 數量 $m_2 \\ge \\frac 1 2 k(n-1)$\n",
    "    - Given 「第 $1$ 個 iteration 沒錯」，那麼第 $2$ 個也沒錯的機率就 $=1-\\frac{k}{m_2}\\ge 1-\\frac{2}{n-1}=\\frac{n-3}{n-1}$\n",
    "- 第 $i$ 個 iteration 少 $i-1$ 個 vertex，因此當下 edge 數量 $m_i \\ge \\frac 1 2 k(n-i+1)$\n",
    "    - Given 「第 $1$ 個到第 $i-1$ 個 iteration 全都沒錯」，那麼第 $i$ 個也沒錯的機率就 $=1-\\frac{k}{m_i}\\ge 1-\\frac{2}{n-i+1}=\\frac{n-i-1}{n-i+1}=\\frac{n-(i+1)}{n-(i-1)}$"
   ]
  },
  {
   "cell_type": "markdown",
   "metadata": {},
   "source": [
    "#### All Iterations\n",
    "\n",
    "![](https://i.imgur.com/U2daJFD.png)\n",
    "- 做 $n-2$ 個 iteration 全部沒錯的機率 $\\ge \\frac{2}{n(n-1)}\\ge \\frac{1}{n^2}$\n",
    "    - $n-2$ 是因為要留 2 個 vertices。\n",
    "    - > Q: 如果 graph 不是 connected 就不會跑到 $n-2$ 這麼多次? 應該是最多會跑 $n-2$ 次，因為 edges 數量可能沒這麼多? 又回到一開始定義 min cut 的問題了。\n",
    "- 雖然成功機率很低，但是可能的 cut 種類有 $2^n$ 種，以 brute-force approach 來說已經是個很不錯的機率了\n",
    "    - 畢竟你隨便猜也只有 $\\frac{1}{2^n}$ 的機率猜對。\n",
    "- **再者，這個機率是 inverse polynomial (多項式的倒數?)，代表我們可以利用「repeated trials (重複試驗?)」 把很小的成功機率，變成很小的失敗機率！**\n",
    "    - > 然後 repeated trials 的次數應該只需要 polynomial 次就可以讓失敗機率足夠小。"
   ]
  },
  {
   "cell_type": "markdown",
   "metadata": {},
   "source": [
    "#### Repeated Trials\n",
    "\n",
    "![](https://i.imgur.com/YPE5GzZ.png)\n",
    "- 我們要來跑 contraction algorithm 很多次然後選 crossing edges 最少的，只要有一次成功我們就找到 min cut 了。\n",
    "- $T_i$ 表示第 $i$ 次跑 contraction algorithm 成功找到 min cut $(A,B)$ 的機率\n",
    "- 我們重複該 algorithm $N$ 次，全都失敗的機率 $\\le (1-\\frac{1}{n^2})^N$\n",
    "- 接下來要算說 $N$ 要到多少才能讓成功率夠高呢?"
   ]
  },
  {
   "cell_type": "markdown",
   "metadata": {},
   "source": [
    "#### Repeated Trials (con'd)\n",
    "\n",
    "![](https://i.imgur.com/pczOcTX.png)\n",
    "- 因為 $1+x\\le e^x,\\forall x\\in \\mathbb R$ (看圖)\n",
    "    - > proof? 也可以用 Taylor Series 證明? $e^x = 1+x+\\frac{x^2}{2!}+\\frac{x^3}{3!}+...$ 好像不行 = = 三次方不保證是正的...\n",
    "    - 為什麼要弄成 exponential upper bound 呢? 因為這樣子方便處理這個長得很難看的 $(1-\\textrm{blabla})^{\\textrm{blablabla}}$\n",
    "- 所以\n",
    "    - 如果我們代 $N=n^2$，則 $Pr(\\textrm{all fail})\\le \\frac 1 e$\n",
    "    - 如果我們代 $N=n^2 \\ln n$，則 $Pr(\\textrm{all fail})\\le \\frac 1 n$\n",
    "- 目前的 implementation 很慢 ($\\Omega(n^2 m)$ 或 $\\Omega((n^2 \\ln n)m)$)，之後有許多方法在優化這個 algorithm\n",
    "    - 怎麼優化呢? 利用之前的 trials 給一些 information 來影響後面的 trials 怎麼選 cut，不過這就在課程範圍外了。\n",
    "- > Q: $\\Omega(n^2 m)$ 應該是因為跑一次 contraction algorithm 的複雜度是 $\\Omega(m)$ ?\n",
    "    - > 好像不對 = = contraction algorithm 不是最多只要 $n-2$ 次 iteration 嗎? 那是為啥有 $m$ ?\n",
    "    - > 如果 contraction algorithm 複雜度是 $m$ 的話是因為要刪掉 self loop (edge) 嗎?"
   ]
  },
  {
   "cell_type": "markdown",
   "metadata": {},
   "source": [
    "### [Counting Minimum Cuts](https://www.coursera.org/learn/algorithms-divide-conquer/lecture/96RUg/counting-minimum-cuts) (Seems Optional)"
   ]
  },
  {
   "cell_type": "markdown",
   "metadata": {},
   "source": [
    "#### The Number of Minimum Cuts\n",
    "\n",
    "![](https://i.imgur.com/E9nm295.png)\n",
    "- tree with $n$ vertices has ($n-1$) minimum cuts\n",
    "    - > 因為除了 root 以外的 vertices 都可以把「它的所有 children(含它自己)」當成 $A$，其他所有 vertices 當成 $B$，這樣 $(A,B)$ 的 crossing edges 就只有 $1$ 條了。\n",
    "- **Question: $n$ 個 vertices 的 graph 最多會有幾個 min cuts?**\n",
    "    - 這個答案最少也有 $(n-1)$ 因為 tree 就有 $n-1$ 個 min cuts\n",
    "    - 這個答案最多不超過 $2^n$ 因為所有 cuts 的可能性大約是 $2^n$\n",
    "    - **其實答案就是 ${n\\choose 2}=\\frac{n(n-1)}{2}$，這個 fact 很重要，在許多 application 都會用到。**"
   ]
  },
  {
   "cell_type": "markdown",
   "metadata": {},
   "source": [
    "#### The Lower Bound\n",
    "\n",
    "![](https://i.imgur.com/zTf7yhv.png)\n",
    "- 以 $n$-cycle 來說\n",
    "- 任意兩條 edges 當成 crossing edges 都可以 define 一個 min cut。\n",
    "- 因此現在 lower bound 變成 $n(n-1)/2$ ??\n",
    "    - > Q: 應該跟前一張的邏輯一樣吧，一個已知的 formula 就會變成那個答案的 lower bound。"
   ]
  },
  {
   "cell_type": "markdown",
   "metadata": {},
   "source": [
    "#### The Upper Bound\n",
    "\n",
    "![](https://i.imgur.com/ikt98g1.png)\n",
    "- 令 $(A_1,B_1),...,(A_t,B_t)$ 為 graph 中所有的 min cuts (graph 中有 $t$ 個 min cuts)。\n",
    "- 利用剛剛 random contraction algorithm 的機率推導，我們知道 $Pr(\\textrm{output}=(A_i,B_i))\\ge \\frac{2}{n(n-1)}=\\frac{1}{{n\\choose 2}}$\n",
    "- 而 ouput = 各種 $(A_i,B_i)$ 的集合是 disjoint(互斥)的，因此它們的機率相加最多是 1\n",
    "    - $t\\cdot \\frac{1}{{n\\choose 2}}\\le 1$\n",
    "    - $t\\le {n\\choose 2}$，得證「$t$ 的 upper bound 是 ${n\\choose 2}$」。\n",
    "- 上個 slide 說「min cuts 數量的上限」最少是 ${n\\choose 2}$ 個\n",
    "- 這個 slide 說「min cuts 數量的上限」最多是 ${n\\choose 2}$ 個\n",
    "- 因此「min cuts 數量的上限」就是 ${n\\choose 2}$ 個，同時也是 $n$-cycle 的 min cuts 數量。\n",
    "    - 沒別的 graph 比 $n$-cycle 多了。"
   ]
  }
 ],
 "metadata": {
  "kernelspec": {
   "display_name": "Python 3",
   "language": "python",
   "name": "python3"
  },
  "language_info": {
   "codemirror_mode": {
    "name": "ipython",
    "version": 3
   },
   "file_extension": ".py",
   "mimetype": "text/x-python",
   "name": "python",
   "nbconvert_exporter": "python",
   "pygments_lexer": "ipython3",
   "version": "3.8.3"
  }
 },
 "nbformat": 4,
 "nbformat_minor": 4
}
